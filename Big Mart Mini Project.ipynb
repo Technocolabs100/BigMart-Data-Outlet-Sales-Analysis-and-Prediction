{
 "cells": [
  {
   "cell_type": "markdown",
   "metadata": {},
   "source": [
    "BIG MART SALES PREDICTION (TRAIN DATA->DATA PREPARATION)\n"
   ]
  },
  {
   "cell_type": "code",
   "execution_count": 462,
   "metadata": {},
   "outputs": [],
   "source": [
    "#by Thasleem Arifa M(KRCE)-Train data \n",
    "# Importing the necessary modules\n",
    "import pandas as pd\n",
    "import numpy as np\n",
    "import matplotlib.pyplot as plt\n",
    "from sklearn.preprocessing import OrdinalEncoder\n",
    "from sklearn.ensemble import RandomForestRegressor\n",
    "from sklearn.tree import DecisionTreeRegressor\n",
    "from sklearn.neighbors import KNeighborsRegressor\n",
    "from sklearn.linear_model import LinearRegression, Ridge\n",
    "from sklearn.svm import SVR\n",
    "from sklearn.model_selection import cross_val_score, train_test_split\n",
    "from sklearn.metrics import mean_absolute_error, mean_squared_error, r2_score\n",
    "from xgboost import XGBRFRegressor\n",
    "import joblib"
   ]
  },
  {
   "cell_type": "markdown",
   "metadata": {},
   "source": [
    "Import the dataset"
   ]
  },
  {
   "cell_type": "code",
   "execution_count": 463,
   "metadata": {},
   "outputs": [
    {
     "data": {
      "text/html": [
       "<div>\n",
       "<style scoped>\n",
       "    .dataframe tbody tr th:only-of-type {\n",
       "        vertical-align: middle;\n",
       "    }\n",
       "\n",
       "    .dataframe tbody tr th {\n",
       "        vertical-align: top;\n",
       "    }\n",
       "\n",
       "    .dataframe thead th {\n",
       "        text-align: right;\n",
       "    }\n",
       "</style>\n",
       "<table border=\"1\" class=\"dataframe\">\n",
       "  <thead>\n",
       "    <tr style=\"text-align: right;\">\n",
       "      <th></th>\n",
       "      <th>Item_Identifier</th>\n",
       "      <th>Item_Weight</th>\n",
       "      <th>Item_Fat_Content</th>\n",
       "      <th>Item_Visibility</th>\n",
       "      <th>Item_Type</th>\n",
       "      <th>Item_MRP</th>\n",
       "      <th>Outlet_Identifier</th>\n",
       "      <th>Outlet_Establishment_Year</th>\n",
       "      <th>Outlet_Size</th>\n",
       "      <th>Outlet_Location_Type</th>\n",
       "      <th>Outlet_Type</th>\n",
       "      <th>Item_Outlet_Sales</th>\n",
       "    </tr>\n",
       "  </thead>\n",
       "  <tbody>\n",
       "    <tr>\n",
       "      <th>0</th>\n",
       "      <td>FDA15</td>\n",
       "      <td>9.30</td>\n",
       "      <td>Low Fat</td>\n",
       "      <td>0.016047</td>\n",
       "      <td>Dairy</td>\n",
       "      <td>249.8092</td>\n",
       "      <td>OUT049</td>\n",
       "      <td>1999</td>\n",
       "      <td>Medium</td>\n",
       "      <td>Tier 1</td>\n",
       "      <td>Supermarket Type1</td>\n",
       "      <td>3735.1380</td>\n",
       "    </tr>\n",
       "    <tr>\n",
       "      <th>1</th>\n",
       "      <td>DRC01</td>\n",
       "      <td>5.92</td>\n",
       "      <td>Regular</td>\n",
       "      <td>0.019278</td>\n",
       "      <td>Soft Drinks</td>\n",
       "      <td>48.2692</td>\n",
       "      <td>OUT018</td>\n",
       "      <td>2009</td>\n",
       "      <td>Medium</td>\n",
       "      <td>Tier 3</td>\n",
       "      <td>Supermarket Type2</td>\n",
       "      <td>443.4228</td>\n",
       "    </tr>\n",
       "    <tr>\n",
       "      <th>2</th>\n",
       "      <td>FDN15</td>\n",
       "      <td>17.50</td>\n",
       "      <td>Low Fat</td>\n",
       "      <td>0.016760</td>\n",
       "      <td>Meat</td>\n",
       "      <td>141.6180</td>\n",
       "      <td>OUT049</td>\n",
       "      <td>1999</td>\n",
       "      <td>Medium</td>\n",
       "      <td>Tier 1</td>\n",
       "      <td>Supermarket Type1</td>\n",
       "      <td>2097.2700</td>\n",
       "    </tr>\n",
       "    <tr>\n",
       "      <th>3</th>\n",
       "      <td>FDX07</td>\n",
       "      <td>19.20</td>\n",
       "      <td>Regular</td>\n",
       "      <td>0.000000</td>\n",
       "      <td>Fruits and Vegetables</td>\n",
       "      <td>182.0950</td>\n",
       "      <td>OUT010</td>\n",
       "      <td>1998</td>\n",
       "      <td>NaN</td>\n",
       "      <td>Tier 3</td>\n",
       "      <td>Grocery Store</td>\n",
       "      <td>732.3800</td>\n",
       "    </tr>\n",
       "    <tr>\n",
       "      <th>4</th>\n",
       "      <td>NCD19</td>\n",
       "      <td>8.93</td>\n",
       "      <td>Low Fat</td>\n",
       "      <td>0.000000</td>\n",
       "      <td>Household</td>\n",
       "      <td>53.8614</td>\n",
       "      <td>OUT013</td>\n",
       "      <td>1987</td>\n",
       "      <td>High</td>\n",
       "      <td>Tier 3</td>\n",
       "      <td>Supermarket Type1</td>\n",
       "      <td>994.7052</td>\n",
       "    </tr>\n",
       "  </tbody>\n",
       "</table>\n",
       "</div>"
      ],
      "text/plain": [
       "  Item_Identifier  Item_Weight Item_Fat_Content  Item_Visibility  \\\n",
       "0           FDA15         9.30          Low Fat         0.016047   \n",
       "1           DRC01         5.92          Regular         0.019278   \n",
       "2           FDN15        17.50          Low Fat         0.016760   \n",
       "3           FDX07        19.20          Regular         0.000000   \n",
       "4           NCD19         8.93          Low Fat         0.000000   \n",
       "\n",
       "               Item_Type  Item_MRP Outlet_Identifier  \\\n",
       "0                  Dairy  249.8092            OUT049   \n",
       "1            Soft Drinks   48.2692            OUT018   \n",
       "2                   Meat  141.6180            OUT049   \n",
       "3  Fruits and Vegetables  182.0950            OUT010   \n",
       "4              Household   53.8614            OUT013   \n",
       "\n",
       "   Outlet_Establishment_Year Outlet_Size Outlet_Location_Type  \\\n",
       "0                       1999      Medium               Tier 1   \n",
       "1                       2009      Medium               Tier 3   \n",
       "2                       1999      Medium               Tier 1   \n",
       "3                       1998         NaN               Tier 3   \n",
       "4                       1987        High               Tier 3   \n",
       "\n",
       "         Outlet_Type  Item_Outlet_Sales  \n",
       "0  Supermarket Type1          3735.1380  \n",
       "1  Supermarket Type2           443.4228  \n",
       "2  Supermarket Type1          2097.2700  \n",
       "3      Grocery Store           732.3800  \n",
       "4  Supermarket Type1           994.7052  "
      ]
     },
     "execution_count": 463,
     "metadata": {},
     "output_type": "execute_result"
    }
   ],
   "source": [
    "BIGMARTtraindata=pd.read_csv(\"E:/Train.csv\")\n",
    "BIGMARTtraindata.head()"
   ]
  },
  {
   "cell_type": "code",
   "execution_count": 464,
   "metadata": {},
   "outputs": [
    {
     "data": {
      "text/plain": [
       "(8523, 12)"
      ]
     },
     "execution_count": 464,
     "metadata": {},
     "output_type": "execute_result"
    }
   ],
   "source": [
    "BIGMARTtraindata.shape"
   ]
  },
  {
   "cell_type": "code",
   "execution_count": 465,
   "metadata": {},
   "outputs": [
    {
     "data": {
      "text/plain": [
       "Index(['Item_Identifier', 'Item_Weight', 'Item_Fat_Content', 'Item_Visibility',\n",
       "       'Item_Type', 'Item_MRP', 'Outlet_Identifier',\n",
       "       'Outlet_Establishment_Year', 'Outlet_Size', 'Outlet_Location_Type',\n",
       "       'Outlet_Type', 'Item_Outlet_Sales'],\n",
       "      dtype='object')"
      ]
     },
     "execution_count": 465,
     "metadata": {},
     "output_type": "execute_result"
    }
   ],
   "source": [
    "BIGMARTtraindata.columns"
   ]
  },
  {
   "cell_type": "code",
   "execution_count": 466,
   "metadata": {},
   "outputs": [
    {
     "data": {
      "text/html": [
       "<div>\n",
       "<style scoped>\n",
       "    .dataframe tbody tr th:only-of-type {\n",
       "        vertical-align: middle;\n",
       "    }\n",
       "\n",
       "    .dataframe tbody tr th {\n",
       "        vertical-align: top;\n",
       "    }\n",
       "\n",
       "    .dataframe thead th {\n",
       "        text-align: right;\n",
       "    }\n",
       "</style>\n",
       "<table border=\"1\" class=\"dataframe\">\n",
       "  <thead>\n",
       "    <tr style=\"text-align: right;\">\n",
       "      <th></th>\n",
       "      <th>Item_Weight</th>\n",
       "      <th>Item_Visibility</th>\n",
       "      <th>Item_MRP</th>\n",
       "      <th>Outlet_Establishment_Year</th>\n",
       "      <th>Item_Outlet_Sales</th>\n",
       "    </tr>\n",
       "  </thead>\n",
       "  <tbody>\n",
       "    <tr>\n",
       "      <th>count</th>\n",
       "      <td>7060.000000</td>\n",
       "      <td>8523.000000</td>\n",
       "      <td>8523.000000</td>\n",
       "      <td>8523.000000</td>\n",
       "      <td>8523.000000</td>\n",
       "    </tr>\n",
       "    <tr>\n",
       "      <th>mean</th>\n",
       "      <td>12.857645</td>\n",
       "      <td>0.066132</td>\n",
       "      <td>140.992782</td>\n",
       "      <td>1997.831867</td>\n",
       "      <td>2181.288914</td>\n",
       "    </tr>\n",
       "    <tr>\n",
       "      <th>std</th>\n",
       "      <td>4.643456</td>\n",
       "      <td>0.051598</td>\n",
       "      <td>62.275067</td>\n",
       "      <td>8.371760</td>\n",
       "      <td>1706.499616</td>\n",
       "    </tr>\n",
       "    <tr>\n",
       "      <th>min</th>\n",
       "      <td>4.555000</td>\n",
       "      <td>0.000000</td>\n",
       "      <td>31.290000</td>\n",
       "      <td>1985.000000</td>\n",
       "      <td>33.290000</td>\n",
       "    </tr>\n",
       "    <tr>\n",
       "      <th>25%</th>\n",
       "      <td>8.773750</td>\n",
       "      <td>0.026989</td>\n",
       "      <td>93.826500</td>\n",
       "      <td>1987.000000</td>\n",
       "      <td>834.247400</td>\n",
       "    </tr>\n",
       "    <tr>\n",
       "      <th>50%</th>\n",
       "      <td>12.600000</td>\n",
       "      <td>0.053931</td>\n",
       "      <td>143.012800</td>\n",
       "      <td>1999.000000</td>\n",
       "      <td>1794.331000</td>\n",
       "    </tr>\n",
       "    <tr>\n",
       "      <th>75%</th>\n",
       "      <td>16.850000</td>\n",
       "      <td>0.094585</td>\n",
       "      <td>185.643700</td>\n",
       "      <td>2004.000000</td>\n",
       "      <td>3101.296400</td>\n",
       "    </tr>\n",
       "    <tr>\n",
       "      <th>max</th>\n",
       "      <td>21.350000</td>\n",
       "      <td>0.328391</td>\n",
       "      <td>266.888400</td>\n",
       "      <td>2009.000000</td>\n",
       "      <td>13086.964800</td>\n",
       "    </tr>\n",
       "  </tbody>\n",
       "</table>\n",
       "</div>"
      ],
      "text/plain": [
       "       Item_Weight  Item_Visibility     Item_MRP  Outlet_Establishment_Year  \\\n",
       "count  7060.000000      8523.000000  8523.000000                8523.000000   \n",
       "mean     12.857645         0.066132   140.992782                1997.831867   \n",
       "std       4.643456         0.051598    62.275067                   8.371760   \n",
       "min       4.555000         0.000000    31.290000                1985.000000   \n",
       "25%       8.773750         0.026989    93.826500                1987.000000   \n",
       "50%      12.600000         0.053931   143.012800                1999.000000   \n",
       "75%      16.850000         0.094585   185.643700                2004.000000   \n",
       "max      21.350000         0.328391   266.888400                2009.000000   \n",
       "\n",
       "       Item_Outlet_Sales  \n",
       "count        8523.000000  \n",
       "mean         2181.288914  \n",
       "std          1706.499616  \n",
       "min            33.290000  \n",
       "25%           834.247400  \n",
       "50%          1794.331000  \n",
       "75%          3101.296400  \n",
       "max         13086.964800  "
      ]
     },
     "execution_count": 466,
     "metadata": {},
     "output_type": "execute_result"
    }
   ],
   "source": [
    "BIGMARTtraindata.describe()"
   ]
  },
  {
   "cell_type": "markdown",
   "metadata": {},
   "source": [
    "Data Cleaning and Exploration for each attribute"
   ]
  },
  {
   "cell_type": "code",
   "execution_count": 467,
   "metadata": {},
   "outputs": [
    {
     "data": {
      "text/plain": [
       "Item_Identifier                 0\n",
       "Item_Weight                  1463\n",
       "Item_Fat_Content                0\n",
       "Item_Visibility                 0\n",
       "Item_Type                       0\n",
       "Item_MRP                        0\n",
       "Outlet_Identifier               0\n",
       "Outlet_Establishment_Year       0\n",
       "Outlet_Size                  2410\n",
       "Outlet_Location_Type            0\n",
       "Outlet_Type                     0\n",
       "Item_Outlet_Sales               0\n",
       "dtype: int64"
      ]
     },
     "execution_count": 467,
     "metadata": {},
     "output_type": "execute_result"
    }
   ],
   "source": [
    "BIGMARTtraindata.isnull().sum()\n"
   ]
  },
  {
   "cell_type": "code",
   "execution_count": 468,
   "metadata": {},
   "outputs": [
    {
     "data": {
      "text/plain": [
       "False"
      ]
     },
     "execution_count": 468,
     "metadata": {},
     "output_type": "execute_result"
    }
   ],
   "source": [
    "BIGMARTtraindata.duplicated().any()"
   ]
  },
  {
   "cell_type": "markdown",
   "metadata": {
    "tags": []
   },
   "source": [
    "Item Weight"
   ]
  },
  {
   "cell_type": "markdown",
   "metadata": {},
   "source": [
    "Handling the Missing Values using Univariate Imputation"
   ]
  },
  {
   "cell_type": "code",
   "execution_count": 469,
   "metadata": {},
   "outputs": [
    {
     "data": {
      "image/png": "[encoded data removed]",
      "text/plain": [
       "<Figure size 640x480 with 1 Axes>"
      ]
     },
     "metadata": {},
     "output_type": "display_data"
    }
   ],
   "source": [
    "mean_wt=BIGMARTtraindata[\"Item_Weight\"].mean()\n",
    "median_wt=BIGMARTtraindata[\"Item_Weight\"].median()\n",
    "BIGMARTtraindata[\"Item_Weight_mean\"]=BIGMARTtraindata[\"Item_Weight\"].fillna(mean_wt)\n",
    "BIGMARTtraindata[\"Item_Weight_median\"]=BIGMARTtraindata[\"Item_Weight\"].fillna(median_wt)\n",
    "BIGMARTtraindata[\"Item_Weight_interpolation_imputation\"]=BIGMARTtraindata[\"Item_Weight\"].interpolate(\"linear\")\n",
    "BIGMARTtraindata[\"Item_Weight\"].plot(kind=\"kde\",color=\"red\",label=\"Original\")\n",
    "BIGMARTtraindata[\"Item_Weight_mean\"].plot(kind=\"kde\",color=\"yellow\",label=\"Mean\")\n",
    "BIGMARTtraindata[\"Item_Weight_median\"].plot(kind=\"kde\",color=\"blue\",label=\"Median\")\n",
    "BIGMARTtraindata[\"Item_Weight_interpolation_imputation\"].plot(kind=\"kde\",label=\"Interpolated\")\n",
    "plt.legend()\n",
    "plt.show()"
   ]
  },
  {
   "cell_type": "markdown",
   "metadata": {},
   "source": [
    "We can notice that the mean,median have way lower variance compared to original"
   ]
  },
  {
   "cell_type": "code",
   "execution_count": 470,
   "metadata": {},
   "outputs": [
    {
     "name": "stdout",
     "output_type": "stream",
     "text": [
      "21.561688259836558\n",
      "17.86012173506058\n",
      "17.869561454073647\n"
     ]
    }
   ],
   "source": [
    "print(BIGMARTtraindata['Item_Weight'].var())\n",
    "print(BIGMARTtraindata['Item_Weight_mean'].var())\n",
    "print(BIGMARTtraindata['Item_Weight_median'].var())"
   ]
  },
  {
   "cell_type": "code",
   "execution_count": 471,
   "metadata": {},
   "outputs": [
    {
     "data": {
      "text/plain": [
       "<Axes: >"
      ]
     },
     "execution_count": 471,
     "metadata": {},
     "output_type": "execute_result"
    },
    {
     "data": {
      "image/png": "[encoded data removed]",
      "text/plain": [
       "<Figure size 640x480 with 1 Axes>"
      ]
     },
     "metadata": {},
     "output_type": "display_data"
    }
   ],
   "source": [
    "BIGMARTtraindata[['Item_Weight','Item_Weight_mean','Item_Weight_median']].boxplot()"
   ]
  },
  {
   "cell_type": "markdown",
   "metadata": {},
   "source": [
    "From the above boxplot, we can conclude that the Item_Weight_mean & Item_Weight_median have lower variance compared to Item_weight.Therefore, we try to compare the variance between Item_weight & Item_Weight_interpolation_imputation."
   ]
  },
  {
   "cell_type": "code",
   "execution_count": 472,
   "metadata": {},
   "outputs": [
    {
     "data": {
      "text/plain": [
       "<Axes: >"
      ]
     },
     "execution_count": 472,
     "metadata": {},
     "output_type": "execute_result"
    },
    {
     "data": {
      "image/png": "[encoded data removed]",
      "text/plain": [
       "<Figure size 640x480 with 1 Axes>"
      ]
     },
     "metadata": {},
     "output_type": "display_data"
    }
   ],
   "source": [
    "BIGMARTtraindata[['Item_Weight','Item_Weight_interpolation_imputation']].boxplot()"
   ]
  },
  {
   "cell_type": "code",
   "execution_count": 473,
   "metadata": {},
   "outputs": [
    {
     "name": "stdout",
     "output_type": "stream",
     "text": [
      "21.561688259836558\n",
      "19.758685821975472\n"
     ]
    }
   ],
   "source": [
    "print(BIGMARTtraindata['Item_Weight'].var())\n",
    "print(BIGMARTtraindata['Item_Weight_interpolation_imputation'].var())"
   ]
  },
  {
   "cell_type": "markdown",
   "metadata": {},
   "source": [
    "Therefore,we choose Item_Weight_interpolation_imputation instead of 'Item_Weight_mean' & 'Item_Weight_median'."
   ]
  },
  {
   "cell_type": "code",
   "execution_count": 474,
   "metadata": {},
   "outputs": [],
   "source": [
    "data=BIGMARTtraindata.drop(['Item_Weight','Item_Weight_mean','Item_Weight_median'],axis=1)\n"
   ]
  },
  {
   "cell_type": "code",
   "execution_count": 475,
   "metadata": {},
   "outputs": [
    {
     "data": {
      "text/plain": [
       "Item_Identifier                            0\n",
       "Item_Fat_Content                           0\n",
       "Item_Visibility                            0\n",
       "Item_Type                                  0\n",
       "Item_MRP                                   0\n",
       "Outlet_Identifier                          0\n",
       "Outlet_Establishment_Year                  0\n",
       "Outlet_Size                             2410\n",
       "Outlet_Location_Type                       0\n",
       "Outlet_Type                                0\n",
       "Item_Outlet_Sales                          0\n",
       "Item_Weight_interpolation_imputation       0\n",
       "dtype: int64"
      ]
     },
     "execution_count": 475,
     "metadata": {},
     "output_type": "execute_result"
    }
   ],
   "source": [
    "data.isnull().sum()"
   ]
  },
  {
   "cell_type": "markdown",
   "metadata": {},
   "source": [
    "Outlet Size"
   ]
  },
  {
   "cell_type": "code",
   "execution_count": 476,
   "metadata": {},
   "outputs": [
    {
     "data": {
      "text/plain": [
       "0       Medium\n",
       "1       Medium\n",
       "2       Medium\n",
       "3          NaN\n",
       "4         High\n",
       "         ...  \n",
       "8518      High\n",
       "8519       NaN\n",
       "8520     Small\n",
       "8521    Medium\n",
       "8522     Small\n",
       "Name: Outlet_Size, Length: 8523, dtype: object"
      ]
     },
     "execution_count": 476,
     "metadata": {},
     "output_type": "execute_result"
    }
   ],
   "source": [
    "data[\"Outlet_Size\"]\n"
   ]
  },
  {
   "cell_type": "code",
   "execution_count": 477,
   "metadata": {},
   "outputs": [
    {
     "data": {
      "text/plain": [
       "Medium    2793\n",
       "Small     2388\n",
       "High       932\n",
       "Name: Outlet_Size, dtype: int64"
      ]
     },
     "execution_count": 477,
     "metadata": {},
     "output_type": "execute_result"
    }
   ],
   "source": [
    "#We can notice that it is a categorical variable and must be replaced with numerical after filling null values using Bivariate Imputation\n",
    "data['Outlet_Size'].value_counts()\n"
   ]
  },
  {
   "cell_type": "markdown",
   "metadata": {},
   "source": [
    "Bivariate Imputation for filling the missing values"
   ]
  },
  {
   "cell_type": "code",
   "execution_count": 478,
   "metadata": {},
   "outputs": [
    {
     "data": {
      "text/html": [
       "<div>\n",
       "<style scoped>\n",
       "    .dataframe tbody tr th:only-of-type {\n",
       "        vertical-align: middle;\n",
       "    }\n",
       "\n",
       "    .dataframe tbody tr th {\n",
       "        vertical-align: top;\n",
       "    }\n",
       "\n",
       "    .dataframe thead th {\n",
       "        text-align: right;\n",
       "    }\n",
       "</style>\n",
       "<table border=\"1\" class=\"dataframe\">\n",
       "  <thead>\n",
       "    <tr style=\"text-align: right;\">\n",
       "      <th>Outlet_Type</th>\n",
       "      <th>Grocery Store</th>\n",
       "      <th>Supermarket Type1</th>\n",
       "      <th>Supermarket Type2</th>\n",
       "      <th>Supermarket Type3</th>\n",
       "    </tr>\n",
       "  </thead>\n",
       "  <tbody>\n",
       "    <tr>\n",
       "      <th>Outlet_Size</th>\n",
       "      <td>Small</td>\n",
       "      <td>Small</td>\n",
       "      <td>Medium</td>\n",
       "      <td>Medium</td>\n",
       "    </tr>\n",
       "  </tbody>\n",
       "</table>\n",
       "</div>"
      ],
      "text/plain": [
       "Outlet_Type Grocery Store Supermarket Type1 Supermarket Type2  \\\n",
       "Outlet_Size         Small             Small            Medium   \n",
       "\n",
       "Outlet_Type Supermarket Type3  \n",
       "Outlet_Size            Medium  "
      ]
     },
     "execution_count": 478,
     "metadata": {},
     "output_type": "execute_result"
    }
   ],
   "source": [
    "pivot_table = data.pivot_table(values='Outlet_Size',columns='Outlet_Type',aggfunc=(lambda x:x.mode()[0]))\n",
    "pivot_table"
   ]
  },
  {
   "cell_type": "code",
   "execution_count": 479,
   "metadata": {},
   "outputs": [
    {
     "data": {
      "text/plain": [
       "0       False\n",
       "1       False\n",
       "2       False\n",
       "3        True\n",
       "4       False\n",
       "        ...  \n",
       "8518    False\n",
       "8519     True\n",
       "8520    False\n",
       "8521    False\n",
       "8522    False\n",
       "Name: Outlet_Size, Length: 8523, dtype: bool"
      ]
     },
     "execution_count": 479,
     "metadata": {},
     "output_type": "execute_result"
    }
   ],
   "source": [
    "missing_values = data['Outlet_Size'].isnull()\n",
    "missing_values"
   ]
  },
  {
   "cell_type": "code",
   "execution_count": 480,
   "metadata": {},
   "outputs": [
    {
     "data": {
      "text/plain": [
       "Item_Identifier                         0\n",
       "Item_Fat_Content                        0\n",
       "Item_Visibility                         0\n",
       "Item_Type                               0\n",
       "Item_MRP                                0\n",
       "Outlet_Identifier                       0\n",
       "Outlet_Establishment_Year               0\n",
       "Outlet_Size                             0\n",
       "Outlet_Location_Type                    0\n",
       "Outlet_Type                             0\n",
       "Item_Outlet_Sales                       0\n",
       "Item_Weight_interpolation_imputation    0\n",
       "dtype: int64"
      ]
     },
     "execution_count": 480,
     "metadata": {},
     "output_type": "execute_result"
    }
   ],
   "source": [
    "data.loc[missing_values,'Outlet_Size'] = data.loc[missing_values,'Outlet_Type'].apply(lambda x :pivot_table[x])\n",
    "data.isnull().sum()"
   ]
  },
  {
   "cell_type": "code",
   "execution_count": 481,
   "metadata": {},
   "outputs": [
    {
     "data": {
      "text/plain": [
       "<Axes: >"
      ]
     },
     "execution_count": 481,
     "metadata": {},
     "output_type": "execute_result"
    },
    {
     "data": {
      "image/png": "[encoded data removed]",
      "text/plain": [
       "<Figure size 640x480 with 1 Axes>"
      ]
     },
     "metadata": {},
     "output_type": "display_data"
    }
   ],
   "source": [
    "Os=pd.DataFrame(data['Outlet_Size'].value_counts())\n",
    "Os.plot(kind=\"bar\")"
   ]
  },
  {
   "cell_type": "markdown",
   "metadata": {},
   "source": [
    "Item_Fat_Content"
   ]
  },
  {
   "cell_type": "code",
   "execution_count": 482,
   "metadata": {},
   "outputs": [
    {
     "data": {
      "text/plain": [
       "Index(['Item_Identifier', 'Item_Fat_Content', 'Item_Visibility', 'Item_Type',\n",
       "       'Item_MRP', 'Outlet_Identifier', 'Outlet_Establishment_Year',\n",
       "       'Outlet_Size', 'Outlet_Location_Type', 'Outlet_Type',\n",
       "       'Item_Outlet_Sales', 'Item_Weight_interpolation_imputation'],\n",
       "      dtype='object')"
      ]
     },
     "execution_count": 482,
     "metadata": {},
     "output_type": "execute_result"
    }
   ],
   "source": [
    "data.columns"
   ]
  },
  {
   "cell_type": "code",
   "execution_count": 483,
   "metadata": {},
   "outputs": [
    {
     "data": {
      "text/plain": [
       "Low Fat    5089\n",
       "Regular    2889\n",
       "LF          316\n",
       "reg         117\n",
       "low fat     112\n",
       "Name: Item_Fat_Content, dtype: int64"
      ]
     },
     "execution_count": 483,
     "metadata": {},
     "output_type": "execute_result"
    }
   ],
   "source": [
    "IF=pd.DataFrame(data['Item_Fat_Content'].value_counts())\n",
    "data['Item_Fat_Content'].value_counts()"
   ]
  },
  {
   "cell_type": "code",
   "execution_count": 484,
   "metadata": {},
   "outputs": [
    {
     "data": {
      "text/plain": [
       "<Axes: >"
      ]
     },
     "execution_count": 484,
     "metadata": {},
     "output_type": "execute_result"
    },
    {
     "data": {
      "image/png": "[encoded data removed]",
      "text/plain": [
       "<Figure size 640x480 with 1 Axes>"
      ]
     },
     "metadata": {},
     "output_type": "display_data"
    }
   ],
   "source": [
    "IF.plot(kind='bar')"
   ]
  },
  {
   "cell_type": "code",
   "execution_count": 485,
   "metadata": {},
   "outputs": [],
   "source": [
    "data.replace({'Item_Fat_Content':{'Low Fat':'LF','low fat':'LF','reg':'Regular'}},inplace=True)"
   ]
  },
  {
   "cell_type": "code",
   "execution_count": 486,
   "metadata": {},
   "outputs": [
    {
     "data": {
      "text/plain": [
       "LF         5517\n",
       "Regular    3006\n",
       "Name: Item_Fat_Content, dtype: int64"
      ]
     },
     "execution_count": 486,
     "metadata": {},
     "output_type": "execute_result"
    }
   ],
   "source": [
    "data['Item_Fat_Content'].value_counts()"
   ]
  },
  {
   "cell_type": "code",
   "execution_count": 487,
   "metadata": {},
   "outputs": [
    {
     "data": {
      "text/plain": [
       "<Axes: >"
      ]
     },
     "execution_count": 487,
     "metadata": {},
     "output_type": "execute_result"
    },
    {
     "data": {
      "image/png": "[encoded data removed]",
      "text/plain": [
       "<Figure size 640x480 with 1 Axes>"
      ]
     },
     "metadata": {},
     "output_type": "display_data"
    }
   ],
   "source": [
    "IF=pd.DataFrame(data['Item_Fat_Content'].value_counts())\n",
    "IF.plot(kind='bar')"
   ]
  },
  {
   "cell_type": "code",
   "execution_count": 488,
   "metadata": {},
   "outputs": [
    {
     "data": {
      "text/plain": [
       "Index(['Item_Identifier', 'Item_Fat_Content', 'Item_Visibility', 'Item_Type',\n",
       "       'Item_MRP', 'Outlet_Identifier', 'Outlet_Establishment_Year',\n",
       "       'Outlet_Size', 'Outlet_Location_Type', 'Outlet_Type',\n",
       "       'Item_Outlet_Sales', 'Item_Weight_interpolation_imputation'],\n",
       "      dtype='object')"
      ]
     },
     "execution_count": 488,
     "metadata": {},
     "output_type": "execute_result"
    }
   ],
   "source": [
    "data.columns"
   ]
  },
  {
   "cell_type": "markdown",
   "metadata": {},
   "source": [
    "Item_Visibility"
   ]
  },
  {
   "cell_type": "code",
   "execution_count": 489,
   "metadata": {},
   "outputs": [
    {
     "data": {
      "text/plain": [
       "0.000000    526\n",
       "0.076975      3\n",
       "0.162462      2\n",
       "0.076841      2\n",
       "0.073562      2\n",
       "           ... \n",
       "0.013957      1\n",
       "0.110460      1\n",
       "0.124646      1\n",
       "0.054142      1\n",
       "0.044878      1\n",
       "Name: Item_Visibility, Length: 7880, dtype: int64"
      ]
     },
     "execution_count": 489,
     "metadata": {},
     "output_type": "execute_result"
    }
   ],
   "source": [
    "data['Item_Visibility'].value_counts()"
   ]
  },
  {
   "cell_type": "code",
   "execution_count": 490,
   "metadata": {},
   "outputs": [],
   "source": [
    "data['Item_Visibility_interpolate']=data['Item_Visibility'].replace(0,np.nan).interpolate(method='linear')"
   ]
  },
  {
   "cell_type": "code",
   "execution_count": 491,
   "metadata": {},
   "outputs": [
    {
     "data": {
      "text/plain": [
       "0.076975    3\n",
       "0.044024    2\n",
       "0.040912    2\n",
       "0.076856    2\n",
       "0.078759    2\n",
       "           ..\n",
       "0.021011    1\n",
       "0.099189    1\n",
       "0.076866    1\n",
       "0.014116    1\n",
       "0.044878    1\n",
       "Name: Item_Visibility_interpolate, Length: 8405, dtype: int64"
      ]
     },
     "execution_count": 491,
     "metadata": {},
     "output_type": "execute_result"
    }
   ],
   "source": [
    "data['Item_Visibility_interpolate'].value_counts()"
   ]
  },
  {
   "cell_type": "code",
   "execution_count": 492,
   "metadata": {},
   "outputs": [
    {
     "data": {
      "image/png": "[encoded data removed]",
      "text/plain": [
       "<Figure size 640x480 with 1 Axes>"
      ]
     },
     "metadata": {},
     "output_type": "display_data"
    }
   ],
   "source": [
    "data['Item_Visibility'].plot(kind=\"kde\",label=\"Original\")\n",
    "\n",
    "data['Item_Visibility_interpolate'].plot(kind=\"kde\",color='red',label=\"Interpolate\")\n",
    "\n",
    "plt.legend()\n",
    "plt.show()"
   ]
  },
  {
   "cell_type": "code",
   "execution_count": 493,
   "metadata": {},
   "outputs": [],
   "source": [
    "data = data.drop('Item_Visibility',axis=1)"
   ]
  },
  {
   "cell_type": "code",
   "execution_count": 494,
   "metadata": {},
   "outputs": [
    {
     "data": {
      "text/html": [
       "<div>\n",
       "<style scoped>\n",
       "    .dataframe tbody tr th:only-of-type {\n",
       "        vertical-align: middle;\n",
       "    }\n",
       "\n",
       "    .dataframe tbody tr th {\n",
       "        vertical-align: top;\n",
       "    }\n",
       "\n",
       "    .dataframe thead th {\n",
       "        text-align: right;\n",
       "    }\n",
       "</style>\n",
       "<table border=\"1\" class=\"dataframe\">\n",
       "  <thead>\n",
       "    <tr style=\"text-align: right;\">\n",
       "      <th></th>\n",
       "      <th>Item_Identifier</th>\n",
       "      <th>Item_Fat_Content</th>\n",
       "      <th>Item_Type</th>\n",
       "      <th>Item_MRP</th>\n",
       "      <th>Outlet_Identifier</th>\n",
       "      <th>Outlet_Establishment_Year</th>\n",
       "      <th>Outlet_Size</th>\n",
       "      <th>Outlet_Location_Type</th>\n",
       "      <th>Outlet_Type</th>\n",
       "      <th>Item_Outlet_Sales</th>\n",
       "      <th>Item_Weight_interpolation_imputation</th>\n",
       "      <th>Item_Visibility_interpolate</th>\n",
       "    </tr>\n",
       "  </thead>\n",
       "  <tbody>\n",
       "    <tr>\n",
       "      <th>0</th>\n",
       "      <td>FDA15</td>\n",
       "      <td>LF</td>\n",
       "      <td>Dairy</td>\n",
       "      <td>249.8092</td>\n",
       "      <td>OUT049</td>\n",
       "      <td>1999</td>\n",
       "      <td>Medium</td>\n",
       "      <td>Tier 1</td>\n",
       "      <td>Supermarket Type1</td>\n",
       "      <td>3735.138</td>\n",
       "      <td>9.3</td>\n",
       "      <td>0.016047</td>\n",
       "    </tr>\n",
       "  </tbody>\n",
       "</table>\n",
       "</div>"
      ],
      "text/plain": [
       "  Item_Identifier Item_Fat_Content Item_Type  Item_MRP Outlet_Identifier  \\\n",
       "0           FDA15               LF     Dairy  249.8092            OUT049   \n",
       "\n",
       "   Outlet_Establishment_Year Outlet_Size Outlet_Location_Type  \\\n",
       "0                       1999      Medium               Tier 1   \n",
       "\n",
       "         Outlet_Type  Item_Outlet_Sales  Item_Weight_interpolation_imputation  \\\n",
       "0  Supermarket Type1           3735.138                                   9.3   \n",
       "\n",
       "   Item_Visibility_interpolate  \n",
       "0                     0.016047  "
      ]
     },
     "execution_count": 494,
     "metadata": {},
     "output_type": "execute_result"
    }
   ],
   "source": [
    "data.head(1)"
   ]
  },
  {
   "cell_type": "markdown",
   "metadata": {},
   "source": [
    "Item_Type"
   ]
  },
  {
   "cell_type": "code",
   "execution_count": 495,
   "metadata": {},
   "outputs": [
    {
     "data": {
      "text/plain": [
       "Index(['Item_Identifier', 'Item_Fat_Content', 'Item_Type', 'Item_MRP',\n",
       "       'Outlet_Identifier', 'Outlet_Establishment_Year', 'Outlet_Size',\n",
       "       'Outlet_Location_Type', 'Outlet_Type', 'Item_Outlet_Sales',\n",
       "       'Item_Weight_interpolation_imputation', 'Item_Visibility_interpolate'],\n",
       "      dtype='object')"
      ]
     },
     "execution_count": 495,
     "metadata": {},
     "output_type": "execute_result"
    }
   ],
   "source": [
    "data.columns"
   ]
  },
  {
   "cell_type": "code",
   "execution_count": 496,
   "metadata": {},
   "outputs": [
    {
     "data": {
      "text/plain": [
       "Fruits and Vegetables    1232\n",
       "Snack Foods              1200\n",
       "Household                 910\n",
       "Frozen Foods              856\n",
       "Dairy                     682\n",
       "Canned                    649\n",
       "Baking Goods              648\n",
       "Health and Hygiene        520\n",
       "Soft Drinks               445\n",
       "Meat                      425\n",
       "Breads                    251\n",
       "Hard Drinks               214\n",
       "Others                    169\n",
       "Starchy Foods             148\n",
       "Breakfast                 110\n",
       "Seafood                    64\n",
       "Name: Item_Type, dtype: int64"
      ]
     },
     "execution_count": 496,
     "metadata": {},
     "output_type": "execute_result"
    }
   ],
   "source": [
    "IT=pd.DataFrame(data['Item_Type'].value_counts())\n",
    "data['Item_Type'].value_counts()"
   ]
  },
  {
   "cell_type": "code",
   "execution_count": 497,
   "metadata": {},
   "outputs": [
    {
     "data": {
      "text/plain": [
       "<Axes: >"
      ]
     },
     "execution_count": 497,
     "metadata": {},
     "output_type": "execute_result"
    },
    {
     "data": {
      "image/png": "[encoded data removed]",
      "text/plain": [
       "<Figure size 640x480 with 1 Axes>"
      ]
     },
     "metadata": {},
     "output_type": "display_data"
    }
   ],
   "source": [
    "IT.plot(kind='bar')"
   ]
  },
  {
   "cell_type": "markdown",
   "metadata": {},
   "source": [
    "Item_Identifier"
   ]
  },
  {
   "cell_type": "code",
   "execution_count": 498,
   "metadata": {},
   "outputs": [
    {
     "data": {
      "text/plain": [
       "Index(['Item_Identifier', 'Item_Fat_Content', 'Item_Type', 'Item_MRP',\n",
       "       'Outlet_Identifier', 'Outlet_Establishment_Year', 'Outlet_Size',\n",
       "       'Outlet_Location_Type', 'Outlet_Type', 'Item_Outlet_Sales',\n",
       "       'Item_Weight_interpolation_imputation', 'Item_Visibility_interpolate'],\n",
       "      dtype='object')"
      ]
     },
     "execution_count": 498,
     "metadata": {},
     "output_type": "execute_result"
    }
   ],
   "source": [
    "data.columns"
   ]
  },
  {
   "cell_type": "code",
   "execution_count": 499,
   "metadata": {},
   "outputs": [
    {
     "data": {
      "text/plain": [
       "FDW13    10\n",
       "FDG33    10\n",
       "NCY18     9\n",
       "FDD38     9\n",
       "DRE49     9\n",
       "         ..\n",
       "FDY43     1\n",
       "FDQ60     1\n",
       "FDO33     1\n",
       "DRF48     1\n",
       "FDC23     1\n",
       "Name: Item_Identifier, Length: 1559, dtype: int64"
      ]
     },
     "execution_count": 499,
     "metadata": {},
     "output_type": "execute_result"
    }
   ],
   "source": [
    "data['Item_Identifier'].value_counts()"
   ]
  },
  {
   "cell_type": "code",
   "execution_count": 500,
   "metadata": {},
   "outputs": [],
   "source": [
    "data['Item_Identifier_Grouped'] =data['Item_Identifier'].apply(lambda x : x[:2])"
   ]
  },
  {
   "cell_type": "code",
   "execution_count": 501,
   "metadata": {},
   "outputs": [
    {
     "data": {
      "text/plain": [
       "FD    6125\n",
       "NC    1599\n",
       "DR     799\n",
       "Name: Item_Identifier_Grouped, dtype: int64"
      ]
     },
     "execution_count": 501,
     "metadata": {},
     "output_type": "execute_result"
    }
   ],
   "source": [
    "data['Item_Identifier_Grouped'].value_counts()"
   ]
  },
  {
   "cell_type": "code",
   "execution_count": 502,
   "metadata": {},
   "outputs": [
    {
     "data": {
      "text/plain": [
       "<Axes: >"
      ]
     },
     "execution_count": 502,
     "metadata": {},
     "output_type": "execute_result"
    },
    {
     "data": {
      "image/png": "[encoded data removed]",
      "text/plain": [
       "<Figure size 640x480 with 1 Axes>"
      ]
     },
     "metadata": {},
     "output_type": "display_data"
    }
   ],
   "source": [
    "II=pd.DataFrame(data['Item_Identifier_Grouped'].value_counts())\n",
    "II.plot(kind='barh')"
   ]
  },
  {
   "cell_type": "markdown",
   "metadata": {},
   "source": [
    "Outlet_Establishment_Year"
   ]
  },
  {
   "cell_type": "code",
   "execution_count": 503,
   "metadata": {},
   "outputs": [
    {
     "data": {
      "text/plain": [
       "Index(['Item_Identifier', 'Item_Fat_Content', 'Item_Type', 'Item_MRP',\n",
       "       'Outlet_Identifier', 'Outlet_Establishment_Year', 'Outlet_Size',\n",
       "       'Outlet_Location_Type', 'Outlet_Type', 'Item_Outlet_Sales',\n",
       "       'Item_Weight_interpolation_imputation', 'Item_Visibility_interpolate',\n",
       "       'Item_Identifier_Grouped'],\n",
       "      dtype='object')"
      ]
     },
     "execution_count": 503,
     "metadata": {},
     "output_type": "execute_result"
    }
   ],
   "source": [
    "data.columns"
   ]
  },
  {
   "cell_type": "code",
   "execution_count": 504,
   "metadata": {},
   "outputs": [
    {
     "data": {
      "text/plain": [
       "0       1999\n",
       "1       2009\n",
       "2       1999\n",
       "3       1998\n",
       "4       1987\n",
       "        ... \n",
       "8518    1987\n",
       "8519    2002\n",
       "8520    2004\n",
       "8521    2009\n",
       "8522    1997\n",
       "Name: Outlet_Establishment_Year, Length: 8523, dtype: int64"
      ]
     },
     "execution_count": 504,
     "metadata": {},
     "output_type": "execute_result"
    }
   ],
   "source": [
    "data['Outlet_Establishment_Year']"
   ]
  },
  {
   "cell_type": "code",
   "execution_count": 505,
   "metadata": {},
   "outputs": [
    {
     "data": {
      "text/html": [
       "<div>\n",
       "<style scoped>\n",
       "    .dataframe tbody tr th:only-of-type {\n",
       "        vertical-align: middle;\n",
       "    }\n",
       "\n",
       "    .dataframe tbody tr th {\n",
       "        vertical-align: top;\n",
       "    }\n",
       "\n",
       "    .dataframe thead th {\n",
       "        text-align: right;\n",
       "    }\n",
       "</style>\n",
       "<table border=\"1\" class=\"dataframe\">\n",
       "  <thead>\n",
       "    <tr style=\"text-align: right;\">\n",
       "      <th></th>\n",
       "      <th>Item_Identifier</th>\n",
       "      <th>Item_Fat_Content</th>\n",
       "      <th>Item_Type</th>\n",
       "      <th>Item_MRP</th>\n",
       "      <th>Outlet_Identifier</th>\n",
       "      <th>Outlet_Establishment_Year</th>\n",
       "      <th>Outlet_Size</th>\n",
       "      <th>Outlet_Location_Type</th>\n",
       "      <th>Outlet_Type</th>\n",
       "      <th>Item_Outlet_Sales</th>\n",
       "      <th>Item_Weight_interpolation_imputation</th>\n",
       "      <th>Item_Visibility_interpolate</th>\n",
       "      <th>Item_Identifier_Grouped</th>\n",
       "      <th>Outlet_age</th>\n",
       "    </tr>\n",
       "  </thead>\n",
       "  <tbody>\n",
       "    <tr>\n",
       "      <th>0</th>\n",
       "      <td>FDA15</td>\n",
       "      <td>LF</td>\n",
       "      <td>Dairy</td>\n",
       "      <td>249.8092</td>\n",
       "      <td>OUT049</td>\n",
       "      <td>1999</td>\n",
       "      <td>Medium</td>\n",
       "      <td>Tier 1</td>\n",
       "      <td>Supermarket Type1</td>\n",
       "      <td>3735.138</td>\n",
       "      <td>9.3</td>\n",
       "      <td>0.016047</td>\n",
       "      <td>FD</td>\n",
       "      <td>25</td>\n",
       "    </tr>\n",
       "  </tbody>\n",
       "</table>\n",
       "</div>"
      ],
      "text/plain": [
       "  Item_Identifier Item_Fat_Content Item_Type  Item_MRP Outlet_Identifier  \\\n",
       "0           FDA15               LF     Dairy  249.8092            OUT049   \n",
       "\n",
       "   Outlet_Establishment_Year Outlet_Size Outlet_Location_Type  \\\n",
       "0                       1999      Medium               Tier 1   \n",
       "\n",
       "         Outlet_Type  Item_Outlet_Sales  Item_Weight_interpolation_imputation  \\\n",
       "0  Supermarket Type1           3735.138                                   9.3   \n",
       "\n",
       "   Item_Visibility_interpolate Item_Identifier_Grouped  Outlet_age  \n",
       "0                     0.016047                      FD          25  "
      ]
     },
     "execution_count": 505,
     "metadata": {},
     "output_type": "execute_result"
    }
   ],
   "source": [
    "import datetime as dt\n",
    "current_year = dt.datetime.today().year\n",
    "data['Outlet_age']= current_year - data['Outlet_Establishment_Year']\n",
    "data.head(1)"
   ]
  },
  {
   "cell_type": "code",
   "execution_count": 506,
   "metadata": {},
   "outputs": [
    {
     "data": {
      "text/plain": [
       "<Axes: ylabel='Frequency'>"
      ]
     },
     "execution_count": 506,
     "metadata": {},
     "output_type": "execute_result"
    },
    {
     "data": {
      "image/png": "[encoded data removed]",
      "text/plain": [
       "<Figure size 640x480 with 1 Axes>"
      ]
     },
     "metadata": {},
     "output_type": "display_data"
    }
   ],
   "source": [
    "OA=pd.DataFrame(data['Outlet_age'])\n",
    "OA.plot(kind='hist')"
   ]
  },
  {
   "cell_type": "code",
   "execution_count": 507,
   "metadata": {},
   "outputs": [],
   "source": [
    "data = data.drop(['Outlet_Establishment_Year','Item_Identifier'],axis=1)"
   ]
  },
  {
   "cell_type": "code",
   "execution_count": 508,
   "metadata": {},
   "outputs": [
    {
     "data": {
      "text/html": [
       "<div>\n",
       "<style scoped>\n",
       "    .dataframe tbody tr th:only-of-type {\n",
       "        vertical-align: middle;\n",
       "    }\n",
       "\n",
       "    .dataframe tbody tr th {\n",
       "        vertical-align: top;\n",
       "    }\n",
       "\n",
       "    .dataframe thead th {\n",
       "        text-align: right;\n",
       "    }\n",
       "</style>\n",
       "<table border=\"1\" class=\"dataframe\">\n",
       "  <thead>\n",
       "    <tr style=\"text-align: right;\">\n",
       "      <th></th>\n",
       "      <th>Item_Fat_Content</th>\n",
       "      <th>Item_Type</th>\n",
       "      <th>Item_MRP</th>\n",
       "      <th>Outlet_Identifier</th>\n",
       "      <th>Outlet_Size</th>\n",
       "      <th>Outlet_Location_Type</th>\n",
       "      <th>Outlet_Type</th>\n",
       "      <th>Item_Outlet_Sales</th>\n",
       "      <th>Item_Weight_interpolation_imputation</th>\n",
       "      <th>Item_Visibility_interpolate</th>\n",
       "      <th>Item_Identifier_Grouped</th>\n",
       "      <th>Outlet_age</th>\n",
       "    </tr>\n",
       "  </thead>\n",
       "  <tbody>\n",
       "    <tr>\n",
       "      <th>0</th>\n",
       "      <td>LF</td>\n",
       "      <td>Dairy</td>\n",
       "      <td>249.8092</td>\n",
       "      <td>OUT049</td>\n",
       "      <td>Medium</td>\n",
       "      <td>Tier 1</td>\n",
       "      <td>Supermarket Type1</td>\n",
       "      <td>3735.1380</td>\n",
       "      <td>9.30</td>\n",
       "      <td>0.016047</td>\n",
       "      <td>FD</td>\n",
       "      <td>25</td>\n",
       "    </tr>\n",
       "    <tr>\n",
       "      <th>1</th>\n",
       "      <td>Regular</td>\n",
       "      <td>Soft Drinks</td>\n",
       "      <td>48.2692</td>\n",
       "      <td>OUT018</td>\n",
       "      <td>Medium</td>\n",
       "      <td>Tier 3</td>\n",
       "      <td>Supermarket Type2</td>\n",
       "      <td>443.4228</td>\n",
       "      <td>5.92</td>\n",
       "      <td>0.019278</td>\n",
       "      <td>DR</td>\n",
       "      <td>15</td>\n",
       "    </tr>\n",
       "    <tr>\n",
       "      <th>2</th>\n",
       "      <td>LF</td>\n",
       "      <td>Meat</td>\n",
       "      <td>141.6180</td>\n",
       "      <td>OUT049</td>\n",
       "      <td>Medium</td>\n",
       "      <td>Tier 1</td>\n",
       "      <td>Supermarket Type1</td>\n",
       "      <td>2097.2700</td>\n",
       "      <td>17.50</td>\n",
       "      <td>0.016760</td>\n",
       "      <td>FD</td>\n",
       "      <td>25</td>\n",
       "    </tr>\n",
       "    <tr>\n",
       "      <th>3</th>\n",
       "      <td>Regular</td>\n",
       "      <td>Fruits and Vegetables</td>\n",
       "      <td>182.0950</td>\n",
       "      <td>OUT010</td>\n",
       "      <td>Small</td>\n",
       "      <td>Tier 3</td>\n",
       "      <td>Grocery Store</td>\n",
       "      <td>732.3800</td>\n",
       "      <td>19.20</td>\n",
       "      <td>0.015755</td>\n",
       "      <td>FD</td>\n",
       "      <td>26</td>\n",
       "    </tr>\n",
       "    <tr>\n",
       "      <th>4</th>\n",
       "      <td>LF</td>\n",
       "      <td>Household</td>\n",
       "      <td>53.8614</td>\n",
       "      <td>OUT013</td>\n",
       "      <td>High</td>\n",
       "      <td>Tier 3</td>\n",
       "      <td>Supermarket Type1</td>\n",
       "      <td>994.7052</td>\n",
       "      <td>8.93</td>\n",
       "      <td>0.014751</td>\n",
       "      <td>NC</td>\n",
       "      <td>37</td>\n",
       "    </tr>\n",
       "  </tbody>\n",
       "</table>\n",
       "</div>"
      ],
      "text/plain": [
       "  Item_Fat_Content              Item_Type  Item_MRP Outlet_Identifier  \\\n",
       "0               LF                  Dairy  249.8092            OUT049   \n",
       "1          Regular            Soft Drinks   48.2692            OUT018   \n",
       "2               LF                   Meat  141.6180            OUT049   \n",
       "3          Regular  Fruits and Vegetables  182.0950            OUT010   \n",
       "4               LF              Household   53.8614            OUT013   \n",
       "\n",
       "  Outlet_Size Outlet_Location_Type        Outlet_Type  Item_Outlet_Sales  \\\n",
       "0      Medium               Tier 1  Supermarket Type1          3735.1380   \n",
       "1      Medium               Tier 3  Supermarket Type2           443.4228   \n",
       "2      Medium               Tier 1  Supermarket Type1          2097.2700   \n",
       "3       Small               Tier 3      Grocery Store           732.3800   \n",
       "4        High               Tier 3  Supermarket Type1           994.7052   \n",
       "\n",
       "   Item_Weight_interpolation_imputation  Item_Visibility_interpolate  \\\n",
       "0                                  9.30                     0.016047   \n",
       "1                                  5.92                     0.019278   \n",
       "2                                 17.50                     0.016760   \n",
       "3                                 19.20                     0.015755   \n",
       "4                                  8.93                     0.014751   \n",
       "\n",
       "  Item_Identifier_Grouped  Outlet_age  \n",
       "0                      FD          25  \n",
       "1                      DR          15  \n",
       "2                      FD          25  \n",
       "3                      FD          26  \n",
       "4                      NC          37  "
      ]
     },
     "execution_count": 508,
     "metadata": {},
     "output_type": "execute_result"
    }
   ],
   "source": [
    "data.head()"
   ]
  },
  {
   "cell_type": "markdown",
   "metadata": {},
   "source": [
    "Data Encoding and Labelling for handling categorical variables\n"
   ]
  },
  {
   "cell_type": "code",
   "execution_count": 509,
   "metadata": {},
   "outputs": [
    {
     "name": "stdout",
     "output_type": "stream",
     "text": [
      "[array(['LF', 'Regular'], dtype=object)]\n",
      "[array(['Baking Goods', 'Breads', 'Breakfast', 'Canned', 'Dairy',\n",
      "       'Frozen Foods', 'Fruits and Vegetables', 'Hard Drinks',\n",
      "       'Health and Hygiene', 'Household', 'Meat', 'Others', 'Seafood',\n",
      "       'Snack Foods', 'Soft Drinks', 'Starchy Foods'], dtype=object)]\n",
      "[array(['OUT010', 'OUT013', 'OUT017', 'OUT018', 'OUT019', 'OUT027',\n",
      "       'OUT035', 'OUT045', 'OUT046', 'OUT049'], dtype=object)]\n",
      "[array(['High', 'Medium', 'Small'], dtype=object)]\n",
      "[array(['Tier 1', 'Tier 2', 'Tier 3'], dtype=object)]\n",
      "[array(['Grocery Store', 'Supermarket Type1', 'Supermarket Type2',\n",
      "       'Supermarket Type3'], dtype=object)]\n",
      "[array(['DR', 'FD', 'NC'], dtype=object)]\n"
     ]
    }
   ],
   "source": [
    "encoded_data = data.copy()\n",
    "\n",
    "cat_cols = data.select_dtypes(include=['object']).columns\n",
    "\n",
    "for col in cat_cols:\n",
    "    oe = OrdinalEncoder()\n",
    "    encoded_data[col]=oe.fit_transform(encoded_data[[col]])\n",
    "    print(oe.categories_)"
   ]
  },
  {
   "cell_type": "code",
   "execution_count": 510,
   "metadata": {},
   "outputs": [
    {
     "data": {
      "text/html": [
       "<div>\n",
       "<style scoped>\n",
       "    .dataframe tbody tr th:only-of-type {\n",
       "        vertical-align: middle;\n",
       "    }\n",
       "\n",
       "    .dataframe tbody tr th {\n",
       "        vertical-align: top;\n",
       "    }\n",
       "\n",
       "    .dataframe thead th {\n",
       "        text-align: right;\n",
       "    }\n",
       "</style>\n",
       "<table border=\"1\" class=\"dataframe\">\n",
       "  <thead>\n",
       "    <tr style=\"text-align: right;\">\n",
       "      <th></th>\n",
       "      <th>Item_Fat_Content</th>\n",
       "      <th>Item_Type</th>\n",
       "      <th>Item_MRP</th>\n",
       "      <th>Outlet_Identifier</th>\n",
       "      <th>Outlet_Size</th>\n",
       "      <th>Outlet_Location_Type</th>\n",
       "      <th>Outlet_Type</th>\n",
       "      <th>Item_Outlet_Sales</th>\n",
       "      <th>Item_Weight_interpolation_imputation</th>\n",
       "      <th>Item_Visibility_interpolate</th>\n",
       "      <th>Item_Identifier_Grouped</th>\n",
       "      <th>Outlet_age</th>\n",
       "    </tr>\n",
       "  </thead>\n",
       "  <tbody>\n",
       "    <tr>\n",
       "      <th>0</th>\n",
       "      <td>0.0</td>\n",
       "      <td>4.0</td>\n",
       "      <td>249.8092</td>\n",
       "      <td>9.0</td>\n",
       "      <td>1.0</td>\n",
       "      <td>0.0</td>\n",
       "      <td>1.0</td>\n",
       "      <td>3735.1380</td>\n",
       "      <td>9.30</td>\n",
       "      <td>0.016047</td>\n",
       "      <td>1.0</td>\n",
       "      <td>25</td>\n",
       "    </tr>\n",
       "    <tr>\n",
       "      <th>1</th>\n",
       "      <td>1.0</td>\n",
       "      <td>14.0</td>\n",
       "      <td>48.2692</td>\n",
       "      <td>3.0</td>\n",
       "      <td>1.0</td>\n",
       "      <td>2.0</td>\n",
       "      <td>2.0</td>\n",
       "      <td>443.4228</td>\n",
       "      <td>5.92</td>\n",
       "      <td>0.019278</td>\n",
       "      <td>0.0</td>\n",
       "      <td>15</td>\n",
       "    </tr>\n",
       "    <tr>\n",
       "      <th>2</th>\n",
       "      <td>0.0</td>\n",
       "      <td>10.0</td>\n",
       "      <td>141.6180</td>\n",
       "      <td>9.0</td>\n",
       "      <td>1.0</td>\n",
       "      <td>0.0</td>\n",
       "      <td>1.0</td>\n",
       "      <td>2097.2700</td>\n",
       "      <td>17.50</td>\n",
       "      <td>0.016760</td>\n",
       "      <td>1.0</td>\n",
       "      <td>25</td>\n",
       "    </tr>\n",
       "  </tbody>\n",
       "</table>\n",
       "</div>"
      ],
      "text/plain": [
       "   Item_Fat_Content  Item_Type  Item_MRP  Outlet_Identifier  Outlet_Size  \\\n",
       "0               0.0        4.0  249.8092                9.0          1.0   \n",
       "1               1.0       14.0   48.2692                3.0          1.0   \n",
       "2               0.0       10.0  141.6180                9.0          1.0   \n",
       "\n",
       "   Outlet_Location_Type  Outlet_Type  Item_Outlet_Sales  \\\n",
       "0                   0.0          1.0          3735.1380   \n",
       "1                   2.0          2.0           443.4228   \n",
       "2                   0.0          1.0          2097.2700   \n",
       "\n",
       "   Item_Weight_interpolation_imputation  Item_Visibility_interpolate  \\\n",
       "0                                  9.30                     0.016047   \n",
       "1                                  5.92                     0.019278   \n",
       "2                                 17.50                     0.016760   \n",
       "\n",
       "   Item_Identifier_Grouped  Outlet_age  \n",
       "0                      1.0          25  \n",
       "1                      0.0          15  \n",
       "2                      1.0          25  "
      ]
     },
     "execution_count": 510,
     "metadata": {},
     "output_type": "execute_result"
    }
   ],
   "source": [
    "encoded_data.head(3)\n",
    "#therefore all the train data have been preprocessed and encoded"
   ]
  },
  {
   "cell_type": "code",
   "execution_count": 511,
   "metadata": {},
   "outputs": [
    {
     "data": {
      "text/plain": [
       "0       3735.1380\n",
       "1        443.4228\n",
       "2       2097.2700\n",
       "3        732.3800\n",
       "4        994.7052\n",
       "          ...    \n",
       "8518    2778.3834\n",
       "8519     549.2850\n",
       "8520    1193.1136\n",
       "8521    1845.5976\n",
       "8522     765.6700\n",
       "Name: Item_Outlet_Sales, Length: 8523, dtype: float64"
      ]
     },
     "execution_count": 511,
     "metadata": {},
     "output_type": "execute_result"
    }
   ],
   "source": [
    "#For efficient prediction-to fit the model(seperation of input variable->X and target variable->y)\n",
    "X = encoded_data.drop('Item_Outlet_Sales',axis=1)\n",
    "y = encoded_data['Item_Outlet_Sales']\n",
    "y"
   ]
  },
  {
   "cell_type": "code",
   "execution_count": 512,
   "metadata": {},
   "outputs": [
    {
     "data": {
      "text/html": [
       "<div>\n",
       "<style scoped>\n",
       "    .dataframe tbody tr th:only-of-type {\n",
       "        vertical-align: middle;\n",
       "    }\n",
       "\n",
       "    .dataframe tbody tr th {\n",
       "        vertical-align: top;\n",
       "    }\n",
       "\n",
       "    .dataframe thead th {\n",
       "        text-align: right;\n",
       "    }\n",
       "</style>\n",
       "<table border=\"1\" class=\"dataframe\">\n",
       "  <thead>\n",
       "    <tr style=\"text-align: right;\">\n",
       "      <th></th>\n",
       "      <th>Item_Fat_Content</th>\n",
       "      <th>Item_Type</th>\n",
       "      <th>Item_MRP</th>\n",
       "      <th>Outlet_Identifier</th>\n",
       "      <th>Outlet_Size</th>\n",
       "      <th>Outlet_Location_Type</th>\n",
       "      <th>Outlet_Type</th>\n",
       "      <th>Item_Weight_interpolation_imputation</th>\n",
       "      <th>Item_Visibility_interpolate</th>\n",
       "      <th>Item_Identifier_Grouped</th>\n",
       "      <th>Outlet_age</th>\n",
       "    </tr>\n",
       "  </thead>\n",
       "  <tbody>\n",
       "    <tr>\n",
       "      <th>0</th>\n",
       "      <td>0.0</td>\n",
       "      <td>4.0</td>\n",
       "      <td>249.8092</td>\n",
       "      <td>9.0</td>\n",
       "      <td>1.0</td>\n",
       "      <td>0.0</td>\n",
       "      <td>1.0</td>\n",
       "      <td>9.300</td>\n",
       "      <td>0.016047</td>\n",
       "      <td>1.0</td>\n",
       "      <td>25</td>\n",
       "    </tr>\n",
       "    <tr>\n",
       "      <th>1</th>\n",
       "      <td>1.0</td>\n",
       "      <td>14.0</td>\n",
       "      <td>48.2692</td>\n",
       "      <td>3.0</td>\n",
       "      <td>1.0</td>\n",
       "      <td>2.0</td>\n",
       "      <td>2.0</td>\n",
       "      <td>5.920</td>\n",
       "      <td>0.019278</td>\n",
       "      <td>0.0</td>\n",
       "      <td>15</td>\n",
       "    </tr>\n",
       "    <tr>\n",
       "      <th>2</th>\n",
       "      <td>0.0</td>\n",
       "      <td>10.0</td>\n",
       "      <td>141.6180</td>\n",
       "      <td>9.0</td>\n",
       "      <td>1.0</td>\n",
       "      <td>0.0</td>\n",
       "      <td>1.0</td>\n",
       "      <td>17.500</td>\n",
       "      <td>0.016760</td>\n",
       "      <td>1.0</td>\n",
       "      <td>25</td>\n",
       "    </tr>\n",
       "    <tr>\n",
       "      <th>3</th>\n",
       "      <td>1.0</td>\n",
       "      <td>6.0</td>\n",
       "      <td>182.0950</td>\n",
       "      <td>0.0</td>\n",
       "      <td>2.0</td>\n",
       "      <td>2.0</td>\n",
       "      <td>0.0</td>\n",
       "      <td>19.200</td>\n",
       "      <td>0.015755</td>\n",
       "      <td>1.0</td>\n",
       "      <td>26</td>\n",
       "    </tr>\n",
       "    <tr>\n",
       "      <th>4</th>\n",
       "      <td>0.0</td>\n",
       "      <td>9.0</td>\n",
       "      <td>53.8614</td>\n",
       "      <td>1.0</td>\n",
       "      <td>0.0</td>\n",
       "      <td>2.0</td>\n",
       "      <td>1.0</td>\n",
       "      <td>8.930</td>\n",
       "      <td>0.014751</td>\n",
       "      <td>2.0</td>\n",
       "      <td>37</td>\n",
       "    </tr>\n",
       "    <tr>\n",
       "      <th>...</th>\n",
       "      <td>...</td>\n",
       "      <td>...</td>\n",
       "      <td>...</td>\n",
       "      <td>...</td>\n",
       "      <td>...</td>\n",
       "      <td>...</td>\n",
       "      <td>...</td>\n",
       "      <td>...</td>\n",
       "      <td>...</td>\n",
       "      <td>...</td>\n",
       "      <td>...</td>\n",
       "    </tr>\n",
       "    <tr>\n",
       "      <th>8518</th>\n",
       "      <td>0.0</td>\n",
       "      <td>13.0</td>\n",
       "      <td>214.5218</td>\n",
       "      <td>1.0</td>\n",
       "      <td>0.0</td>\n",
       "      <td>2.0</td>\n",
       "      <td>1.0</td>\n",
       "      <td>6.865</td>\n",
       "      <td>0.056783</td>\n",
       "      <td>1.0</td>\n",
       "      <td>37</td>\n",
       "    </tr>\n",
       "    <tr>\n",
       "      <th>8519</th>\n",
       "      <td>1.0</td>\n",
       "      <td>0.0</td>\n",
       "      <td>108.1570</td>\n",
       "      <td>7.0</td>\n",
       "      <td>2.0</td>\n",
       "      <td>1.0</td>\n",
       "      <td>1.0</td>\n",
       "      <td>8.380</td>\n",
       "      <td>0.046982</td>\n",
       "      <td>1.0</td>\n",
       "      <td>22</td>\n",
       "    </tr>\n",
       "    <tr>\n",
       "      <th>8520</th>\n",
       "      <td>0.0</td>\n",
       "      <td>8.0</td>\n",
       "      <td>85.1224</td>\n",
       "      <td>6.0</td>\n",
       "      <td>2.0</td>\n",
       "      <td>1.0</td>\n",
       "      <td>1.0</td>\n",
       "      <td>10.600</td>\n",
       "      <td>0.035186</td>\n",
       "      <td>2.0</td>\n",
       "      <td>20</td>\n",
       "    </tr>\n",
       "    <tr>\n",
       "      <th>8521</th>\n",
       "      <td>1.0</td>\n",
       "      <td>13.0</td>\n",
       "      <td>103.1332</td>\n",
       "      <td>3.0</td>\n",
       "      <td>1.0</td>\n",
       "      <td>2.0</td>\n",
       "      <td>2.0</td>\n",
       "      <td>7.210</td>\n",
       "      <td>0.145221</td>\n",
       "      <td>1.0</td>\n",
       "      <td>15</td>\n",
       "    </tr>\n",
       "    <tr>\n",
       "      <th>8522</th>\n",
       "      <td>0.0</td>\n",
       "      <td>14.0</td>\n",
       "      <td>75.4670</td>\n",
       "      <td>8.0</td>\n",
       "      <td>2.0</td>\n",
       "      <td>0.0</td>\n",
       "      <td>1.0</td>\n",
       "      <td>14.800</td>\n",
       "      <td>0.044878</td>\n",
       "      <td>0.0</td>\n",
       "      <td>27</td>\n",
       "    </tr>\n",
       "  </tbody>\n",
       "</table>\n",
       "<p>8523 rows × 11 columns</p>\n",
       "</div>"
      ],
      "text/plain": [
       "      Item_Fat_Content  Item_Type  Item_MRP  Outlet_Identifier  Outlet_Size  \\\n",
       "0                  0.0        4.0  249.8092                9.0          1.0   \n",
       "1                  1.0       14.0   48.2692                3.0          1.0   \n",
       "2                  0.0       10.0  141.6180                9.0          1.0   \n",
       "3                  1.0        6.0  182.0950                0.0          2.0   \n",
       "4                  0.0        9.0   53.8614                1.0          0.0   \n",
       "...                ...        ...       ...                ...          ...   \n",
       "8518               0.0       13.0  214.5218                1.0          0.0   \n",
       "8519               1.0        0.0  108.1570                7.0          2.0   \n",
       "8520               0.0        8.0   85.1224                6.0          2.0   \n",
       "8521               1.0       13.0  103.1332                3.0          1.0   \n",
       "8522               0.0       14.0   75.4670                8.0          2.0   \n",
       "\n",
       "      Outlet_Location_Type  Outlet_Type  Item_Weight_interpolation_imputation  \\\n",
       "0                      0.0          1.0                                 9.300   \n",
       "1                      2.0          2.0                                 5.920   \n",
       "2                      0.0          1.0                                17.500   \n",
       "3                      2.0          0.0                                19.200   \n",
       "4                      2.0          1.0                                 8.930   \n",
       "...                    ...          ...                                   ...   \n",
       "8518                   2.0          1.0                                 6.865   \n",
       "8519                   1.0          1.0                                 8.380   \n",
       "8520                   1.0          1.0                                10.600   \n",
       "8521                   2.0          2.0                                 7.210   \n",
       "8522                   0.0          1.0                                14.800   \n",
       "\n",
       "      Item_Visibility_interpolate  Item_Identifier_Grouped  Outlet_age  \n",
       "0                        0.016047                      1.0          25  \n",
       "1                        0.019278                      0.0          15  \n",
       "2                        0.016760                      1.0          25  \n",
       "3                        0.015755                      1.0          26  \n",
       "4                        0.014751                      2.0          37  \n",
       "...                           ...                      ...         ...  \n",
       "8518                     0.056783                      1.0          37  \n",
       "8519                     0.046982                      1.0          22  \n",
       "8520                     0.035186                      2.0          20  \n",
       "8521                     0.145221                      1.0          15  \n",
       "8522                     0.044878                      0.0          27  \n",
       "\n",
       "[8523 rows x 11 columns]"
      ]
     },
     "execution_count": 512,
     "metadata": {},
     "output_type": "execute_result"
    }
   ],
   "source": [
    "X"
   ]
  },
  {
   "cell_type": "markdown",
   "metadata": {},
   "source": [
    "Modelling"
   ]
  },
  {
   "cell_type": "markdown",
   "metadata": {},
   "source": [
    "Random Forest Regressor"
   ]
  },
  {
   "cell_type": "code",
   "execution_count": 513,
   "metadata": {},
   "outputs": [
    {
     "name": "stdout",
     "output_type": "stream",
     "text": [
      "Random Forest Regressor: 0.5548847755492862\n"
     ]
    }
   ],
   "source": [
    "rf = RandomForestRegressor(n_estimators=100,random_state=42)\n",
    "scores = cross_val_score(rf,X,y,cv=5,scoring='r2')\n",
    "print(\"Random Forest Regressor:\",scores.mean())\n"
   ]
  },
  {
   "cell_type": "markdown",
   "metadata": {},
   "source": [
    "SVR\n"
   ]
  },
  {
   "cell_type": "code",
   "execution_count": 514,
   "metadata": {},
   "outputs": [
    {
     "name": "stdout",
     "output_type": "stream",
     "text": [
      "SVM R-squared Mean: 0.18783229700366477\n"
     ]
    }
   ],
   "source": [
    "svm = SVR(kernel='rbf')\n",
    "svm_scores = cross_val_score(svm, X, y, cv=5, scoring='r2')\n",
    "print(\"SVM R-squared Mean:\", svm_scores.mean())"
   ]
  },
  {
   "cell_type": "markdown",
   "metadata": {},
   "source": [
    "DecisionTreeRegressor"
   ]
  },
  {
   "cell_type": "code",
   "execution_count": 515,
   "metadata": {},
   "outputs": [
    {
     "name": "stdout",
     "output_type": "stream",
     "text": [
      "Decision Tree R-squared Mean: 0.16300580540635895\n"
     ]
    }
   ],
   "source": [
    "# Decision Tree Regressor\n",
    "dt = DecisionTreeRegressor(random_state=42)\n",
    "dt_scores = cross_val_score(dt, X, y, cv=5, scoring='r2')\n",
    "print(\"Decision Tree R-squared Mean:\", dt_scores.mean())\n"
   ]
  },
  {
   "cell_type": "markdown",
   "metadata": {},
   "source": [
    "KNeighborsRegressor"
   ]
  },
  {
   "cell_type": "code",
   "execution_count": 516,
   "metadata": {},
   "outputs": [
    {
     "name": "stdout",
     "output_type": "stream",
     "text": [
      "KNN R-squared Mean: 0.4468865106816623\n"
     ]
    }
   ],
   "source": [
    "# K-Nearest Neighbors Regressor\n",
    "knn = KNeighborsRegressor()\n",
    "knn_scores = cross_val_score(knn, X, y, cv=5, scoring='r2')\n",
    "print(\"KNN R-squared Mean:\", knn_scores.mean())\n"
   ]
  },
  {
   "cell_type": "markdown",
   "metadata": {},
   "source": [
    "LinearRegression"
   ]
  },
  {
   "cell_type": "code",
   "execution_count": 517,
   "metadata": {},
   "outputs": [
    {
     "name": "stdout",
     "output_type": "stream",
     "text": [
      "Linear Regression R-squared Mean: 0.501547093101739\n"
     ]
    }
   ],
   "source": [
    "# Linear Regression\n",
    "lr = LinearRegression()\n",
    "lr_scores = cross_val_score(lr, X, y, cv=5, scoring='r2')\n",
    "print(\"Linear Regression R-squared Mean:\", lr_scores.mean())\n"
   ]
  },
  {
   "cell_type": "markdown",
   "metadata": {},
   "source": [
    "Ridge Regression"
   ]
  },
  {
   "cell_type": "code",
   "execution_count": 518,
   "metadata": {},
   "outputs": [
    {
     "name": "stdout",
     "output_type": "stream",
     "text": [
      "Ridge Regression R-squared Mean: 0.5015452893062994\n"
     ]
    }
   ],
   "source": [
    "\n",
    "\n",
    "# Ridge Regression\n",
    "ridge = Ridge(alpha=1.0, random_state=42)  # You can adjust alpha (regularization strength)\n",
    "ridge_scores = cross_val_score(ridge, X, y, cv=5, scoring='r2')\n",
    "print(\"Ridge Regression R-squared Mean:\", ridge_scores.mean())\n"
   ]
  },
  {
   "cell_type": "markdown",
   "metadata": {},
   "source": [
    "XGBoost"
   ]
  },
  {
   "cell_type": "code",
   "execution_count": 519,
   "metadata": {},
   "outputs": [
    {
     "name": "stdout",
     "output_type": "stream",
     "text": [
      "XgBoost:  0.5955225668410347\n"
     ]
    }
   ],
   "source": [
    "xg = XGBRFRegressor(n_estimators=100,random_state=42)\n",
    "scores = cross_val_score(xg,X,y,cv=5,scoring='r2')\n",
    "print(\"XgBoost: \",scores.mean())"
   ]
  },
  {
   "cell_type": "code",
   "execution_count": 520,
   "metadata": {},
   "outputs": [
    {
     "data": {
      "text/html": [
       "<div>\n",
       "<style scoped>\n",
       "    .dataframe tbody tr th:only-of-type {\n",
       "        vertical-align: middle;\n",
       "    }\n",
       "\n",
       "    .dataframe tbody tr th {\n",
       "        vertical-align: top;\n",
       "    }\n",
       "\n",
       "    .dataframe thead th {\n",
       "        text-align: right;\n",
       "    }\n",
       "</style>\n",
       "<table border=\"1\" class=\"dataframe\">\n",
       "  <thead>\n",
       "    <tr style=\"text-align: right;\">\n",
       "      <th></th>\n",
       "      <th>feature</th>\n",
       "      <th>XGBRF_importance</th>\n",
       "    </tr>\n",
       "  </thead>\n",
       "  <tbody>\n",
       "    <tr>\n",
       "      <th>6</th>\n",
       "      <td>Outlet_Type</td>\n",
       "      <td>0.376154</td>\n",
       "    </tr>\n",
       "    <tr>\n",
       "      <th>3</th>\n",
       "      <td>Outlet_Identifier</td>\n",
       "      <td>0.169257</td>\n",
       "    </tr>\n",
       "    <tr>\n",
       "      <th>10</th>\n",
       "      <td>Outlet_age</td>\n",
       "      <td>0.150235</td>\n",
       "    </tr>\n",
       "    <tr>\n",
       "      <th>2</th>\n",
       "      <td>Item_MRP</td>\n",
       "      <td>0.147043</td>\n",
       "    </tr>\n",
       "    <tr>\n",
       "      <th>4</th>\n",
       "      <td>Outlet_Size</td>\n",
       "      <td>0.118860</td>\n",
       "    </tr>\n",
       "    <tr>\n",
       "      <th>5</th>\n",
       "      <td>Outlet_Location_Type</td>\n",
       "      <td>0.029955</td>\n",
       "    </tr>\n",
       "    <tr>\n",
       "      <th>8</th>\n",
       "      <td>Item_Visibility_interpolate</td>\n",
       "      <td>0.002641</td>\n",
       "    </tr>\n",
       "    <tr>\n",
       "      <th>7</th>\n",
       "      <td>Item_Weight_interpolation_imputation</td>\n",
       "      <td>0.002183</td>\n",
       "    </tr>\n",
       "    <tr>\n",
       "      <th>1</th>\n",
       "      <td>Item_Type</td>\n",
       "      <td>0.001741</td>\n",
       "    </tr>\n",
       "    <tr>\n",
       "      <th>9</th>\n",
       "      <td>Item_Identifier_Grouped</td>\n",
       "      <td>0.001256</td>\n",
       "    </tr>\n",
       "    <tr>\n",
       "      <th>0</th>\n",
       "      <td>Item_Fat_Content</td>\n",
       "      <td>0.000675</td>\n",
       "    </tr>\n",
       "  </tbody>\n",
       "</table>\n",
       "</div>"
      ],
      "text/plain": [
       "                                 feature  XGBRF_importance\n",
       "6                            Outlet_Type          0.376154\n",
       "3                      Outlet_Identifier          0.169257\n",
       "10                            Outlet_age          0.150235\n",
       "2                               Item_MRP          0.147043\n",
       "4                            Outlet_Size          0.118860\n",
       "5                   Outlet_Location_Type          0.029955\n",
       "8            Item_Visibility_interpolate          0.002641\n",
       "7   Item_Weight_interpolation_imputation          0.002183\n",
       "1                              Item_Type          0.001741\n",
       "9                Item_Identifier_Grouped          0.001256\n",
       "0                       Item_Fat_Content          0.000675"
      ]
     },
     "execution_count": 520,
     "metadata": {},
     "output_type": "execute_result"
    }
   ],
   "source": [
    "xg = XGBRFRegressor(n_estimators=100,random_state=42)\n",
    "\n",
    "xg1 = xg.fit(X,y)\n",
    "pd.DataFrame({\n",
    "    'feature':X.columns,\n",
    "    'XGBRF_importance':xg1.feature_importances_\n",
    "    \n",
    "}).sort_values(by='XGBRF_importance',ascending=False)"
   ]
  },
  {
   "cell_type": "code",
   "execution_count": 521,
   "metadata": {},
   "outputs": [
    {
     "name": "stdout",
     "output_type": "stream",
     "text": [
      "0.5966037632320667\n"
     ]
    }
   ],
   "source": [
    "xg = XGBRFRegressor(n_estimators=100,random_state=42)\n",
    "scores = cross_val_score(xg,X.drop(['Item_Visibility_interpolate','Item_Weight_interpolation_imputation',\n",
    "'Item_Type','Outlet_Location_Type','Item_Identifier_Grouped','Item_Fat_Content'],axis=1),y,cv=5,scoring='r2')\n",
    "print(scores.mean())\n"
   ]
  },
  {
   "cell_type": "code",
   "execution_count": 522,
   "metadata": {},
   "outputs": [],
   "source": [
    "final_data = X.drop(columns=['Item_Visibility_interpolate','Item_Weight_interpolation_imputation',\n",
    "'Item_Type','Outlet_Location_Type','Item_Identifier_Grouped','Item_Fat_Content'],axis=1)"
   ]
  },
  {
   "cell_type": "code",
   "execution_count": 523,
   "metadata": {},
   "outputs": [
    {
     "data": {
      "text/html": [
       "<div>\n",
       "<style scoped>\n",
       "    .dataframe tbody tr th:only-of-type {\n",
       "        vertical-align: middle;\n",
       "    }\n",
       "\n",
       "    .dataframe tbody tr th {\n",
       "        vertical-align: top;\n",
       "    }\n",
       "\n",
       "    .dataframe thead th {\n",
       "        text-align: right;\n",
       "    }\n",
       "</style>\n",
       "<table border=\"1\" class=\"dataframe\">\n",
       "  <thead>\n",
       "    <tr style=\"text-align: right;\">\n",
       "      <th></th>\n",
       "      <th>Item_MRP</th>\n",
       "      <th>Outlet_Identifier</th>\n",
       "      <th>Outlet_Size</th>\n",
       "      <th>Outlet_Type</th>\n",
       "      <th>Outlet_age</th>\n",
       "    </tr>\n",
       "  </thead>\n",
       "  <tbody>\n",
       "    <tr>\n",
       "      <th>0</th>\n",
       "      <td>249.8092</td>\n",
       "      <td>9.0</td>\n",
       "      <td>1.0</td>\n",
       "      <td>1.0</td>\n",
       "      <td>25</td>\n",
       "    </tr>\n",
       "    <tr>\n",
       "      <th>1</th>\n",
       "      <td>48.2692</td>\n",
       "      <td>3.0</td>\n",
       "      <td>1.0</td>\n",
       "      <td>2.0</td>\n",
       "      <td>15</td>\n",
       "    </tr>\n",
       "    <tr>\n",
       "      <th>2</th>\n",
       "      <td>141.6180</td>\n",
       "      <td>9.0</td>\n",
       "      <td>1.0</td>\n",
       "      <td>1.0</td>\n",
       "      <td>25</td>\n",
       "    </tr>\n",
       "    <tr>\n",
       "      <th>3</th>\n",
       "      <td>182.0950</td>\n",
       "      <td>0.0</td>\n",
       "      <td>2.0</td>\n",
       "      <td>0.0</td>\n",
       "      <td>26</td>\n",
       "    </tr>\n",
       "    <tr>\n",
       "      <th>4</th>\n",
       "      <td>53.8614</td>\n",
       "      <td>1.0</td>\n",
       "      <td>0.0</td>\n",
       "      <td>1.0</td>\n",
       "      <td>37</td>\n",
       "    </tr>\n",
       "    <tr>\n",
       "      <th>...</th>\n",
       "      <td>...</td>\n",
       "      <td>...</td>\n",
       "      <td>...</td>\n",
       "      <td>...</td>\n",
       "      <td>...</td>\n",
       "    </tr>\n",
       "    <tr>\n",
       "      <th>8518</th>\n",
       "      <td>214.5218</td>\n",
       "      <td>1.0</td>\n",
       "      <td>0.0</td>\n",
       "      <td>1.0</td>\n",
       "      <td>37</td>\n",
       "    </tr>\n",
       "    <tr>\n",
       "      <th>8519</th>\n",
       "      <td>108.1570</td>\n",
       "      <td>7.0</td>\n",
       "      <td>2.0</td>\n",
       "      <td>1.0</td>\n",
       "      <td>22</td>\n",
       "    </tr>\n",
       "    <tr>\n",
       "      <th>8520</th>\n",
       "      <td>85.1224</td>\n",
       "      <td>6.0</td>\n",
       "      <td>2.0</td>\n",
       "      <td>1.0</td>\n",
       "      <td>20</td>\n",
       "    </tr>\n",
       "    <tr>\n",
       "      <th>8521</th>\n",
       "      <td>103.1332</td>\n",
       "      <td>3.0</td>\n",
       "      <td>1.0</td>\n",
       "      <td>2.0</td>\n",
       "      <td>15</td>\n",
       "    </tr>\n",
       "    <tr>\n",
       "      <th>8522</th>\n",
       "      <td>75.4670</td>\n",
       "      <td>8.0</td>\n",
       "      <td>2.0</td>\n",
       "      <td>1.0</td>\n",
       "      <td>27</td>\n",
       "    </tr>\n",
       "  </tbody>\n",
       "</table>\n",
       "<p>8523 rows × 5 columns</p>\n",
       "</div>"
      ],
      "text/plain": [
       "      Item_MRP  Outlet_Identifier  Outlet_Size  Outlet_Type  Outlet_age\n",
       "0     249.8092                9.0          1.0          1.0          25\n",
       "1      48.2692                3.0          1.0          2.0          15\n",
       "2     141.6180                9.0          1.0          1.0          25\n",
       "3     182.0950                0.0          2.0          0.0          26\n",
       "4      53.8614                1.0          0.0          1.0          37\n",
       "...        ...                ...          ...          ...         ...\n",
       "8518  214.5218                1.0          0.0          1.0          37\n",
       "8519  108.1570                7.0          2.0          1.0          22\n",
       "8520   85.1224                6.0          2.0          1.0          20\n",
       "8521  103.1332                3.0          1.0          2.0          15\n",
       "8522   75.4670                8.0          2.0          1.0          27\n",
       "\n",
       "[8523 rows x 5 columns]"
      ]
     },
     "execution_count": 523,
     "metadata": {},
     "output_type": "execute_result"
    }
   ],
   "source": [
    "final_data"
   ]
  },
  {
   "cell_type": "code",
   "execution_count": 524,
   "metadata": {},
   "outputs": [],
   "source": [
    "\n",
    "\n",
    "xg_final = XGBRFRegressor(\n",
    "    base_score=0.5,\n",
    "    booster='gbtree',\n",
    "    colsample_bylevel=1,\n",
    "    colsample_bytree=1,\n",
    "    gamma=0,\n",
    "    gpu_id=-1,\n",
    "    importance_type='gain',\n",
    "    interaction_constraints='',\n",
    "    max_delta_step=0,\n",
    "    max_depth=6,\n",
    "    min_child_weight=1,\n",
    "    missing=np.nan,\n",
    "    monotone_constraints='()',\n",
    "    n_estimators=100,\n",
    "    n_jobs=4,\n",
    "    num_parallel_tree=100,\n",
    "    objective='reg:squarederror',\n",
    "    random_state=0,\n",
    "    reg_alpha=0,\n",
    "    scale_pos_weight=1,\n",
    "    tree_method='exact',\n",
    "    validate_parameters=1,\n",
    "    verbosity=None\n",
    ")\n"
   ]
  },
  {
   "cell_type": "code",
   "execution_count": 525,
   "metadata": {},
   "outputs": [
    {
     "name": "stdout",
     "output_type": "stream",
     "text": [
      "['__class__', '__delattr__', '__dict__', '__dir__', '__doc__', '__eq__', '__format__', '__ge__', '__getattribute__', '__getstate__', '__gt__', '__hash__', '__init__', '__init_subclass__', '__le__', '__lt__', '__module__', '__ne__', '__new__', '__reduce__', '__reduce_ex__', '__repr__', '__setattr__', '__setstate__', '__sizeof__', '__sklearn_clone__', '__sklearn_is_fitted__', '__str__', '__subclasshook__', '__weakref__', '_build_request_for_signature', '_can_use_inplace_predict', '_check_feature_names', '_check_n_features', '_configure_fit', '_create_dmatrix', '_estimator_type', '_get_default_requests', '_get_iteration_range', '_get_metadata_request', '_get_param_names', '_get_tags', '_get_type', '_more_tags', '_repr_html_', '_repr_html_inner', '_repr_mimebundle_', '_set_evaluation_result', '_validate_data', '_validate_params', 'apply', 'base_score', 'best_iteration', 'best_score', 'booster', 'callbacks', 'coef_', 'colsample_bylevel', 'colsample_bynode', 'colsample_bytree', 'device', 'early_stopping_rounds', 'enable_categorical', 'eval_metric', 'evals_result', 'feature_importances_', 'feature_names_in_', 'feature_types', 'fit', 'gamma', 'get_booster', 'get_metadata_routing', 'get_num_boosting_rounds', 'get_params', 'get_xgb_params', 'grow_policy', 'importance_type', 'interaction_constraints', 'intercept_', 'kwargs', 'learning_rate', 'load_model', 'max_bin', 'max_cat_threshold', 'max_cat_to_onehot', 'max_delta_step', 'max_depth', 'max_leaves', 'min_child_weight', 'missing', 'monotone_constraints', 'multi_strategy', 'n_estimators', 'n_features_in_', 'n_jobs', 'num_parallel_tree', 'objective', 'predict', 'random_state', 'reg_alpha', 'reg_lambda', 'sampling_method', 'save_model', 'scale_pos_weight', 'score', 'set_fit_request', 'set_params', 'set_predict_request', 'set_score_request', 'subsample', 'tree_method', 'validate_parameters', 'verbosity']\n"
     ]
    }
   ],
   "source": [
    "print(dir(xg_final))"
   ]
  },
  {
   "cell_type": "code",
   "execution_count": 526,
   "metadata": {},
   "outputs": [
    {
     "data": {
      "text/html": [
       "<style>#sk-container-id-7 {color: black;}#sk-container-id-7 pre{padding: 0;}#sk-container-id-7 div.sk-toggleable {background-color: white;}#sk-container-id-7 label.sk-toggleable__label {cursor: pointer;display: block;width: 100%;margin-bottom: 0;padding: 0.3em;box-sizing: border-box;text-align: center;}#sk-container-id-7 label.sk-toggleable__label-arrow:before {content: \"▸\";float: left;margin-right: 0.25em;color: #696969;}#sk-container-id-7 label.sk-toggleable__label-arrow:hover:before {color: black;}#sk-container-id-7 div.sk-estimator:hover label.sk-toggleable__label-arrow:before {color: black;}#sk-container-id-7 div.sk-toggleable__content {max-height: 0;max-width: 0;overflow: hidden;text-align: left;background-color: #f0f8ff;}#sk-container-id-7 div.sk-toggleable__content pre {margin: 0.2em;color: black;border-radius: 0.25em;background-color: #f0f8ff;}#sk-container-id-7 input.sk-toggleable__control:checked~div.sk-toggleable__content {max-height: 200px;max-width: 100%;overflow: auto;}#sk-container-id-7 input.sk-toggleable__control:checked~label.sk-toggleable__label-arrow:before {content: \"▾\";}#sk-container-id-7 div.sk-estimator input.sk-toggleable__control:checked~label.sk-toggleable__label {background-color: #d4ebff;}#sk-container-id-7 div.sk-label input.sk-toggleable__control:checked~label.sk-toggleable__label {background-color: #d4ebff;}#sk-container-id-7 input.sk-hidden--visually {border: 0;clip: rect(1px 1px 1px 1px);clip: rect(1px, 1px, 1px, 1px);height: 1px;margin: -1px;overflow: hidden;padding: 0;position: absolute;width: 1px;}#sk-container-id-7 div.sk-estimator {font-family: monospace;background-color: #f0f8ff;border: 1px dotted black;border-radius: 0.25em;box-sizing: border-box;margin-bottom: 0.5em;}#sk-container-id-7 div.sk-estimator:hover {background-color: #d4ebff;}#sk-container-id-7 div.sk-parallel-item::after {content: \"\";width: 100%;border-bottom: 1px solid gray;flex-grow: 1;}#sk-container-id-7 div.sk-label:hover label.sk-toggleable__label {background-color: #d4ebff;}#sk-container-id-7 div.sk-serial::before {content: \"\";position: absolute;border-left: 1px solid gray;box-sizing: border-box;top: 0;bottom: 0;left: 50%;z-index: 0;}#sk-container-id-7 div.sk-serial {display: flex;flex-direction: column;align-items: center;background-color: white;padding-right: 0.2em;padding-left: 0.2em;position: relative;}#sk-container-id-7 div.sk-item {position: relative;z-index: 1;}#sk-container-id-7 div.sk-parallel {display: flex;align-items: stretch;justify-content: center;background-color: white;position: relative;}#sk-container-id-7 div.sk-item::before, #sk-container-id-7 div.sk-parallel-item::before {content: \"\";position: absolute;border-left: 1px solid gray;box-sizing: border-box;top: 0;bottom: 0;left: 50%;z-index: -1;}#sk-container-id-7 div.sk-parallel-item {display: flex;flex-direction: column;z-index: 1;position: relative;background-color: white;}#sk-container-id-7 div.sk-parallel-item:first-child::after {align-self: flex-end;width: 50%;}#sk-container-id-7 div.sk-parallel-item:last-child::after {align-self: flex-start;width: 50%;}#sk-container-id-7 div.sk-parallel-item:only-child::after {width: 0;}#sk-container-id-7 div.sk-dashed-wrapped {border: 1px dashed gray;margin: 0 0.4em 0.5em 0.4em;box-sizing: border-box;padding-bottom: 0.4em;background-color: white;}#sk-container-id-7 div.sk-label label {font-family: monospace;font-weight: bold;display: inline-block;line-height: 1.2em;}#sk-container-id-7 div.sk-label-container {text-align: center;}#sk-container-id-7 div.sk-container {/* jupyter's `normalize.less` sets `[hidden] { display: none; }` but bootstrap.min.css set `[hidden] { display: none !important; }` so we also need the `!important` here to be able to override the default hidden behavior on the sphinx rendered scikit-learn.org. See: https://github.com/scikit-learn/scikit-learn/issues/21755 */display: inline-block !important;position: relative;}#sk-container-id-7 div.sk-text-repr-fallback {display: none;}</style><div id=\"sk-container-id-7\" class=\"sk-top-container\"><div class=\"sk-text-repr-fallback\"><pre>XGBRFRegressor(base_score=0.5, booster=&#x27;gbtree&#x27;, callbacks=None,\n",
       "               colsample_bylevel=1, colsample_bytree=1, device=None,\n",
       "               early_stopping_rounds=None, enable_categorical=False,\n",
       "               eval_metric=None, feature_types=None, gamma=0, gpu_id=-1,\n",
       "               grow_policy=None, importance_type=&#x27;gain&#x27;,\n",
       "               interaction_constraints=&#x27;&#x27;, max_bin=None, max_cat_threshold=None,\n",
       "               max_cat_to_onehot=None, max_delta_step=0, max_depth=6,\n",
       "               max_leaves=None, min_child_weight=1, missing=nan,\n",
       "               monotone_constraints=&#x27;()&#x27;, multi_strategy=None, n_estimators=100,\n",
       "               n_jobs=4, num_parallel_tree=100, objective=&#x27;reg:squarederror&#x27;,\n",
       "               random_state=0, ...)</pre><b>In a Jupyter environment, please rerun this cell to show the HTML representation or trust the notebook. <br />On GitHub, the HTML representation is unable to render, please try loading this page with nbviewer.org.</b></div><div class=\"sk-container\" hidden><div class=\"sk-item\"><div class=\"sk-estimator sk-toggleable\"><input class=\"sk-toggleable__control sk-hidden--visually\" id=\"sk-estimator-id-7\" type=\"checkbox\" checked><label for=\"sk-estimator-id-7\" class=\"sk-toggleable__label sk-toggleable__label-arrow\">XGBRFRegressor</label><div class=\"sk-toggleable__content\"><pre>XGBRFRegressor(base_score=0.5, booster=&#x27;gbtree&#x27;, callbacks=None,\n",
       "               colsample_bylevel=1, colsample_bytree=1, device=None,\n",
       "               early_stopping_rounds=None, enable_categorical=False,\n",
       "               eval_metric=None, feature_types=None, gamma=0, gpu_id=-1,\n",
       "               grow_policy=None, importance_type=&#x27;gain&#x27;,\n",
       "               interaction_constraints=&#x27;&#x27;, max_bin=None, max_cat_threshold=None,\n",
       "               max_cat_to_onehot=None, max_delta_step=0, max_depth=6,\n",
       "               max_leaves=None, min_child_weight=1, missing=nan,\n",
       "               monotone_constraints=&#x27;()&#x27;, multi_strategy=None, n_estimators=100,\n",
       "               n_jobs=4, num_parallel_tree=100, objective=&#x27;reg:squarederror&#x27;,\n",
       "               random_state=0, ...)</pre></div></div></div></div></div>"
      ],
      "text/plain": [
       "XGBRFRegressor(base_score=0.5, booster='gbtree', callbacks=None,\n",
       "               colsample_bylevel=1, colsample_bytree=1, device=None,\n",
       "               early_stopping_rounds=None, enable_categorical=False,\n",
       "               eval_metric=None, feature_types=None, gamma=0, gpu_id=-1,\n",
       "               grow_policy=None, importance_type='gain',\n",
       "               interaction_constraints='', max_bin=None, max_cat_threshold=None,\n",
       "               max_cat_to_onehot=None, max_delta_step=0, max_depth=6,\n",
       "               max_leaves=None, min_child_weight=1, missing=nan,\n",
       "               monotone_constraints='()', multi_strategy=None, n_estimators=100,\n",
       "               n_jobs=4, num_parallel_tree=100, objective='reg:squarederror',\n",
       "               random_state=0, ...)"
      ]
     },
     "execution_count": 526,
     "metadata": {},
     "output_type": "execute_result"
    }
   ],
   "source": [
    "xg_final.fit(final_data,y)"
   ]
  },
  {
   "cell_type": "code",
   "execution_count": 527,
   "metadata": {},
   "outputs": [],
   "source": [
    "X_train,X_test,y_train,y_test = train_test_split(final_data,y,\n",
    "                                                 test_size=0.20,\n",
    "                                                 random_state=42)"
   ]
  },
  {
   "cell_type": "code",
   "execution_count": 528,
   "metadata": {},
   "outputs": [
    {
     "data": {
      "text/html": [
       "<style>#sk-container-id-8 {color: black;}#sk-container-id-8 pre{padding: 0;}#sk-container-id-8 div.sk-toggleable {background-color: white;}#sk-container-id-8 label.sk-toggleable__label {cursor: pointer;display: block;width: 100%;margin-bottom: 0;padding: 0.3em;box-sizing: border-box;text-align: center;}#sk-container-id-8 label.sk-toggleable__label-arrow:before {content: \"▸\";float: left;margin-right: 0.25em;color: #696969;}#sk-container-id-8 label.sk-toggleable__label-arrow:hover:before {color: black;}#sk-container-id-8 div.sk-estimator:hover label.sk-toggleable__label-arrow:before {color: black;}#sk-container-id-8 div.sk-toggleable__content {max-height: 0;max-width: 0;overflow: hidden;text-align: left;background-color: #f0f8ff;}#sk-container-id-8 div.sk-toggleable__content pre {margin: 0.2em;color: black;border-radius: 0.25em;background-color: #f0f8ff;}#sk-container-id-8 input.sk-toggleable__control:checked~div.sk-toggleable__content {max-height: 200px;max-width: 100%;overflow: auto;}#sk-container-id-8 input.sk-toggleable__control:checked~label.sk-toggleable__label-arrow:before {content: \"▾\";}#sk-container-id-8 div.sk-estimator input.sk-toggleable__control:checked~label.sk-toggleable__label {background-color: #d4ebff;}#sk-container-id-8 div.sk-label input.sk-toggleable__control:checked~label.sk-toggleable__label {background-color: #d4ebff;}#sk-container-id-8 input.sk-hidden--visually {border: 0;clip: rect(1px 1px 1px 1px);clip: rect(1px, 1px, 1px, 1px);height: 1px;margin: -1px;overflow: hidden;padding: 0;position: absolute;width: 1px;}#sk-container-id-8 div.sk-estimator {font-family: monospace;background-color: #f0f8ff;border: 1px dotted black;border-radius: 0.25em;box-sizing: border-box;margin-bottom: 0.5em;}#sk-container-id-8 div.sk-estimator:hover {background-color: #d4ebff;}#sk-container-id-8 div.sk-parallel-item::after {content: \"\";width: 100%;border-bottom: 1px solid gray;flex-grow: 1;}#sk-container-id-8 div.sk-label:hover label.sk-toggleable__label {background-color: #d4ebff;}#sk-container-id-8 div.sk-serial::before {content: \"\";position: absolute;border-left: 1px solid gray;box-sizing: border-box;top: 0;bottom: 0;left: 50%;z-index: 0;}#sk-container-id-8 div.sk-serial {display: flex;flex-direction: column;align-items: center;background-color: white;padding-right: 0.2em;padding-left: 0.2em;position: relative;}#sk-container-id-8 div.sk-item {position: relative;z-index: 1;}#sk-container-id-8 div.sk-parallel {display: flex;align-items: stretch;justify-content: center;background-color: white;position: relative;}#sk-container-id-8 div.sk-item::before, #sk-container-id-8 div.sk-parallel-item::before {content: \"\";position: absolute;border-left: 1px solid gray;box-sizing: border-box;top: 0;bottom: 0;left: 50%;z-index: -1;}#sk-container-id-8 div.sk-parallel-item {display: flex;flex-direction: column;z-index: 1;position: relative;background-color: white;}#sk-container-id-8 div.sk-parallel-item:first-child::after {align-self: flex-end;width: 50%;}#sk-container-id-8 div.sk-parallel-item:last-child::after {align-self: flex-start;width: 50%;}#sk-container-id-8 div.sk-parallel-item:only-child::after {width: 0;}#sk-container-id-8 div.sk-dashed-wrapped {border: 1px dashed gray;margin: 0 0.4em 0.5em 0.4em;box-sizing: border-box;padding-bottom: 0.4em;background-color: white;}#sk-container-id-8 div.sk-label label {font-family: monospace;font-weight: bold;display: inline-block;line-height: 1.2em;}#sk-container-id-8 div.sk-label-container {text-align: center;}#sk-container-id-8 div.sk-container {/* jupyter's `normalize.less` sets `[hidden] { display: none; }` but bootstrap.min.css set `[hidden] { display: none !important; }` so we also need the `!important` here to be able to override the default hidden behavior on the sphinx rendered scikit-learn.org. See: https://github.com/scikit-learn/scikit-learn/issues/21755 */display: inline-block !important;position: relative;}#sk-container-id-8 div.sk-text-repr-fallback {display: none;}</style><div id=\"sk-container-id-8\" class=\"sk-top-container\"><div class=\"sk-text-repr-fallback\"><pre>XGBRFRegressor(base_score=0.5, booster=&#x27;gbtree&#x27;, callbacks=None,\n",
       "               colsample_bylevel=1, colsample_bytree=1, device=None,\n",
       "               early_stopping_rounds=None, enable_categorical=False,\n",
       "               eval_metric=None, feature_types=None, gamma=0, gpu_id=-1,\n",
       "               grow_policy=None, importance_type=&#x27;gain&#x27;,\n",
       "               interaction_constraints=&#x27;&#x27;, max_bin=None, max_cat_threshold=None,\n",
       "               max_cat_to_onehot=None, max_delta_step=0, max_depth=6,\n",
       "               max_leaves=None, min_child_weight=1, missing=nan,\n",
       "               monotone_constraints=&#x27;()&#x27;, multi_strategy=None, n_estimators=100,\n",
       "               n_jobs=4, num_parallel_tree=100, objective=&#x27;reg:squarederror&#x27;,\n",
       "               random_state=0, ...)</pre><b>In a Jupyter environment, please rerun this cell to show the HTML representation or trust the notebook. <br />On GitHub, the HTML representation is unable to render, please try loading this page with nbviewer.org.</b></div><div class=\"sk-container\" hidden><div class=\"sk-item\"><div class=\"sk-estimator sk-toggleable\"><input class=\"sk-toggleable__control sk-hidden--visually\" id=\"sk-estimator-id-8\" type=\"checkbox\" checked><label for=\"sk-estimator-id-8\" class=\"sk-toggleable__label sk-toggleable__label-arrow\">XGBRFRegressor</label><div class=\"sk-toggleable__content\"><pre>XGBRFRegressor(base_score=0.5, booster=&#x27;gbtree&#x27;, callbacks=None,\n",
       "               colsample_bylevel=1, colsample_bytree=1, device=None,\n",
       "               early_stopping_rounds=None, enable_categorical=False,\n",
       "               eval_metric=None, feature_types=None, gamma=0, gpu_id=-1,\n",
       "               grow_policy=None, importance_type=&#x27;gain&#x27;,\n",
       "               interaction_constraints=&#x27;&#x27;, max_bin=None, max_cat_threshold=None,\n",
       "               max_cat_to_onehot=None, max_delta_step=0, max_depth=6,\n",
       "               max_leaves=None, min_child_weight=1, missing=nan,\n",
       "               monotone_constraints=&#x27;()&#x27;, multi_strategy=None, n_estimators=100,\n",
       "               n_jobs=4, num_parallel_tree=100, objective=&#x27;reg:squarederror&#x27;,\n",
       "               random_state=0, ...)</pre></div></div></div></div></div>"
      ],
      "text/plain": [
       "XGBRFRegressor(base_score=0.5, booster='gbtree', callbacks=None,\n",
       "               colsample_bylevel=1, colsample_bytree=1, device=None,\n",
       "               early_stopping_rounds=None, enable_categorical=False,\n",
       "               eval_metric=None, feature_types=None, gamma=0, gpu_id=-1,\n",
       "               grow_policy=None, importance_type='gain',\n",
       "               interaction_constraints='', max_bin=None, max_cat_threshold=None,\n",
       "               max_cat_to_onehot=None, max_delta_step=0, max_depth=6,\n",
       "               max_leaves=None, min_child_weight=1, missing=nan,\n",
       "               monotone_constraints='()', multi_strategy=None, n_estimators=100,\n",
       "               n_jobs=4, num_parallel_tree=100, objective='reg:squarederror',\n",
       "               random_state=0, ...)"
      ]
     },
     "execution_count": 528,
     "metadata": {},
     "output_type": "execute_result"
    }
   ],
   "source": [
    "xg_final.fit(X_train,y_train)"
   ]
  },
  {
   "cell_type": "code",
   "execution_count": 529,
   "metadata": {},
   "outputs": [],
   "source": [
    "y_pred = xg_final.predict(X_test)"
   ]
  },
  {
   "cell_type": "code",
   "execution_count": 530,
   "metadata": {},
   "outputs": [
    {
     "data": {
      "text/plain": [
       "714.4168458622603"
      ]
     },
     "execution_count": 530,
     "metadata": {},
     "output_type": "execute_result"
    }
   ],
   "source": [
    "mean_absolute_error(y_test,y_pred)\n"
   ]
  },
  {
   "cell_type": "code",
   "execution_count": 531,
   "metadata": {},
   "outputs": [
    {
     "name": "stdout",
     "output_type": "stream",
     "text": [
      "2059.0977\n",
      "2349.1763\n"
     ]
    }
   ],
   "source": [
    "pred = xg_final.predict(np.array([[141.6180,9.0,1.0,1.0,24]]))[0]\n",
    "print(pred)\n",
    "new_predictions = xg_final.predict(np.array([[149.0418,3.0,1.0,2.0,15]]))[0]\n",
    "print(new_predictions)\n"
   ]
  },
  {
   "cell_type": "code",
   "execution_count": 532,
   "metadata": {},
   "outputs": [
    {
     "name": "stdout",
     "output_type": "stream",
     "text": [
      "Mean Absolute Error (MAE): 714.4168458622603\n"
     ]
    }
   ],
   "source": [
    "# Calculate MAE\n",
    "mae = mean_absolute_error(y_test, y_pred)\n",
    "\n",
    "print(\"Mean Absolute Error (MAE):\", mae)"
   ]
  },
  {
   "cell_type": "code",
   "execution_count": 533,
   "metadata": {},
   "outputs": [
    {
     "name": "stdout",
     "output_type": "stream",
     "text": [
      "Mean Squared Error (MSE): 1042784.0147779272\n"
     ]
    }
   ],
   "source": [
    "# Calculate MSE\n",
    "mse = mean_squared_error(y_test, y_pred)\n",
    "\n",
    "print(\"Mean Squared Error (MSE):\", mse)"
   ]
  },
  {
   "cell_type": "code",
   "execution_count": 534,
   "metadata": {},
   "outputs": [
    {
     "name": "stdout",
     "output_type": "stream",
     "text": [
      "Root Mean Squared Error (RMSE): 1021.167965996744\n"
     ]
    }
   ],
   "source": [
    "# Calculate RMSE\n",
    "rmse = np.sqrt(mse)\n",
    "\n",
    "print(\"Root Mean Squared Error (RMSE):\", rmse)\n"
   ]
  },
  {
   "cell_type": "code",
   "execution_count": 535,
   "metadata": {},
   "outputs": [
    {
     "name": "stdout",
     "output_type": "stream",
     "text": [
      "R-squared (R2) Score: 0.6163371967977687\n"
     ]
    }
   ],
   "source": [
    "from sklearn.metrics import r2_score\n",
    "\n",
    "# Calculate R-squared (R2) score\n",
    "r2 = r2_score(y_test, y_pred)\n",
    "\n",
    "print(\"R-squared (R2) Score:\", r2)\n"
   ]
  },
  {
   "cell_type": "code",
   "execution_count": 536,
   "metadata": {},
   "outputs": [
    {
     "name": "stdout",
     "output_type": "stream",
     "text": [
      "Sales Value is between 1344.67765625 and 2773.51765625\n"
     ]
    }
   ],
   "source": [
    "print(f\"Sales Value is between {pred-714.42} and {pred+714.42}\")"
   ]
  },
  {
   "cell_type": "markdown",
   "metadata": {},
   "source": [
    "Import the Test dataset"
   ]
  },
  {
   "cell_type": "code",
   "execution_count": 537,
   "metadata": {},
   "outputs": [
    {
     "data": {
      "text/html": [
       "<div>\n",
       "<style scoped>\n",
       "    .dataframe tbody tr th:only-of-type {\n",
       "        vertical-align: middle;\n",
       "    }\n",
       "\n",
       "    .dataframe tbody tr th {\n",
       "        vertical-align: top;\n",
       "    }\n",
       "\n",
       "    .dataframe thead th {\n",
       "        text-align: right;\n",
       "    }\n",
       "</style>\n",
       "<table border=\"1\" class=\"dataframe\">\n",
       "  <thead>\n",
       "    <tr style=\"text-align: right;\">\n",
       "      <th></th>\n",
       "      <th>Item_Identifier</th>\n",
       "      <th>Item_Weight</th>\n",
       "      <th>Item_Fat_Content</th>\n",
       "      <th>Item_Visibility</th>\n",
       "      <th>Item_Type</th>\n",
       "      <th>Item_MRP</th>\n",
       "      <th>Outlet_Identifier</th>\n",
       "      <th>Outlet_Establishment_Year</th>\n",
       "      <th>Outlet_Size</th>\n",
       "      <th>Outlet_Location_Type</th>\n",
       "      <th>Outlet_Type</th>\n",
       "    </tr>\n",
       "  </thead>\n",
       "  <tbody>\n",
       "    <tr>\n",
       "      <th>0</th>\n",
       "      <td>FDW58</td>\n",
       "      <td>20.750</td>\n",
       "      <td>Low Fat</td>\n",
       "      <td>0.007565</td>\n",
       "      <td>Snack Foods</td>\n",
       "      <td>107.8622</td>\n",
       "      <td>OUT049</td>\n",
       "      <td>1999</td>\n",
       "      <td>Medium</td>\n",
       "      <td>Tier 1</td>\n",
       "      <td>Supermarket Type1</td>\n",
       "    </tr>\n",
       "    <tr>\n",
       "      <th>1</th>\n",
       "      <td>FDW14</td>\n",
       "      <td>8.300</td>\n",
       "      <td>reg</td>\n",
       "      <td>0.038428</td>\n",
       "      <td>Dairy</td>\n",
       "      <td>87.3198</td>\n",
       "      <td>OUT017</td>\n",
       "      <td>2007</td>\n",
       "      <td>NaN</td>\n",
       "      <td>Tier 2</td>\n",
       "      <td>Supermarket Type1</td>\n",
       "    </tr>\n",
       "    <tr>\n",
       "      <th>2</th>\n",
       "      <td>NCN55</td>\n",
       "      <td>14.600</td>\n",
       "      <td>Low Fat</td>\n",
       "      <td>0.099575</td>\n",
       "      <td>Others</td>\n",
       "      <td>241.7538</td>\n",
       "      <td>OUT010</td>\n",
       "      <td>1998</td>\n",
       "      <td>NaN</td>\n",
       "      <td>Tier 3</td>\n",
       "      <td>Grocery Store</td>\n",
       "    </tr>\n",
       "    <tr>\n",
       "      <th>3</th>\n",
       "      <td>FDQ58</td>\n",
       "      <td>7.315</td>\n",
       "      <td>Low Fat</td>\n",
       "      <td>0.015388</td>\n",
       "      <td>Snack Foods</td>\n",
       "      <td>155.0340</td>\n",
       "      <td>OUT017</td>\n",
       "      <td>2007</td>\n",
       "      <td>NaN</td>\n",
       "      <td>Tier 2</td>\n",
       "      <td>Supermarket Type1</td>\n",
       "    </tr>\n",
       "    <tr>\n",
       "      <th>4</th>\n",
       "      <td>FDY38</td>\n",
       "      <td>NaN</td>\n",
       "      <td>Regular</td>\n",
       "      <td>0.118599</td>\n",
       "      <td>Dairy</td>\n",
       "      <td>234.2300</td>\n",
       "      <td>OUT027</td>\n",
       "      <td>1985</td>\n",
       "      <td>Medium</td>\n",
       "      <td>Tier 3</td>\n",
       "      <td>Supermarket Type3</td>\n",
       "    </tr>\n",
       "  </tbody>\n",
       "</table>\n",
       "</div>"
      ],
      "text/plain": [
       "  Item_Identifier  Item_Weight Item_Fat_Content  Item_Visibility    Item_Type  \\\n",
       "0           FDW58       20.750          Low Fat         0.007565  Snack Foods   \n",
       "1           FDW14        8.300              reg         0.038428        Dairy   \n",
       "2           NCN55       14.600          Low Fat         0.099575       Others   \n",
       "3           FDQ58        7.315          Low Fat         0.015388  Snack Foods   \n",
       "4           FDY38          NaN          Regular         0.118599        Dairy   \n",
       "\n",
       "   Item_MRP Outlet_Identifier  Outlet_Establishment_Year Outlet_Size  \\\n",
       "0  107.8622            OUT049                       1999      Medium   \n",
       "1   87.3198            OUT017                       2007         NaN   \n",
       "2  241.7538            OUT010                       1998         NaN   \n",
       "3  155.0340            OUT017                       2007         NaN   \n",
       "4  234.2300            OUT027                       1985      Medium   \n",
       "\n",
       "  Outlet_Location_Type        Outlet_Type  \n",
       "0               Tier 1  Supermarket Type1  \n",
       "1               Tier 2  Supermarket Type1  \n",
       "2               Tier 3      Grocery Store  \n",
       "3               Tier 2  Supermarket Type1  \n",
       "4               Tier 3  Supermarket Type3  "
      ]
     },
     "execution_count": 537,
     "metadata": {},
     "output_type": "execute_result"
    }
   ],
   "source": [
    "BIGMARTtestdata=pd.read_csv(\"E:/Test.csv\")\n",
    "BIGMARTtestdata.head()"
   ]
  },
  {
   "cell_type": "code",
   "execution_count": 538,
   "metadata": {},
   "outputs": [
    {
     "data": {
      "text/plain": [
       "(5681, 11)"
      ]
     },
     "execution_count": 538,
     "metadata": {},
     "output_type": "execute_result"
    }
   ],
   "source": [
    "BIGMARTtestdata.shape"
   ]
  },
  {
   "cell_type": "code",
   "execution_count": 539,
   "metadata": {},
   "outputs": [
    {
     "data": {
      "text/plain": [
       "Index(['Item_Identifier', 'Item_Weight', 'Item_Fat_Content', 'Item_Visibility',\n",
       "       'Item_Type', 'Item_MRP', 'Outlet_Identifier',\n",
       "       'Outlet_Establishment_Year', 'Outlet_Size', 'Outlet_Location_Type',\n",
       "       'Outlet_Type'],\n",
       "      dtype='object')"
      ]
     },
     "execution_count": 539,
     "metadata": {},
     "output_type": "execute_result"
    }
   ],
   "source": [
    "BIGMARTtestdata.columns"
   ]
  },
  {
   "cell_type": "code",
   "execution_count": 540,
   "metadata": {},
   "outputs": [
    {
     "data": {
      "text/html": [
       "<div>\n",
       "<style scoped>\n",
       "    .dataframe tbody tr th:only-of-type {\n",
       "        vertical-align: middle;\n",
       "    }\n",
       "\n",
       "    .dataframe tbody tr th {\n",
       "        vertical-align: top;\n",
       "    }\n",
       "\n",
       "    .dataframe thead th {\n",
       "        text-align: right;\n",
       "    }\n",
       "</style>\n",
       "<table border=\"1\" class=\"dataframe\">\n",
       "  <thead>\n",
       "    <tr style=\"text-align: right;\">\n",
       "      <th></th>\n",
       "      <th>Item_Weight</th>\n",
       "      <th>Item_Visibility</th>\n",
       "      <th>Item_MRP</th>\n",
       "      <th>Outlet_Establishment_Year</th>\n",
       "    </tr>\n",
       "  </thead>\n",
       "  <tbody>\n",
       "    <tr>\n",
       "      <th>count</th>\n",
       "      <td>4705.000000</td>\n",
       "      <td>5681.000000</td>\n",
       "      <td>5681.000000</td>\n",
       "      <td>5681.000000</td>\n",
       "    </tr>\n",
       "    <tr>\n",
       "      <th>mean</th>\n",
       "      <td>12.695633</td>\n",
       "      <td>0.065684</td>\n",
       "      <td>141.023273</td>\n",
       "      <td>1997.828903</td>\n",
       "    </tr>\n",
       "    <tr>\n",
       "      <th>std</th>\n",
       "      <td>4.664849</td>\n",
       "      <td>0.051252</td>\n",
       "      <td>61.809091</td>\n",
       "      <td>8.372256</td>\n",
       "    </tr>\n",
       "    <tr>\n",
       "      <th>min</th>\n",
       "      <td>4.555000</td>\n",
       "      <td>0.000000</td>\n",
       "      <td>31.990000</td>\n",
       "      <td>1985.000000</td>\n",
       "    </tr>\n",
       "    <tr>\n",
       "      <th>25%</th>\n",
       "      <td>8.645000</td>\n",
       "      <td>0.027047</td>\n",
       "      <td>94.412000</td>\n",
       "      <td>1987.000000</td>\n",
       "    </tr>\n",
       "    <tr>\n",
       "      <th>50%</th>\n",
       "      <td>12.500000</td>\n",
       "      <td>0.054154</td>\n",
       "      <td>141.415400</td>\n",
       "      <td>1999.000000</td>\n",
       "    </tr>\n",
       "    <tr>\n",
       "      <th>75%</th>\n",
       "      <td>16.700000</td>\n",
       "      <td>0.093463</td>\n",
       "      <td>186.026600</td>\n",
       "      <td>2004.000000</td>\n",
       "    </tr>\n",
       "    <tr>\n",
       "      <th>max</th>\n",
       "      <td>21.350000</td>\n",
       "      <td>0.323637</td>\n",
       "      <td>266.588400</td>\n",
       "      <td>2009.000000</td>\n",
       "    </tr>\n",
       "  </tbody>\n",
       "</table>\n",
       "</div>"
      ],
      "text/plain": [
       "       Item_Weight  Item_Visibility     Item_MRP  Outlet_Establishment_Year\n",
       "count  4705.000000      5681.000000  5681.000000                5681.000000\n",
       "mean     12.695633         0.065684   141.023273                1997.828903\n",
       "std       4.664849         0.051252    61.809091                   8.372256\n",
       "min       4.555000         0.000000    31.990000                1985.000000\n",
       "25%       8.645000         0.027047    94.412000                1987.000000\n",
       "50%      12.500000         0.054154   141.415400                1999.000000\n",
       "75%      16.700000         0.093463   186.026600                2004.000000\n",
       "max      21.350000         0.323637   266.588400                2009.000000"
      ]
     },
     "execution_count": 540,
     "metadata": {},
     "output_type": "execute_result"
    }
   ],
   "source": [
    "BIGMARTtestdata.describe()"
   ]
  },
  {
   "cell_type": "markdown",
   "metadata": {},
   "source": [
    "Data Cleaning and Exploration for each attribute"
   ]
  },
  {
   "cell_type": "code",
   "execution_count": 541,
   "metadata": {},
   "outputs": [
    {
     "data": {
      "text/plain": [
       "Item_Identifier                 0\n",
       "Item_Weight                   976\n",
       "Item_Fat_Content                0\n",
       "Item_Visibility                 0\n",
       "Item_Type                       0\n",
       "Item_MRP                        0\n",
       "Outlet_Identifier               0\n",
       "Outlet_Establishment_Year       0\n",
       "Outlet_Size                  1606\n",
       "Outlet_Location_Type            0\n",
       "Outlet_Type                     0\n",
       "dtype: int64"
      ]
     },
     "execution_count": 541,
     "metadata": {},
     "output_type": "execute_result"
    }
   ],
   "source": [
    "BIGMARTtestdata.isnull().sum()"
   ]
  },
  {
   "cell_type": "code",
   "execution_count": 542,
   "metadata": {},
   "outputs": [
    {
     "data": {
      "text/plain": [
       "False"
      ]
     },
     "execution_count": 542,
     "metadata": {},
     "output_type": "execute_result"
    }
   ],
   "source": [
    "BIGMARTtestdata.duplicated().any()"
   ]
  },
  {
   "cell_type": "markdown",
   "metadata": {},
   "source": [
    "Item Weight"
   ]
  },
  {
   "cell_type": "markdown",
   "metadata": {},
   "source": [
    "Handling the Missing Values using Univariate Imputation"
   ]
  },
  {
   "cell_type": "code",
   "execution_count": 543,
   "metadata": {},
   "outputs": [
    {
     "data": {
      "image/png": "[encoded data removed]",
      "text/plain": [
       "<Figure size 640x480 with 1 Axes>"
      ]
     },
     "metadata": {},
     "output_type": "display_data"
    }
   ],
   "source": [
    "mean_wt=BIGMARTtestdata[\"Item_Weight\"].mean()\n",
    "median_wt=BIGMARTtestdata[\"Item_Weight\"].median()\n",
    "BIGMARTtestdata[\"Item_Weight_mean\"]=BIGMARTtestdata[\"Item_Weight\"].fillna(mean_wt)\n",
    "BIGMARTtestdata[\"Item_Weight_median\"]=BIGMARTtestdata[\"Item_Weight\"].fillna(median_wt)\n",
    "BIGMARTtestdata[\"Item_Weight_interpolation_imputation\"]=BIGMARTtestdata[\"Item_Weight\"].interpolate(\"linear\")\n",
    "BIGMARTtestdata[\"Item_Weight\"].plot(kind=\"kde\",color=\"red\",label=\"Original\")\n",
    "BIGMARTtestdata[\"Item_Weight_mean\"].plot(kind=\"kde\",color=\"yellow\",label=\"Mean\")\n",
    "BIGMARTtestdata[\"Item_Weight_median\"].plot(kind=\"kde\",color=\"blue\",label=\"Median\")\n",
    "BIGMARTtestdata[\"Item_Weight_interpolation_imputation\"].plot(kind=\"kde\",label=\"Interpolated\")\n",
    "plt.legend()\n",
    "plt.show()"
   ]
  },
  {
   "cell_type": "code",
   "execution_count": 544,
   "metadata": {},
   "outputs": [
    {
     "name": "stdout",
     "output_type": "stream",
     "text": [
      "21.760812343231528\n",
      "18.021630503972027\n",
      "18.027077062656037\n"
     ]
    }
   ],
   "source": [
    "#We can notice that the mean,median have way lower variance compared to original\n",
    "print(BIGMARTtestdata['Item_Weight'].var())\n",
    "print(BIGMARTtestdata['Item_Weight_mean'].var())\n",
    "print(BIGMARTtestdata['Item_Weight_median'].var())"
   ]
  },
  {
   "cell_type": "code",
   "execution_count": 545,
   "metadata": {},
   "outputs": [
    {
     "data": {
      "text/plain": [
       "<Axes: >"
      ]
     },
     "execution_count": 545,
     "metadata": {},
     "output_type": "execute_result"
    },
    {
     "data": {
      "image/png": "[encoded data removed]",
      "text/plain": [
       "<Figure size 640x480 with 1 Axes>"
      ]
     },
     "metadata": {},
     "output_type": "display_data"
    }
   ],
   "source": [
    "BIGMARTtestdata[['Item_Weight','Item_Weight_mean','Item_Weight_median']].boxplot()"
   ]
  },
  {
   "cell_type": "code",
   "execution_count": 546,
   "metadata": {},
   "outputs": [
    {
     "data": {
      "text/plain": [
       "<Axes: >"
      ]
     },
     "execution_count": 546,
     "metadata": {},
     "output_type": "execute_result"
    },
    {
     "data": {
      "image/png": "[encoded data removed]",
      "text/plain": [
       "<Figure size 640x480 with 1 Axes>"
      ]
     },
     "metadata": {},
     "output_type": "display_data"
    }
   ],
   "source": [
    "#From the above boxplot, we can conclude that the Item_Weight_mean & Item_Weight_median have lower variance compared to Item_weight.Therefore, we try to compare the variance between Item_weight & Item_Weight_interpolation_imputation.\n",
    "BIGMARTtestdata[['Item_Weight','Item_Weight_interpolation_imputation']].boxplot()"
   ]
  },
  {
   "cell_type": "code",
   "execution_count": 547,
   "metadata": {},
   "outputs": [
    {
     "name": "stdout",
     "output_type": "stream",
     "text": [
      "21.760812343231528\n",
      "19.990913374786317\n"
     ]
    }
   ],
   "source": [
    "print(BIGMARTtestdata['Item_Weight'].var())\n",
    "print(BIGMARTtestdata['Item_Weight_interpolation_imputation'].var())"
   ]
  },
  {
   "cell_type": "markdown",
   "metadata": {},
   "source": [
    "Therefore,we choose Item_Weight_interpolation_imputation instead of 'Item_Weight_mean' & 'Item_Weight_median'."
   ]
  },
  {
   "cell_type": "code",
   "execution_count": 548,
   "metadata": {},
   "outputs": [],
   "source": [
    "data=BIGMARTtestdata.drop(['Item_Weight','Item_Weight_mean','Item_Weight_median'],axis=1)\n"
   ]
  },
  {
   "cell_type": "code",
   "execution_count": 549,
   "metadata": {},
   "outputs": [
    {
     "data": {
      "text/plain": [
       "Item_Identifier                            0\n",
       "Item_Fat_Content                           0\n",
       "Item_Visibility                            0\n",
       "Item_Type                                  0\n",
       "Item_MRP                                   0\n",
       "Outlet_Identifier                          0\n",
       "Outlet_Establishment_Year                  0\n",
       "Outlet_Size                             1606\n",
       "Outlet_Location_Type                       0\n",
       "Outlet_Type                                0\n",
       "Item_Weight_interpolation_imputation       0\n",
       "dtype: int64"
      ]
     },
     "execution_count": 549,
     "metadata": {},
     "output_type": "execute_result"
    }
   ],
   "source": [
    "data.isnull().sum()"
   ]
  },
  {
   "cell_type": "markdown",
   "metadata": {},
   "source": [
    "Outlet Size"
   ]
  },
  {
   "cell_type": "code",
   "execution_count": 550,
   "metadata": {},
   "outputs": [
    {
     "data": {
      "text/plain": [
       "0       Medium\n",
       "1          NaN\n",
       "2          NaN\n",
       "3          NaN\n",
       "4       Medium\n",
       "         ...  \n",
       "5676     Small\n",
       "5677    Medium\n",
       "5678       NaN\n",
       "5679       NaN\n",
       "5680       NaN\n",
       "Name: Outlet_Size, Length: 5681, dtype: object"
      ]
     },
     "execution_count": 550,
     "metadata": {},
     "output_type": "execute_result"
    }
   ],
   "source": [
    "data[\"Outlet_Size\"]\n"
   ]
  },
  {
   "cell_type": "code",
   "execution_count": 551,
   "metadata": {},
   "outputs": [
    {
     "data": {
      "text/plain": [
       "Medium    1862\n",
       "Small     1592\n",
       "High       621\n",
       "Name: Outlet_Size, dtype: int64"
      ]
     },
     "execution_count": 551,
     "metadata": {},
     "output_type": "execute_result"
    }
   ],
   "source": [
    "#We can notice that it is a categorical variable and must be replaced with numerical after filling null values using Bivariate Imputation\n",
    "data['Outlet_Size'].value_counts()\n"
   ]
  },
  {
   "cell_type": "markdown",
   "metadata": {},
   "source": [
    "Bivariate Imputation for filling the missing values"
   ]
  },
  {
   "cell_type": "code",
   "execution_count": 552,
   "metadata": {},
   "outputs": [
    {
     "data": {
      "text/html": [
       "<div>\n",
       "<style scoped>\n",
       "    .dataframe tbody tr th:only-of-type {\n",
       "        vertical-align: middle;\n",
       "    }\n",
       "\n",
       "    .dataframe tbody tr th {\n",
       "        vertical-align: top;\n",
       "    }\n",
       "\n",
       "    .dataframe thead th {\n",
       "        text-align: right;\n",
       "    }\n",
       "</style>\n",
       "<table border=\"1\" class=\"dataframe\">\n",
       "  <thead>\n",
       "    <tr style=\"text-align: right;\">\n",
       "      <th>Outlet_Type</th>\n",
       "      <th>Grocery Store</th>\n",
       "      <th>Supermarket Type1</th>\n",
       "      <th>Supermarket Type2</th>\n",
       "      <th>Supermarket Type3</th>\n",
       "    </tr>\n",
       "  </thead>\n",
       "  <tbody>\n",
       "    <tr>\n",
       "      <th>Outlet_Size</th>\n",
       "      <td>Small</td>\n",
       "      <td>Small</td>\n",
       "      <td>Medium</td>\n",
       "      <td>Medium</td>\n",
       "    </tr>\n",
       "  </tbody>\n",
       "</table>\n",
       "</div>"
      ],
      "text/plain": [
       "Outlet_Type Grocery Store Supermarket Type1 Supermarket Type2  \\\n",
       "Outlet_Size         Small             Small            Medium   \n",
       "\n",
       "Outlet_Type Supermarket Type3  \n",
       "Outlet_Size            Medium  "
      ]
     },
     "execution_count": 552,
     "metadata": {},
     "output_type": "execute_result"
    }
   ],
   "source": [
    "pivot_table = data.pivot_table(values='Outlet_Size',columns='Outlet_Type',aggfunc=(lambda x:x.mode()[0]))\n",
    "pivot_table"
   ]
  },
  {
   "cell_type": "code",
   "execution_count": 553,
   "metadata": {},
   "outputs": [
    {
     "data": {
      "text/plain": [
       "0       False\n",
       "1        True\n",
       "2        True\n",
       "3        True\n",
       "4       False\n",
       "        ...  \n",
       "5676    False\n",
       "5677    False\n",
       "5678     True\n",
       "5679     True\n",
       "5680     True\n",
       "Name: Outlet_Size, Length: 5681, dtype: bool"
      ]
     },
     "execution_count": 553,
     "metadata": {},
     "output_type": "execute_result"
    }
   ],
   "source": [
    "missing_values = data['Outlet_Size'].isnull()\n",
    "missing_values"
   ]
  },
  {
   "cell_type": "code",
   "execution_count": 554,
   "metadata": {},
   "outputs": [
    {
     "data": {
      "text/plain": [
       "Item_Identifier                         0\n",
       "Item_Fat_Content                        0\n",
       "Item_Visibility                         0\n",
       "Item_Type                               0\n",
       "Item_MRP                                0\n",
       "Outlet_Identifier                       0\n",
       "Outlet_Establishment_Year               0\n",
       "Outlet_Size                             0\n",
       "Outlet_Location_Type                    0\n",
       "Outlet_Type                             0\n",
       "Item_Weight_interpolation_imputation    0\n",
       "dtype: int64"
      ]
     },
     "execution_count": 554,
     "metadata": {},
     "output_type": "execute_result"
    }
   ],
   "source": [
    "data.loc[missing_values,'Outlet_Size'] = data.loc[missing_values,'Outlet_Type'].apply(lambda x :pivot_table[x])\n",
    "data.isnull().sum()"
   ]
  },
  {
   "cell_type": "code",
   "execution_count": 555,
   "metadata": {},
   "outputs": [
    {
     "data": {
      "text/plain": [
       "<Axes: >"
      ]
     },
     "execution_count": 555,
     "metadata": {},
     "output_type": "execute_result"
    },
    {
     "data": {
      "image/png": "[encoded data removed]",
      "text/plain": [
       "<Figure size 640x480 with 1 Axes>"
      ]
     },
     "metadata": {},
     "output_type": "display_data"
    }
   ],
   "source": [
    "Os=pd.DataFrame(data['Outlet_Size'].value_counts())\n",
    "Os.plot(kind=\"bar\")"
   ]
  },
  {
   "cell_type": "markdown",
   "metadata": {},
   "source": [
    "Item_Fat_Content"
   ]
  },
  {
   "cell_type": "code",
   "execution_count": 556,
   "metadata": {},
   "outputs": [
    {
     "data": {
      "text/plain": [
       "Index(['Item_Identifier', 'Item_Fat_Content', 'Item_Visibility', 'Item_Type',\n",
       "       'Item_MRP', 'Outlet_Identifier', 'Outlet_Establishment_Year',\n",
       "       'Outlet_Size', 'Outlet_Location_Type', 'Outlet_Type',\n",
       "       'Item_Weight_interpolation_imputation'],\n",
       "      dtype='object')"
      ]
     },
     "execution_count": 556,
     "metadata": {},
     "output_type": "execute_result"
    }
   ],
   "source": [
    "data.columns"
   ]
  },
  {
   "cell_type": "code",
   "execution_count": 557,
   "metadata": {},
   "outputs": [
    {
     "data": {
      "text/plain": [
       "Low Fat    3396\n",
       "Regular    1935\n",
       "LF          206\n",
       "reg          78\n",
       "low fat      66\n",
       "Name: Item_Fat_Content, dtype: int64"
      ]
     },
     "execution_count": 557,
     "metadata": {},
     "output_type": "execute_result"
    }
   ],
   "source": [
    "IF=pd.DataFrame(data['Item_Fat_Content'].value_counts())\n",
    "data['Item_Fat_Content'].value_counts()"
   ]
  },
  {
   "cell_type": "code",
   "execution_count": 558,
   "metadata": {},
   "outputs": [
    {
     "data": {
      "text/plain": [
       "<Axes: >"
      ]
     },
     "execution_count": 558,
     "metadata": {},
     "output_type": "execute_result"
    },
    {
     "data": {
      "image/png": "[encoded data removed]",
      "text/plain": [
       "<Figure size 640x480 with 1 Axes>"
      ]
     },
     "metadata": {},
     "output_type": "display_data"
    }
   ],
   "source": [
    "IF.plot(kind='bar')"
   ]
  },
  {
   "cell_type": "code",
   "execution_count": 559,
   "metadata": {},
   "outputs": [],
   "source": [
    "data.replace({'Item_Fat_Content':{'Low Fat':'LF','low fat':'LF','reg':'Regular'}},inplace=True)"
   ]
  },
  {
   "cell_type": "code",
   "execution_count": 560,
   "metadata": {},
   "outputs": [
    {
     "data": {
      "text/plain": [
       "LF         3668\n",
       "Regular    2013\n",
       "Name: Item_Fat_Content, dtype: int64"
      ]
     },
     "execution_count": 560,
     "metadata": {},
     "output_type": "execute_result"
    }
   ],
   "source": [
    "data['Item_Fat_Content'].value_counts()"
   ]
  },
  {
   "cell_type": "code",
   "execution_count": 561,
   "metadata": {},
   "outputs": [
    {
     "data": {
      "text/plain": [
       "<Axes: >"
      ]
     },
     "execution_count": 561,
     "metadata": {},
     "output_type": "execute_result"
    },
    {
     "data": {
      "image/png": "[encoded data removed]",
      "text/plain": [
       "<Figure size 640x480 with 1 Axes>"
      ]
     },
     "metadata": {},
     "output_type": "display_data"
    }
   ],
   "source": [
    "IF=pd.DataFrame(data['Item_Fat_Content'].value_counts())\n",
    "IF.plot(kind='bar')"
   ]
  },
  {
   "cell_type": "code",
   "execution_count": 562,
   "metadata": {},
   "outputs": [
    {
     "data": {
      "text/plain": [
       "Index(['Item_Identifier', 'Item_Fat_Content', 'Item_Visibility', 'Item_Type',\n",
       "       'Item_MRP', 'Outlet_Identifier', 'Outlet_Establishment_Year',\n",
       "       'Outlet_Size', 'Outlet_Location_Type', 'Outlet_Type',\n",
       "       'Item_Weight_interpolation_imputation'],\n",
       "      dtype='object')"
      ]
     },
     "execution_count": 562,
     "metadata": {},
     "output_type": "execute_result"
    }
   ],
   "source": [
    "data.columns"
   ]
  },
  {
   "cell_type": "markdown",
   "metadata": {},
   "source": [
    "Item_Visibility"
   ]
  },
  {
   "cell_type": "code",
   "execution_count": 563,
   "metadata": {},
   "outputs": [
    {
     "data": {
      "text/plain": [
       "0.000000    353\n",
       "0.060879      2\n",
       "0.097213      2\n",
       "0.058461      2\n",
       "0.058132      2\n",
       "           ... \n",
       "0.082382      1\n",
       "0.026175      1\n",
       "0.155144      1\n",
       "0.069557      1\n",
       "0.104720      1\n",
       "Name: Item_Visibility, Length: 5277, dtype: int64"
      ]
     },
     "execution_count": 563,
     "metadata": {},
     "output_type": "execute_result"
    }
   ],
   "source": [
    "data['Item_Visibility'].value_counts()"
   ]
  },
  {
   "cell_type": "code",
   "execution_count": 564,
   "metadata": {},
   "outputs": [],
   "source": [
    "data['Item_Visibility_interpolate']=data['Item_Visibility'].replace(0,np.nan).interpolate(method='linear')"
   ]
  },
  {
   "cell_type": "code",
   "execution_count": 565,
   "metadata": {},
   "outputs": [
    {
     "data": {
      "text/plain": [
       "0.093531    2\n",
       "0.072816    2\n",
       "0.202948    2\n",
       "0.107493    2\n",
       "0.112131    2\n",
       "           ..\n",
       "0.089452    1\n",
       "0.133171    1\n",
       "0.103428    1\n",
       "0.073685    1\n",
       "0.104720    1\n",
       "Name: Item_Visibility_interpolate, Length: 5629, dtype: int64"
      ]
     },
     "execution_count": 565,
     "metadata": {},
     "output_type": "execute_result"
    }
   ],
   "source": [
    "data['Item_Visibility_interpolate'].value_counts()"
   ]
  },
  {
   "cell_type": "code",
   "execution_count": 566,
   "metadata": {},
   "outputs": [
    {
     "data": {
      "image/png": "[encoded data removed]",
      "text/plain": [
       "<Figure size 640x480 with 1 Axes>"
      ]
     },
     "metadata": {},
     "output_type": "display_data"
    }
   ],
   "source": [
    "data['Item_Visibility'].plot(kind=\"kde\",label=\"Original\")\n",
    "\n",
    "data['Item_Visibility_interpolate'].plot(kind=\"kde\",color='red',label=\"Interpolate\")\n",
    "\n",
    "plt.legend()\n",
    "plt.show()"
   ]
  },
  {
   "cell_type": "code",
   "execution_count": 567,
   "metadata": {},
   "outputs": [],
   "source": [
    "data = data.drop('Item_Visibility',axis=1)"
   ]
  },
  {
   "cell_type": "code",
   "execution_count": 568,
   "metadata": {},
   "outputs": [
    {
     "data": {
      "text/html": [
       "<div>\n",
       "<style scoped>\n",
       "    .dataframe tbody tr th:only-of-type {\n",
       "        vertical-align: middle;\n",
       "    }\n",
       "\n",
       "    .dataframe tbody tr th {\n",
       "        vertical-align: top;\n",
       "    }\n",
       "\n",
       "    .dataframe thead th {\n",
       "        text-align: right;\n",
       "    }\n",
       "</style>\n",
       "<table border=\"1\" class=\"dataframe\">\n",
       "  <thead>\n",
       "    <tr style=\"text-align: right;\">\n",
       "      <th></th>\n",
       "      <th>Item_Identifier</th>\n",
       "      <th>Item_Fat_Content</th>\n",
       "      <th>Item_Type</th>\n",
       "      <th>Item_MRP</th>\n",
       "      <th>Outlet_Identifier</th>\n",
       "      <th>Outlet_Establishment_Year</th>\n",
       "      <th>Outlet_Size</th>\n",
       "      <th>Outlet_Location_Type</th>\n",
       "      <th>Outlet_Type</th>\n",
       "      <th>Item_Weight_interpolation_imputation</th>\n",
       "      <th>Item_Visibility_interpolate</th>\n",
       "    </tr>\n",
       "  </thead>\n",
       "  <tbody>\n",
       "    <tr>\n",
       "      <th>0</th>\n",
       "      <td>FDW58</td>\n",
       "      <td>LF</td>\n",
       "      <td>Snack Foods</td>\n",
       "      <td>107.8622</td>\n",
       "      <td>OUT049</td>\n",
       "      <td>1999</td>\n",
       "      <td>Medium</td>\n",
       "      <td>Tier 1</td>\n",
       "      <td>Supermarket Type1</td>\n",
       "      <td>20.75</td>\n",
       "      <td>0.007565</td>\n",
       "    </tr>\n",
       "  </tbody>\n",
       "</table>\n",
       "</div>"
      ],
      "text/plain": [
       "  Item_Identifier Item_Fat_Content    Item_Type  Item_MRP Outlet_Identifier  \\\n",
       "0           FDW58               LF  Snack Foods  107.8622            OUT049   \n",
       "\n",
       "   Outlet_Establishment_Year Outlet_Size Outlet_Location_Type  \\\n",
       "0                       1999      Medium               Tier 1   \n",
       "\n",
       "         Outlet_Type  Item_Weight_interpolation_imputation  \\\n",
       "0  Supermarket Type1                                 20.75   \n",
       "\n",
       "   Item_Visibility_interpolate  \n",
       "0                     0.007565  "
      ]
     },
     "execution_count": 568,
     "metadata": {},
     "output_type": "execute_result"
    }
   ],
   "source": [
    "data.head(1)"
   ]
  },
  {
   "cell_type": "markdown",
   "metadata": {},
   "source": [
    "Item_Type"
   ]
  },
  {
   "cell_type": "code",
   "execution_count": 569,
   "metadata": {},
   "outputs": [
    {
     "data": {
      "text/plain": [
       "Index(['Item_Identifier', 'Item_Fat_Content', 'Item_Type', 'Item_MRP',\n",
       "       'Outlet_Identifier', 'Outlet_Establishment_Year', 'Outlet_Size',\n",
       "       'Outlet_Location_Type', 'Outlet_Type',\n",
       "       'Item_Weight_interpolation_imputation', 'Item_Visibility_interpolate'],\n",
       "      dtype='object')"
      ]
     },
     "execution_count": 569,
     "metadata": {},
     "output_type": "execute_result"
    }
   ],
   "source": [
    "data.columns"
   ]
  },
  {
   "cell_type": "code",
   "execution_count": 570,
   "metadata": {},
   "outputs": [
    {
     "data": {
      "text/plain": [
       "Snack Foods              789\n",
       "Fruits and Vegetables    781\n",
       "Household                638\n",
       "Frozen Foods             570\n",
       "Dairy                    454\n",
       "Baking Goods             438\n",
       "Canned                   435\n",
       "Health and Hygiene       338\n",
       "Meat                     311\n",
       "Soft Drinks              281\n",
       "Breads                   165\n",
       "Hard Drinks              148\n",
       "Starchy Foods            121\n",
       "Others                   111\n",
       "Breakfast                 76\n",
       "Seafood                   25\n",
       "Name: Item_Type, dtype: int64"
      ]
     },
     "execution_count": 570,
     "metadata": {},
     "output_type": "execute_result"
    }
   ],
   "source": [
    "IT=pd.DataFrame(data['Item_Type'].value_counts())\n",
    "data['Item_Type'].value_counts()"
   ]
  },
  {
   "cell_type": "code",
   "execution_count": 571,
   "metadata": {},
   "outputs": [
    {
     "data": {
      "text/plain": [
       "<Axes: >"
      ]
     },
     "execution_count": 571,
     "metadata": {},
     "output_type": "execute_result"
    },
    {
     "data": {
      "image/png": "[encoded data removed]",
      "text/plain": [
       "<Figure size 640x480 with 1 Axes>"
      ]
     },
     "metadata": {},
     "output_type": "display_data"
    }
   ],
   "source": [
    "IT.plot(kind='bar')"
   ]
  },
  {
   "cell_type": "markdown",
   "metadata": {},
   "source": [
    "Item_Identifier"
   ]
  },
  {
   "cell_type": "code",
   "execution_count": 572,
   "metadata": {},
   "outputs": [
    {
     "data": {
      "text/plain": [
       "Index(['Item_Identifier', 'Item_Fat_Content', 'Item_Type', 'Item_MRP',\n",
       "       'Outlet_Identifier', 'Outlet_Establishment_Year', 'Outlet_Size',\n",
       "       'Outlet_Location_Type', 'Outlet_Type',\n",
       "       'Item_Weight_interpolation_imputation', 'Item_Visibility_interpolate'],\n",
       "      dtype='object')"
      ]
     },
     "execution_count": 572,
     "metadata": {},
     "output_type": "execute_result"
    }
   ],
   "source": [
    "data.columns"
   ]
  },
  {
   "cell_type": "code",
   "execution_count": 573,
   "metadata": {},
   "outputs": [
    {
     "data": {
      "text/plain": [
       "DRF48    8\n",
       "FDZ50    8\n",
       "FDQ60    8\n",
       "FDN52    8\n",
       "FDW10    8\n",
       "        ..\n",
       "FDW49    1\n",
       "FDG38    1\n",
       "FDD38    1\n",
       "FDA15    1\n",
       "FDF04    1\n",
       "Name: Item_Identifier, Length: 1543, dtype: int64"
      ]
     },
     "execution_count": 573,
     "metadata": {},
     "output_type": "execute_result"
    }
   ],
   "source": [
    "data['Item_Identifier'].value_counts()"
   ]
  },
  {
   "cell_type": "code",
   "execution_count": 574,
   "metadata": {},
   "outputs": [],
   "source": [
    "data['Item_Identifier_Grouped'] =data['Item_Identifier'].apply(lambda x : x[:2])"
   ]
  },
  {
   "cell_type": "code",
   "execution_count": 575,
   "metadata": {},
   "outputs": [
    {
     "data": {
      "text/plain": [
       "FD    4076\n",
       "NC    1087\n",
       "DR     518\n",
       "Name: Item_Identifier_Grouped, dtype: int64"
      ]
     },
     "execution_count": 575,
     "metadata": {},
     "output_type": "execute_result"
    }
   ],
   "source": [
    "data['Item_Identifier_Grouped'].value_counts()"
   ]
  },
  {
   "cell_type": "code",
   "execution_count": 576,
   "metadata": {},
   "outputs": [
    {
     "data": {
      "text/plain": [
       "<Axes: >"
      ]
     },
     "execution_count": 576,
     "metadata": {},
     "output_type": "execute_result"
    },
    {
     "data": {
      "image/png": "[encoded data removed]",
      "text/plain": [
       "<Figure size 640x480 with 1 Axes>"
      ]
     },
     "metadata": {},
     "output_type": "display_data"
    }
   ],
   "source": [
    "II=pd.DataFrame(data['Item_Identifier_Grouped'].value_counts())\n",
    "II.plot(kind='barh')"
   ]
  },
  {
   "cell_type": "code",
   "execution_count": 577,
   "metadata": {},
   "outputs": [],
   "source": [
    "data = data.drop(['Item_Identifier'],axis=1)"
   ]
  },
  {
   "cell_type": "markdown",
   "metadata": {},
   "source": [
    "Outlet_Establishment_Year"
   ]
  },
  {
   "cell_type": "code",
   "execution_count": 578,
   "metadata": {},
   "outputs": [
    {
     "data": {
      "text/plain": [
       "Index(['Item_Fat_Content', 'Item_Type', 'Item_MRP', 'Outlet_Identifier',\n",
       "       'Outlet_Establishment_Year', 'Outlet_Size', 'Outlet_Location_Type',\n",
       "       'Outlet_Type', 'Item_Weight_interpolation_imputation',\n",
       "       'Item_Visibility_interpolate', 'Item_Identifier_Grouped'],\n",
       "      dtype='object')"
      ]
     },
     "execution_count": 578,
     "metadata": {},
     "output_type": "execute_result"
    }
   ],
   "source": [
    "data.columns"
   ]
  },
  {
   "cell_type": "code",
   "execution_count": 579,
   "metadata": {},
   "outputs": [
    {
     "data": {
      "text/plain": [
       "0       1999\n",
       "1       2007\n",
       "2       1998\n",
       "3       2007\n",
       "4       1985\n",
       "        ... \n",
       "5676    1997\n",
       "5677    2009\n",
       "5678    2002\n",
       "5679    2007\n",
       "5680    2002\n",
       "Name: Outlet_Establishment_Year, Length: 5681, dtype: int64"
      ]
     },
     "execution_count": 579,
     "metadata": {},
     "output_type": "execute_result"
    }
   ],
   "source": [
    "data['Outlet_Establishment_Year']"
   ]
  },
  {
   "cell_type": "code",
   "execution_count": 580,
   "metadata": {},
   "outputs": [
    {
     "data": {
      "text/html": [
       "<div>\n",
       "<style scoped>\n",
       "    .dataframe tbody tr th:only-of-type {\n",
       "        vertical-align: middle;\n",
       "    }\n",
       "\n",
       "    .dataframe tbody tr th {\n",
       "        vertical-align: top;\n",
       "    }\n",
       "\n",
       "    .dataframe thead th {\n",
       "        text-align: right;\n",
       "    }\n",
       "</style>\n",
       "<table border=\"1\" class=\"dataframe\">\n",
       "  <thead>\n",
       "    <tr style=\"text-align: right;\">\n",
       "      <th></th>\n",
       "      <th>Item_Fat_Content</th>\n",
       "      <th>Item_Type</th>\n",
       "      <th>Item_MRP</th>\n",
       "      <th>Outlet_Identifier</th>\n",
       "      <th>Outlet_Establishment_Year</th>\n",
       "      <th>Outlet_Size</th>\n",
       "      <th>Outlet_Location_Type</th>\n",
       "      <th>Outlet_Type</th>\n",
       "      <th>Item_Weight_interpolation_imputation</th>\n",
       "      <th>Item_Visibility_interpolate</th>\n",
       "      <th>Item_Identifier_Grouped</th>\n",
       "      <th>Outlet_age</th>\n",
       "    </tr>\n",
       "  </thead>\n",
       "  <tbody>\n",
       "    <tr>\n",
       "      <th>0</th>\n",
       "      <td>LF</td>\n",
       "      <td>Snack Foods</td>\n",
       "      <td>107.8622</td>\n",
       "      <td>OUT049</td>\n",
       "      <td>1999</td>\n",
       "      <td>Medium</td>\n",
       "      <td>Tier 1</td>\n",
       "      <td>Supermarket Type1</td>\n",
       "      <td>20.75</td>\n",
       "      <td>0.007565</td>\n",
       "      <td>FD</td>\n",
       "      <td>25</td>\n",
       "    </tr>\n",
       "  </tbody>\n",
       "</table>\n",
       "</div>"
      ],
      "text/plain": [
       "  Item_Fat_Content    Item_Type  Item_MRP Outlet_Identifier  \\\n",
       "0               LF  Snack Foods  107.8622            OUT049   \n",
       "\n",
       "   Outlet_Establishment_Year Outlet_Size Outlet_Location_Type  \\\n",
       "0                       1999      Medium               Tier 1   \n",
       "\n",
       "         Outlet_Type  Item_Weight_interpolation_imputation  \\\n",
       "0  Supermarket Type1                                 20.75   \n",
       "\n",
       "   Item_Visibility_interpolate Item_Identifier_Grouped  Outlet_age  \n",
       "0                     0.007565                      FD          25  "
      ]
     },
     "execution_count": 580,
     "metadata": {},
     "output_type": "execute_result"
    }
   ],
   "source": [
    "import datetime as dt\n",
    "current_year = dt.datetime.today().year\n",
    "data['Outlet_age']= current_year - data['Outlet_Establishment_Year']\n",
    "data.head(1)"
   ]
  },
  {
   "cell_type": "code",
   "execution_count": 581,
   "metadata": {},
   "outputs": [
    {
     "data": {
      "text/plain": [
       "<Axes: ylabel='Frequency'>"
      ]
     },
     "execution_count": 581,
     "metadata": {},
     "output_type": "execute_result"
    },
    {
     "data": {
      "image/png": "[encoded data removed]",
      "text/plain": [
       "<Figure size 640x480 with 1 Axes>"
      ]
     },
     "metadata": {},
     "output_type": "display_data"
    }
   ],
   "source": [
    "OA=pd.DataFrame(data['Outlet_age'])\n",
    "OA.plot(kind='hist')"
   ]
  },
  {
   "cell_type": "code",
   "execution_count": 582,
   "metadata": {},
   "outputs": [],
   "source": [
    "data = data.drop(['Outlet_Establishment_Year'],axis=1)"
   ]
  },
  {
   "cell_type": "code",
   "execution_count": 583,
   "metadata": {},
   "outputs": [
    {
     "data": {
      "text/html": [
       "<div>\n",
       "<style scoped>\n",
       "    .dataframe tbody tr th:only-of-type {\n",
       "        vertical-align: middle;\n",
       "    }\n",
       "\n",
       "    .dataframe tbody tr th {\n",
       "        vertical-align: top;\n",
       "    }\n",
       "\n",
       "    .dataframe thead th {\n",
       "        text-align: right;\n",
       "    }\n",
       "</style>\n",
       "<table border=\"1\" class=\"dataframe\">\n",
       "  <thead>\n",
       "    <tr style=\"text-align: right;\">\n",
       "      <th></th>\n",
       "      <th>Item_Fat_Content</th>\n",
       "      <th>Item_Type</th>\n",
       "      <th>Item_MRP</th>\n",
       "      <th>Outlet_Identifier</th>\n",
       "      <th>Outlet_Size</th>\n",
       "      <th>Outlet_Location_Type</th>\n",
       "      <th>Outlet_Type</th>\n",
       "      <th>Item_Weight_interpolation_imputation</th>\n",
       "      <th>Item_Visibility_interpolate</th>\n",
       "      <th>Item_Identifier_Grouped</th>\n",
       "      <th>Outlet_age</th>\n",
       "    </tr>\n",
       "  </thead>\n",
       "  <tbody>\n",
       "    <tr>\n",
       "      <th>0</th>\n",
       "      <td>LF</td>\n",
       "      <td>Snack Foods</td>\n",
       "      <td>107.8622</td>\n",
       "      <td>OUT049</td>\n",
       "      <td>Medium</td>\n",
       "      <td>Tier 1</td>\n",
       "      <td>Supermarket Type1</td>\n",
       "      <td>20.7500</td>\n",
       "      <td>0.007565</td>\n",
       "      <td>FD</td>\n",
       "      <td>25</td>\n",
       "    </tr>\n",
       "    <tr>\n",
       "      <th>1</th>\n",
       "      <td>Regular</td>\n",
       "      <td>Dairy</td>\n",
       "      <td>87.3198</td>\n",
       "      <td>OUT017</td>\n",
       "      <td>Small</td>\n",
       "      <td>Tier 2</td>\n",
       "      <td>Supermarket Type1</td>\n",
       "      <td>8.3000</td>\n",
       "      <td>0.038428</td>\n",
       "      <td>FD</td>\n",
       "      <td>17</td>\n",
       "    </tr>\n",
       "    <tr>\n",
       "      <th>2</th>\n",
       "      <td>LF</td>\n",
       "      <td>Others</td>\n",
       "      <td>241.7538</td>\n",
       "      <td>OUT010</td>\n",
       "      <td>Small</td>\n",
       "      <td>Tier 3</td>\n",
       "      <td>Grocery Store</td>\n",
       "      <td>14.6000</td>\n",
       "      <td>0.099575</td>\n",
       "      <td>NC</td>\n",
       "      <td>26</td>\n",
       "    </tr>\n",
       "    <tr>\n",
       "      <th>3</th>\n",
       "      <td>LF</td>\n",
       "      <td>Snack Foods</td>\n",
       "      <td>155.0340</td>\n",
       "      <td>OUT017</td>\n",
       "      <td>Small</td>\n",
       "      <td>Tier 2</td>\n",
       "      <td>Supermarket Type1</td>\n",
       "      <td>7.3150</td>\n",
       "      <td>0.015388</td>\n",
       "      <td>FD</td>\n",
       "      <td>17</td>\n",
       "    </tr>\n",
       "    <tr>\n",
       "      <th>4</th>\n",
       "      <td>Regular</td>\n",
       "      <td>Dairy</td>\n",
       "      <td>234.2300</td>\n",
       "      <td>OUT027</td>\n",
       "      <td>Medium</td>\n",
       "      <td>Tier 3</td>\n",
       "      <td>Supermarket Type3</td>\n",
       "      <td>8.5575</td>\n",
       "      <td>0.118599</td>\n",
       "      <td>FD</td>\n",
       "      <td>39</td>\n",
       "    </tr>\n",
       "  </tbody>\n",
       "</table>\n",
       "</div>"
      ],
      "text/plain": [
       "  Item_Fat_Content    Item_Type  Item_MRP Outlet_Identifier Outlet_Size  \\\n",
       "0               LF  Snack Foods  107.8622            OUT049      Medium   \n",
       "1          Regular        Dairy   87.3198            OUT017       Small   \n",
       "2               LF       Others  241.7538            OUT010       Small   \n",
       "3               LF  Snack Foods  155.0340            OUT017       Small   \n",
       "4          Regular        Dairy  234.2300            OUT027      Medium   \n",
       "\n",
       "  Outlet_Location_Type        Outlet_Type  \\\n",
       "0               Tier 1  Supermarket Type1   \n",
       "1               Tier 2  Supermarket Type1   \n",
       "2               Tier 3      Grocery Store   \n",
       "3               Tier 2  Supermarket Type1   \n",
       "4               Tier 3  Supermarket Type3   \n",
       "\n",
       "   Item_Weight_interpolation_imputation  Item_Visibility_interpolate  \\\n",
       "0                               20.7500                     0.007565   \n",
       "1                                8.3000                     0.038428   \n",
       "2                               14.6000                     0.099575   \n",
       "3                                7.3150                     0.015388   \n",
       "4                                8.5575                     0.118599   \n",
       "\n",
       "  Item_Identifier_Grouped  Outlet_age  \n",
       "0                      FD          25  \n",
       "1                      FD          17  \n",
       "2                      NC          26  \n",
       "3                      FD          17  \n",
       "4                      FD          39  "
      ]
     },
     "execution_count": 583,
     "metadata": {},
     "output_type": "execute_result"
    }
   ],
   "source": [
    "data.head()"
   ]
  },
  {
   "cell_type": "markdown",
   "metadata": {},
   "source": [
    "Data Encoding and Labelling for handling categorical variables\n"
   ]
  },
  {
   "cell_type": "code",
   "execution_count": 584,
   "metadata": {},
   "outputs": [
    {
     "name": "stdout",
     "output_type": "stream",
     "text": [
      "[array(['LF', 'Regular'], dtype=object)]\n",
      "[array(['Baking Goods', 'Breads', 'Breakfast', 'Canned', 'Dairy',\n",
      "       'Frozen Foods', 'Fruits and Vegetables', 'Hard Drinks',\n",
      "       'Health and Hygiene', 'Household', 'Meat', 'Others', 'Seafood',\n",
      "       'Snack Foods', 'Soft Drinks', 'Starchy Foods'], dtype=object)]\n",
      "[array(['OUT010', 'OUT013', 'OUT017', 'OUT018', 'OUT019', 'OUT027',\n",
      "       'OUT035', 'OUT045', 'OUT046', 'OUT049'], dtype=object)]\n",
      "[array(['High', 'Medium', 'Small'], dtype=object)]\n",
      "[array(['Tier 1', 'Tier 2', 'Tier 3'], dtype=object)]\n",
      "[array(['Grocery Store', 'Supermarket Type1', 'Supermarket Type2',\n",
      "       'Supermarket Type3'], dtype=object)]\n",
      "[array(['DR', 'FD', 'NC'], dtype=object)]\n"
     ]
    }
   ],
   "source": [
    "\n",
    "\n",
    "encoded_data = data.copy()\n",
    "\n",
    "cat_cols = data.select_dtypes(include=['object']).columns\n",
    "\n",
    "for col in cat_cols:\n",
    "    oe = OrdinalEncoder()\n",
    "    encoded_data[col]=oe.fit_transform(encoded_data[[col]])\n",
    "    print(oe.categories_)"
   ]
  },
  {
   "cell_type": "code",
   "execution_count": 585,
   "metadata": {},
   "outputs": [
    {
     "data": {
      "text/html": [
       "<div>\n",
       "<style scoped>\n",
       "    .dataframe tbody tr th:only-of-type {\n",
       "        vertical-align: middle;\n",
       "    }\n",
       "\n",
       "    .dataframe tbody tr th {\n",
       "        vertical-align: top;\n",
       "    }\n",
       "\n",
       "    .dataframe thead th {\n",
       "        text-align: right;\n",
       "    }\n",
       "</style>\n",
       "<table border=\"1\" class=\"dataframe\">\n",
       "  <thead>\n",
       "    <tr style=\"text-align: right;\">\n",
       "      <th></th>\n",
       "      <th>Item_MRP</th>\n",
       "      <th>Outlet_Identifier</th>\n",
       "      <th>Outlet_Size</th>\n",
       "      <th>Outlet_Type</th>\n",
       "      <th>Outlet_age</th>\n",
       "    </tr>\n",
       "  </thead>\n",
       "  <tbody>\n",
       "    <tr>\n",
       "      <th>0</th>\n",
       "      <td>107.8622</td>\n",
       "      <td>9.0</td>\n",
       "      <td>1.0</td>\n",
       "      <td>1.0</td>\n",
       "      <td>25</td>\n",
       "    </tr>\n",
       "    <tr>\n",
       "      <th>1</th>\n",
       "      <td>87.3198</td>\n",
       "      <td>2.0</td>\n",
       "      <td>2.0</td>\n",
       "      <td>1.0</td>\n",
       "      <td>17</td>\n",
       "    </tr>\n",
       "    <tr>\n",
       "      <th>2</th>\n",
       "      <td>241.7538</td>\n",
       "      <td>0.0</td>\n",
       "      <td>2.0</td>\n",
       "      <td>0.0</td>\n",
       "      <td>26</td>\n",
       "    </tr>\n",
       "    <tr>\n",
       "      <th>3</th>\n",
       "      <td>155.0340</td>\n",
       "      <td>2.0</td>\n",
       "      <td>2.0</td>\n",
       "      <td>1.0</td>\n",
       "      <td>17</td>\n",
       "    </tr>\n",
       "    <tr>\n",
       "      <th>4</th>\n",
       "      <td>234.2300</td>\n",
       "      <td>5.0</td>\n",
       "      <td>1.0</td>\n",
       "      <td>3.0</td>\n",
       "      <td>39</td>\n",
       "    </tr>\n",
       "  </tbody>\n",
       "</table>\n",
       "</div>"
      ],
      "text/plain": [
       "   Item_MRP  Outlet_Identifier  Outlet_Size  Outlet_Type  Outlet_age\n",
       "0  107.8622                9.0          1.0          1.0          25\n",
       "1   87.3198                2.0          2.0          1.0          17\n",
       "2  241.7538                0.0          2.0          0.0          26\n",
       "3  155.0340                2.0          2.0          1.0          17\n",
       "4  234.2300                5.0          1.0          3.0          39"
      ]
     },
     "execution_count": 585,
     "metadata": {},
     "output_type": "execute_result"
    }
   ],
   "source": [
    "test_final=encoded_data.drop(columns=['Item_Visibility_interpolate','Item_Weight_interpolation_imputation',\n",
    "'Item_Type','Outlet_Location_Type','Item_Identifier_Grouped','Item_Fat_Content'],axis=1)\n",
    "test_final.head()\n",
    "\n",
    "#therefore all the test data have been preprocessed and encoded"
   ]
  },
  {
   "cell_type": "code",
   "execution_count": 586,
   "metadata": {},
   "outputs": [
    {
     "data": {
      "text/plain": [
       "[[107.8622, 9.0, 1.0, 1.0, 25.0],\n",
       " [87.3198, 2.0, 2.0, 1.0, 17.0],\n",
       " [241.7538, 0.0, 2.0, 0.0, 26.0],\n",
       " [155.034, 2.0, 2.0, 1.0, 17.0],\n",
       " [234.23, 5.0, 1.0, 3.0, 39.0],\n",
       " [117.1492, 8.0, 2.0, 1.0, 27.0],\n",
       " [50.1034, 3.0, 1.0, 2.0, 15.0],\n",
       " [81.0592, 5.0, 1.0, 3.0, 39.0],\n",
       " [95.7436, 7.0, 2.0, 1.0, 22.0],\n",
       " [186.8924, 2.0, 2.0, 1.0, 17.0],\n",
       " [118.3466, 2.0, 2.0, 1.0, 17.0],\n",
       " [85.3908, 7.0, 2.0, 1.0, 22.0],\n",
       " [240.4196, 4.0, 2.0, 0.0, 39.0],\n",
       " [122.3098, 9.0, 1.0, 1.0, 25.0],\n",
       " [52.0298, 1.0, 0.0, 1.0, 37.0],\n",
       " [151.6366, 9.0, 1.0, 1.0, 25.0],\n",
       " [198.7768, 7.0, 2.0, 1.0, 22.0],\n",
       " [192.2188, 3.0, 1.0, 2.0, 15.0],\n",
       " [109.6912, 5.0, 1.0, 3.0, 39.0],\n",
       " [193.7136, 0.0, 2.0, 0.0, 26.0],\n",
       " [175.008, 1.0, 0.0, 1.0, 37.0],\n",
       " [239.9196, 6.0, 2.0, 1.0, 20.0],\n",
       " [47.7402, 8.0, 2.0, 1.0, 27.0],\n",
       " [142.347, 4.0, 2.0, 0.0, 39.0],\n",
       " [180.7318, 6.0, 2.0, 1.0, 20.0],\n",
       " [209.4928, 0.0, 2.0, 0.0, 26.0],\n",
       " [47.6034, 6.0, 2.0, 1.0, 20.0],\n",
       " [161.3894, 8.0, 2.0, 1.0, 27.0],\n",
       " [244.6802, 8.0, 2.0, 1.0, 27.0],\n",
       " [116.5492, 6.0, 2.0, 1.0, 20.0],\n",
       " [32.09, 4.0, 2.0, 0.0, 39.0],\n",
       " [194.9452, 3.0, 1.0, 2.0, 15.0],\n",
       " [42.4112, 3.0, 1.0, 2.0, 15.0],\n",
       " [217.7508, 5.0, 1.0, 3.0, 39.0],\n",
       " [164.2552, 2.0, 2.0, 1.0, 17.0],\n",
       " [205.098, 5.0, 1.0, 3.0, 39.0],\n",
       " [80.3644, 5.0, 1.0, 3.0, 39.0],\n",
       " [114.0176, 0.0, 2.0, 0.0, 26.0],\n",
       " [192.1504, 2.0, 2.0, 1.0, 17.0],\n",
       " [103.3964, 5.0, 1.0, 3.0, 39.0],\n",
       " [143.3786, 3.0, 1.0, 2.0, 15.0],\n",
       " [116.6466, 0.0, 2.0, 0.0, 26.0],\n",
       " [173.9422, 2.0, 2.0, 1.0, 17.0],\n",
       " [144.847, 3.0, 1.0, 2.0, 15.0],\n",
       " [217.2166, 0.0, 2.0, 0.0, 26.0],\n",
       " [112.1886, 1.0, 0.0, 1.0, 37.0],\n",
       " [55.8298, 0.0, 2.0, 0.0, 26.0],\n",
       " [183.2608, 6.0, 2.0, 1.0, 20.0],\n",
       " [248.146, 6.0, 2.0, 1.0, 20.0],\n",
       " [124.9046, 8.0, 2.0, 1.0, 27.0],\n",
       " [57.0614, 8.0, 2.0, 1.0, 27.0],\n",
       " [106.6938, 1.0, 0.0, 1.0, 37.0],\n",
       " [181.0318, 2.0, 2.0, 1.0, 17.0],\n",
       " [122.3388, 2.0, 2.0, 1.0, 17.0],\n",
       " [188.7188, 5.0, 1.0, 3.0, 39.0],\n",
       " [188.8188, 9.0, 1.0, 1.0, 25.0],\n",
       " [179.666, 1.0, 0.0, 1.0, 37.0],\n",
       " [38.3822, 1.0, 0.0, 1.0, 37.0],\n",
       " [263.2568, 4.0, 2.0, 0.0, 39.0],\n",
       " [90.1514, 7.0, 2.0, 1.0, 22.0],\n",
       " [144.8444, 6.0, 2.0, 1.0, 20.0],\n",
       " [214.9876, 2.0, 2.0, 1.0, 17.0],\n",
       " [141.347, 5.0, 1.0, 3.0, 39.0],\n",
       " [96.8094, 2.0, 2.0, 1.0, 17.0],\n",
       " [152.6998, 7.0, 2.0, 1.0, 22.0],\n",
       " [90.3804, 5.0, 1.0, 3.0, 39.0],\n",
       " [165.8158, 2.0, 2.0, 1.0, 17.0],\n",
       " [262.5594, 8.0, 2.0, 1.0, 27.0],\n",
       " [181.2634, 1.0, 0.0, 1.0, 37.0],\n",
       " [221.6456, 7.0, 2.0, 1.0, 22.0],\n",
       " [180.0976, 9.0, 1.0, 1.0, 25.0],\n",
       " [108.1938, 5.0, 1.0, 3.0, 39.0],\n",
       " [122.3756, 3.0, 1.0, 2.0, 15.0],\n",
       " [245.2486, 9.0, 1.0, 1.0, 25.0],\n",
       " [256.2646, 7.0, 2.0, 1.0, 22.0],\n",
       " [173.7054, 7.0, 2.0, 1.0, 22.0],\n",
       " [124.8704, 4.0, 2.0, 0.0, 39.0],\n",
       " [148.6392, 8.0, 2.0, 1.0, 27.0],\n",
       " [252.4382, 4.0, 2.0, 0.0, 39.0],\n",
       " [145.176, 1.0, 0.0, 1.0, 37.0],\n",
       " [152.6998, 6.0, 2.0, 1.0, 20.0],\n",
       " [100.6358, 3.0, 1.0, 2.0, 15.0],\n",
       " [97.3726, 8.0, 2.0, 1.0, 27.0],\n",
       " [188.6898, 1.0, 0.0, 1.0, 37.0],\n",
       " [177.6344, 2.0, 2.0, 1.0, 17.0],\n",
       " [108.9596, 6.0, 2.0, 1.0, 20.0],\n",
       " [230.5668, 8.0, 2.0, 1.0, 27.0],\n",
       " [225.5062, 8.0, 2.0, 1.0, 27.0],\n",
       " [46.2376, 7.0, 2.0, 1.0, 22.0],\n",
       " [242.2538, 0.0, 2.0, 0.0, 26.0],\n",
       " [165.7816, 7.0, 2.0, 1.0, 22.0],\n",
       " [223.1404, 5.0, 1.0, 3.0, 39.0],\n",
       " [107.7912, 5.0, 1.0, 3.0, 39.0],\n",
       " [99.47, 3.0, 1.0, 2.0, 15.0],\n",
       " [122.1414, 1.0, 0.0, 1.0, 37.0],\n",
       " [48.135, 8.0, 2.0, 1.0, 27.0],\n",
       " [140.4154, 2.0, 2.0, 1.0, 17.0],\n",
       " [145.6102, 3.0, 1.0, 2.0, 15.0],\n",
       " [185.724, 7.0, 2.0, 1.0, 22.0],\n",
       " [81.1618, 1.0, 0.0, 1.0, 37.0],\n",
       " [151.1366, 3.0, 1.0, 2.0, 15.0],\n",
       " [97.2068, 2.0, 2.0, 1.0, 17.0],\n",
       " [169.279, 2.0, 2.0, 1.0, 17.0],\n",
       " [122.1098, 8.0, 2.0, 1.0, 27.0],\n",
       " [191.553, 4.0, 2.0, 0.0, 39.0],\n",
       " [250.6066, 5.0, 1.0, 3.0, 39.0],\n",
       " [248.6092, 4.0, 2.0, 0.0, 39.0],\n",
       " [53.064, 9.0, 1.0, 1.0, 25.0],\n",
       " [48.8692, 5.0, 1.0, 3.0, 39.0],\n",
       " [249.775, 3.0, 1.0, 2.0, 15.0],\n",
       " [159.0262, 0.0, 2.0, 0.0, 26.0],\n",
       " [190.653, 8.0, 2.0, 1.0, 27.0],\n",
       " [76.6986, 0.0, 2.0, 0.0, 26.0],\n",
       " [232.0668, 5.0, 1.0, 3.0, 39.0],\n",
       " [95.3752, 6.0, 2.0, 1.0, 20.0],\n",
       " [107.0938, 5.0, 1.0, 3.0, 39.0],\n",
       " [55.9588, 8.0, 2.0, 1.0, 27.0],\n",
       " [92.5462, 1.0, 0.0, 1.0, 37.0],\n",
       " [96.3726, 6.0, 2.0, 1.0, 20.0],\n",
       " [116.9466, 7.0, 2.0, 1.0, 22.0],\n",
       " [178.766, 5.0, 1.0, 3.0, 39.0],\n",
       " [33.0558, 2.0, 2.0, 1.0, 17.0],\n",
       " [84.625, 6.0, 2.0, 1.0, 20.0],\n",
       " [87.3514, 9.0, 1.0, 1.0, 25.0],\n",
       " [220.2114, 3.0, 1.0, 2.0, 15.0],\n",
       " [186.424, 5.0, 1.0, 3.0, 39.0],\n",
       " [120.6756, 7.0, 2.0, 1.0, 22.0],\n",
       " [38.8164, 3.0, 1.0, 2.0, 15.0],\n",
       " [110.1254, 3.0, 1.0, 2.0, 15.0],\n",
       " [108.2254, 1.0, 0.0, 1.0, 37.0],\n",
       " [177.837, 3.0, 1.0, 2.0, 15.0],\n",
       " [116.4492, 1.0, 0.0, 1.0, 37.0],\n",
       " [109.3912, 6.0, 2.0, 1.0, 20.0],\n",
       " [93.9462, 0.0, 2.0, 0.0, 26.0],\n",
       " [81.3276, 9.0, 1.0, 1.0, 25.0],\n",
       " [151.2708, 4.0, 2.0, 0.0, 39.0],\n",
       " [39.5822, 3.0, 1.0, 2.0, 15.0],\n",
       " [76.5328, 9.0, 1.0, 1.0, 25.0],\n",
       " [94.7094, 4.0, 2.0, 0.0, 39.0],\n",
       " [151.805, 1.0, 0.0, 1.0, 37.0],\n",
       " [188.3898, 0.0, 2.0, 0.0, 26.0],\n",
       " [36.5874, 8.0, 2.0, 1.0, 27.0],\n",
       " [97.3752, 9.0, 1.0, 1.0, 25.0],\n",
       " [128.5968, 6.0, 2.0, 1.0, 20.0],\n",
       " [89.5514, 6.0, 2.0, 1.0, 20.0],\n",
       " [126.9336, 7.0, 2.0, 1.0, 22.0],\n",
       " [152.6024, 6.0, 2.0, 1.0, 20.0],\n",
       " [189.7846, 5.0, 1.0, 3.0, 39.0],\n",
       " [106.0964, 2.0, 2.0, 1.0, 17.0],\n",
       " [53.7614, 5.0, 1.0, 3.0, 39.0],\n",
       " [118.9466, 9.0, 1.0, 1.0, 25.0],\n",
       " [246.2144, 7.0, 2.0, 1.0, 22.0],\n",
       " [180.466, 0.0, 2.0, 0.0, 26.0],\n",
       " [259.3278, 6.0, 2.0, 1.0, 20.0],\n",
       " [158.4604, 3.0, 1.0, 2.0, 15.0],\n",
       " [129.4994, 1.0, 0.0, 1.0, 37.0],\n",
       " [49.1008, 3.0, 1.0, 2.0, 15.0],\n",
       " [65.2826, 9.0, 1.0, 1.0, 25.0],\n",
       " [82.525, 7.0, 2.0, 1.0, 22.0],\n",
       " [58.293, 9.0, 1.0, 1.0, 25.0],\n",
       " [158.0288, 2.0, 2.0, 1.0, 17.0],\n",
       " [182.5608, 6.0, 2.0, 1.0, 20.0],\n",
       " [231.101, 1.0, 0.0, 1.0, 37.0],\n",
       " [183.0292, 8.0, 2.0, 1.0, 27.0],\n",
       " [75.4038, 9.0, 1.0, 1.0, 25.0],\n",
       " [110.5544, 0.0, 2.0, 0.0, 26.0],\n",
       " [87.5514, 5.0, 1.0, 3.0, 39.0],\n",
       " [174.3738, 9.0, 1.0, 1.0, 25.0],\n",
       " [150.4708, 7.0, 2.0, 1.0, 22.0],\n",
       " [186.924, 0.0, 2.0, 0.0, 26.0],\n",
       " [188.5898, 7.0, 2.0, 1.0, 22.0],\n",
       " [161.492, 2.0, 2.0, 1.0, 17.0],\n",
       " [106.5306, 0.0, 2.0, 0.0, 26.0],\n",
       " [39.4138, 0.0, 2.0, 0.0, 26.0],\n",
       " [151.305, 2.0, 2.0, 1.0, 17.0],\n",
       " [228.801, 3.0, 1.0, 2.0, 15.0],\n",
       " [127.6362, 5.0, 1.0, 3.0, 39.0],\n",
       " [180.6292, 5.0, 1.0, 3.0, 39.0],\n",
       " [36.4874, 5.0, 1.0, 3.0, 39.0],\n",
       " [236.4564, 5.0, 1.0, 3.0, 39.0],\n",
       " [102.7332, 6.0, 2.0, 1.0, 20.0],\n",
       " [198.5768, 3.0, 1.0, 2.0, 15.0],\n",
       " [243.9144, 6.0, 2.0, 1.0, 20.0],\n",
       " [55.4956, 2.0, 2.0, 1.0, 17.0],\n",
       " [108.228, 0.0, 2.0, 0.0, 26.0],\n",
       " [110.9544, 9.0, 1.0, 1.0, 25.0],\n",
       " [199.1426, 6.0, 2.0, 1.0, 20.0],\n",
       " [239.4538, 1.0, 0.0, 1.0, 37.0],\n",
       " [225.2088, 9.0, 1.0, 1.0, 25.0],\n",
       " [169.5106, 6.0, 2.0, 1.0, 20.0],\n",
       " [101.399, 8.0, 2.0, 1.0, 27.0],\n",
       " [236.2248, 3.0, 1.0, 2.0, 15.0],\n",
       " [151.205, 8.0, 2.0, 1.0, 27.0],\n",
       " [227.8352, 4.0, 2.0, 0.0, 39.0],\n",
       " [51.2008, 6.0, 2.0, 1.0, 20.0],\n",
       " [154.5972, 5.0, 1.0, 3.0, 39.0],\n",
       " [219.0456, 4.0, 2.0, 0.0, 39.0],\n",
       " [191.882, 2.0, 2.0, 1.0, 17.0],\n",
       " [169.3474, 8.0, 2.0, 1.0, 27.0],\n",
       " [53.9298, 4.0, 2.0, 0.0, 39.0],\n",
       " [118.3782, 5.0, 1.0, 3.0, 39.0],\n",
       " [140.6154, 7.0, 2.0, 1.0, 22.0],\n",
       " [189.1556, 2.0, 2.0, 1.0, 17.0],\n",
       " [155.7972, 7.0, 2.0, 1.0, 22.0],\n",
       " [123.0414, 3.0, 1.0, 2.0, 15.0],\n",
       " [118.1808, 8.0, 2.0, 1.0, 27.0],\n",
       " [245.0144, 9.0, 1.0, 1.0, 25.0],\n",
       " [82.825, 2.0, 2.0, 1.0, 17.0],\n",
       " [195.611, 6.0, 2.0, 1.0, 20.0],\n",
       " [117.0124, 8.0, 2.0, 1.0, 27.0],\n",
       " [112.2202, 5.0, 1.0, 3.0, 39.0],\n",
       " [38.8848, 4.0, 2.0, 0.0, 39.0],\n",
       " [205.798, 3.0, 1.0, 2.0, 15.0],\n",
       " [92.612, 2.0, 2.0, 1.0, 17.0],\n",
       " [240.9222, 1.0, 0.0, 1.0, 37.0],\n",
       " [130.0284, 2.0, 2.0, 1.0, 17.0],\n",
       " [102.2674, 4.0, 2.0, 0.0, 39.0],\n",
       " [244.9144, 5.0, 1.0, 3.0, 39.0],\n",
       " [154.2972, 8.0, 2.0, 1.0, 27.0],\n",
       " [238.9248, 8.0, 2.0, 1.0, 27.0],\n",
       " [145.6128, 4.0, 2.0, 0.0, 39.0],\n",
       " [141.1812, 1.0, 0.0, 1.0, 37.0],\n",
       " [169.2132, 8.0, 2.0, 1.0, 27.0],\n",
       " [178.3686, 6.0, 2.0, 1.0, 20.0],\n",
       " [116.2176, 7.0, 2.0, 1.0, 22.0],\n",
       " [87.4172, 6.0, 2.0, 1.0, 20.0],\n",
       " [226.4036, 3.0, 1.0, 2.0, 15.0],\n",
       " [160.392, 8.0, 2.0, 1.0, 27.0],\n",
       " [259.8962, 4.0, 2.0, 0.0, 39.0],\n",
       " [96.9384, 2.0, 2.0, 1.0, 17.0],\n",
       " [255.2356, 1.0, 0.0, 1.0, 37.0],\n",
       " [168.5158, 0.0, 2.0, 0.0, 26.0],\n",
       " [95.2778, 6.0, 2.0, 1.0, 20.0],\n",
       " [100.8358, 7.0, 2.0, 1.0, 22.0],\n",
       " [73.6038, 8.0, 2.0, 1.0, 27.0],\n",
       " [109.157, 9.0, 1.0, 1.0, 25.0],\n",
       " [127.8994, 2.0, 2.0, 1.0, 17.0],\n",
       " [117.215, 8.0, 2.0, 1.0, 27.0],\n",
       " [244.2486, 4.0, 2.0, 0.0, 39.0],\n",
       " [173.0738, 2.0, 2.0, 1.0, 17.0],\n",
       " [37.8506, 0.0, 2.0, 0.0, 26.0],\n",
       " [211.156, 2.0, 2.0, 1.0, 17.0],\n",
       " [142.2838, 0.0, 2.0, 0.0, 26.0],\n",
       " [104.0622, 2.0, 2.0, 1.0, 17.0],\n",
       " [101.0358, 0.0, 2.0, 0.0, 26.0],\n",
       " [118.0466, 2.0, 2.0, 1.0, 17.0],\n",
       " [47.0718, 1.0, 0.0, 1.0, 37.0],\n",
       " [38.1848, 9.0, 1.0, 1.0, 25.0],\n",
       " [63.6194, 0.0, 2.0, 0.0, 26.0],\n",
       " [264.691, 2.0, 2.0, 1.0, 17.0],\n",
       " [239.4564, 7.0, 2.0, 1.0, 22.0],\n",
       " [175.037, 0.0, 2.0, 0.0, 26.0],\n",
       " [83.1276, 4.0, 2.0, 0.0, 39.0],\n",
       " [104.4622, 2.0, 2.0, 1.0, 17.0],\n",
       " [227.2694, 2.0, 2.0, 1.0, 17.0],\n",
       " [94.4094, 6.0, 2.0, 1.0, 20.0],\n",
       " [244.7486, 6.0, 2.0, 1.0, 20.0],\n",
       " [152.2708, 5.0, 1.0, 3.0, 39.0],\n",
       " [74.567, 8.0, 2.0, 1.0, 27.0],\n",
       " [44.0402, 1.0, 0.0, 1.0, 37.0],\n",
       " [181.7634, 2.0, 2.0, 1.0, 17.0],\n",
       " [141.4496, 9.0, 1.0, 1.0, 25.0],\n",
       " [158.5262, 3.0, 1.0, 2.0, 15.0],\n",
       " [157.5288, 5.0, 1.0, 3.0, 39.0],\n",
       " [186.4924, 9.0, 1.0, 1.0, 25.0],\n",
       " [169.5474, 8.0, 2.0, 1.0, 27.0],\n",
       " [177.6686, 3.0, 1.0, 2.0, 15.0],\n",
       " [182.8976, 2.0, 2.0, 1.0, 17.0],\n",
       " [112.1544, 9.0, 1.0, 1.0, 25.0],\n",
       " [153.7972, 5.0, 1.0, 3.0, 39.0],\n",
       " [213.256, 2.0, 2.0, 1.0, 17.0],\n",
       " [115.6518, 7.0, 2.0, 1.0, 22.0],\n",
       " [144.4102, 5.0, 1.0, 3.0, 39.0],\n",
       " [148.3392, 1.0, 0.0, 1.0, 37.0],\n",
       " [45.906, 6.0, 2.0, 1.0, 20.0],\n",
       " [79.0328, 6.0, 2.0, 1.0, 20.0],\n",
       " [178.237, 9.0, 1.0, 1.0, 25.0],\n",
       " [65.7168, 7.0, 2.0, 1.0, 22.0],\n",
       " [115.1834, 8.0, 2.0, 1.0, 27.0],\n",
       " [132.8284, 3.0, 1.0, 2.0, 15.0],\n",
       " [94.812, 5.0, 1.0, 3.0, 39.0],\n",
       " [186.6924, 3.0, 1.0, 2.0, 15.0],\n",
       " [153.4024, 2.0, 2.0, 1.0, 17.0],\n",
       " [151.3024, 9.0, 1.0, 1.0, 25.0],\n",
       " [245.5144, 5.0, 1.0, 3.0, 39.0],\n",
       " [250.175, 9.0, 1.0, 1.0, 25.0],\n",
       " [131.131, 4.0, 2.0, 0.0, 39.0],\n",
       " [90.4146, 9.0, 1.0, 1.0, 25.0],\n",
       " [56.4614, 1.0, 0.0, 1.0, 37.0],\n",
       " [54.864, 8.0, 2.0, 1.0, 27.0],\n",
       " [42.2428, 1.0, 0.0, 1.0, 37.0],\n",
       " [118.444, 1.0, 0.0, 1.0, 37.0],\n",
       " [105.228, 8.0, 2.0, 1.0, 27.0],\n",
       " [84.025, 5.0, 1.0, 3.0, 39.0],\n",
       " [149.2366, 5.0, 1.0, 3.0, 39.0],\n",
       " [194.511, 1.0, 0.0, 1.0, 37.0],\n",
       " [132.1284, 7.0, 2.0, 1.0, 22.0],\n",
       " [165.121, 7.0, 2.0, 1.0, 22.0],\n",
       " [144.4102, 0.0, 2.0, 0.0, 26.0],\n",
       " [41.1138, 3.0, 1.0, 2.0, 15.0],\n",
       " [244.746, 0.0, 2.0, 0.0, 26.0],\n",
       " [181.1634, 2.0, 2.0, 1.0, 17.0],\n",
       " [235.3616, 8.0, 2.0, 1.0, 27.0],\n",
       " [105.028, 6.0, 2.0, 1.0, 20.0],\n",
       " [91.683, 6.0, 2.0, 1.0, 20.0],\n",
       " [156.0946, 6.0, 2.0, 1.0, 20.0],\n",
       " [165.7842, 5.0, 1.0, 3.0, 39.0],\n",
       " [99.17, 8.0, 2.0, 1.0, 27.0],\n",
       " [179.1318, 1.0, 0.0, 1.0, 37.0],\n",
       " [157.4262, 5.0, 1.0, 3.0, 39.0],\n",
       " [85.8856, 1.0, 0.0, 1.0, 37.0],\n",
       " [221.4456, 1.0, 0.0, 1.0, 37.0],\n",
       " [128.6336, 3.0, 1.0, 2.0, 15.0],\n",
       " [125.8704, 2.0, 2.0, 1.0, 17.0],\n",
       " [104.2964, 2.0, 2.0, 1.0, 17.0],\n",
       " [82.9908, 3.0, 1.0, 2.0, 15.0],\n",
       " [236.8932, 2.0, 2.0, 1.0, 17.0],\n",
       " [185.1898, 8.0, 2.0, 1.0, 27.0],\n",
       " [231.201, 7.0, 2.0, 1.0, 22.0],\n",
       " [123.973, 3.0, 1.0, 2.0, 15.0],\n",
       " [100.4016, 9.0, 1.0, 1.0, 25.0],\n",
       " [119.8414, 3.0, 1.0, 2.0, 15.0],\n",
       " [176.6054, 1.0, 0.0, 1.0, 37.0],\n",
       " [198.2768, 7.0, 2.0, 1.0, 22.0],\n",
       " [196.8084, 6.0, 2.0, 1.0, 20.0],\n",
       " [124.4388, 5.0, 1.0, 3.0, 39.0],\n",
       " [83.2276, 0.0, 2.0, 0.0, 26.0],\n",
       " [127.502, 7.0, 2.0, 1.0, 22.0],\n",
       " [54.1298, 6.0, 2.0, 1.0, 20.0],\n",
       " [43.7744, 3.0, 1.0, 2.0, 15.0],\n",
       " [179.5976, 4.0, 2.0, 0.0, 39.0],\n",
       " [217.9482, 2.0, 2.0, 1.0, 17.0],\n",
       " [264.3226, 2.0, 2.0, 1.0, 17.0],\n",
       " [52.4298, 4.0, 2.0, 0.0, 39.0],\n",
       " [107.1938, 2.0, 2.0, 1.0, 17.0],\n",
       " [116.6492, 2.0, 2.0, 1.0, 17.0],\n",
       " [62.0194, 2.0, 2.0, 1.0, 17.0],\n",
       " [104.7306, 7.0, 2.0, 1.0, 22.0],\n",
       " [129.2336, 5.0, 1.0, 3.0, 39.0],\n",
       " [197.1426, 2.0, 2.0, 1.0, 17.0],\n",
       " [189.153, 3.0, 1.0, 2.0, 15.0],\n",
       " [36.0848, 2.0, 2.0, 1.0, 17.0],\n",
       " [169.0474, 9.0, 1.0, 1.0, 25.0],\n",
       " [233.1958, 8.0, 2.0, 1.0, 27.0],\n",
       " [107.2596, 9.0, 1.0, 1.0, 25.0],\n",
       " [107.728, 5.0, 1.0, 3.0, 39.0],\n",
       " [145.6102, 2.0, 2.0, 1.0, 17.0],\n",
       " [223.8746, 5.0, 1.0, 3.0, 39.0],\n",
       " [146.4786, 8.0, 2.0, 1.0, 27.0],\n",
       " [96.5068, 9.0, 1.0, 1.0, 25.0],\n",
       " [190.5872, 7.0, 2.0, 1.0, 22.0],\n",
       " [49.3008, 1.0, 0.0, 1.0, 37.0],\n",
       " [105.1622, 4.0, 2.0, 0.0, 39.0],\n",
       " [37.2848, 6.0, 2.0, 1.0, 20.0],\n",
       " [212.3218, 1.0, 0.0, 1.0, 37.0],\n",
       " [192.682, 3.0, 1.0, 2.0, 15.0],\n",
       " [235.4958, 7.0, 2.0, 1.0, 22.0],\n",
       " [54.9298, 2.0, 2.0, 1.0, 17.0],\n",
       " [175.4738, 9.0, 1.0, 1.0, 25.0],\n",
       " [173.4054, 1.0, 0.0, 1.0, 37.0],\n",
       " [224.6088, 0.0, 2.0, 0.0, 26.0],\n",
       " [139.9838, 6.0, 2.0, 1.0, 20.0],\n",
       " [86.6198, 6.0, 2.0, 1.0, 20.0],\n",
       " [47.3718, 7.0, 2.0, 1.0, 22.0],\n",
       " [41.9112, 3.0, 1.0, 2.0, 15.0],\n",
       " [121.7098, 3.0, 1.0, 2.0, 15.0],\n",
       " [113.3518, 3.0, 1.0, 2.0, 15.0],\n",
       " [104.6306, 6.0, 2.0, 1.0, 20.0],\n",
       " [163.221, 1.0, 0.0, 1.0, 37.0],\n",
       " [158.8946, 8.0, 2.0, 1.0, 27.0],\n",
       " [241.2512, 2.0, 2.0, 1.0, 17.0],\n",
       " [150.7366, 4.0, 2.0, 0.0, 39.0],\n",
       " [126.7336, 4.0, 2.0, 0.0, 39.0],\n",
       " [153.5682, 5.0, 1.0, 3.0, 39.0],\n",
       " [257.5304, 2.0, 2.0, 1.0, 17.0],\n",
       " [98.7042, 8.0, 2.0, 1.0, 27.0],\n",
       " [264.091, 2.0, 2.0, 1.0, 17.0],\n",
       " [229.101, 0.0, 2.0, 0.0, 26.0],\n",
       " [151.1708, 2.0, 2.0, 1.0, 17.0],\n",
       " [212.0902, 7.0, 2.0, 1.0, 22.0],\n",
       " [99.0358, 9.0, 1.0, 1.0, 25.0],\n",
       " [181.0976, 6.0, 2.0, 1.0, 20.0],\n",
       " [85.5198, 2.0, 2.0, 1.0, 17.0],\n",
       " [42.7086, 4.0, 2.0, 0.0, 39.0],\n",
       " [111.7544, 7.0, 2.0, 1.0, 22.0],\n",
       " [92.712, 4.0, 2.0, 0.0, 39.0],\n",
       " [184.9608, 0.0, 2.0, 0.0, 26.0],\n",
       " [173.7712, 8.0, 2.0, 1.0, 27.0],\n",
       " [122.873, 9.0, 1.0, 1.0, 25.0],\n",
       " [93.312, 7.0, 2.0, 1.0, 22.0],\n",
       " [183.7608, 8.0, 2.0, 1.0, 27.0],\n",
       " [251.4724, 1.0, 0.0, 1.0, 37.0],\n",
       " [126.1678, 7.0, 2.0, 1.0, 22.0],\n",
       " [175.337, 4.0, 2.0, 0.0, 39.0],\n",
       " [127.902, 2.0, 2.0, 1.0, 17.0],\n",
       " [151.0682, 8.0, 2.0, 1.0, 27.0],\n",
       " [87.7198, 9.0, 1.0, 1.0, 25.0],\n",
       " [111.0544, 7.0, 2.0, 1.0, 22.0],\n",
       " [110.8228, 5.0, 1.0, 3.0, 39.0],\n",
       " [117.1492, 3.0, 1.0, 2.0, 15.0],\n",
       " [121.844, 8.0, 2.0, 1.0, 27.0],\n",
       " [49.4666, 6.0, 2.0, 1.0, 20.0],\n",
       " [100.5358, 5.0, 1.0, 3.0, 39.0],\n",
       " [97.7752, 4.0, 2.0, 0.0, 39.0],\n",
       " [164.7842, 8.0, 2.0, 1.0, 27.0],\n",
       " [187.8872, 6.0, 2.0, 1.0, 20.0],\n",
       " [53.0956, 9.0, 1.0, 1.0, 25.0],\n",
       " [187.1214, 7.0, 2.0, 1.0, 22.0],\n",
       " [90.9804, 7.0, 2.0, 1.0, 22.0],\n",
       " [140.8496, 0.0, 2.0, 0.0, 26.0],\n",
       " [195.111, 9.0, 1.0, 1.0, 25.0],\n",
       " [178.2686, 3.0, 1.0, 2.0, 15.0],\n",
       " [56.2956, 7.0, 2.0, 1.0, 22.0],\n",
       " [187.5214, 3.0, 1.0, 2.0, 15.0],\n",
       " [112.2228, 8.0, 2.0, 1.0, 27.0],\n",
       " [101.1042, 4.0, 2.0, 0.0, 39.0],\n",
       " [213.2902, 9.0, 1.0, 1.0, 25.0],\n",
       " [45.0428, 6.0, 2.0, 1.0, 20.0],\n",
       " [224.0404, 4.0, 2.0, 0.0, 39.0],\n",
       " [184.2266, 5.0, 1.0, 3.0, 39.0],\n",
       " [102.7332, 8.0, 2.0, 1.0, 27.0],\n",
       " [43.2796, 5.0, 1.0, 3.0, 39.0],\n",
       " [65.051, 8.0, 2.0, 1.0, 27.0],\n",
       " [119.1098, 6.0, 2.0, 1.0, 20.0],\n",
       " [140.1838, 1.0, 0.0, 1.0, 37.0],\n",
       " [251.204, 3.0, 1.0, 2.0, 15.0],\n",
       " [243.5512, 6.0, 2.0, 1.0, 20.0],\n",
       " [77.0012, 9.0, 1.0, 1.0, 25.0],\n",
       " [247.0144, 7.0, 2.0, 1.0, 22.0],\n",
       " [64.0168, 1.0, 0.0, 1.0, 37.0],\n",
       " [93.5436, 3.0, 1.0, 2.0, 15.0],\n",
       " [164.85, 8.0, 2.0, 1.0, 27.0],\n",
       " [178.3002, 0.0, 2.0, 0.0, 26.0],\n",
       " [118.415, 1.0, 0.0, 1.0, 37.0],\n",
       " [184.4608, 3.0, 1.0, 2.0, 15.0],\n",
       " [219.1798, 5.0, 1.0, 3.0, 39.0],\n",
       " [75.7038, 0.0, 2.0, 0.0, 26.0],\n",
       " [92.512, 1.0, 0.0, 1.0, 37.0],\n",
       " [205.698, 7.0, 2.0, 1.0, 22.0],\n",
       " [166.4184, 3.0, 1.0, 2.0, 15.0],\n",
       " [118.8098, 7.0, 2.0, 1.0, 22.0],\n",
       " [176.137, 9.0, 1.0, 1.0, 25.0],\n",
       " [44.6112, 9.0, 1.0, 1.0, 25.0],\n",
       " [108.7912, 3.0, 1.0, 2.0, 15.0],\n",
       " [182.2292, 3.0, 1.0, 2.0, 15.0],\n",
       " [112.4518, 1.0, 0.0, 1.0, 37.0],\n",
       " [169.4106, 6.0, 2.0, 1.0, 20.0],\n",
       " [242.2828, 8.0, 2.0, 1.0, 27.0],\n",
       " [186.6924, 5.0, 1.0, 3.0, 39.0],\n",
       " [144.6444, 3.0, 1.0, 2.0, 15.0],\n",
       " [145.1418, 0.0, 2.0, 0.0, 26.0],\n",
       " [106.5306, 0.0, 2.0, 0.0, 26.0],\n",
       " [183.4266, 8.0, 2.0, 1.0, 27.0],\n",
       " [125.7046, 2.0, 2.0, 1.0, 17.0],\n",
       " [175.7028, 7.0, 2.0, 1.0, 22.0],\n",
       " [99.3358, 6.0, 2.0, 1.0, 20.0],\n",
       " [59.7904, 5.0, 1.0, 3.0, 39.0],\n",
       " [87.454, 6.0, 2.0, 1.0, 20.0],\n",
       " [222.3772, 9.0, 1.0, 1.0, 25.0],\n",
       " [99.6384, 9.0, 1.0, 1.0, 25.0],\n",
       " [151.134, 1.0, 0.0, 1.0, 37.0],\n",
       " [115.9492, 2.0, 2.0, 1.0, 17.0],\n",
       " [61.3194, 9.0, 1.0, 1.0, 25.0],\n",
       " [150.1366, 3.0, 1.0, 2.0, 15.0],\n",
       " [181.166, 5.0, 1.0, 3.0, 39.0],\n",
       " [176.4686, 4.0, 2.0, 0.0, 39.0],\n",
       " [91.183, 2.0, 2.0, 1.0, 17.0],\n",
       " [37.948, 2.0, 2.0, 1.0, 17.0],\n",
       " [253.2356, 1.0, 0.0, 1.0, 37.0],\n",
       " [102.2648, 2.0, 2.0, 1.0, 17.0],\n",
       " [250.6724, 9.0, 1.0, 1.0, 25.0],\n",
       " [109.5912, 3.0, 1.0, 2.0, 15.0],\n",
       " [160.6552, 1.0, 0.0, 1.0, 37.0],\n",
       " [38.6506, 0.0, 2.0, 0.0, 26.0],\n",
       " [35.6558, 4.0, 2.0, 0.0, 39.0],\n",
       " [53.864, 7.0, 2.0, 1.0, 22.0],\n",
       " [196.0768, 8.0, 2.0, 1.0, 27.0],\n",
       " [196.8426, 9.0, 1.0, 1.0, 25.0],\n",
       " [80.496, 4.0, 2.0, 0.0, 39.0],\n",
       " [256.4988, 0.0, 2.0, 0.0, 26.0],\n",
       " [223.5404, 7.0, 2.0, 1.0, 22.0],\n",
       " [92.6146, 3.0, 1.0, 2.0, 15.0],\n",
       " [94.6752, 5.0, 1.0, 3.0, 39.0],\n",
       " [241.8854, 9.0, 1.0, 1.0, 25.0],\n",
       " [229.8668, 2.0, 2.0, 1.0, 17.0],\n",
       " [113.2834, 2.0, 2.0, 1.0, 17.0],\n",
       " [222.6114, 9.0, 1.0, 1.0, 25.0],\n",
       " [174.3712, 7.0, 2.0, 1.0, 22.0],\n",
       " [252.4066, 7.0, 2.0, 1.0, 22.0],\n",
       " [81.925, 8.0, 2.0, 1.0, 27.0],\n",
       " [159.0604, 3.0, 1.0, 2.0, 15.0],\n",
       " [256.3356, 8.0, 2.0, 1.0, 27.0],\n",
       " [178.8344, 7.0, 2.0, 1.0, 22.0],\n",
       " [85.3908, 1.0, 0.0, 1.0, 37.0],\n",
       " [166.7816, 0.0, 2.0, 0.0, 26.0],\n",
       " [124.8046, 5.0, 1.0, 3.0, 39.0],\n",
       " [118.8466, 6.0, 2.0, 1.0, 20.0],\n",
       " [164.2842, 5.0, 1.0, 3.0, 39.0],\n",
       " [183.3292, 9.0, 1.0, 1.0, 25.0],\n",
       " [153.0682, 1.0, 0.0, 1.0, 37.0],\n",
       " [142.9154, 8.0, 2.0, 1.0, 27.0],\n",
       " [187.8872, 0.0, 2.0, 0.0, 26.0],\n",
       " [86.6514, 1.0, 0.0, 1.0, 37.0],\n",
       " [230.201, 7.0, 2.0, 1.0, 22.0],\n",
       " [42.0454, 6.0, 2.0, 1.0, 20.0],\n",
       " [210.6612, 3.0, 1.0, 2.0, 15.0],\n",
       " [110.5254, 0.0, 2.0, 0.0, 26.0],\n",
       " [113.7544, 8.0, 2.0, 1.0, 27.0],\n",
       " [115.2518, 5.0, 1.0, 3.0, 39.0],\n",
       " [216.9508, 7.0, 2.0, 1.0, 22.0],\n",
       " [222.9772, 3.0, 1.0, 2.0, 15.0],\n",
       " [250.275, 2.0, 2.0, 1.0, 17.0],\n",
       " [58.7904, 4.0, 2.0, 0.0, 39.0],\n",
       " [109.5596, 2.0, 2.0, 1.0, 17.0],\n",
       " [175.037, 9.0, 1.0, 1.0, 25.0],\n",
       " [157.5288, 7.0, 2.0, 1.0, 22.0],\n",
       " [100.4384, 4.0, 2.0, 0.0, 39.0],\n",
       " [241.1512, 6.0, 2.0, 1.0, 20.0],\n",
       " [154.8972, 7.0, 2.0, 1.0, 22.0],\n",
       " [221.1798, 4.0, 2.0, 0.0, 39.0],\n",
       " [113.2518, 7.0, 2.0, 1.0, 22.0],\n",
       " [48.635, 3.0, 1.0, 2.0, 15.0],\n",
       " [41.2822, 8.0, 2.0, 1.0, 27.0],\n",
       " [124.773, 9.0, 1.0, 1.0, 25.0],\n",
       " [214.7218, 5.0, 1.0, 3.0, 39.0],\n",
       " [236.2248, 5.0, 1.0, 3.0, 39.0],\n",
       " [167.7842, 6.0, 2.0, 1.0, 20.0],\n",
       " [57.0614, 5.0, 1.0, 3.0, 39.0],\n",
       " [187.7556, 4.0, 2.0, 0.0, 39.0],\n",
       " [179.6976, 6.0, 2.0, 1.0, 20.0],\n",
       " [81.9618, 7.0, 2.0, 1.0, 22.0],\n",
       " [183.495, 2.0, 2.0, 1.0, 17.0],\n",
       " [97.0094, 6.0, 2.0, 1.0, 20.0],\n",
       " [114.2518, 2.0, 2.0, 1.0, 17.0],\n",
       " [230.2668, 4.0, 2.0, 0.0, 39.0],\n",
       " [195.0768, 2.0, 2.0, 1.0, 17.0],\n",
       " [114.8492, 7.0, 2.0, 1.0, 22.0],\n",
       " [210.2244, 9.0, 1.0, 1.0, 25.0],\n",
       " [129.831, 2.0, 2.0, 1.0, 17.0],\n",
       " [226.9062, 2.0, 2.0, 1.0, 17.0],\n",
       " [157.1604, 9.0, 1.0, 1.0, 25.0],\n",
       " [170.879, 4.0, 2.0, 0.0, 39.0],\n",
       " [87.883, 9.0, 1.0, 1.0, 25.0],\n",
       " [79.1986, 4.0, 2.0, 0.0, 39.0],\n",
       " [258.8278, 9.0, 1.0, 1.0, 25.0],\n",
       " [245.3802, 5.0, 1.0, 3.0, 39.0],\n",
       " [161.1578, 3.0, 1.0, 2.0, 15.0],\n",
       " [195.411, 0.0, 2.0, 0.0, 26.0],\n",
       " [251.1724, 8.0, 2.0, 1.0, 27.0],\n",
       " [261.691, 9.0, 1.0, 1.0, 25.0],\n",
       " [60.7194, 2.0, 2.0, 1.0, 17.0],\n",
       " [107.1912, 1.0, 0.0, 1.0, 37.0],\n",
       " [163.4894, 4.0, 2.0, 0.0, 39.0],\n",
       " [146.9444, 5.0, 1.0, 3.0, 39.0],\n",
       " [163.9526, 3.0, 1.0, 2.0, 15.0],\n",
       " [99.5016, 3.0, 1.0, 2.0, 15.0],\n",
       " [130.1652, 5.0, 1.0, 3.0, 39.0],\n",
       " [148.3392, 4.0, 2.0, 0.0, 39.0],\n",
       " [167.6842, 9.0, 1.0, 1.0, 25.0],\n",
       " [198.6426, 9.0, 1.0, 1.0, 25.0],\n",
       " [157.892, 7.0, 2.0, 1.0, 22.0],\n",
       " [58.9246, 9.0, 1.0, 1.0, 25.0],\n",
       " [232.3642, 3.0, 1.0, 2.0, 15.0],\n",
       " [193.8452, 1.0, 0.0, 1.0, 37.0],\n",
       " [187.0872, 9.0, 1.0, 1.0, 25.0],\n",
       " [232.7984, 1.0, 0.0, 1.0, 37.0],\n",
       " [161.5552, 5.0, 1.0, 3.0, 39.0],\n",
       " [149.4366, 7.0, 2.0, 1.0, 22.0],\n",
       " [106.4596, 9.0, 1.0, 1.0, 25.0],\n",
       " [188.353, 1.0, 0.0, 1.0, 37.0],\n",
       " [84.2592, 7.0, 2.0, 1.0, 22.0],\n",
       " [167.4816, 1.0, 0.0, 1.0, 37.0],\n",
       " [104.3306, 3.0, 1.0, 2.0, 15.0],\n",
       " [110.3544, 3.0, 1.0, 2.0, 15.0],\n",
       " [101.6674, 5.0, 1.0, 3.0, 39.0],\n",
       " [86.3856, 0.0, 2.0, 0.0, 26.0],\n",
       " [106.528, 0.0, 2.0, 0.0, 26.0],\n",
       " [54.1298, 7.0, 2.0, 1.0, 22.0],\n",
       " [237.559, 0.0, 2.0, 0.0, 26.0],\n",
       " [141.7154, 6.0, 2.0, 1.0, 20.0],\n",
       " [180.866, 2.0, 2.0, 1.0, 17.0],\n",
       " [143.5444, 4.0, 2.0, 0.0, 39.0],\n",
       " [154.8656, 5.0, 1.0, 3.0, 39.0],\n",
       " [107.0938, 5.0, 1.0, 3.0, 39.0],\n",
       " [95.1436, 2.0, 2.0, 1.0, 17.0],\n",
       " [198.2768, 7.0, 2.0, 1.0, 22.0],\n",
       " [241.5538, 7.0, 2.0, 1.0, 22.0],\n",
       " [40.0454, 8.0, 2.0, 1.0, 27.0],\n",
       " [198.8084, 8.0, 2.0, 1.0, 27.0],\n",
       " [158.463, 2.0, 2.0, 1.0, 17.0],\n",
       " [258.5646, 1.0, 0.0, 1.0, 37.0],\n",
       " [85.7566, 7.0, 2.0, 1.0, 22.0],\n",
       " [160.5236, 7.0, 2.0, 1.0, 22.0],\n",
       " [127.202, 5.0, 1.0, 3.0, 39.0],\n",
       " [181.7634, 7.0, 2.0, 1.0, 22.0],\n",
       " [43.3112, 1.0, 0.0, 1.0, 37.0],\n",
       " [122.7414, 2.0, 2.0, 1.0, 17.0],\n",
       " [123.2046, 1.0, 0.0, 1.0, 37.0],\n",
       " [117.3492, 5.0, 1.0, 3.0, 39.0],\n",
       " [156.563, 3.0, 1.0, 2.0, 15.0],\n",
       " [122.4072, 5.0, 1.0, 3.0, 39.0],\n",
       " [117.4808, 5.0, 1.0, 3.0, 39.0],\n",
       " [164.3868, 3.0, 1.0, 2.0, 15.0],\n",
       " [113.1202, 9.0, 1.0, 1.0, 25.0],\n",
       " [129.931, 2.0, 2.0, 1.0, 17.0],\n",
       " [218.0508, 5.0, 1.0, 3.0, 39.0],\n",
       " [125.6388, 1.0, 0.0, 1.0, 37.0],\n",
       " [90.9804, 6.0, 2.0, 1.0, 20.0],\n",
       " [47.0376, 8.0, 2.0, 1.0, 27.0],\n",
       " [162.821, 0.0, 2.0, 0.0, 26.0],\n",
       " [158.163, 0.0, 2.0, 0.0, 26.0],\n",
       " [116.1492, 8.0, 2.0, 1.0, 27.0],\n",
       " [220.4772, 3.0, 1.0, 2.0, 15.0],\n",
       " [241.1196, 3.0, 1.0, 2.0, 15.0],\n",
       " [150.7366, 1.0, 0.0, 1.0, 37.0],\n",
       " [145.2418, 0.0, 2.0, 0.0, 26.0],\n",
       " [94.541, 9.0, 1.0, 1.0, 25.0],\n",
       " [53.0956, 9.0, 1.0, 1.0, 25.0],\n",
       " [32.8216, 5.0, 1.0, 3.0, 39.0],\n",
       " [109.4886, 4.0, 2.0, 0.0, 39.0],\n",
       " [180.8976, 0.0, 2.0, 0.0, 26.0],\n",
       " [86.5514, 0.0, 2.0, 0.0, 26.0],\n",
       " [119.6124, 7.0, 2.0, 1.0, 22.0],\n",
       " [162.5236, 1.0, 0.0, 1.0, 37.0],\n",
       " [175.7738, 9.0, 1.0, 1.0, 25.0],\n",
       " [142.9786, 1.0, 0.0, 1.0, 37.0],\n",
       " [39.7822, 3.0, 1.0, 2.0, 15.0],\n",
       " [195.9136, 7.0, 2.0, 1.0, 22.0],\n",
       " [93.412, 9.0, 1.0, 1.0, 25.0],\n",
       " [58.0562, 6.0, 2.0, 1.0, 20.0],\n",
       " [140.3838, 2.0, 2.0, 1.0, 17.0],\n",
       " [110.5254, 8.0, 2.0, 1.0, 27.0],\n",
       " [87.8514, 2.0, 2.0, 1.0, 17.0],\n",
       " [74.2354, 9.0, 1.0, 1.0, 25.0],\n",
       " [84.1224, 3.0, 1.0, 2.0, 15.0],\n",
       " [91.2804, 0.0, 2.0, 0.0, 26.0],\n",
       " [143.2444, 1.0, 0.0, 1.0, 37.0],\n",
       " [248.246, 4.0, 2.0, 0.0, 39.0],\n",
       " [88.183, 7.0, 2.0, 1.0, 22.0],\n",
       " [212.5218, 3.0, 1.0, 2.0, 15.0],\n",
       " [57.1614, 3.0, 1.0, 2.0, 15.0],\n",
       " [151.9024, 1.0, 0.0, 1.0, 37.0],\n",
       " [184.7924, 5.0, 1.0, 3.0, 39.0],\n",
       " [183.4266, 6.0, 2.0, 1.0, 20.0],\n",
       " [105.199, 7.0, 2.0, 1.0, 22.0],\n",
       " [148.6076, 7.0, 2.0, 1.0, 22.0],\n",
       " [131.331, 7.0, 2.0, 1.0, 22.0],\n",
       " [163.1526, 9.0, 1.0, 1.0, 25.0],\n",
       " [65.1826, 8.0, 2.0, 1.0, 27.0],\n",
       " [183.3634, 4.0, 2.0, 0.0, 39.0],\n",
       " [73.7696, 5.0, 1.0, 3.0, 39.0],\n",
       " [258.1304, 6.0, 2.0, 1.0, 20.0],\n",
       " [120.244, 3.0, 1.0, 2.0, 15.0],\n",
       " [173.5054, 6.0, 2.0, 1.0, 20.0],\n",
       " [172.8764, 9.0, 1.0, 1.0, 25.0],\n",
       " [241.9196, 8.0, 2.0, 1.0, 27.0],\n",
       " [45.906, 1.0, 0.0, 1.0, 37.0],\n",
       " [110.3228, 4.0, 2.0, 0.0, 39.0],\n",
       " [178.437, 5.0, 1.0, 3.0, 39.0],\n",
       " [172.8106, 5.0, 1.0, 3.0, 39.0],\n",
       " [176.837, 9.0, 1.0, 1.0, 25.0],\n",
       " [182.4318, 2.0, 2.0, 1.0, 17.0],\n",
       " [236.4564, 1.0, 0.0, 1.0, 37.0],\n",
       " [231.2642, 8.0, 2.0, 1.0, 27.0],\n",
       " [42.2454, 1.0, 0.0, 1.0, 37.0],\n",
       " [102.9332, 2.0, 2.0, 1.0, 17.0],\n",
       " [166.3842, 6.0, 2.0, 1.0, 20.0],\n",
       " [106.4622, 8.0, 2.0, 1.0, 27.0],\n",
       " [165.2526, 8.0, 2.0, 1.0, 27.0],\n",
       " [130.9652, 5.0, 1.0, 3.0, 39.0],\n",
       " [38.248, 2.0, 2.0, 1.0, 17.0],\n",
       " [246.0144, 3.0, 1.0, 2.0, 15.0],\n",
       " [240.088, 1.0, 0.0, 1.0, 37.0],\n",
       " [129.4652, 3.0, 1.0, 2.0, 15.0],\n",
       " [33.0558, 0.0, 2.0, 0.0, 26.0],\n",
       " [107.6596, 7.0, 2.0, 1.0, 22.0],\n",
       " [112.6176, 1.0, 0.0, 1.0, 37.0],\n",
       " [36.2874, 3.0, 1.0, 2.0, 15.0],\n",
       " [116.0808, 9.0, 1.0, 1.0, 25.0],\n",
       " [174.4738, 1.0, 0.0, 1.0, 37.0],\n",
       " [109.1254, 9.0, 1.0, 1.0, 25.0],\n",
       " [263.2594, 5.0, 1.0, 3.0, 39.0],\n",
       " [123.5414, 6.0, 2.0, 1.0, 20.0],\n",
       " [228.401, 4.0, 2.0, 0.0, 39.0],\n",
       " [167.1132, 3.0, 1.0, 2.0, 15.0],\n",
       " [193.1794, 7.0, 2.0, 1.0, 22.0],\n",
       " [123.073, 8.0, 2.0, 1.0, 27.0],\n",
       " [182.6292, 1.0, 0.0, 1.0, 37.0],\n",
       " [211.7586, 7.0, 2.0, 1.0, 22.0],\n",
       " [36.6874, 0.0, 2.0, 0.0, 26.0],\n",
       " [259.9594, 5.0, 1.0, 3.0, 39.0],\n",
       " [80.0276, 6.0, 2.0, 1.0, 20.0],\n",
       " [122.773, 7.0, 2.0, 1.0, 22.0],\n",
       " [141.5154, 9.0, 1.0, 1.0, 25.0],\n",
       " [149.8708, 4.0, 2.0, 0.0, 39.0],\n",
       " [104.0332, 8.0, 2.0, 1.0, 27.0],\n",
       " [249.0434, 7.0, 2.0, 1.0, 22.0],\n",
       " [40.1454, 7.0, 2.0, 1.0, 22.0],\n",
       " [176.8054, 6.0, 2.0, 1.0, 20.0],\n",
       " [156.4656, 7.0, 2.0, 1.0, 22.0],\n",
       " [221.0456, 8.0, 2.0, 1.0, 27.0],\n",
       " [116.215, 6.0, 2.0, 1.0, 20.0],\n",
       " [106.0938, 9.0, 1.0, 1.0, 25.0],\n",
       " [225.4062, 4.0, 2.0, 0.0, 39.0],\n",
       " [63.1536, 5.0, 1.0, 3.0, 39.0],\n",
       " [197.8426, 8.0, 2.0, 1.0, 27.0],\n",
       " [36.0874, 6.0, 2.0, 1.0, 20.0],\n",
       " [222.1456, 2.0, 2.0, 1.0, 17.0],\n",
       " [130.4284, 5.0, 1.0, 3.0, 39.0],\n",
       " [193.282, 2.0, 2.0, 1.0, 17.0],\n",
       " [236.7248, 3.0, 1.0, 2.0, 15.0],\n",
       " [167.1184, 2.0, 2.0, 1.0, 17.0],\n",
       " [212.6244, 6.0, 2.0, 1.0, 20.0],\n",
       " [46.706, 6.0, 2.0, 1.0, 20.0],\n",
       " [106.728, 7.0, 2.0, 1.0, 22.0],\n",
       " [145.076, 2.0, 2.0, 1.0, 17.0],\n",
       " [160.9894, 1.0, 0.0, 1.0, 37.0],\n",
       " [117.9466, 0.0, 2.0, 0.0, 26.0],\n",
       " [176.637, 2.0, 2.0, 1.0, 17.0],\n",
       " [42.9112, 7.0, 2.0, 1.0, 22.0],\n",
       " [94.4094, 9.0, 1.0, 1.0, 25.0],\n",
       " [258.7278, 0.0, 2.0, 0.0, 26.0],\n",
       " [103.499, 4.0, 2.0, 0.0, 39.0],\n",
       " [157.0314, 6.0, 2.0, 1.0, 20.0],\n",
       " [237.8906, 3.0, 1.0, 2.0, 15.0],\n",
       " [176.637, 1.0, 0.0, 1.0, 37.0],\n",
       " [72.638, 7.0, 2.0, 1.0, 22.0],\n",
       " [101.7016, 1.0, 0.0, 1.0, 37.0],\n",
       " [195.2478, 5.0, 1.0, 3.0, 39.0],\n",
       " [173.6422, 1.0, 0.0, 1.0, 37.0],\n",
       " [102.8332, 7.0, 2.0, 1.0, 22.0],\n",
       " [103.6306, 9.0, 1.0, 1.0, 25.0],\n",
       " [185.2266, 9.0, 1.0, 1.0, 25.0],\n",
       " [153.534, 0.0, 2.0, 0.0, 26.0],\n",
       " [87.4514, 5.0, 1.0, 3.0, 39.0],\n",
       " [120.1782, 9.0, 1.0, 1.0, 25.0],\n",
       " [205.4638, 3.0, 1.0, 2.0, 15.0],\n",
       " [45.9718, 9.0, 1.0, 1.0, 25.0],\n",
       " [222.7456, 2.0, 2.0, 1.0, 17.0],\n",
       " [105.1622, 9.0, 1.0, 1.0, 25.0],\n",
       " [121.1782, 7.0, 2.0, 1.0, 22.0],\n",
       " [117.2124, 6.0, 2.0, 1.0, 20.0],\n",
       " [182.5976, 7.0, 2.0, 1.0, 22.0],\n",
       " [154.963, 8.0, 2.0, 1.0, 27.0],\n",
       " [227.0694, 2.0, 2.0, 1.0, 17.0],\n",
       " [128.4336, 2.0, 2.0, 1.0, 17.0],\n",
       " [251.8724, 6.0, 2.0, 1.0, 20.0],\n",
       " [126.2362, 5.0, 1.0, 3.0, 39.0],\n",
       " [256.2356, 6.0, 2.0, 1.0, 20.0],\n",
       " [55.0956, 2.0, 2.0, 1.0, 17.0],\n",
       " [239.6196, 5.0, 1.0, 3.0, 39.0],\n",
       " [195.3478, 3.0, 1.0, 2.0, 15.0],\n",
       " [163.2552, 8.0, 2.0, 1.0, 27.0],\n",
       " [52.7982, 6.0, 2.0, 1.0, 20.0],\n",
       " [121.9414, 9.0, 1.0, 1.0, 25.0],\n",
       " [178.5344, 9.0, 1.0, 1.0, 25.0],\n",
       " [123.073, 1.0, 0.0, 1.0, 37.0],\n",
       " [126.4704, 9.0, 1.0, 1.0, 25.0],\n",
       " [143.4812, 1.0, 0.0, 1.0, 37.0],\n",
       " [76.4354, 3.0, 1.0, 2.0, 15.0],\n",
       " [226.5062, 7.0, 2.0, 1.0, 22.0],\n",
       " [124.973, 1.0, 0.0, 1.0, 37.0],\n",
       " [179.5686, 2.0, 2.0, 1.0, 17.0],\n",
       " [88.983, 9.0, 1.0, 1.0, 25.0],\n",
       " [191.382, 3.0, 1.0, 2.0, 15.0],\n",
       " [126.4994, 6.0, 2.0, 1.0, 20.0],\n",
       " [180.9318, 5.0, 1.0, 3.0, 39.0],\n",
       " [141.447, 7.0, 2.0, 1.0, 22.0],\n",
       " [102.4332, 9.0, 1.0, 1.0, 25.0],\n",
       " [168.9474, 3.0, 1.0, 2.0, 15.0],\n",
       " [80.9592, 9.0, 1.0, 1.0, 25.0],\n",
       " [223.0088, 3.0, 1.0, 2.0, 15.0],\n",
       " [177.237, 8.0, 2.0, 1.0, 27.0],\n",
       " [38.3164, 0.0, 2.0, 0.0, 26.0],\n",
       " [162.5868, 4.0, 2.0, 0.0, 39.0],\n",
       " [174.737, 2.0, 2.0, 1.0, 17.0],\n",
       " [199.2426, 3.0, 1.0, 2.0, 15.0],\n",
       " [176.9054, 2.0, 2.0, 1.0, 17.0],\n",
       " [154.1682, 8.0, 2.0, 1.0, 27.0],\n",
       " [161.721, 5.0, 1.0, 3.0, 39.0],\n",
       " [52.0982, 5.0, 1.0, 3.0, 39.0],\n",
       " [118.5808, 1.0, 0.0, 1.0, 37.0],\n",
       " [75.8012, 6.0, 2.0, 1.0, 20.0],\n",
       " [39.1822, 7.0, 2.0, 1.0, 22.0],\n",
       " [175.337, 3.0, 1.0, 2.0, 15.0],\n",
       " [234.7958, 0.0, 2.0, 0.0, 26.0],\n",
       " [93.4436, 8.0, 2.0, 1.0, 27.0],\n",
       " [212.3902, 3.0, 1.0, 2.0, 15.0],\n",
       " [37.6822, 6.0, 2.0, 1.0, 20.0],\n",
       " [115.3834, 7.0, 2.0, 1.0, 22.0],\n",
       " [177.837, 2.0, 2.0, 1.0, 17.0],\n",
       " [246.7144, 3.0, 1.0, 2.0, 15.0],\n",
       " [48.1718, 3.0, 1.0, 2.0, 15.0],\n",
       " [249.4776, 2.0, 2.0, 1.0, 17.0],\n",
       " [116.5808, 9.0, 1.0, 1.0, 25.0],\n",
       " [91.9778, 3.0, 1.0, 2.0, 15.0],\n",
       " [223.2088, 2.0, 2.0, 1.0, 17.0],\n",
       " [49.0008, 1.0, 0.0, 1.0, 37.0],\n",
       " [181.4318, 3.0, 1.0, 2.0, 15.0],\n",
       " [212.7902, 0.0, 2.0, 0.0, 26.0],\n",
       " [99.0384, 7.0, 2.0, 1.0, 22.0],\n",
       " [186.5924, 2.0, 2.0, 1.0, 17.0],\n",
       " [169.0816, 3.0, 1.0, 2.0, 15.0],\n",
       " [93.2436, 4.0, 2.0, 0.0, 39.0],\n",
       " [94.541, 7.0, 2.0, 1.0, 22.0],\n",
       " [178.9686, 2.0, 2.0, 1.0, 17.0],\n",
       " [158.892, 9.0, 1.0, 1.0, 25.0],\n",
       " [186.8898, 8.0, 2.0, 1.0, 27.0],\n",
       " [172.7106, 9.0, 1.0, 1.0, 25.0],\n",
       " [147.0734, 8.0, 2.0, 1.0, 27.0],\n",
       " [121.673, 8.0, 2.0, 1.0, 27.0],\n",
       " [179.166, 9.0, 1.0, 1.0, 25.0],\n",
       " [99.7042, 9.0, 1.0, 1.0, 25.0],\n",
       " [89.8856, 9.0, 1.0, 1.0, 25.0],\n",
       " [149.5076, 8.0, 2.0, 1.0, 27.0],\n",
       " [178.6344, 9.0, 1.0, 1.0, 25.0],\n",
       " [162.4526, 2.0, 2.0, 1.0, 17.0],\n",
       " [230.1352, 2.0, 2.0, 1.0, 17.0],\n",
       " [165.7526, 7.0, 2.0, 1.0, 22.0],\n",
       " [181.0318, 1.0, 0.0, 1.0, 37.0],\n",
       " [40.848, 0.0, 2.0, 0.0, 26.0],\n",
       " [262.091, 6.0, 2.0, 1.0, 20.0],\n",
       " [112.0518, 0.0, 2.0, 0.0, 26.0],\n",
       " [117.6124, 3.0, 1.0, 2.0, 15.0],\n",
       " [246.2802, 4.0, 2.0, 0.0, 39.0],\n",
       " [85.1882, 6.0, 2.0, 1.0, 20.0],\n",
       " [160.6552, 6.0, 2.0, 1.0, 20.0],\n",
       " [189.6214, 6.0, 2.0, 1.0, 20.0],\n",
       " [40.9822, 8.0, 2.0, 1.0, 27.0],\n",
       " [55.1272, 3.0, 1.0, 2.0, 15.0],\n",
       " [86.4566, 1.0, 0.0, 1.0, 37.0],\n",
       " [56.3614, 0.0, 2.0, 0.0, 26.0],\n",
       " [236.0932, 7.0, 2.0, 1.0, 22.0],\n",
       " [115.3176, 8.0, 2.0, 1.0, 27.0],\n",
       " [129.6626, 1.0, 0.0, 1.0, 37.0],\n",
       " [101.999, 5.0, 1.0, 3.0, 39.0],\n",
       " [183.8292, 7.0, 2.0, 1.0, 22.0],\n",
       " [175.6712, 7.0, 2.0, 1.0, 22.0],\n",
       " [156.463, 9.0, 1.0, 1.0, 25.0],\n",
       " [52.3324, 3.0, 1.0, 2.0, 15.0],\n",
       " [170.979, 5.0, 1.0, 3.0, 39.0],\n",
       " [161.1894, 4.0, 2.0, 0.0, 39.0],\n",
       " [32.39, 3.0, 1.0, 2.0, 15.0],\n",
       " [52.7298, 8.0, 2.0, 1.0, 27.0],\n",
       " [168.45, 1.0, 0.0, 1.0, 37.0],\n",
       " [226.6694, 0.0, 2.0, 0.0, 26.0],\n",
       " [131.7284, 3.0, 1.0, 2.0, 15.0],\n",
       " [50.2008, 7.0, 2.0, 1.0, 22.0],\n",
       " [122.573, 3.0, 1.0, 2.0, 15.0],\n",
       " [184.0924, 3.0, 1.0, 2.0, 15.0],\n",
       " [123.1756, 5.0, 1.0, 3.0, 39.0],\n",
       " [251.0092, 6.0, 2.0, 1.0, 20.0],\n",
       " [253.3698, 5.0, 1.0, 3.0, 39.0],\n",
       " [175.4028, 9.0, 1.0, 1.0, 25.0],\n",
       " [40.0138, 2.0, 2.0, 1.0, 17.0],\n",
       " [264.3226, 3.0, 1.0, 2.0, 15.0],\n",
       " [102.7648, 6.0, 2.0, 1.0, 20.0],\n",
       " [169.1132, 2.0, 2.0, 1.0, 17.0],\n",
       " [172.2422, 4.0, 2.0, 0.0, 39.0],\n",
       " [218.1482, 2.0, 2.0, 1.0, 17.0],\n",
       " [113.4518, 9.0, 1.0, 1.0, 25.0],\n",
       " [222.5088, 5.0, 1.0, 3.0, 39.0],\n",
       " [120.4124, 7.0, 2.0, 1.0, 22.0],\n",
       " [81.9908, 6.0, 2.0, 1.0, 20.0],\n",
       " [106.528, 1.0, 0.0, 1.0, 37.0],\n",
       " [195.8768, 0.0, 2.0, 0.0, 26.0],\n",
       " [244.3144, 5.0, 1.0, 3.0, 39.0],\n",
       " [177.637, 7.0, 2.0, 1.0, 22.0],\n",
       " [131.431, 6.0, 2.0, 1.0, 20.0],\n",
       " [250.6092, 1.0, 0.0, 1.0, 37.0],\n",
       " [141.2154, 9.0, 1.0, 1.0, 25.0],\n",
       " [155.4314, 4.0, 2.0, 0.0, 39.0],\n",
       " [61.651, 2.0, 2.0, 1.0, 17.0],\n",
       " [169.1448, 9.0, 1.0, 1.0, 25.0],\n",
       " [143.8786, 6.0, 2.0, 1.0, 20.0],\n",
       " [44.477, 0.0, 2.0, 0.0, 26.0],\n",
       " [91.283, 3.0, 1.0, 2.0, 15.0],\n",
       " [82.7566, 9.0, 1.0, 1.0, 25.0],\n",
       " [44.8428, 9.0, 1.0, 1.0, 25.0],\n",
       " [49.7034, 2.0, 2.0, 1.0, 17.0],\n",
       " [94.712, 6.0, 2.0, 1.0, 20.0],\n",
       " [186.4924, 5.0, 1.0, 3.0, 39.0],\n",
       " [116.9834, 5.0, 1.0, 3.0, 39.0],\n",
       " [103.8622, 3.0, 1.0, 2.0, 15.0],\n",
       " [173.1054, 5.0, 1.0, 3.0, 39.0],\n",
       " [185.7924, 3.0, 1.0, 2.0, 15.0],\n",
       " [109.1938, 5.0, 1.0, 3.0, 39.0],\n",
       " [237.4564, 4.0, 2.0, 0.0, 39.0],\n",
       " [144.2812, 4.0, 2.0, 0.0, 39.0],\n",
       " [162.9894, 9.0, 1.0, 1.0, 25.0],\n",
       " [63.0826, 7.0, 2.0, 1.0, 22.0],\n",
       " [90.2514, 7.0, 2.0, 1.0, 22.0],\n",
       " [90.283, 1.0, 0.0, 1.0, 37.0],\n",
       " [189.5872, 1.0, 0.0, 1.0, 37.0],\n",
       " [90.5804, 7.0, 2.0, 1.0, 22.0],\n",
       " [224.7404, 2.0, 2.0, 1.0, 17.0],\n",
       " [154.134, 5.0, 1.0, 3.0, 39.0],\n",
       " [110.7544, 8.0, 2.0, 1.0, 27.0],\n",
       " [78.996, 9.0, 1.0, 1.0, 25.0],\n",
       " [109.0912, 3.0, 1.0, 2.0, 15.0],\n",
       " [40.348, 3.0, 1.0, 2.0, 15.0],\n",
       " [112.0544, 6.0, 2.0, 1.0, 20.0],\n",
       " [152.4366, 7.0, 2.0, 1.0, 22.0],\n",
       " [120.8098, 4.0, 2.0, 0.0, 39.0],\n",
       " [188.2556, 2.0, 2.0, 1.0, 17.0],\n",
       " [104.499, 5.0, 1.0, 3.0, 39.0],\n",
       " [125.2046, 1.0, 0.0, 1.0, 37.0],\n",
       " [92.4804, 1.0, 0.0, 1.0, 37.0],\n",
       " [177.0686, 9.0, 1.0, 1.0, 25.0],\n",
       " [34.8216, 2.0, 2.0, 1.0, 17.0],\n",
       " [170.3764, 6.0, 2.0, 1.0, 20.0],\n",
       " [47.3034, 0.0, 2.0, 0.0, 26.0],\n",
       " [166.5474, 8.0, 2.0, 1.0, 27.0],\n",
       " [114.0492, 8.0, 2.0, 1.0, 27.0],\n",
       " [151.8708, 8.0, 2.0, 1.0, 27.0],\n",
       " [181.3318, 2.0, 2.0, 1.0, 17.0],\n",
       " [239.4222, 0.0, 2.0, 0.0, 26.0],\n",
       " [113.3202, 9.0, 1.0, 1.0, 25.0],\n",
       " [263.491, 5.0, 1.0, 3.0, 39.0],\n",
       " [96.5436, 9.0, 1.0, 1.0, 25.0],\n",
       " [99.67, 5.0, 1.0, 3.0, 39.0],\n",
       " [100.6042, 1.0, 0.0, 1.0, 37.0],\n",
       " [162.5526, 1.0, 0.0, 1.0, 37.0],\n",
       " [150.7708, 3.0, 1.0, 2.0, 15.0],\n",
       " [45.5744, 8.0, 2.0, 1.0, 27.0],\n",
       " [108.0912, 8.0, 2.0, 1.0, 27.0],\n",
       " [81.2276, 5.0, 1.0, 3.0, 39.0],\n",
       " [228.9668, 1.0, 0.0, 1.0, 37.0],\n",
       " [129.8626, 9.0, 1.0, 1.0, 25.0],\n",
       " [112.8518, 3.0, 1.0, 2.0, 15.0],\n",
       " [49.1692, 0.0, 2.0, 0.0, 26.0],\n",
       " [263.2568, 5.0, 1.0, 3.0, 39.0],\n",
       " [150.2392, 5.0, 1.0, 3.0, 39.0],\n",
       " [148.2418, 8.0, 2.0, 1.0, 27.0],\n",
       " [178.7028, 5.0, 1.0, 3.0, 39.0],\n",
       " [112.1202, 9.0, 1.0, 1.0, 25.0],\n",
       " [127.7678, 0.0, 2.0, 0.0, 26.0],\n",
       " [151.134, 1.0, 0.0, 1.0, 37.0],\n",
       " [121.273, 0.0, 2.0, 0.0, 26.0],\n",
       " [245.7144, 6.0, 2.0, 1.0, 20.0],\n",
       " [195.7794, 5.0, 1.0, 3.0, 39.0],\n",
       " [116.6492, 8.0, 2.0, 1.0, 27.0],\n",
       " [91.912, 5.0, 1.0, 3.0, 39.0],\n",
       " [147.876, 0.0, 2.0, 0.0, 26.0],\n",
       " [83.4908, 2.0, 2.0, 1.0, 17.0],\n",
       " [101.6332, 0.0, 2.0, 0.0, 26.0],\n",
       " [50.7982, 1.0, 0.0, 1.0, 37.0],\n",
       " [46.706, 7.0, 2.0, 1.0, 22.0],\n",
       " [155.6288, 6.0, 2.0, 1.0, 20.0],\n",
       " [45.106, 5.0, 1.0, 3.0, 39.0],\n",
       " [149.3708, 5.0, 1.0, 3.0, 39.0],\n",
       " [163.621, 5.0, 1.0, 3.0, 39.0],\n",
       " [86.2566, 2.0, 2.0, 1.0, 17.0],\n",
       " [75.2038, 5.0, 1.0, 3.0, 39.0],\n",
       " [62.5536, 6.0, 2.0, 1.0, 20.0],\n",
       " [85.9198, 1.0, 0.0, 1.0, 37.0],\n",
       " [105.5938, 3.0, 1.0, 2.0, 15.0],\n",
       " [154.2656, 8.0, 2.0, 1.0, 27.0],\n",
       " [53.7982, 8.0, 2.0, 1.0, 27.0],\n",
       " [154.463, 6.0, 2.0, 1.0, 20.0],\n",
       " [124.502, 6.0, 2.0, 1.0, 20.0],\n",
       " [159.1578, 5.0, 1.0, 3.0, 39.0],\n",
       " [196.411, 7.0, 2.0, 1.0, 22.0],\n",
       " [261.191, 0.0, 2.0, 0.0, 26.0],\n",
       " [143.147, 3.0, 1.0, 2.0, 15.0],\n",
       " [117.4124, 9.0, 1.0, 1.0, 25.0],\n",
       " [125.5046, 9.0, 1.0, 1.0, 25.0],\n",
       " [214.3218, 9.0, 1.0, 1.0, 25.0],\n",
       " [162.4526, 1.0, 0.0, 1.0, 37.0],\n",
       " [93.2436, 4.0, 2.0, 0.0, 39.0],\n",
       " [193.0136, 5.0, 1.0, 3.0, 39.0],\n",
       " [130.4626, 1.0, 0.0, 1.0, 37.0],\n",
       " [196.311, 5.0, 1.0, 3.0, 39.0],\n",
       " [161.392, 2.0, 2.0, 1.0, 17.0],\n",
       " [37.4822, 2.0, 2.0, 1.0, 17.0],\n",
       " [179.6686, 1.0, 0.0, 1.0, 37.0],\n",
       " [42.1454, 5.0, 1.0, 3.0, 39.0],\n",
       " [124.273, 8.0, 2.0, 1.0, 27.0],\n",
       " [171.7422, 6.0, 2.0, 1.0, 20.0],\n",
       " [109.9228, 1.0, 0.0, 1.0, 37.0],\n",
       " [161.3894, 7.0, 2.0, 1.0, 22.0],\n",
       " [80.7592, 9.0, 1.0, 1.0, 25.0],\n",
       " [170.3474, 7.0, 2.0, 1.0, 22.0],\n",
       " [254.6672, 2.0, 2.0, 1.0, 17.0],\n",
       " [191.782, 7.0, 2.0, 1.0, 22.0],\n",
       " [87.5172, 2.0, 2.0, 1.0, 17.0],\n",
       " [190.2504, 2.0, 2.0, 1.0, 17.0],\n",
       " [55.9298, 6.0, 2.0, 1.0, 20.0],\n",
       " [78.7328, 9.0, 1.0, 1.0, 25.0],\n",
       " [139.6838, 5.0, 1.0, 3.0, 39.0],\n",
       " [99.9016, 2.0, 2.0, 1.0, 17.0],\n",
       " [105.7648, 1.0, 0.0, 1.0, 37.0],\n",
       " [156.963, 6.0, 2.0, 1.0, 20.0],\n",
       " [234.2642, 6.0, 2.0, 1.0, 20.0],\n",
       " [227.372, 5.0, 1.0, 3.0, 39.0],\n",
       " [227.0062, 8.0, 2.0, 1.0, 27.0],\n",
       " [146.3786, 2.0, 2.0, 1.0, 17.0],\n",
       " [109.3912, 9.0, 1.0, 1.0, 25.0],\n",
       " [141.4154, 6.0, 2.0, 1.0, 20.0],\n",
       " [88.783, 7.0, 2.0, 1.0, 22.0],\n",
       " ...]"
      ]
     },
     "execution_count": 586,
     "metadata": {},
     "output_type": "execute_result"
    }
   ],
   "source": [
    "test_final=test_final.values.tolist()\n",
    "test_final"
   ]
  },
  {
   "cell_type": "code",
   "execution_count": 587,
   "metadata": {},
   "outputs": [
    {
     "data": {
      "text/html": [
       "<div>\n",
       "<style scoped>\n",
       "    .dataframe tbody tr th:only-of-type {\n",
       "        vertical-align: middle;\n",
       "    }\n",
       "\n",
       "    .dataframe tbody tr th {\n",
       "        vertical-align: top;\n",
       "    }\n",
       "\n",
       "    .dataframe thead th {\n",
       "        text-align: right;\n",
       "    }\n",
       "</style>\n",
       "<table border=\"1\" class=\"dataframe\">\n",
       "  <thead>\n",
       "    <tr style=\"text-align: right;\">\n",
       "      <th></th>\n",
       "      <th>0</th>\n",
       "    </tr>\n",
       "  </thead>\n",
       "  <tbody>\n",
       "    <tr>\n",
       "      <th>0</th>\n",
       "      <td>1616.179077</td>\n",
       "    </tr>\n",
       "    <tr>\n",
       "      <th>1</th>\n",
       "      <td>1448.785034</td>\n",
       "    </tr>\n",
       "    <tr>\n",
       "      <th>2</th>\n",
       "      <td>588.002075</td>\n",
       "    </tr>\n",
       "    <tr>\n",
       "      <th>3</th>\n",
       "      <td>2536.292969</td>\n",
       "    </tr>\n",
       "    <tr>\n",
       "      <th>4</th>\n",
       "      <td>6212.969238</td>\n",
       "    </tr>\n",
       "    <tr>\n",
       "      <th>...</th>\n",
       "      <td>...</td>\n",
       "    </tr>\n",
       "    <tr>\n",
       "      <th>5676</th>\n",
       "      <td>2059.097656</td>\n",
       "    </tr>\n",
       "    <tr>\n",
       "      <th>5677</th>\n",
       "      <td>2542.495605</td>\n",
       "    </tr>\n",
       "    <tr>\n",
       "      <th>5678</th>\n",
       "      <td>2013.083862</td>\n",
       "    </tr>\n",
       "    <tr>\n",
       "      <th>5679</th>\n",
       "      <td>3655.640381</td>\n",
       "    </tr>\n",
       "    <tr>\n",
       "      <th>5680</th>\n",
       "      <td>1298.196655</td>\n",
       "    </tr>\n",
       "  </tbody>\n",
       "</table>\n",
       "<p>5681 rows × 1 columns</p>\n",
       "</div>"
      ],
      "text/plain": [
       "                0\n",
       "0     1616.179077\n",
       "1     1448.785034\n",
       "2      588.002075\n",
       "3     2536.292969\n",
       "4     6212.969238\n",
       "...           ...\n",
       "5676  2059.097656\n",
       "5677  2542.495605\n",
       "5678  2013.083862\n",
       "5679  3655.640381\n",
       "5680  1298.196655\n",
       "\n",
       "[5681 rows x 1 columns]"
      ]
     },
     "execution_count": 587,
     "metadata": {},
     "output_type": "execute_result"
    }
   ],
   "source": [
    "samp=xg_final.predict(test_final).tolist()\n",
    "f=pd.DataFrame(xg_final.predict(test_final))\n",
    "f\n"
   ]
  },
  {
   "cell_type": "code",
   "execution_count": 588,
   "metadata": {},
   "outputs": [
    {
     "data": {
      "text/plain": [
       "array([1616.1791], dtype=float32)"
      ]
     },
     "execution_count": 588,
     "metadata": {},
     "output_type": "execute_result"
    }
   ],
   "source": [
    "f.loc[0].values"
   ]
  },
  {
   "cell_type": "code",
   "execution_count": 589,
   "metadata": {},
   "outputs": [
    {
     "name": "stdout",
     "output_type": "stream",
     "text": [
      "Sales Value for 1st test data is between [901.7591] and [2330.599]\n"
     ]
    }
   ],
   "source": [
    "print(f\"Sales Value for 1st test data is between {(f.loc[0].values)-714.42} and {(f.loc[0].values)+714.42}\")"
   ]
  },
  {
   "cell_type": "code",
   "execution_count": 590,
   "metadata": {},
   "outputs": [
    {
     "data": {
      "text/plain": [
       "count     8523.000000\n",
       "mean      2181.288914\n",
       "std       1706.499616\n",
       "min         33.290000\n",
       "25%        834.247400\n",
       "50%       1794.331000\n",
       "75%       3101.296400\n",
       "max      13086.964800\n",
       "Name: Item_Outlet_Sales, dtype: float64"
      ]
     },
     "execution_count": 590,
     "metadata": {},
     "output_type": "execute_result"
    }
   ],
   "source": [
    "y.describe()"
   ]
  },
  {
   "cell_type": "code",
   "execution_count": 598,
   "metadata": {},
   "outputs": [
    {
     "data": {
      "image/png": "[encoded data removed]",
      "text/plain": [
       "<Figure size 800x600 with 1 Axes>"
      ]
     },
     "metadata": {},
     "output_type": "display_data"
    },
    {
     "name": "stdout",
     "output_type": "stream",
     "text": [
      "Confusion Matrix:\n",
      "Low       373\n",
      "Medium    630\n",
      "High      322\n",
      "dtype: int64\n"
     ]
    }
   ],
   "source": [
    "from sklearn.metrics import confusion_matrix\n",
    "\n",
    "# Preprocess the test data similar to how you preprocessed the train data\n",
    "# (Fill missing values, encode categorical variables, drop unnecessary columns, etc.)\n",
    "\n",
    "# Assume you have the predictions 'y_pred' from your model\n",
    "# Bin the predicted values into categories: Low, Medium, High\n",
    "bins = [67.919762, 1043.674561, 3081.811523, 6298.360840]\n",
    "labels = ['Low', 'Medium','High']\n",
    "\n",
    "# Binning the predicted values\n",
    "predicted_categories = pd.cut(samp, bins=bins, labels=labels)\n",
    "\n",
    "# Count the occurrences for each predicted label\n",
    "conf_matrix = pd.Series(predicted_categories).value_counts().reindex(labels, fill_value=0)\n",
    "\n",
    "# Plot the confusion matrix\n",
    "plt.figure(figsize=(8, 6))\n",
    "conf_matrix.plot(kind='bar', color='blue', alpha=0.7)\n",
    "plt.title('Confusion Matrix')\n",
    "plt.xlabel('Predicted Sales Categories')\n",
    "plt.ylabel('Count')\n",
    "plt.xticks(rotation=45)\n",
    "plt.tight_layout()\n",
    "plt.show()\n",
    "\n",
    "# Print the confusion matrix\n",
    "print(\"Confusion Matrix:\")\n",
    "print(conf_matrix)\n"
   ]
  },
  {
   "cell_type": "markdown",
   "metadata": {},
   "source": [
    "Save Model Using Joblib"
   ]
  },
  {
   "cell_type": "code",
   "execution_count": 599,
   "metadata": {},
   "outputs": [
    {
     "data": {
      "text/plain": [
       "['bigmart_model']"
      ]
     },
     "execution_count": 599,
     "metadata": {},
     "output_type": "execute_result"
    }
   ],
   "source": [
    "joblib.dump(xg_final,'bigmart_model')\n"
   ]
  },
  {
   "cell_type": "code",
   "execution_count": 600,
   "metadata": {},
   "outputs": [],
   "source": [
    "model = joblib.load('bigmart_model')"
   ]
  }
 ],
 "metadata": {
  "kernelspec": {
   "display_name": "Python 3",
   "language": "python",
   "name": "python3"
  },
  "language_info": {
   "codemirror_mode": {
    "name": "ipython",
    "version": 3
   },
   "file_extension": ".py",
   "mimetype": "text/x-python",
   "name": "python",
   "nbconvert_exporter": "python",
   "pygments_lexer": "ipython3",
   "version": "3.10.2"
  }
 },
 "nbformat": 4,
 "nbformat_minor": 2
}
