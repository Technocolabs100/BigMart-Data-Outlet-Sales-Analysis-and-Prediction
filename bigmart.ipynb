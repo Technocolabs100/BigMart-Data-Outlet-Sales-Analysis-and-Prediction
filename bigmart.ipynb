{
 "cells": [
  {
   "cell_type": "code",
   "execution_count": 300,
   "metadata": {},
   "outputs": [],
   "source": [
    "import pandas as pd\n",
    "import numpy as np\n",
    "import seaborn as sns\n",
    "import matplotlib.pyplot as plt\n",
    "\n",
    "dataset = pd.read_csv(r'C:\\Users\\DELL\\Downloads\\9961_14084_bundle_archive\\Train.csv')"
   ]
  },
  {
   "cell_type": "code",
   "execution_count": 301,
   "metadata": {},
   "outputs": [
    {
     "data": {
      "text/html": [
       "<div>\n",
       "<style scoped>\n",
       "    .dataframe tbody tr th:only-of-type {\n",
       "        vertical-align: middle;\n",
       "    }\n",
       "\n",
       "    .dataframe tbody tr th {\n",
       "        vertical-align: top;\n",
       "    }\n",
       "\n",
       "    .dataframe thead th {\n",
       "        text-align: right;\n",
       "    }\n",
       "</style>\n",
       "<table border=\"1\" class=\"dataframe\">\n",
       "  <thead>\n",
       "    <tr style=\"text-align: right;\">\n",
       "      <th></th>\n",
       "      <th>Item_Identifier</th>\n",
       "      <th>Item_Weight</th>\n",
       "      <th>Item_Fat_Content</th>\n",
       "      <th>Item_Visibility</th>\n",
       "      <th>Item_Type</th>\n",
       "      <th>Item_MRP</th>\n",
       "      <th>Outlet_Identifier</th>\n",
       "      <th>Outlet_Establishment_Year</th>\n",
       "      <th>Outlet_Size</th>\n",
       "      <th>Outlet_Location_Type</th>\n",
       "      <th>Outlet_Type</th>\n",
       "      <th>Item_Outlet_Sales</th>\n",
       "    </tr>\n",
       "  </thead>\n",
       "  <tbody>\n",
       "    <tr>\n",
       "      <th>0</th>\n",
       "      <td>FDA15</td>\n",
       "      <td>9.30</td>\n",
       "      <td>Low Fat</td>\n",
       "      <td>0.016047</td>\n",
       "      <td>Dairy</td>\n",
       "      <td>249.8092</td>\n",
       "      <td>OUT049</td>\n",
       "      <td>1999</td>\n",
       "      <td>Medium</td>\n",
       "      <td>Tier 1</td>\n",
       "      <td>Supermarket Type1</td>\n",
       "      <td>3735.1380</td>\n",
       "    </tr>\n",
       "    <tr>\n",
       "      <th>1</th>\n",
       "      <td>DRC01</td>\n",
       "      <td>5.92</td>\n",
       "      <td>Regular</td>\n",
       "      <td>0.019278</td>\n",
       "      <td>Soft Drinks</td>\n",
       "      <td>48.2692</td>\n",
       "      <td>OUT018</td>\n",
       "      <td>2009</td>\n",
       "      <td>Medium</td>\n",
       "      <td>Tier 3</td>\n",
       "      <td>Supermarket Type2</td>\n",
       "      <td>443.4228</td>\n",
       "    </tr>\n",
       "    <tr>\n",
       "      <th>2</th>\n",
       "      <td>FDN15</td>\n",
       "      <td>17.50</td>\n",
       "      <td>Low Fat</td>\n",
       "      <td>0.016760</td>\n",
       "      <td>Meat</td>\n",
       "      <td>141.6180</td>\n",
       "      <td>OUT049</td>\n",
       "      <td>1999</td>\n",
       "      <td>Medium</td>\n",
       "      <td>Tier 1</td>\n",
       "      <td>Supermarket Type1</td>\n",
       "      <td>2097.2700</td>\n",
       "    </tr>\n",
       "    <tr>\n",
       "      <th>3</th>\n",
       "      <td>FDX07</td>\n",
       "      <td>19.20</td>\n",
       "      <td>Regular</td>\n",
       "      <td>0.000000</td>\n",
       "      <td>Fruits and Vegetables</td>\n",
       "      <td>182.0950</td>\n",
       "      <td>OUT010</td>\n",
       "      <td>1998</td>\n",
       "      <td>NaN</td>\n",
       "      <td>Tier 3</td>\n",
       "      <td>Grocery Store</td>\n",
       "      <td>732.3800</td>\n",
       "    </tr>\n",
       "    <tr>\n",
       "      <th>4</th>\n",
       "      <td>NCD19</td>\n",
       "      <td>8.93</td>\n",
       "      <td>Low Fat</td>\n",
       "      <td>0.000000</td>\n",
       "      <td>Household</td>\n",
       "      <td>53.8614</td>\n",
       "      <td>OUT013</td>\n",
       "      <td>1987</td>\n",
       "      <td>High</td>\n",
       "      <td>Tier 3</td>\n",
       "      <td>Supermarket Type1</td>\n",
       "      <td>994.7052</td>\n",
       "    </tr>\n",
       "  </tbody>\n",
       "</table>\n",
       "</div>"
      ],
      "text/plain": [
       "  Item_Identifier  Item_Weight Item_Fat_Content  Item_Visibility  \\\n",
       "0           FDA15         9.30          Low Fat         0.016047   \n",
       "1           DRC01         5.92          Regular         0.019278   \n",
       "2           FDN15        17.50          Low Fat         0.016760   \n",
       "3           FDX07        19.20          Regular         0.000000   \n",
       "4           NCD19         8.93          Low Fat         0.000000   \n",
       "\n",
       "               Item_Type  Item_MRP Outlet_Identifier  \\\n",
       "0                  Dairy  249.8092            OUT049   \n",
       "1            Soft Drinks   48.2692            OUT018   \n",
       "2                   Meat  141.6180            OUT049   \n",
       "3  Fruits and Vegetables  182.0950            OUT010   \n",
       "4              Household   53.8614            OUT013   \n",
       "\n",
       "   Outlet_Establishment_Year Outlet_Size Outlet_Location_Type  \\\n",
       "0                       1999      Medium               Tier 1   \n",
       "1                       2009      Medium               Tier 3   \n",
       "2                       1999      Medium               Tier 1   \n",
       "3                       1998         NaN               Tier 3   \n",
       "4                       1987        High               Tier 3   \n",
       "\n",
       "         Outlet_Type  Item_Outlet_Sales  \n",
       "0  Supermarket Type1          3735.1380  \n",
       "1  Supermarket Type2           443.4228  \n",
       "2  Supermarket Type1          2097.2700  \n",
       "3      Grocery Store           732.3800  \n",
       "4  Supermarket Type1           994.7052  "
      ]
     },
     "execution_count": 301,
     "metadata": {},
     "output_type": "execute_result"
    }
   ],
   "source": [
    "dataset.head()"
   ]
  },
  {
   "cell_type": "markdown",
   "metadata": {},
   "source": [
    "Exploratory data analysis"
   ]
  },
  {
   "cell_type": "markdown",
   "metadata": {},
   "source": [
    "finding shape of the dataset"
   ]
  },
  {
   "cell_type": "code",
   "execution_count": 302,
   "metadata": {},
   "outputs": [
    {
     "data": {
      "text/plain": [
       "(8523, 12)"
      ]
     },
     "execution_count": 302,
     "metadata": {},
     "output_type": "execute_result"
    }
   ],
   "source": [
    "dataset.shape"
   ]
  },
  {
   "cell_type": "code",
   "execution_count": 303,
   "metadata": {},
   "outputs": [
    {
     "data": {
      "text/html": [
       "<div>\n",
       "<style scoped>\n",
       "    .dataframe tbody tr th:only-of-type {\n",
       "        vertical-align: middle;\n",
       "    }\n",
       "\n",
       "    .dataframe tbody tr th {\n",
       "        vertical-align: top;\n",
       "    }\n",
       "\n",
       "    .dataframe thead th {\n",
       "        text-align: right;\n",
       "    }\n",
       "</style>\n",
       "<table border=\"1\" class=\"dataframe\">\n",
       "  <thead>\n",
       "    <tr style=\"text-align: right;\">\n",
       "      <th></th>\n",
       "      <th>Item_Weight</th>\n",
       "      <th>Item_Visibility</th>\n",
       "      <th>Item_MRP</th>\n",
       "      <th>Outlet_Establishment_Year</th>\n",
       "      <th>Item_Outlet_Sales</th>\n",
       "    </tr>\n",
       "  </thead>\n",
       "  <tbody>\n",
       "    <tr>\n",
       "      <th>count</th>\n",
       "      <td>7060.000000</td>\n",
       "      <td>8523.000000</td>\n",
       "      <td>8523.000000</td>\n",
       "      <td>8523.000000</td>\n",
       "      <td>8523.000000</td>\n",
       "    </tr>\n",
       "    <tr>\n",
       "      <th>mean</th>\n",
       "      <td>12.857645</td>\n",
       "      <td>0.066132</td>\n",
       "      <td>140.992782</td>\n",
       "      <td>1997.831867</td>\n",
       "      <td>2181.288914</td>\n",
       "    </tr>\n",
       "    <tr>\n",
       "      <th>std</th>\n",
       "      <td>4.643456</td>\n",
       "      <td>0.051598</td>\n",
       "      <td>62.275067</td>\n",
       "      <td>8.371760</td>\n",
       "      <td>1706.499616</td>\n",
       "    </tr>\n",
       "    <tr>\n",
       "      <th>min</th>\n",
       "      <td>4.555000</td>\n",
       "      <td>0.000000</td>\n",
       "      <td>31.290000</td>\n",
       "      <td>1985.000000</td>\n",
       "      <td>33.290000</td>\n",
       "    </tr>\n",
       "    <tr>\n",
       "      <th>25%</th>\n",
       "      <td>8.773750</td>\n",
       "      <td>0.026989</td>\n",
       "      <td>93.826500</td>\n",
       "      <td>1987.000000</td>\n",
       "      <td>834.247400</td>\n",
       "    </tr>\n",
       "    <tr>\n",
       "      <th>50%</th>\n",
       "      <td>12.600000</td>\n",
       "      <td>0.053931</td>\n",
       "      <td>143.012800</td>\n",
       "      <td>1999.000000</td>\n",
       "      <td>1794.331000</td>\n",
       "    </tr>\n",
       "    <tr>\n",
       "      <th>75%</th>\n",
       "      <td>16.850000</td>\n",
       "      <td>0.094585</td>\n",
       "      <td>185.643700</td>\n",
       "      <td>2004.000000</td>\n",
       "      <td>3101.296400</td>\n",
       "    </tr>\n",
       "    <tr>\n",
       "      <th>max</th>\n",
       "      <td>21.350000</td>\n",
       "      <td>0.328391</td>\n",
       "      <td>266.888400</td>\n",
       "      <td>2009.000000</td>\n",
       "      <td>13086.964800</td>\n",
       "    </tr>\n",
       "  </tbody>\n",
       "</table>\n",
       "</div>"
      ],
      "text/plain": [
       "       Item_Weight  Item_Visibility     Item_MRP  Outlet_Establishment_Year  \\\n",
       "count  7060.000000      8523.000000  8523.000000                8523.000000   \n",
       "mean     12.857645         0.066132   140.992782                1997.831867   \n",
       "std       4.643456         0.051598    62.275067                   8.371760   \n",
       "min       4.555000         0.000000    31.290000                1985.000000   \n",
       "25%       8.773750         0.026989    93.826500                1987.000000   \n",
       "50%      12.600000         0.053931   143.012800                1999.000000   \n",
       "75%      16.850000         0.094585   185.643700                2004.000000   \n",
       "max      21.350000         0.328391   266.888400                2009.000000   \n",
       "\n",
       "       Item_Outlet_Sales  \n",
       "count        8523.000000  \n",
       "mean         2181.288914  \n",
       "std          1706.499616  \n",
       "min            33.290000  \n",
       "25%           834.247400  \n",
       "50%          1794.331000  \n",
       "75%          3101.296400  \n",
       "max         13086.964800  "
      ]
     },
     "execution_count": 303,
     "metadata": {},
     "output_type": "execute_result"
    }
   ],
   "source": [
    "dataset.describe()"
   ]
  },
  {
   "cell_type": "markdown",
   "metadata": {},
   "source": [
    "checking\n",
    " null values in the dataset"
   ]
  },
  {
   "cell_type": "code",
   "execution_count": 304,
   "metadata": {},
   "outputs": [
    {
     "data": {
      "text/plain": [
       "Item_Identifier                 0\n",
       "Item_Weight                  1463\n",
       "Item_Fat_Content                0\n",
       "Item_Visibility                 0\n",
       "Item_Type                       0\n",
       "Item_MRP                        0\n",
       "Outlet_Identifier               0\n",
       "Outlet_Establishment_Year       0\n",
       "Outlet_Size                  2410\n",
       "Outlet_Location_Type            0\n",
       "Outlet_Type                     0\n",
       "Item_Outlet_Sales               0\n",
       "dtype: int64"
      ]
     },
     "execution_count": 304,
     "metadata": {},
     "output_type": "execute_result"
    }
   ],
   "source": [
    "dataset.isnull().sum()"
   ]
  },
  {
   "cell_type": "code",
   "execution_count": 305,
   "metadata": {},
   "outputs": [
    {
     "name": "stdout",
     "output_type": "stream",
     "text": [
      "Item_Identifier               0.000000\n",
      "Item_Weight                  17.165317\n",
      "Item_Fat_Content              0.000000\n",
      "Item_Visibility               0.000000\n",
      "Item_Type                     0.000000\n",
      "Item_MRP                      0.000000\n",
      "Outlet_Identifier             0.000000\n",
      "Outlet_Establishment_Year     0.000000\n",
      "Outlet_Size                  28.276428\n",
      "Outlet_Location_Type          0.000000\n",
      "Outlet_Type                   0.000000\n",
      "Item_Outlet_Sales             0.000000\n",
      "dtype: float64\n"
     ]
    }
   ],
   "source": [
    "per = dataset.isnull().sum() * 100 / len(dataset)\n",
    "print(per)"
   ]
  },
  {
   "cell_type": "code",
   "execution_count": 306,
   "metadata": {},
   "outputs": [
    {
     "data": {
      "text/plain": [
       "False"
      ]
     },
     "execution_count": 306,
     "metadata": {},
     "output_type": "execute_result"
    }
   ],
   "source": [
    "dataset.duplicated().any()"
   ]
  },
  {
   "cell_type": "markdown",
   "metadata": {},
   "source": [
    "Handling missing values"
   ]
  },
  {
   "cell_type": "code",
   "execution_count": 307,
   "metadata": {},
   "outputs": [
    {
     "data": {
      "text/plain": [
       "0        9.300\n",
       "1        5.920\n",
       "2       17.500\n",
       "3       19.200\n",
       "4        8.930\n",
       "         ...  \n",
       "8518     6.865\n",
       "8519     8.380\n",
       "8520    10.600\n",
       "8521     7.210\n",
       "8522    14.800\n",
       "Name: Item_Weight, Length: 8523, dtype: float64"
      ]
     },
     "execution_count": 307,
     "metadata": {},
     "output_type": "execute_result"
    }
   ],
   "source": [
    "dataset['Item_Weight']"
   ]
  },
  {
   "cell_type": "code",
   "execution_count": 308,
   "metadata": {},
   "outputs": [
    {
     "data": {
      "text/plain": [
       "0       Medium\n",
       "1       Medium\n",
       "2       Medium\n",
       "3          NaN\n",
       "4         High\n",
       "         ...  \n",
       "8518      High\n",
       "8519       NaN\n",
       "8520     Small\n",
       "8521    Medium\n",
       "8522     Small\n",
       "Name: Outlet_Size, Length: 8523, dtype: object"
      ]
     },
     "execution_count": 308,
     "metadata": {},
     "output_type": "execute_result"
    }
   ],
   "source": [
    "dataset['Outlet_Size']"
   ]
  },
  {
   "cell_type": "markdown",
   "metadata": {},
   "source": [
    "Univariate Inputation"
   ]
  },
  {
   "cell_type": "code",
   "execution_count": 309,
   "metadata": {},
   "outputs": [
    {
     "name": "stdout",
     "output_type": "stream",
     "text": [
      "12.857645184135976\n",
      "12.6\n"
     ]
    }
   ],
   "source": [
    "mean_weight=dataset['Item_Weight'].mean()\n",
    "median_weight=dataset['Item_Weight'].median()\n",
    "print(mean_weight)\n",
    "print(median_weight)"
   ]
  },
  {
   "cell_type": "code",
   "execution_count": 310,
   "metadata": {},
   "outputs": [
    {
     "name": "stdout",
     "output_type": "stream",
     "text": [
      "0        9.300\n",
      "1        5.920\n",
      "2       17.500\n",
      "3       19.200\n",
      "4        8.930\n",
      "         ...  \n",
      "8518     6.865\n",
      "8519     8.380\n",
      "8520    10.600\n",
      "8521     7.210\n",
      "8522    14.800\n",
      "Name: item_weight_mean, Length: 8523, dtype: float64 0        9.300\n",
      "1        5.920\n",
      "2       17.500\n",
      "3       19.200\n",
      "4        8.930\n",
      "         ...  \n",
      "8518     6.865\n",
      "8519     8.380\n",
      "8520    10.600\n",
      "8521     7.210\n",
      "8522    14.800\n",
      "Name: item_weight_median, Length: 8523, dtype: float64\n"
     ]
    }
   ],
   "source": [
    "dataset['item_weight_mean']=dataset['Item_Weight'].fillna(mean_weight)\n",
    "dataset['item_weight_median']=dataset['Item_Weight'].fillna(median_weight)\n",
    "print(dataset['item_weight_mean'],dataset['item_weight_median'])"
   ]
  },
  {
   "cell_type": "code",
   "execution_count": 311,
   "metadata": {},
   "outputs": [
    {
     "data": {
      "text/html": [
       "<div>\n",
       "<style scoped>\n",
       "    .dataframe tbody tr th:only-of-type {\n",
       "        vertical-align: middle;\n",
       "    }\n",
       "\n",
       "    .dataframe tbody tr th {\n",
       "        vertical-align: top;\n",
       "    }\n",
       "\n",
       "    .dataframe thead th {\n",
       "        text-align: right;\n",
       "    }\n",
       "</style>\n",
       "<table border=\"1\" class=\"dataframe\">\n",
       "  <thead>\n",
       "    <tr style=\"text-align: right;\">\n",
       "      <th></th>\n",
       "      <th>Item_Identifier</th>\n",
       "      <th>Item_Weight</th>\n",
       "      <th>Item_Fat_Content</th>\n",
       "      <th>Item_Visibility</th>\n",
       "      <th>Item_Type</th>\n",
       "      <th>Item_MRP</th>\n",
       "      <th>Outlet_Identifier</th>\n",
       "      <th>Outlet_Establishment_Year</th>\n",
       "      <th>Outlet_Size</th>\n",
       "      <th>Outlet_Location_Type</th>\n",
       "      <th>Outlet_Type</th>\n",
       "      <th>Item_Outlet_Sales</th>\n",
       "      <th>item_weight_mean</th>\n",
       "      <th>item_weight_median</th>\n",
       "    </tr>\n",
       "  </thead>\n",
       "  <tbody>\n",
       "    <tr>\n",
       "      <th>0</th>\n",
       "      <td>FDA15</td>\n",
       "      <td>9.30</td>\n",
       "      <td>Low Fat</td>\n",
       "      <td>0.016047</td>\n",
       "      <td>Dairy</td>\n",
       "      <td>249.8092</td>\n",
       "      <td>OUT049</td>\n",
       "      <td>1999</td>\n",
       "      <td>Medium</td>\n",
       "      <td>Tier 1</td>\n",
       "      <td>Supermarket Type1</td>\n",
       "      <td>3735.1380</td>\n",
       "      <td>9.30</td>\n",
       "      <td>9.30</td>\n",
       "    </tr>\n",
       "    <tr>\n",
       "      <th>1</th>\n",
       "      <td>DRC01</td>\n",
       "      <td>5.92</td>\n",
       "      <td>Regular</td>\n",
       "      <td>0.019278</td>\n",
       "      <td>Soft Drinks</td>\n",
       "      <td>48.2692</td>\n",
       "      <td>OUT018</td>\n",
       "      <td>2009</td>\n",
       "      <td>Medium</td>\n",
       "      <td>Tier 3</td>\n",
       "      <td>Supermarket Type2</td>\n",
       "      <td>443.4228</td>\n",
       "      <td>5.92</td>\n",
       "      <td>5.92</td>\n",
       "    </tr>\n",
       "    <tr>\n",
       "      <th>2</th>\n",
       "      <td>FDN15</td>\n",
       "      <td>17.50</td>\n",
       "      <td>Low Fat</td>\n",
       "      <td>0.016760</td>\n",
       "      <td>Meat</td>\n",
       "      <td>141.6180</td>\n",
       "      <td>OUT049</td>\n",
       "      <td>1999</td>\n",
       "      <td>Medium</td>\n",
       "      <td>Tier 1</td>\n",
       "      <td>Supermarket Type1</td>\n",
       "      <td>2097.2700</td>\n",
       "      <td>17.50</td>\n",
       "      <td>17.50</td>\n",
       "    </tr>\n",
       "    <tr>\n",
       "      <th>3</th>\n",
       "      <td>FDX07</td>\n",
       "      <td>19.20</td>\n",
       "      <td>Regular</td>\n",
       "      <td>0.000000</td>\n",
       "      <td>Fruits and Vegetables</td>\n",
       "      <td>182.0950</td>\n",
       "      <td>OUT010</td>\n",
       "      <td>1998</td>\n",
       "      <td>NaN</td>\n",
       "      <td>Tier 3</td>\n",
       "      <td>Grocery Store</td>\n",
       "      <td>732.3800</td>\n",
       "      <td>19.20</td>\n",
       "      <td>19.20</td>\n",
       "    </tr>\n",
       "    <tr>\n",
       "      <th>4</th>\n",
       "      <td>NCD19</td>\n",
       "      <td>8.93</td>\n",
       "      <td>Low Fat</td>\n",
       "      <td>0.000000</td>\n",
       "      <td>Household</td>\n",
       "      <td>53.8614</td>\n",
       "      <td>OUT013</td>\n",
       "      <td>1987</td>\n",
       "      <td>High</td>\n",
       "      <td>Tier 3</td>\n",
       "      <td>Supermarket Type1</td>\n",
       "      <td>994.7052</td>\n",
       "      <td>8.93</td>\n",
       "      <td>8.93</td>\n",
       "    </tr>\n",
       "  </tbody>\n",
       "</table>\n",
       "</div>"
      ],
      "text/plain": [
       "  Item_Identifier  Item_Weight Item_Fat_Content  Item_Visibility  \\\n",
       "0           FDA15         9.30          Low Fat         0.016047   \n",
       "1           DRC01         5.92          Regular         0.019278   \n",
       "2           FDN15        17.50          Low Fat         0.016760   \n",
       "3           FDX07        19.20          Regular         0.000000   \n",
       "4           NCD19         8.93          Low Fat         0.000000   \n",
       "\n",
       "               Item_Type  Item_MRP Outlet_Identifier  \\\n",
       "0                  Dairy  249.8092            OUT049   \n",
       "1            Soft Drinks   48.2692            OUT018   \n",
       "2                   Meat  141.6180            OUT049   \n",
       "3  Fruits and Vegetables  182.0950            OUT010   \n",
       "4              Household   53.8614            OUT013   \n",
       "\n",
       "   Outlet_Establishment_Year Outlet_Size Outlet_Location_Type  \\\n",
       "0                       1999      Medium               Tier 1   \n",
       "1                       2009      Medium               Tier 3   \n",
       "2                       1999      Medium               Tier 1   \n",
       "3                       1998         NaN               Tier 3   \n",
       "4                       1987        High               Tier 3   \n",
       "\n",
       "         Outlet_Type  Item_Outlet_Sales  item_weight_mean  item_weight_median  \n",
       "0  Supermarket Type1          3735.1380              9.30                9.30  \n",
       "1  Supermarket Type2           443.4228              5.92                5.92  \n",
       "2  Supermarket Type1          2097.2700             17.50               17.50  \n",
       "3      Grocery Store           732.3800             19.20               19.20  \n",
       "4  Supermarket Type1           994.7052              8.93                8.93  "
      ]
     },
     "execution_count": 311,
     "metadata": {},
     "output_type": "execute_result"
    }
   ],
   "source": [
    "dataset.head()"
   ]
  },
  {
   "cell_type": "code",
   "execution_count": 312,
   "metadata": {},
   "outputs": [
    {
     "name": "stdout",
     "output_type": "stream",
     "text": [
      "original weight variable var 21.561688259836558\n",
      "Item weight var after mean imputation 17.86012173506058\n",
      "item weight var after median imputation 17.869561454073647\n"
     ]
    }
   ],
   "source": [
    "print(\"original weight variable var\",dataset['Item_Weight'].var())\n",
    "print(\"Item weight var after mean imputation\",dataset['item_weight_mean'].var())\n",
    "print(\"item weight var after median imputation\",dataset['item_weight_median'].var())"
   ]
  },
  {
   "cell_type": "markdown",
   "metadata": {},
   "source": [
    "Mean and median Inputation analysis"
   ]
  },
  {
   "cell_type": "code",
   "execution_count": 313,
   "metadata": {},
   "outputs": [
    {
     "data": {
      "image/png": "[encoded data removed]",
      "text/plain": [
       "<Figure size 640x480 with 1 Axes>"
      ]
     },
     "metadata": {},
     "output_type": "display_data"
    }
   ],
   "source": [
    "dataset['Item_Weight'].plot(kind=\"kde\",label=\"Original\")\n",
    "dataset['item_weight_mean'].plot(kind=\"kde\",label=\"mean\")\n",
    "dataset['item_weight_median'].plot(kind=\"kde\",label=\"median\")\n",
    "\n",
    "plt.legend()\n",
    "plt.show()"
   ]
  },
  {
   "cell_type": "code",
   "execution_count": 314,
   "metadata": {},
   "outputs": [
    {
     "data": {
      "text/plain": [
       "<Axes: >"
      ]
     },
     "execution_count": 314,
     "metadata": {},
     "output_type": "execute_result"
    },
    {
     "data": {
      "image/png": "[encoded data removed]",
      "text/plain": [
       "<Figure size 640x480 with 1 Axes>"
      ]
     },
     "metadata": {},
     "output_type": "display_data"
    }
   ],
   "source": [
    "dataset[['Item_Weight','item_weight_mean','item_weight_median']].boxplot()"
   ]
  },
  {
   "cell_type": "markdown",
   "metadata": {},
   "source": [
    "Interpolation"
   ]
  },
  {
   "cell_type": "code",
   "execution_count": 315,
   "metadata": {},
   "outputs": [
    {
     "data": {
      "image/png": "[encoded data removed]",
      "text/plain": [
       "<Figure size 640x480 with 1 Axes>"
      ]
     },
     "metadata": {},
     "output_type": "display_data"
    }
   ],
   "source": [
    "dataset['item_weight_interpolate']=dataset['Item_Weight'].interpolate(method='linear')\n",
    "dataset['Item_Weight'].plot(kind=\"kde\",label=\"Original\")\n",
    "dataset['item_weight_interpolate'].plot(kind=\"kde\",label=\"interpolate\")\n",
    "plt.legend()\n",
    "plt.show()"
   ]
  },
  {
   "cell_type": "code",
   "execution_count": 316,
   "metadata": {},
   "outputs": [
    {
     "data": {
      "text/plain": [
       "<Axes: >"
      ]
     },
     "execution_count": 316,
     "metadata": {},
     "output_type": "execute_result"
    },
    {
     "data": {
      "image/png": "[encoded data removed]",
      "text/plain": [
       "<Figure size 640x480 with 1 Axes>"
      ]
     },
     "metadata": {},
     "output_type": "display_data"
    }
   ],
   "source": [
    "dataset[['Item_Weight','item_weight_interpolate']].boxplot()"
   ]
  },
  {
   "cell_type": "code",
   "execution_count": 317,
   "metadata": {},
   "outputs": [
    {
     "data": {
      "text/plain": [
       "Index(['Item_Identifier', 'Item_Weight', 'Item_Fat_Content', 'Item_Visibility',\n",
       "       'Item_Type', 'Item_MRP', 'Outlet_Identifier',\n",
       "       'Outlet_Establishment_Year', 'Outlet_Size', 'Outlet_Location_Type',\n",
       "       'Outlet_Type', 'Item_Outlet_Sales', 'item_weight_mean',\n",
       "       'item_weight_median', 'item_weight_interpolate'],\n",
       "      dtype='object')"
      ]
     },
     "execution_count": 317,
     "metadata": {},
     "output_type": "execute_result"
    }
   ],
   "source": [
    "dataset.columns"
   ]
  },
  {
   "cell_type": "code",
   "execution_count": 318,
   "metadata": {},
   "outputs": [
    {
     "data": {
      "text/html": [
       "<div>\n",
       "<style scoped>\n",
       "    .dataframe tbody tr th:only-of-type {\n",
       "        vertical-align: middle;\n",
       "    }\n",
       "\n",
       "    .dataframe tbody tr th {\n",
       "        vertical-align: top;\n",
       "    }\n",
       "\n",
       "    .dataframe thead th {\n",
       "        text-align: right;\n",
       "    }\n",
       "</style>\n",
       "<table border=\"1\" class=\"dataframe\">\n",
       "  <thead>\n",
       "    <tr style=\"text-align: right;\">\n",
       "      <th></th>\n",
       "      <th>Item_Identifier</th>\n",
       "      <th>Item_Fat_Content</th>\n",
       "      <th>Item_Visibility</th>\n",
       "      <th>Item_Type</th>\n",
       "      <th>Item_MRP</th>\n",
       "      <th>Outlet_Identifier</th>\n",
       "      <th>Outlet_Establishment_Year</th>\n",
       "      <th>Outlet_Size</th>\n",
       "      <th>Outlet_Location_Type</th>\n",
       "      <th>Outlet_Type</th>\n",
       "      <th>Item_Outlet_Sales</th>\n",
       "      <th>item_weight_interpolate</th>\n",
       "    </tr>\n",
       "  </thead>\n",
       "  <tbody>\n",
       "    <tr>\n",
       "      <th>0</th>\n",
       "      <td>FDA15</td>\n",
       "      <td>Low Fat</td>\n",
       "      <td>0.016047</td>\n",
       "      <td>Dairy</td>\n",
       "      <td>249.8092</td>\n",
       "      <td>OUT049</td>\n",
       "      <td>1999</td>\n",
       "      <td>Medium</td>\n",
       "      <td>Tier 1</td>\n",
       "      <td>Supermarket Type1</td>\n",
       "      <td>3735.1380</td>\n",
       "      <td>9.30</td>\n",
       "    </tr>\n",
       "    <tr>\n",
       "      <th>1</th>\n",
       "      <td>DRC01</td>\n",
       "      <td>Regular</td>\n",
       "      <td>0.019278</td>\n",
       "      <td>Soft Drinks</td>\n",
       "      <td>48.2692</td>\n",
       "      <td>OUT018</td>\n",
       "      <td>2009</td>\n",
       "      <td>Medium</td>\n",
       "      <td>Tier 3</td>\n",
       "      <td>Supermarket Type2</td>\n",
       "      <td>443.4228</td>\n",
       "      <td>5.92</td>\n",
       "    </tr>\n",
       "    <tr>\n",
       "      <th>2</th>\n",
       "      <td>FDN15</td>\n",
       "      <td>Low Fat</td>\n",
       "      <td>0.016760</td>\n",
       "      <td>Meat</td>\n",
       "      <td>141.6180</td>\n",
       "      <td>OUT049</td>\n",
       "      <td>1999</td>\n",
       "      <td>Medium</td>\n",
       "      <td>Tier 1</td>\n",
       "      <td>Supermarket Type1</td>\n",
       "      <td>2097.2700</td>\n",
       "      <td>17.50</td>\n",
       "    </tr>\n",
       "    <tr>\n",
       "      <th>3</th>\n",
       "      <td>FDX07</td>\n",
       "      <td>Regular</td>\n",
       "      <td>0.000000</td>\n",
       "      <td>Fruits and Vegetables</td>\n",
       "      <td>182.0950</td>\n",
       "      <td>OUT010</td>\n",
       "      <td>1998</td>\n",
       "      <td>NaN</td>\n",
       "      <td>Tier 3</td>\n",
       "      <td>Grocery Store</td>\n",
       "      <td>732.3800</td>\n",
       "      <td>19.20</td>\n",
       "    </tr>\n",
       "    <tr>\n",
       "      <th>4</th>\n",
       "      <td>NCD19</td>\n",
       "      <td>Low Fat</td>\n",
       "      <td>0.000000</td>\n",
       "      <td>Household</td>\n",
       "      <td>53.8614</td>\n",
       "      <td>OUT013</td>\n",
       "      <td>1987</td>\n",
       "      <td>High</td>\n",
       "      <td>Tier 3</td>\n",
       "      <td>Supermarket Type1</td>\n",
       "      <td>994.7052</td>\n",
       "      <td>8.93</td>\n",
       "    </tr>\n",
       "  </tbody>\n",
       "</table>\n",
       "</div>"
      ],
      "text/plain": [
       "  Item_Identifier Item_Fat_Content  Item_Visibility              Item_Type  \\\n",
       "0           FDA15          Low Fat         0.016047                  Dairy   \n",
       "1           DRC01          Regular         0.019278            Soft Drinks   \n",
       "2           FDN15          Low Fat         0.016760                   Meat   \n",
       "3           FDX07          Regular         0.000000  Fruits and Vegetables   \n",
       "4           NCD19          Low Fat         0.000000              Household   \n",
       "\n",
       "   Item_MRP Outlet_Identifier  Outlet_Establishment_Year Outlet_Size  \\\n",
       "0  249.8092            OUT049                       1999      Medium   \n",
       "1   48.2692            OUT018                       2009      Medium   \n",
       "2  141.6180            OUT049                       1999      Medium   \n",
       "3  182.0950            OUT010                       1998         NaN   \n",
       "4   53.8614            OUT013                       1987        High   \n",
       "\n",
       "  Outlet_Location_Type        Outlet_Type  Item_Outlet_Sales  \\\n",
       "0               Tier 1  Supermarket Type1          3735.1380   \n",
       "1               Tier 3  Supermarket Type2           443.4228   \n",
       "2               Tier 1  Supermarket Type1          2097.2700   \n",
       "3               Tier 3      Grocery Store           732.3800   \n",
       "4               Tier 3  Supermarket Type1           994.7052   \n",
       "\n",
       "   item_weight_interpolate  \n",
       "0                     9.30  \n",
       "1                     5.92  \n",
       "2                    17.50  \n",
       "3                    19.20  \n",
       "4                     8.93  "
      ]
     },
     "execution_count": 318,
     "metadata": {},
     "output_type": "execute_result"
    }
   ],
   "source": [
    "dataset=dataset.drop(['Item_Weight','item_weight_mean','item_weight_median'],axis=1)\n",
    "dataset.head()"
   ]
  },
  {
   "cell_type": "code",
   "execution_count": 319,
   "metadata": {},
   "outputs": [
    {
     "data": {
      "text/plain": [
       "Item_Identifier                 0\n",
       "Item_Fat_Content                0\n",
       "Item_Visibility                 0\n",
       "Item_Type                       0\n",
       "Item_MRP                        0\n",
       "Outlet_Identifier               0\n",
       "Outlet_Establishment_Year       0\n",
       "Outlet_Size                  2410\n",
       "Outlet_Location_Type            0\n",
       "Outlet_Type                     0\n",
       "Item_Outlet_Sales               0\n",
       "item_weight_interpolate         0\n",
       "dtype: int64"
      ]
     },
     "execution_count": 319,
     "metadata": {},
     "output_type": "execute_result"
    }
   ],
   "source": [
    "dataset.isnull().sum()"
   ]
  },
  {
   "cell_type": "markdown",
   "metadata": {},
   "source": [
    "Outlet_Size"
   ]
  },
  {
   "cell_type": "code",
   "execution_count": 320,
   "metadata": {},
   "outputs": [
    {
     "data": {
      "text/plain": [
       "Outlet_Size\n",
       "Medium    2793\n",
       "Small     2388\n",
       "High       932\n",
       "Name: count, dtype: int64"
      ]
     },
     "execution_count": 320,
     "metadata": {},
     "output_type": "execute_result"
    }
   ],
   "source": [
    "dataset['Outlet_Size'].value_counts()"
   ]
  },
  {
   "cell_type": "code",
   "execution_count": 321,
   "metadata": {},
   "outputs": [
    {
     "data": {
      "text/plain": [
       "Outlet_Type\n",
       "Supermarket Type1    5577\n",
       "Grocery Store        1083\n",
       "Supermarket Type3     935\n",
       "Supermarket Type2     928\n",
       "Name: count, dtype: int64"
      ]
     },
     "execution_count": 321,
     "metadata": {},
     "output_type": "execute_result"
    }
   ],
   "source": [
    "dataset['Outlet_Type'].value_counts()"
   ]
  },
  {
   "cell_type": "code",
   "execution_count": 322,
   "metadata": {},
   "outputs": [
    {
     "data": {
      "text/html": [
       "<div>\n",
       "<style scoped>\n",
       "    .dataframe tbody tr th:only-of-type {\n",
       "        vertical-align: middle;\n",
       "    }\n",
       "\n",
       "    .dataframe tbody tr th {\n",
       "        vertical-align: top;\n",
       "    }\n",
       "\n",
       "    .dataframe thead th {\n",
       "        text-align: right;\n",
       "    }\n",
       "</style>\n",
       "<table border=\"1\" class=\"dataframe\">\n",
       "  <thead>\n",
       "    <tr style=\"text-align: right;\">\n",
       "      <th>Outlet_Type</th>\n",
       "      <th>Grocery Store</th>\n",
       "      <th>Supermarket Type1</th>\n",
       "      <th>Supermarket Type2</th>\n",
       "      <th>Supermarket Type3</th>\n",
       "    </tr>\n",
       "  </thead>\n",
       "  <tbody>\n",
       "    <tr>\n",
       "      <th>Outlet_Size</th>\n",
       "      <td>Small</td>\n",
       "      <td>Small</td>\n",
       "      <td>Medium</td>\n",
       "      <td>Medium</td>\n",
       "    </tr>\n",
       "  </tbody>\n",
       "</table>\n",
       "</div>"
      ],
      "text/plain": [
       "Outlet_Type Grocery Store Supermarket Type1 Supermarket Type2  \\\n",
       "Outlet_Size         Small             Small            Medium   \n",
       "\n",
       "Outlet_Type Supermarket Type3  \n",
       "Outlet_Size            Medium  "
      ]
     },
     "execution_count": 322,
     "metadata": {},
     "output_type": "execute_result"
    }
   ],
   "source": [
    "mode_outlet=dataset.pivot_table(values='Outlet_Size', columns='Outlet_Type',aggfunc=(lambda x:x.mode()[0]))\n",
    "mode_outlet"
   ]
  },
  {
   "cell_type": "code",
   "execution_count": 323,
   "metadata": {},
   "outputs": [
    {
     "data": {
      "text/plain": [
       "0       False\n",
       "1       False\n",
       "2       False\n",
       "3        True\n",
       "4       False\n",
       "        ...  \n",
       "8518    False\n",
       "8519     True\n",
       "8520    False\n",
       "8521    False\n",
       "8522    False\n",
       "Name: Outlet_Size, Length: 8523, dtype: bool"
      ]
     },
     "execution_count": 323,
     "metadata": {},
     "output_type": "execute_result"
    }
   ],
   "source": [
    "missing_values=dataset['Outlet_Size'].isnull()\n",
    "missing_values"
   ]
  },
  {
   "cell_type": "code",
   "execution_count": 324,
   "metadata": {},
   "outputs": [],
   "source": [
    "dataset.loc[missing_values,'Outlet_Size']=dataset.loc[missing_values,'Outlet_Type'].apply(lambda x:mode_outlet[x])"
   ]
  },
  {
   "cell_type": "code",
   "execution_count": 325,
   "metadata": {},
   "outputs": [
    {
     "data": {
      "text/plain": [
       "Item_Identifier              0\n",
       "Item_Fat_Content             0\n",
       "Item_Visibility              0\n",
       "Item_Type                    0\n",
       "Item_MRP                     0\n",
       "Outlet_Identifier            0\n",
       "Outlet_Establishment_Year    0\n",
       "Outlet_Size                  0\n",
       "Outlet_Location_Type         0\n",
       "Outlet_Type                  0\n",
       "Item_Outlet_Sales            0\n",
       "item_weight_interpolate      0\n",
       "dtype: int64"
      ]
     },
     "execution_count": 325,
     "metadata": {},
     "output_type": "execute_result"
    }
   ],
   "source": [
    "dataset.isnull().sum()"
   ]
  },
  {
   "cell_type": "code",
   "execution_count": 326,
   "metadata": {},
   "outputs": [
    {
     "data": {
      "text/plain": [
       "Index(['Item_Identifier', 'Item_Fat_Content', 'Item_Visibility', 'Item_Type',\n",
       "       'Item_MRP', 'Outlet_Identifier', 'Outlet_Establishment_Year',\n",
       "       'Outlet_Size', 'Outlet_Location_Type', 'Outlet_Type',\n",
       "       'Item_Outlet_Sales', 'item_weight_interpolate'],\n",
       "      dtype='object')"
      ]
     },
     "execution_count": 326,
     "metadata": {},
     "output_type": "execute_result"
    }
   ],
   "source": [
    "dataset.columns"
   ]
  },
  {
   "cell_type": "markdown",
   "metadata": {},
   "source": [
    "Item_Fat_Content"
   ]
  },
  {
   "cell_type": "code",
   "execution_count": 327,
   "metadata": {},
   "outputs": [
    {
     "data": {
      "text/plain": [
       "Item_Fat_Content\n",
       "Low Fat    5089\n",
       "Regular    2889\n",
       "LF          316\n",
       "reg         117\n",
       "low fat     112\n",
       "Name: count, dtype: int64"
      ]
     },
     "execution_count": 327,
     "metadata": {},
     "output_type": "execute_result"
    }
   ],
   "source": [
    "dataset['Item_Fat_Content'].value_counts()"
   ]
  },
  {
   "cell_type": "code",
   "execution_count": 328,
   "metadata": {},
   "outputs": [],
   "source": [
    "dataset.replace({'Item_Fat_Content':{'reg':'Regular','LF':'Low Fat','low fat':'Low Fat'}},inplace=True)"
   ]
  },
  {
   "cell_type": "code",
   "execution_count": 329,
   "metadata": {},
   "outputs": [
    {
     "data": {
      "text/plain": [
       "Item_Fat_Content\n",
       "Low Fat    5517\n",
       "Regular    3006\n",
       "Name: count, dtype: int64"
      ]
     },
     "execution_count": 329,
     "metadata": {},
     "output_type": "execute_result"
    }
   ],
   "source": [
    "dataset['Item_Fat_Content'].value_counts()"
   ]
  },
  {
   "cell_type": "code",
   "execution_count": 330,
   "metadata": {},
   "outputs": [
    {
     "data": {
      "text/plain": [
       "Index(['Item_Identifier', 'Item_Fat_Content', 'Item_Visibility', 'Item_Type',\n",
       "       'Item_MRP', 'Outlet_Identifier', 'Outlet_Establishment_Year',\n",
       "       'Outlet_Size', 'Outlet_Location_Type', 'Outlet_Type',\n",
       "       'Item_Outlet_Sales', 'item_weight_interpolate'],\n",
       "      dtype='object')"
      ]
     },
     "execution_count": 330,
     "metadata": {},
     "output_type": "execute_result"
    }
   ],
   "source": [
    "dataset.columns"
   ]
  },
  {
   "cell_type": "code",
   "execution_count": 331,
   "metadata": {},
   "outputs": [
    {
     "data": {
      "text/plain": [
       "Item_Visibility\n",
       "0.000000    526\n",
       "0.076975      3\n",
       "0.162462      2\n",
       "0.076841      2\n",
       "0.073562      2\n",
       "           ... \n",
       "0.013957      1\n",
       "0.110460      1\n",
       "0.124646      1\n",
       "0.054142      1\n",
       "0.044878      1\n",
       "Name: count, Length: 7880, dtype: int64"
      ]
     },
     "execution_count": 331,
     "metadata": {},
     "output_type": "execute_result"
    }
   ],
   "source": [
    "dataset['Item_Visibility'].value_counts()"
   ]
  },
  {
   "cell_type": "code",
   "execution_count": 332,
   "metadata": {},
   "outputs": [
    {
     "data": {
      "text/plain": [
       "item_visibility_interpolate\n",
       "0.076975    3\n",
       "0.044024    2\n",
       "0.040912    2\n",
       "0.076856    2\n",
       "0.078759    2\n",
       "           ..\n",
       "0.021011    1\n",
       "0.099189    1\n",
       "0.076866    1\n",
       "0.014116    1\n",
       "0.044878    1\n",
       "Name: count, Length: 8405, dtype: int64"
      ]
     },
     "execution_count": 332,
     "metadata": {},
     "output_type": "execute_result"
    }
   ],
   "source": [
    "dataset['item_visibility_interpolate']=dataset['Item_Visibility'].replace(0,np.nan).interpolate(method='linear')\n",
    "dataset['item_visibility_interpolate'].value_counts()"
   ]
  },
  {
   "cell_type": "code",
   "execution_count": 333,
   "metadata": {},
   "outputs": [
    {
     "data": {
      "image/png": "[encoded data removed]",
      "text/plain": [
       "<Figure size 640x480 with 1 Axes>"
      ]
     },
     "metadata": {},
     "output_type": "display_data"
    }
   ],
   "source": [
    "dataset['Item_Visibility'].plot(kind=\"kde\",label=\"original\")\n",
    "dataset['item_visibility_interpolate'].plot(kind=\"kde\",label=\"interpolate\")\n",
    "plt.legend()\n",
    "plt.show()"
   ]
  },
  {
   "cell_type": "code",
   "execution_count": 334,
   "metadata": {},
   "outputs": [],
   "source": [
    "dataset=dataset.drop('Item_Visibility',axis=1)"
   ]
  },
  {
   "cell_type": "code",
   "execution_count": 335,
   "metadata": {},
   "outputs": [
    {
     "data": {
      "text/html": [
       "<div>\n",
       "<style scoped>\n",
       "    .dataframe tbody tr th:only-of-type {\n",
       "        vertical-align: middle;\n",
       "    }\n",
       "\n",
       "    .dataframe tbody tr th {\n",
       "        vertical-align: top;\n",
       "    }\n",
       "\n",
       "    .dataframe thead th {\n",
       "        text-align: right;\n",
       "    }\n",
       "</style>\n",
       "<table border=\"1\" class=\"dataframe\">\n",
       "  <thead>\n",
       "    <tr style=\"text-align: right;\">\n",
       "      <th></th>\n",
       "      <th>Item_Identifier</th>\n",
       "      <th>Item_Fat_Content</th>\n",
       "      <th>Item_Type</th>\n",
       "      <th>Item_MRP</th>\n",
       "      <th>Outlet_Identifier</th>\n",
       "      <th>Outlet_Establishment_Year</th>\n",
       "      <th>Outlet_Size</th>\n",
       "      <th>Outlet_Location_Type</th>\n",
       "      <th>Outlet_Type</th>\n",
       "      <th>Item_Outlet_Sales</th>\n",
       "      <th>item_weight_interpolate</th>\n",
       "      <th>item_visibility_interpolate</th>\n",
       "    </tr>\n",
       "  </thead>\n",
       "  <tbody>\n",
       "    <tr>\n",
       "      <th>0</th>\n",
       "      <td>FDA15</td>\n",
       "      <td>Low Fat</td>\n",
       "      <td>Dairy</td>\n",
       "      <td>249.8092</td>\n",
       "      <td>OUT049</td>\n",
       "      <td>1999</td>\n",
       "      <td>Medium</td>\n",
       "      <td>Tier 1</td>\n",
       "      <td>Supermarket Type1</td>\n",
       "      <td>3735.1380</td>\n",
       "      <td>9.30</td>\n",
       "      <td>0.016047</td>\n",
       "    </tr>\n",
       "    <tr>\n",
       "      <th>1</th>\n",
       "      <td>DRC01</td>\n",
       "      <td>Regular</td>\n",
       "      <td>Soft Drinks</td>\n",
       "      <td>48.2692</td>\n",
       "      <td>OUT018</td>\n",
       "      <td>2009</td>\n",
       "      <td>Medium</td>\n",
       "      <td>Tier 3</td>\n",
       "      <td>Supermarket Type2</td>\n",
       "      <td>443.4228</td>\n",
       "      <td>5.92</td>\n",
       "      <td>0.019278</td>\n",
       "    </tr>\n",
       "    <tr>\n",
       "      <th>2</th>\n",
       "      <td>FDN15</td>\n",
       "      <td>Low Fat</td>\n",
       "      <td>Meat</td>\n",
       "      <td>141.6180</td>\n",
       "      <td>OUT049</td>\n",
       "      <td>1999</td>\n",
       "      <td>Medium</td>\n",
       "      <td>Tier 1</td>\n",
       "      <td>Supermarket Type1</td>\n",
       "      <td>2097.2700</td>\n",
       "      <td>17.50</td>\n",
       "      <td>0.016760</td>\n",
       "    </tr>\n",
       "    <tr>\n",
       "      <th>3</th>\n",
       "      <td>FDX07</td>\n",
       "      <td>Regular</td>\n",
       "      <td>Fruits and Vegetables</td>\n",
       "      <td>182.0950</td>\n",
       "      <td>OUT010</td>\n",
       "      <td>1998</td>\n",
       "      <td>Small</td>\n",
       "      <td>Tier 3</td>\n",
       "      <td>Grocery Store</td>\n",
       "      <td>732.3800</td>\n",
       "      <td>19.20</td>\n",
       "      <td>0.015755</td>\n",
       "    </tr>\n",
       "    <tr>\n",
       "      <th>4</th>\n",
       "      <td>NCD19</td>\n",
       "      <td>Low Fat</td>\n",
       "      <td>Household</td>\n",
       "      <td>53.8614</td>\n",
       "      <td>OUT013</td>\n",
       "      <td>1987</td>\n",
       "      <td>High</td>\n",
       "      <td>Tier 3</td>\n",
       "      <td>Supermarket Type1</td>\n",
       "      <td>994.7052</td>\n",
       "      <td>8.93</td>\n",
       "      <td>0.014751</td>\n",
       "    </tr>\n",
       "  </tbody>\n",
       "</table>\n",
       "</div>"
      ],
      "text/plain": [
       "  Item_Identifier Item_Fat_Content              Item_Type  Item_MRP  \\\n",
       "0           FDA15          Low Fat                  Dairy  249.8092   \n",
       "1           DRC01          Regular            Soft Drinks   48.2692   \n",
       "2           FDN15          Low Fat                   Meat  141.6180   \n",
       "3           FDX07          Regular  Fruits and Vegetables  182.0950   \n",
       "4           NCD19          Low Fat              Household   53.8614   \n",
       "\n",
       "  Outlet_Identifier  Outlet_Establishment_Year Outlet_Size  \\\n",
       "0            OUT049                       1999      Medium   \n",
       "1            OUT018                       2009      Medium   \n",
       "2            OUT049                       1999      Medium   \n",
       "3            OUT010                       1998       Small   \n",
       "4            OUT013                       1987        High   \n",
       "\n",
       "  Outlet_Location_Type        Outlet_Type  Item_Outlet_Sales  \\\n",
       "0               Tier 1  Supermarket Type1          3735.1380   \n",
       "1               Tier 3  Supermarket Type2           443.4228   \n",
       "2               Tier 1  Supermarket Type1          2097.2700   \n",
       "3               Tier 3      Grocery Store           732.3800   \n",
       "4               Tier 3  Supermarket Type1           994.7052   \n",
       "\n",
       "   item_weight_interpolate  item_visibility_interpolate  \n",
       "0                     9.30                     0.016047  \n",
       "1                     5.92                     0.019278  \n",
       "2                    17.50                     0.016760  \n",
       "3                    19.20                     0.015755  \n",
       "4                     8.93                     0.014751  "
      ]
     },
     "execution_count": 335,
     "metadata": {},
     "output_type": "execute_result"
    }
   ],
   "source": [
    "dataset.head()"
   ]
  },
  {
   "cell_type": "code",
   "execution_count": 336,
   "metadata": {},
   "outputs": [
    {
     "data": {
      "text/plain": [
       "Index(['Item_Identifier', 'Item_Fat_Content', 'Item_Type', 'Item_MRP',\n",
       "       'Outlet_Identifier', 'Outlet_Establishment_Year', 'Outlet_Size',\n",
       "       'Outlet_Location_Type', 'Outlet_Type', 'Item_Outlet_Sales',\n",
       "       'item_weight_interpolate', 'item_visibility_interpolate'],\n",
       "      dtype='object')"
      ]
     },
     "execution_count": 336,
     "metadata": {},
     "output_type": "execute_result"
    }
   ],
   "source": [
    "dataset.columns"
   ]
  },
  {
   "cell_type": "code",
   "execution_count": 337,
   "metadata": {},
   "outputs": [
    {
     "data": {
      "text/plain": [
       "Item_Identifier\n",
       "FDL34    8\n",
       "FDX15    6\n",
       "FDS58    5\n",
       "FDZ23    7\n",
       "FDS39    3\n",
       "Name: count, dtype: int64"
      ]
     },
     "execution_count": 337,
     "metadata": {},
     "output_type": "execute_result"
    }
   ],
   "source": [
    "dataset['Item_Identifier'].value_counts().sample(5)"
   ]
  },
  {
   "cell_type": "code",
   "execution_count": 338,
   "metadata": {},
   "outputs": [
    {
     "data": {
      "text/plain": [
       "Item_Identifier\n",
       "FD    6125\n",
       "NC    1599\n",
       "DR     799\n",
       "Name: count, dtype: int64"
      ]
     },
     "execution_count": 338,
     "metadata": {},
     "output_type": "execute_result"
    }
   ],
   "source": [
    "dataset['Item_Identifier']=dataset['Item_Identifier'].apply(lambda x:x[:2])\n",
    "dataset['Item_Identifier'].value_counts()"
   ]
  },
  {
   "cell_type": "code",
   "execution_count": 339,
   "metadata": {},
   "outputs": [
    {
     "data": {
      "text/plain": [
       "Index(['Item_Identifier', 'Item_Fat_Content', 'Item_Type', 'Item_MRP',\n",
       "       'Outlet_Identifier', 'Outlet_Establishment_Year', 'Outlet_Size',\n",
       "       'Outlet_Location_Type', 'Outlet_Type', 'Item_Outlet_Sales',\n",
       "       'item_weight_interpolate', 'item_visibility_interpolate'],\n",
       "      dtype='object')"
      ]
     },
     "execution_count": 339,
     "metadata": {},
     "output_type": "execute_result"
    }
   ],
   "source": [
    "dataset.columns"
   ]
  },
  {
   "cell_type": "code",
   "execution_count": 340,
   "metadata": {},
   "outputs": [
    {
     "data": {
      "text/plain": [
       "0       1999\n",
       "1       2009\n",
       "2       1999\n",
       "3       1998\n",
       "4       1987\n",
       "        ... \n",
       "8518    1987\n",
       "8519    2002\n",
       "8520    2004\n",
       "8521    2009\n",
       "8522    1997\n",
       "Name: Outlet_Establishment_Year, Length: 8523, dtype: int64"
      ]
     },
     "execution_count": 340,
     "metadata": {},
     "output_type": "execute_result"
    }
   ],
   "source": [
    "dataset['Outlet_Establishment_Year']"
   ]
  },
  {
   "cell_type": "code",
   "execution_count": 341,
   "metadata": {},
   "outputs": [
    {
     "data": {
      "image/png": "[encoded data removed]",
      "text/plain": [
       "<Figure size 500x500 with 1 Axes>"
      ]
     },
     "metadata": {},
     "output_type": "display_data"
    }
   ],
   "source": [
    "plt.figure(figsize=(5,5))\n",
    "sns.countplot(x='Outlet_Establishment_Year',data=dataset)\n",
    "plt.show()"
   ]
  },
  {
   "cell_type": "code",
   "execution_count": 342,
   "metadata": {},
   "outputs": [],
   "source": [
    "import datetime as dt"
   ]
  },
  {
   "cell_type": "code",
   "execution_count": 343,
   "metadata": {},
   "outputs": [
    {
     "data": {
      "text/plain": [
       "2024"
      ]
     },
     "execution_count": 343,
     "metadata": {},
     "output_type": "execute_result"
    }
   ],
   "source": [
    "current_year=dt.datetime.today().year\n",
    "current_year"
   ]
  },
  {
   "cell_type": "code",
   "execution_count": 344,
   "metadata": {},
   "outputs": [
    {
     "data": {
      "text/plain": [
       "0    25\n",
       "1    15\n",
       "2    25\n",
       "3    26\n",
       "4    37\n",
       "Name: outlet_age, dtype: int64"
      ]
     },
     "execution_count": 344,
     "metadata": {},
     "output_type": "execute_result"
    }
   ],
   "source": [
    "dataset['outlet_age']=current_year-dataset['Outlet_Establishment_Year']\n",
    "dataset['outlet_age'].head()"
   ]
  },
  {
   "cell_type": "code",
   "execution_count": 345,
   "metadata": {},
   "outputs": [
    {
     "data": {
      "text/html": [
       "<div>\n",
       "<style scoped>\n",
       "    .dataframe tbody tr th:only-of-type {\n",
       "        vertical-align: middle;\n",
       "    }\n",
       "\n",
       "    .dataframe tbody tr th {\n",
       "        vertical-align: top;\n",
       "    }\n",
       "\n",
       "    .dataframe thead th {\n",
       "        text-align: right;\n",
       "    }\n",
       "</style>\n",
       "<table border=\"1\" class=\"dataframe\">\n",
       "  <thead>\n",
       "    <tr style=\"text-align: right;\">\n",
       "      <th></th>\n",
       "      <th>Item_Identifier</th>\n",
       "      <th>Item_Fat_Content</th>\n",
       "      <th>Item_Type</th>\n",
       "      <th>Item_MRP</th>\n",
       "      <th>Outlet_Identifier</th>\n",
       "      <th>Outlet_Establishment_Year</th>\n",
       "      <th>Outlet_Size</th>\n",
       "      <th>Outlet_Location_Type</th>\n",
       "      <th>Outlet_Type</th>\n",
       "      <th>Item_Outlet_Sales</th>\n",
       "      <th>item_weight_interpolate</th>\n",
       "      <th>item_visibility_interpolate</th>\n",
       "      <th>outlet_age</th>\n",
       "    </tr>\n",
       "  </thead>\n",
       "  <tbody>\n",
       "    <tr>\n",
       "      <th>0</th>\n",
       "      <td>FD</td>\n",
       "      <td>Low Fat</td>\n",
       "      <td>Dairy</td>\n",
       "      <td>249.8092</td>\n",
       "      <td>OUT049</td>\n",
       "      <td>1999</td>\n",
       "      <td>Medium</td>\n",
       "      <td>Tier 1</td>\n",
       "      <td>Supermarket Type1</td>\n",
       "      <td>3735.1380</td>\n",
       "      <td>9.30</td>\n",
       "      <td>0.016047</td>\n",
       "      <td>25</td>\n",
       "    </tr>\n",
       "    <tr>\n",
       "      <th>1</th>\n",
       "      <td>DR</td>\n",
       "      <td>Regular</td>\n",
       "      <td>Soft Drinks</td>\n",
       "      <td>48.2692</td>\n",
       "      <td>OUT018</td>\n",
       "      <td>2009</td>\n",
       "      <td>Medium</td>\n",
       "      <td>Tier 3</td>\n",
       "      <td>Supermarket Type2</td>\n",
       "      <td>443.4228</td>\n",
       "      <td>5.92</td>\n",
       "      <td>0.019278</td>\n",
       "      <td>15</td>\n",
       "    </tr>\n",
       "  </tbody>\n",
       "</table>\n",
       "</div>"
      ],
      "text/plain": [
       "  Item_Identifier Item_Fat_Content    Item_Type  Item_MRP Outlet_Identifier  \\\n",
       "0              FD          Low Fat        Dairy  249.8092            OUT049   \n",
       "1              DR          Regular  Soft Drinks   48.2692            OUT018   \n",
       "\n",
       "   Outlet_Establishment_Year Outlet_Size Outlet_Location_Type  \\\n",
       "0                       1999      Medium               Tier 1   \n",
       "1                       2009      Medium               Tier 3   \n",
       "\n",
       "         Outlet_Type  Item_Outlet_Sales  item_weight_interpolate  \\\n",
       "0  Supermarket Type1          3735.1380                     9.30   \n",
       "1  Supermarket Type2           443.4228                     5.92   \n",
       "\n",
       "   item_visibility_interpolate  outlet_age  \n",
       "0                     0.016047          25  \n",
       "1                     0.019278          15  "
      ]
     },
     "execution_count": 345,
     "metadata": {},
     "output_type": "execute_result"
    }
   ],
   "source": [
    "dataset.head(2)"
   ]
  },
  {
   "cell_type": "code",
   "execution_count": 346,
   "metadata": {},
   "outputs": [],
   "source": [
    "dataset=dataset.drop('Outlet_Establishment_Year',axis=1)"
   ]
  },
  {
   "cell_type": "code",
   "execution_count": 347,
   "metadata": {},
   "outputs": [
    {
     "data": {
      "text/html": [
       "<div>\n",
       "<style scoped>\n",
       "    .dataframe tbody tr th:only-of-type {\n",
       "        vertical-align: middle;\n",
       "    }\n",
       "\n",
       "    .dataframe tbody tr th {\n",
       "        vertical-align: top;\n",
       "    }\n",
       "\n",
       "    .dataframe thead th {\n",
       "        text-align: right;\n",
       "    }\n",
       "</style>\n",
       "<table border=\"1\" class=\"dataframe\">\n",
       "  <thead>\n",
       "    <tr style=\"text-align: right;\">\n",
       "      <th></th>\n",
       "      <th>Item_Identifier</th>\n",
       "      <th>Item_Fat_Content</th>\n",
       "      <th>Item_Type</th>\n",
       "      <th>Item_MRP</th>\n",
       "      <th>Outlet_Identifier</th>\n",
       "      <th>Outlet_Size</th>\n",
       "      <th>Outlet_Location_Type</th>\n",
       "      <th>Outlet_Type</th>\n",
       "      <th>Item_Outlet_Sales</th>\n",
       "      <th>item_weight_interpolate</th>\n",
       "      <th>item_visibility_interpolate</th>\n",
       "      <th>outlet_age</th>\n",
       "    </tr>\n",
       "  </thead>\n",
       "  <tbody>\n",
       "    <tr>\n",
       "      <th>0</th>\n",
       "      <td>FD</td>\n",
       "      <td>Low Fat</td>\n",
       "      <td>Dairy</td>\n",
       "      <td>249.8092</td>\n",
       "      <td>OUT049</td>\n",
       "      <td>Medium</td>\n",
       "      <td>Tier 1</td>\n",
       "      <td>Supermarket Type1</td>\n",
       "      <td>3735.1380</td>\n",
       "      <td>9.30</td>\n",
       "      <td>0.016047</td>\n",
       "      <td>25</td>\n",
       "    </tr>\n",
       "    <tr>\n",
       "      <th>1</th>\n",
       "      <td>DR</td>\n",
       "      <td>Regular</td>\n",
       "      <td>Soft Drinks</td>\n",
       "      <td>48.2692</td>\n",
       "      <td>OUT018</td>\n",
       "      <td>Medium</td>\n",
       "      <td>Tier 3</td>\n",
       "      <td>Supermarket Type2</td>\n",
       "      <td>443.4228</td>\n",
       "      <td>5.92</td>\n",
       "      <td>0.019278</td>\n",
       "      <td>15</td>\n",
       "    </tr>\n",
       "    <tr>\n",
       "      <th>2</th>\n",
       "      <td>FD</td>\n",
       "      <td>Low Fat</td>\n",
       "      <td>Meat</td>\n",
       "      <td>141.6180</td>\n",
       "      <td>OUT049</td>\n",
       "      <td>Medium</td>\n",
       "      <td>Tier 1</td>\n",
       "      <td>Supermarket Type1</td>\n",
       "      <td>2097.2700</td>\n",
       "      <td>17.50</td>\n",
       "      <td>0.016760</td>\n",
       "      <td>25</td>\n",
       "    </tr>\n",
       "    <tr>\n",
       "      <th>3</th>\n",
       "      <td>FD</td>\n",
       "      <td>Regular</td>\n",
       "      <td>Fruits and Vegetables</td>\n",
       "      <td>182.0950</td>\n",
       "      <td>OUT010</td>\n",
       "      <td>Small</td>\n",
       "      <td>Tier 3</td>\n",
       "      <td>Grocery Store</td>\n",
       "      <td>732.3800</td>\n",
       "      <td>19.20</td>\n",
       "      <td>0.015755</td>\n",
       "      <td>26</td>\n",
       "    </tr>\n",
       "    <tr>\n",
       "      <th>4</th>\n",
       "      <td>NC</td>\n",
       "      <td>Low Fat</td>\n",
       "      <td>Household</td>\n",
       "      <td>53.8614</td>\n",
       "      <td>OUT013</td>\n",
       "      <td>High</td>\n",
       "      <td>Tier 3</td>\n",
       "      <td>Supermarket Type1</td>\n",
       "      <td>994.7052</td>\n",
       "      <td>8.93</td>\n",
       "      <td>0.014751</td>\n",
       "      <td>37</td>\n",
       "    </tr>\n",
       "  </tbody>\n",
       "</table>\n",
       "</div>"
      ],
      "text/plain": [
       "  Item_Identifier Item_Fat_Content              Item_Type  Item_MRP  \\\n",
       "0              FD          Low Fat                  Dairy  249.8092   \n",
       "1              DR          Regular            Soft Drinks   48.2692   \n",
       "2              FD          Low Fat                   Meat  141.6180   \n",
       "3              FD          Regular  Fruits and Vegetables  182.0950   \n",
       "4              NC          Low Fat              Household   53.8614   \n",
       "\n",
       "  Outlet_Identifier Outlet_Size Outlet_Location_Type        Outlet_Type  \\\n",
       "0            OUT049      Medium               Tier 1  Supermarket Type1   \n",
       "1            OUT018      Medium               Tier 3  Supermarket Type2   \n",
       "2            OUT049      Medium               Tier 1  Supermarket Type1   \n",
       "3            OUT010       Small               Tier 3      Grocery Store   \n",
       "4            OUT013        High               Tier 3  Supermarket Type1   \n",
       "\n",
       "   Item_Outlet_Sales  item_weight_interpolate  item_visibility_interpolate  \\\n",
       "0          3735.1380                     9.30                     0.016047   \n",
       "1           443.4228                     5.92                     0.019278   \n",
       "2          2097.2700                    17.50                     0.016760   \n",
       "3           732.3800                    19.20                     0.015755   \n",
       "4           994.7052                     8.93                     0.014751   \n",
       "\n",
       "   outlet_age  \n",
       "0          25  \n",
       "1          15  \n",
       "2          25  \n",
       "3          26  \n",
       "4          37  "
      ]
     },
     "execution_count": 347,
     "metadata": {},
     "output_type": "execute_result"
    }
   ],
   "source": [
    "dataset.head()"
   ]
  },
  {
   "cell_type": "code",
   "execution_count": 348,
   "metadata": {},
   "outputs": [],
   "source": [
    "from sklearn.preprocessing import OrdinalEncoder"
   ]
  },
  {
   "cell_type": "code",
   "execution_count": 349,
   "metadata": {},
   "outputs": [],
   "source": [
    "data_encoded=dataset.copy()"
   ]
  },
  {
   "cell_type": "code",
   "execution_count": 350,
   "metadata": {},
   "outputs": [],
   "source": [
    "cate_cols=dataset.select_dtypes(include=['object']).columns"
   ]
  },
  {
   "cell_type": "code",
   "execution_count": 351,
   "metadata": {},
   "outputs": [
    {
     "name": "stdout",
     "output_type": "stream",
     "text": [
      "[array(['DR', 'FD', 'NC'], dtype=object)]\n",
      "[array(['Low Fat', 'Regular'], dtype=object)]\n",
      "[array(['Baking Goods', 'Breads', 'Breakfast', 'Canned', 'Dairy',\n",
      "       'Frozen Foods', 'Fruits and Vegetables', 'Hard Drinks',\n",
      "       'Health and Hygiene', 'Household', 'Meat', 'Others', 'Seafood',\n",
      "       'Snack Foods', 'Soft Drinks', 'Starchy Foods'], dtype=object)]\n",
      "[array(['OUT010', 'OUT013', 'OUT017', 'OUT018', 'OUT019', 'OUT027',\n",
      "       'OUT035', 'OUT045', 'OUT046', 'OUT049'], dtype=object)]\n",
      "[array(['High', 'Medium', 'Small'], dtype=object)]\n",
      "[array(['Tier 1', 'Tier 2', 'Tier 3'], dtype=object)]\n",
      "[array(['Grocery Store', 'Supermarket Type1', 'Supermarket Type2',\n",
      "       'Supermarket Type3'], dtype=object)]\n"
     ]
    }
   ],
   "source": [
    "for col in cate_cols:\n",
    "    OE=OrdinalEncoder()\n",
    "    data_encoded[col]=OE.fit_transform(data_encoded[[col]])\n",
    "    print(OE.categories_)"
   ]
  },
  {
   "cell_type": "code",
   "execution_count": 352,
   "metadata": {},
   "outputs": [
    {
     "data": {
      "text/html": [
       "<div>\n",
       "<style scoped>\n",
       "    .dataframe tbody tr th:only-of-type {\n",
       "        vertical-align: middle;\n",
       "    }\n",
       "\n",
       "    .dataframe tbody tr th {\n",
       "        vertical-align: top;\n",
       "    }\n",
       "\n",
       "    .dataframe thead th {\n",
       "        text-align: right;\n",
       "    }\n",
       "</style>\n",
       "<table border=\"1\" class=\"dataframe\">\n",
       "  <thead>\n",
       "    <tr style=\"text-align: right;\">\n",
       "      <th></th>\n",
       "      <th>Item_Identifier</th>\n",
       "      <th>Item_Fat_Content</th>\n",
       "      <th>Item_Type</th>\n",
       "      <th>Item_MRP</th>\n",
       "      <th>Outlet_Identifier</th>\n",
       "      <th>Outlet_Size</th>\n",
       "      <th>Outlet_Location_Type</th>\n",
       "      <th>Outlet_Type</th>\n",
       "      <th>Item_Outlet_Sales</th>\n",
       "      <th>item_weight_interpolate</th>\n",
       "      <th>item_visibility_interpolate</th>\n",
       "      <th>outlet_age</th>\n",
       "    </tr>\n",
       "  </thead>\n",
       "  <tbody>\n",
       "    <tr>\n",
       "      <th>0</th>\n",
       "      <td>1.0</td>\n",
       "      <td>0.0</td>\n",
       "      <td>4.0</td>\n",
       "      <td>249.8092</td>\n",
       "      <td>9.0</td>\n",
       "      <td>1.0</td>\n",
       "      <td>0.0</td>\n",
       "      <td>1.0</td>\n",
       "      <td>3735.1380</td>\n",
       "      <td>9.300</td>\n",
       "      <td>0.016047</td>\n",
       "      <td>25</td>\n",
       "    </tr>\n",
       "    <tr>\n",
       "      <th>1</th>\n",
       "      <td>0.0</td>\n",
       "      <td>1.0</td>\n",
       "      <td>14.0</td>\n",
       "      <td>48.2692</td>\n",
       "      <td>3.0</td>\n",
       "      <td>1.0</td>\n",
       "      <td>2.0</td>\n",
       "      <td>2.0</td>\n",
       "      <td>443.4228</td>\n",
       "      <td>5.920</td>\n",
       "      <td>0.019278</td>\n",
       "      <td>15</td>\n",
       "    </tr>\n",
       "    <tr>\n",
       "      <th>2</th>\n",
       "      <td>1.0</td>\n",
       "      <td>0.0</td>\n",
       "      <td>10.0</td>\n",
       "      <td>141.6180</td>\n",
       "      <td>9.0</td>\n",
       "      <td>1.0</td>\n",
       "      <td>0.0</td>\n",
       "      <td>1.0</td>\n",
       "      <td>2097.2700</td>\n",
       "      <td>17.500</td>\n",
       "      <td>0.016760</td>\n",
       "      <td>25</td>\n",
       "    </tr>\n",
       "    <tr>\n",
       "      <th>3</th>\n",
       "      <td>1.0</td>\n",
       "      <td>1.0</td>\n",
       "      <td>6.0</td>\n",
       "      <td>182.0950</td>\n",
       "      <td>0.0</td>\n",
       "      <td>2.0</td>\n",
       "      <td>2.0</td>\n",
       "      <td>0.0</td>\n",
       "      <td>732.3800</td>\n",
       "      <td>19.200</td>\n",
       "      <td>0.015755</td>\n",
       "      <td>26</td>\n",
       "    </tr>\n",
       "    <tr>\n",
       "      <th>4</th>\n",
       "      <td>2.0</td>\n",
       "      <td>0.0</td>\n",
       "      <td>9.0</td>\n",
       "      <td>53.8614</td>\n",
       "      <td>1.0</td>\n",
       "      <td>0.0</td>\n",
       "      <td>2.0</td>\n",
       "      <td>1.0</td>\n",
       "      <td>994.7052</td>\n",
       "      <td>8.930</td>\n",
       "      <td>0.014751</td>\n",
       "      <td>37</td>\n",
       "    </tr>\n",
       "    <tr>\n",
       "      <th>5</th>\n",
       "      <td>1.0</td>\n",
       "      <td>1.0</td>\n",
       "      <td>0.0</td>\n",
       "      <td>51.4008</td>\n",
       "      <td>3.0</td>\n",
       "      <td>1.0</td>\n",
       "      <td>2.0</td>\n",
       "      <td>2.0</td>\n",
       "      <td>556.6088</td>\n",
       "      <td>10.395</td>\n",
       "      <td>0.013746</td>\n",
       "      <td>15</td>\n",
       "    </tr>\n",
       "    <tr>\n",
       "      <th>6</th>\n",
       "      <td>1.0</td>\n",
       "      <td>1.0</td>\n",
       "      <td>13.0</td>\n",
       "      <td>57.6588</td>\n",
       "      <td>1.0</td>\n",
       "      <td>0.0</td>\n",
       "      <td>2.0</td>\n",
       "      <td>1.0</td>\n",
       "      <td>343.5528</td>\n",
       "      <td>13.650</td>\n",
       "      <td>0.012741</td>\n",
       "      <td>37</td>\n",
       "    </tr>\n",
       "    <tr>\n",
       "      <th>7</th>\n",
       "      <td>1.0</td>\n",
       "      <td>0.0</td>\n",
       "      <td>13.0</td>\n",
       "      <td>107.7622</td>\n",
       "      <td>5.0</td>\n",
       "      <td>1.0</td>\n",
       "      <td>2.0</td>\n",
       "      <td>3.0</td>\n",
       "      <td>4022.7636</td>\n",
       "      <td>14.925</td>\n",
       "      <td>0.127470</td>\n",
       "      <td>39</td>\n",
       "    </tr>\n",
       "    <tr>\n",
       "      <th>8</th>\n",
       "      <td>1.0</td>\n",
       "      <td>1.0</td>\n",
       "      <td>5.0</td>\n",
       "      <td>96.9726</td>\n",
       "      <td>7.0</td>\n",
       "      <td>2.0</td>\n",
       "      <td>1.0</td>\n",
       "      <td>1.0</td>\n",
       "      <td>1076.5986</td>\n",
       "      <td>16.200</td>\n",
       "      <td>0.016687</td>\n",
       "      <td>22</td>\n",
       "    </tr>\n",
       "    <tr>\n",
       "      <th>9</th>\n",
       "      <td>1.0</td>\n",
       "      <td>1.0</td>\n",
       "      <td>5.0</td>\n",
       "      <td>187.8214</td>\n",
       "      <td>2.0</td>\n",
       "      <td>2.0</td>\n",
       "      <td>1.0</td>\n",
       "      <td>1.0</td>\n",
       "      <td>4710.5350</td>\n",
       "      <td>19.200</td>\n",
       "      <td>0.094450</td>\n",
       "      <td>17</td>\n",
       "    </tr>\n",
       "  </tbody>\n",
       "</table>\n",
       "</div>"
      ],
      "text/plain": [
       "   Item_Identifier  Item_Fat_Content  Item_Type  Item_MRP  Outlet_Identifier  \\\n",
       "0              1.0               0.0        4.0  249.8092                9.0   \n",
       "1              0.0               1.0       14.0   48.2692                3.0   \n",
       "2              1.0               0.0       10.0  141.6180                9.0   \n",
       "3              1.0               1.0        6.0  182.0950                0.0   \n",
       "4              2.0               0.0        9.0   53.8614                1.0   \n",
       "5              1.0               1.0        0.0   51.4008                3.0   \n",
       "6              1.0               1.0       13.0   57.6588                1.0   \n",
       "7              1.0               0.0       13.0  107.7622                5.0   \n",
       "8              1.0               1.0        5.0   96.9726                7.0   \n",
       "9              1.0               1.0        5.0  187.8214                2.0   \n",
       "\n",
       "   Outlet_Size  Outlet_Location_Type  Outlet_Type  Item_Outlet_Sales  \\\n",
       "0          1.0                   0.0          1.0          3735.1380   \n",
       "1          1.0                   2.0          2.0           443.4228   \n",
       "2          1.0                   0.0          1.0          2097.2700   \n",
       "3          2.0                   2.0          0.0           732.3800   \n",
       "4          0.0                   2.0          1.0           994.7052   \n",
       "5          1.0                   2.0          2.0           556.6088   \n",
       "6          0.0                   2.0          1.0           343.5528   \n",
       "7          1.0                   2.0          3.0          4022.7636   \n",
       "8          2.0                   1.0          1.0          1076.5986   \n",
       "9          2.0                   1.0          1.0          4710.5350   \n",
       "\n",
       "   item_weight_interpolate  item_visibility_interpolate  outlet_age  \n",
       "0                    9.300                     0.016047          25  \n",
       "1                    5.920                     0.019278          15  \n",
       "2                   17.500                     0.016760          25  \n",
       "3                   19.200                     0.015755          26  \n",
       "4                    8.930                     0.014751          37  \n",
       "5                   10.395                     0.013746          15  \n",
       "6                   13.650                     0.012741          37  \n",
       "7                   14.925                     0.127470          39  \n",
       "8                   16.200                     0.016687          22  \n",
       "9                   19.200                     0.094450          17  "
      ]
     },
     "execution_count": 352,
     "metadata": {},
     "output_type": "execute_result"
    }
   ],
   "source": [
    "data_encoded.head(10)"
   ]
  },
  {
   "cell_type": "code",
   "execution_count": 353,
   "metadata": {},
   "outputs": [
    {
     "data": {
      "text/plain": [
       "0       3735.1380\n",
       "1        443.4228\n",
       "2       2097.2700\n",
       "3        732.3800\n",
       "4        994.7052\n",
       "          ...    \n",
       "8518    2778.3834\n",
       "8519     549.2850\n",
       "8520    1193.1136\n",
       "8521    1845.5976\n",
       "8522     765.6700\n",
       "Name: Item_Outlet_Sales, Length: 8523, dtype: float64"
      ]
     },
     "execution_count": 353,
     "metadata": {},
     "output_type": "execute_result"
    }
   ],
   "source": [
    "x_data=data_encoded.drop('Item_Outlet_Sales',axis=1)\n",
    "y_data=data_encoded['Item_Outlet_Sales']\n",
    "y_data"
   ]
  },
  {
   "cell_type": "markdown",
   "metadata": {},
   "source": [
    "Linear Regression"
   ]
  },
  {
   "cell_type": "code",
   "execution_count": 354,
   "metadata": {},
   "outputs": [
    {
     "data": {
      "text/plain": [
       "0.5015470931017388"
      ]
     },
     "execution_count": 354,
     "metadata": {},
     "output_type": "execute_result"
    }
   ],
   "source": [
    "from sklearn.linear_model import LinearRegression\n",
    "from sklearn.model_selection import cross_val_score\n",
    "LR = LinearRegression()\n",
    "score = cross_val_score(LR,x_data,y_data,cv=5,scoring='r2')\n",
    "score.mean()"
   ]
  },
  {
   "cell_type": "markdown",
   "metadata": {},
   "source": [
    "XGBRFRegression"
   ]
  },
  {
   "cell_type": "code",
   "execution_count": 355,
   "metadata": {},
   "outputs": [
    {
     "data": {
      "text/plain": [
       "0.5954067732342189"
      ]
     },
     "execution_count": 355,
     "metadata": {},
     "output_type": "execute_result"
    }
   ],
   "source": [
    "from xgboost import XGBRFRegressor\n",
    "xg = XGBRFRegressor(n_estimators=100,random_state=42)\n",
    "score = cross_val_score(xg,x_data,y_data,cv=5,scoring='r2')\n",
    "score.mean()"
   ]
  },
  {
   "cell_type": "markdown",
   "metadata": {},
   "source": [
    "Random forest regressor"
   ]
  },
  {
   "cell_type": "code",
   "execution_count": 356,
   "metadata": {},
   "outputs": [
    {
     "data": {
      "text/plain": [
       "0.5549992903957147"
      ]
     },
     "execution_count": 356,
     "metadata": {},
     "output_type": "execute_result"
    }
   ],
   "source": [
    "from sklearn.ensemble import RandomForestRegressor\n",
    "rf=RandomForestRegressor(n_estimators=100,random_state=42)\n",
    "score = cross_val_score(rf,x_data,y_data,cv=5,scoring='r2')\n",
    "score.mean()"
   ]
  },
  {
   "cell_type": "markdown",
   "metadata": {},
   "source": [
    "XGBRFREGRegressor feature importances"
   ]
  },
  {
   "cell_type": "code",
   "execution_count": 357,
   "metadata": {},
   "outputs": [
    {
     "data": {
      "text/html": [
       "<div>\n",
       "<style scoped>\n",
       "    .dataframe tbody tr th:only-of-type {\n",
       "        vertical-align: middle;\n",
       "    }\n",
       "\n",
       "    .dataframe tbody tr th {\n",
       "        vertical-align: top;\n",
       "    }\n",
       "\n",
       "    .dataframe thead th {\n",
       "        text-align: right;\n",
       "    }\n",
       "</style>\n",
       "<table border=\"1\" class=\"dataframe\">\n",
       "  <thead>\n",
       "    <tr style=\"text-align: right;\">\n",
       "      <th></th>\n",
       "      <th>feature</th>\n",
       "      <th>XGBRF_importance</th>\n",
       "    </tr>\n",
       "  </thead>\n",
       "  <tbody>\n",
       "    <tr>\n",
       "      <th>7</th>\n",
       "      <td>Outlet_Type</td>\n",
       "      <td>0.349864</td>\n",
       "    </tr>\n",
       "    <tr>\n",
       "      <th>5</th>\n",
       "      <td>Outlet_Size</td>\n",
       "      <td>0.192658</td>\n",
       "    </tr>\n",
       "    <tr>\n",
       "      <th>10</th>\n",
       "      <td>outlet_age</td>\n",
       "      <td>0.175040</td>\n",
       "    </tr>\n",
       "    <tr>\n",
       "      <th>3</th>\n",
       "      <td>Item_MRP</td>\n",
       "      <td>0.131012</td>\n",
       "    </tr>\n",
       "    <tr>\n",
       "      <th>4</th>\n",
       "      <td>Outlet_Identifier</td>\n",
       "      <td>0.130735</td>\n",
       "    </tr>\n",
       "    <tr>\n",
       "      <th>6</th>\n",
       "      <td>Outlet_Location_Type</td>\n",
       "      <td>0.013184</td>\n",
       "    </tr>\n",
       "    <tr>\n",
       "      <th>9</th>\n",
       "      <td>item_visibility_interpolate</td>\n",
       "      <td>0.002493</td>\n",
       "    </tr>\n",
       "    <tr>\n",
       "      <th>8</th>\n",
       "      <td>item_weight_interpolate</td>\n",
       "      <td>0.001770</td>\n",
       "    </tr>\n",
       "    <tr>\n",
       "      <th>2</th>\n",
       "      <td>Item_Type</td>\n",
       "      <td>0.001566</td>\n",
       "    </tr>\n",
       "    <tr>\n",
       "      <th>0</th>\n",
       "      <td>Item_Identifier</td>\n",
       "      <td>0.000999</td>\n",
       "    </tr>\n",
       "    <tr>\n",
       "      <th>1</th>\n",
       "      <td>Item_Fat_Content</td>\n",
       "      <td>0.000680</td>\n",
       "    </tr>\n",
       "  </tbody>\n",
       "</table>\n",
       "</div>"
      ],
      "text/plain": [
       "                        feature  XGBRF_importance\n",
       "7                   Outlet_Type          0.349864\n",
       "5                   Outlet_Size          0.192658\n",
       "10                   outlet_age          0.175040\n",
       "3                      Item_MRP          0.131012\n",
       "4             Outlet_Identifier          0.130735\n",
       "6          Outlet_Location_Type          0.013184\n",
       "9   item_visibility_interpolate          0.002493\n",
       "8       item_weight_interpolate          0.001770\n",
       "2                     Item_Type          0.001566\n",
       "0               Item_Identifier          0.000999\n",
       "1              Item_Fat_Content          0.000680"
      ]
     },
     "execution_count": 357,
     "metadata": {},
     "output_type": "execute_result"
    }
   ],
   "source": [
    "xg= XGBRFRegressor(n_estimators=100,random_state=42)\n",
    "xg1 = xg.fit(x_data,y_data)\n",
    "pd.DataFrame({\n",
    "    'feature':x_data.columns,\n",
    "    'XGBRF_importance':xg1.feature_importances_\n",
    "}).sort_values(by='XGBRF_importance',ascending=False)\n"
   ]
  },
  {
   "cell_type": "code",
   "execution_count": 358,
   "metadata": {},
   "outputs": [
    {
     "data": {
      "text/html": [
       "<div>\n",
       "<style scoped>\n",
       "    .dataframe tbody tr th:only-of-type {\n",
       "        vertical-align: middle;\n",
       "    }\n",
       "\n",
       "    .dataframe tbody tr th {\n",
       "        vertical-align: top;\n",
       "    }\n",
       "\n",
       "    .dataframe thead th {\n",
       "        text-align: right;\n",
       "    }\n",
       "</style>\n",
       "<table border=\"1\" class=\"dataframe\">\n",
       "  <thead>\n",
       "    <tr style=\"text-align: right;\">\n",
       "      <th></th>\n",
       "      <th>Item_MRP</th>\n",
       "      <th>Outlet_Identifier</th>\n",
       "      <th>Outlet_Size</th>\n",
       "      <th>Outlet_Type</th>\n",
       "      <th>outlet_age</th>\n",
       "    </tr>\n",
       "  </thead>\n",
       "  <tbody>\n",
       "    <tr>\n",
       "      <th>0</th>\n",
       "      <td>249.8092</td>\n",
       "      <td>9.0</td>\n",
       "      <td>1.0</td>\n",
       "      <td>1.0</td>\n",
       "      <td>25</td>\n",
       "    </tr>\n",
       "    <tr>\n",
       "      <th>1</th>\n",
       "      <td>48.2692</td>\n",
       "      <td>3.0</td>\n",
       "      <td>1.0</td>\n",
       "      <td>2.0</td>\n",
       "      <td>15</td>\n",
       "    </tr>\n",
       "    <tr>\n",
       "      <th>2</th>\n",
       "      <td>141.6180</td>\n",
       "      <td>9.0</td>\n",
       "      <td>1.0</td>\n",
       "      <td>1.0</td>\n",
       "      <td>25</td>\n",
       "    </tr>\n",
       "    <tr>\n",
       "      <th>3</th>\n",
       "      <td>182.0950</td>\n",
       "      <td>0.0</td>\n",
       "      <td>2.0</td>\n",
       "      <td>0.0</td>\n",
       "      <td>26</td>\n",
       "    </tr>\n",
       "    <tr>\n",
       "      <th>4</th>\n",
       "      <td>53.8614</td>\n",
       "      <td>1.0</td>\n",
       "      <td>0.0</td>\n",
       "      <td>1.0</td>\n",
       "      <td>37</td>\n",
       "    </tr>\n",
       "    <tr>\n",
       "      <th>...</th>\n",
       "      <td>...</td>\n",
       "      <td>...</td>\n",
       "      <td>...</td>\n",
       "      <td>...</td>\n",
       "      <td>...</td>\n",
       "    </tr>\n",
       "    <tr>\n",
       "      <th>8518</th>\n",
       "      <td>214.5218</td>\n",
       "      <td>1.0</td>\n",
       "      <td>0.0</td>\n",
       "      <td>1.0</td>\n",
       "      <td>37</td>\n",
       "    </tr>\n",
       "    <tr>\n",
       "      <th>8519</th>\n",
       "      <td>108.1570</td>\n",
       "      <td>7.0</td>\n",
       "      <td>2.0</td>\n",
       "      <td>1.0</td>\n",
       "      <td>22</td>\n",
       "    </tr>\n",
       "    <tr>\n",
       "      <th>8520</th>\n",
       "      <td>85.1224</td>\n",
       "      <td>6.0</td>\n",
       "      <td>2.0</td>\n",
       "      <td>1.0</td>\n",
       "      <td>20</td>\n",
       "    </tr>\n",
       "    <tr>\n",
       "      <th>8521</th>\n",
       "      <td>103.1332</td>\n",
       "      <td>3.0</td>\n",
       "      <td>1.0</td>\n",
       "      <td>2.0</td>\n",
       "      <td>15</td>\n",
       "    </tr>\n",
       "    <tr>\n",
       "      <th>8522</th>\n",
       "      <td>75.4670</td>\n",
       "      <td>8.0</td>\n",
       "      <td>2.0</td>\n",
       "      <td>1.0</td>\n",
       "      <td>27</td>\n",
       "    </tr>\n",
       "  </tbody>\n",
       "</table>\n",
       "<p>8523 rows × 5 columns</p>\n",
       "</div>"
      ],
      "text/plain": [
       "      Item_MRP  Outlet_Identifier  Outlet_Size  Outlet_Type  outlet_age\n",
       "0     249.8092                9.0          1.0          1.0          25\n",
       "1      48.2692                3.0          1.0          2.0          15\n",
       "2     141.6180                9.0          1.0          1.0          25\n",
       "3     182.0950                0.0          2.0          0.0          26\n",
       "4      53.8614                1.0          0.0          1.0          37\n",
       "...        ...                ...          ...          ...         ...\n",
       "8518  214.5218                1.0          0.0          1.0          37\n",
       "8519  108.1570                7.0          2.0          1.0          22\n",
       "8520   85.1224                6.0          2.0          1.0          20\n",
       "8521  103.1332                3.0          1.0          2.0          15\n",
       "8522   75.4670                8.0          2.0          1.0          27\n",
       "\n",
       "[8523 rows x 5 columns]"
      ]
     },
     "execution_count": 358,
     "metadata": {},
     "output_type": "execute_result"
    }
   ],
   "source": [
    "\n",
    "Final_data=x_data.drop(columns=['item_visibility_interpolate','item_weight_interpolate','Item_Type','Outlet_Location_Type','Item_Identifier','Item_Fat_Content'],axis=1)\n",
    "Final_data"
   ]
  },
  {
   "cell_type": "markdown",
   "metadata": {},
   "source": [
    "Best model"
   ]
  },
  {
   "cell_type": "code",
   "execution_count": 359,
   "metadata": {},
   "outputs": [
    {
     "data": {
      "text/html": [
       "<style>#sk-container-id-7 {\n",
       "  /* Definition of color scheme common for light and dark mode */\n",
       "  --sklearn-color-text: black;\n",
       "  --sklearn-color-line: gray;\n",
       "  /* Definition of color scheme for unfitted estimators */\n",
       "  --sklearn-color-unfitted-level-0: #fff5e6;\n",
       "  --sklearn-color-unfitted-level-1: #f6e4d2;\n",
       "  --sklearn-color-unfitted-level-2: #ffe0b3;\n",
       "  --sklearn-color-unfitted-level-3: chocolate;\n",
       "  /* Definition of color scheme for fitted estimators */\n",
       "  --sklearn-color-fitted-level-0: #f0f8ff;\n",
       "  --sklearn-color-fitted-level-1: #d4ebff;\n",
       "  --sklearn-color-fitted-level-2: #b3dbfd;\n",
       "  --sklearn-color-fitted-level-3: cornflowerblue;\n",
       "\n",
       "  /* Specific color for light theme */\n",
       "  --sklearn-color-text-on-default-background: var(--sg-text-color, var(--theme-code-foreground, var(--jp-content-font-color1, black)));\n",
       "  --sklearn-color-background: var(--sg-background-color, var(--theme-background, var(--jp-layout-color0, white)));\n",
       "  --sklearn-color-border-box: var(--sg-text-color, var(--theme-code-foreground, var(--jp-content-font-color1, black)));\n",
       "  --sklearn-color-icon: #696969;\n",
       "\n",
       "  @media (prefers-color-scheme: dark) {\n",
       "    /* Redefinition of color scheme for dark theme */\n",
       "    --sklearn-color-text-on-default-background: var(--sg-text-color, var(--theme-code-foreground, var(--jp-content-font-color1, white)));\n",
       "    --sklearn-color-background: var(--sg-background-color, var(--theme-background, var(--jp-layout-color0, #111)));\n",
       "    --sklearn-color-border-box: var(--sg-text-color, var(--theme-code-foreground, var(--jp-content-font-color1, white)));\n",
       "    --sklearn-color-icon: #878787;\n",
       "  }\n",
       "}\n",
       "\n",
       "#sk-container-id-7 {\n",
       "  color: var(--sklearn-color-text);\n",
       "}\n",
       "\n",
       "#sk-container-id-7 pre {\n",
       "  padding: 0;\n",
       "}\n",
       "\n",
       "#sk-container-id-7 input.sk-hidden--visually {\n",
       "  border: 0;\n",
       "  clip: rect(1px 1px 1px 1px);\n",
       "  clip: rect(1px, 1px, 1px, 1px);\n",
       "  height: 1px;\n",
       "  margin: -1px;\n",
       "  overflow: hidden;\n",
       "  padding: 0;\n",
       "  position: absolute;\n",
       "  width: 1px;\n",
       "}\n",
       "\n",
       "#sk-container-id-7 div.sk-dashed-wrapped {\n",
       "  border: 1px dashed var(--sklearn-color-line);\n",
       "  margin: 0 0.4em 0.5em 0.4em;\n",
       "  box-sizing: border-box;\n",
       "  padding-bottom: 0.4em;\n",
       "  background-color: var(--sklearn-color-background);\n",
       "}\n",
       "\n",
       "#sk-container-id-7 div.sk-container {\n",
       "  /* jupyter's `normalize.less` sets `[hidden] { display: none; }`\n",
       "     but bootstrap.min.css set `[hidden] { display: none !important; }`\n",
       "     so we also need the `!important` here to be able to override the\n",
       "     default hidden behavior on the sphinx rendered scikit-learn.org.\n",
       "     See: https://github.com/scikit-learn/scikit-learn/issues/21755 */\n",
       "  display: inline-block !important;\n",
       "  position: relative;\n",
       "}\n",
       "\n",
       "#sk-container-id-7 div.sk-text-repr-fallback {\n",
       "  display: none;\n",
       "}\n",
       "\n",
       "div.sk-parallel-item,\n",
       "div.sk-serial,\n",
       "div.sk-item {\n",
       "  /* draw centered vertical line to link estimators */\n",
       "  background-image: linear-gradient(var(--sklearn-color-text-on-default-background), var(--sklearn-color-text-on-default-background));\n",
       "  background-size: 2px 100%;\n",
       "  background-repeat: no-repeat;\n",
       "  background-position: center center;\n",
       "}\n",
       "\n",
       "/* Parallel-specific style estimator block */\n",
       "\n",
       "#sk-container-id-7 div.sk-parallel-item::after {\n",
       "  content: \"\";\n",
       "  width: 100%;\n",
       "  border-bottom: 2px solid var(--sklearn-color-text-on-default-background);\n",
       "  flex-grow: 1;\n",
       "}\n",
       "\n",
       "#sk-container-id-7 div.sk-parallel {\n",
       "  display: flex;\n",
       "  align-items: stretch;\n",
       "  justify-content: center;\n",
       "  background-color: var(--sklearn-color-background);\n",
       "  position: relative;\n",
       "}\n",
       "\n",
       "#sk-container-id-7 div.sk-parallel-item {\n",
       "  display: flex;\n",
       "  flex-direction: column;\n",
       "}\n",
       "\n",
       "#sk-container-id-7 div.sk-parallel-item:first-child::after {\n",
       "  align-self: flex-end;\n",
       "  width: 50%;\n",
       "}\n",
       "\n",
       "#sk-container-id-7 div.sk-parallel-item:last-child::after {\n",
       "  align-self: flex-start;\n",
       "  width: 50%;\n",
       "}\n",
       "\n",
       "#sk-container-id-7 div.sk-parallel-item:only-child::after {\n",
       "  width: 0;\n",
       "}\n",
       "\n",
       "/* Serial-specific style estimator block */\n",
       "\n",
       "#sk-container-id-7 div.sk-serial {\n",
       "  display: flex;\n",
       "  flex-direction: column;\n",
       "  align-items: center;\n",
       "  background-color: var(--sklearn-color-background);\n",
       "  padding-right: 1em;\n",
       "  padding-left: 1em;\n",
       "}\n",
       "\n",
       "\n",
       "/* Toggleable style: style used for estimator/Pipeline/ColumnTransformer box that is\n",
       "clickable and can be expanded/collapsed.\n",
       "- Pipeline and ColumnTransformer use this feature and define the default style\n",
       "- Estimators will overwrite some part of the style using the `sk-estimator` class\n",
       "*/\n",
       "\n",
       "/* Pipeline and ColumnTransformer style (default) */\n",
       "\n",
       "#sk-container-id-7 div.sk-toggleable {\n",
       "  /* Default theme specific background. It is overwritten whether we have a\n",
       "  specific estimator or a Pipeline/ColumnTransformer */\n",
       "  background-color: var(--sklearn-color-background);\n",
       "}\n",
       "\n",
       "/* Toggleable label */\n",
       "#sk-container-id-7 label.sk-toggleable__label {\n",
       "  cursor: pointer;\n",
       "  display: block;\n",
       "  width: 100%;\n",
       "  margin-bottom: 0;\n",
       "  padding: 0.5em;\n",
       "  box-sizing: border-box;\n",
       "  text-align: center;\n",
       "}\n",
       "\n",
       "#sk-container-id-7 label.sk-toggleable__label-arrow:before {\n",
       "  /* Arrow on the left of the label */\n",
       "  content: \"▸\";\n",
       "  float: left;\n",
       "  margin-right: 0.25em;\n",
       "  color: var(--sklearn-color-icon);\n",
       "}\n",
       "\n",
       "#sk-container-id-7 label.sk-toggleable__label-arrow:hover:before {\n",
       "  color: var(--sklearn-color-text);\n",
       "}\n",
       "\n",
       "/* Toggleable content - dropdown */\n",
       "\n",
       "#sk-container-id-7 div.sk-toggleable__content {\n",
       "  max-height: 0;\n",
       "  max-width: 0;\n",
       "  overflow: hidden;\n",
       "  text-align: left;\n",
       "  /* unfitted */\n",
       "  background-color: var(--sklearn-color-unfitted-level-0);\n",
       "}\n",
       "\n",
       "#sk-container-id-7 div.sk-toggleable__content.fitted {\n",
       "  /* fitted */\n",
       "  background-color: var(--sklearn-color-fitted-level-0);\n",
       "}\n",
       "\n",
       "#sk-container-id-7 div.sk-toggleable__content pre {\n",
       "  margin: 0.2em;\n",
       "  border-radius: 0.25em;\n",
       "  color: var(--sklearn-color-text);\n",
       "  /* unfitted */\n",
       "  background-color: var(--sklearn-color-unfitted-level-0);\n",
       "}\n",
       "\n",
       "#sk-container-id-7 div.sk-toggleable__content.fitted pre {\n",
       "  /* unfitted */\n",
       "  background-color: var(--sklearn-color-fitted-level-0);\n",
       "}\n",
       "\n",
       "#sk-container-id-7 input.sk-toggleable__control:checked~div.sk-toggleable__content {\n",
       "  /* Expand drop-down */\n",
       "  max-height: 200px;\n",
       "  max-width: 100%;\n",
       "  overflow: auto;\n",
       "}\n",
       "\n",
       "#sk-container-id-7 input.sk-toggleable__control:checked~label.sk-toggleable__label-arrow:before {\n",
       "  content: \"▾\";\n",
       "}\n",
       "\n",
       "/* Pipeline/ColumnTransformer-specific style */\n",
       "\n",
       "#sk-container-id-7 div.sk-label input.sk-toggleable__control:checked~label.sk-toggleable__label {\n",
       "  color: var(--sklearn-color-text);\n",
       "  background-color: var(--sklearn-color-unfitted-level-2);\n",
       "}\n",
       "\n",
       "#sk-container-id-7 div.sk-label.fitted input.sk-toggleable__control:checked~label.sk-toggleable__label {\n",
       "  background-color: var(--sklearn-color-fitted-level-2);\n",
       "}\n",
       "\n",
       "/* Estimator-specific style */\n",
       "\n",
       "/* Colorize estimator box */\n",
       "#sk-container-id-7 div.sk-estimator input.sk-toggleable__control:checked~label.sk-toggleable__label {\n",
       "  /* unfitted */\n",
       "  background-color: var(--sklearn-color-unfitted-level-2);\n",
       "}\n",
       "\n",
       "#sk-container-id-7 div.sk-estimator.fitted input.sk-toggleable__control:checked~label.sk-toggleable__label {\n",
       "  /* fitted */\n",
       "  background-color: var(--sklearn-color-fitted-level-2);\n",
       "}\n",
       "\n",
       "#sk-container-id-7 div.sk-label label.sk-toggleable__label,\n",
       "#sk-container-id-7 div.sk-label label {\n",
       "  /* The background is the default theme color */\n",
       "  color: var(--sklearn-color-text-on-default-background);\n",
       "}\n",
       "\n",
       "/* On hover, darken the color of the background */\n",
       "#sk-container-id-7 div.sk-label:hover label.sk-toggleable__label {\n",
       "  color: var(--sklearn-color-text);\n",
       "  background-color: var(--sklearn-color-unfitted-level-2);\n",
       "}\n",
       "\n",
       "/* Label box, darken color on hover, fitted */\n",
       "#sk-container-id-7 div.sk-label.fitted:hover label.sk-toggleable__label.fitted {\n",
       "  color: var(--sklearn-color-text);\n",
       "  background-color: var(--sklearn-color-fitted-level-2);\n",
       "}\n",
       "\n",
       "/* Estimator label */\n",
       "\n",
       "#sk-container-id-7 div.sk-label label {\n",
       "  font-family: monospace;\n",
       "  font-weight: bold;\n",
       "  display: inline-block;\n",
       "  line-height: 1.2em;\n",
       "}\n",
       "\n",
       "#sk-container-id-7 div.sk-label-container {\n",
       "  text-align: center;\n",
       "}\n",
       "\n",
       "/* Estimator-specific */\n",
       "#sk-container-id-7 div.sk-estimator {\n",
       "  font-family: monospace;\n",
       "  border: 1px dotted var(--sklearn-color-border-box);\n",
       "  border-radius: 0.25em;\n",
       "  box-sizing: border-box;\n",
       "  margin-bottom: 0.5em;\n",
       "  /* unfitted */\n",
       "  background-color: var(--sklearn-color-unfitted-level-0);\n",
       "}\n",
       "\n",
       "#sk-container-id-7 div.sk-estimator.fitted {\n",
       "  /* fitted */\n",
       "  background-color: var(--sklearn-color-fitted-level-0);\n",
       "}\n",
       "\n",
       "/* on hover */\n",
       "#sk-container-id-7 div.sk-estimator:hover {\n",
       "  /* unfitted */\n",
       "  background-color: var(--sklearn-color-unfitted-level-2);\n",
       "}\n",
       "\n",
       "#sk-container-id-7 div.sk-estimator.fitted:hover {\n",
       "  /* fitted */\n",
       "  background-color: var(--sklearn-color-fitted-level-2);\n",
       "}\n",
       "\n",
       "/* Specification for estimator info (e.g. \"i\" and \"?\") */\n",
       "\n",
       "/* Common style for \"i\" and \"?\" */\n",
       "\n",
       ".sk-estimator-doc-link,\n",
       "a:link.sk-estimator-doc-link,\n",
       "a:visited.sk-estimator-doc-link {\n",
       "  float: right;\n",
       "  font-size: smaller;\n",
       "  line-height: 1em;\n",
       "  font-family: monospace;\n",
       "  background-color: var(--sklearn-color-background);\n",
       "  border-radius: 1em;\n",
       "  height: 1em;\n",
       "  width: 1em;\n",
       "  text-decoration: none !important;\n",
       "  margin-left: 1ex;\n",
       "  /* unfitted */\n",
       "  border: var(--sklearn-color-unfitted-level-1) 1pt solid;\n",
       "  color: var(--sklearn-color-unfitted-level-1);\n",
       "}\n",
       "\n",
       ".sk-estimator-doc-link.fitted,\n",
       "a:link.sk-estimator-doc-link.fitted,\n",
       "a:visited.sk-estimator-doc-link.fitted {\n",
       "  /* fitted */\n",
       "  border: var(--sklearn-color-fitted-level-1) 1pt solid;\n",
       "  color: var(--sklearn-color-fitted-level-1);\n",
       "}\n",
       "\n",
       "/* On hover */\n",
       "div.sk-estimator:hover .sk-estimator-doc-link:hover,\n",
       ".sk-estimator-doc-link:hover,\n",
       "div.sk-label-container:hover .sk-estimator-doc-link:hover,\n",
       ".sk-estimator-doc-link:hover {\n",
       "  /* unfitted */\n",
       "  background-color: var(--sklearn-color-unfitted-level-3);\n",
       "  color: var(--sklearn-color-background);\n",
       "  text-decoration: none;\n",
       "}\n",
       "\n",
       "div.sk-estimator.fitted:hover .sk-estimator-doc-link.fitted:hover,\n",
       ".sk-estimator-doc-link.fitted:hover,\n",
       "div.sk-label-container:hover .sk-estimator-doc-link.fitted:hover,\n",
       ".sk-estimator-doc-link.fitted:hover {\n",
       "  /* fitted */\n",
       "  background-color: var(--sklearn-color-fitted-level-3);\n",
       "  color: var(--sklearn-color-background);\n",
       "  text-decoration: none;\n",
       "}\n",
       "\n",
       "/* Span, style for the box shown on hovering the info icon */\n",
       ".sk-estimator-doc-link span {\n",
       "  display: none;\n",
       "  z-index: 9999;\n",
       "  position: relative;\n",
       "  font-weight: normal;\n",
       "  right: .2ex;\n",
       "  padding: .5ex;\n",
       "  margin: .5ex;\n",
       "  width: min-content;\n",
       "  min-width: 20ex;\n",
       "  max-width: 50ex;\n",
       "  color: var(--sklearn-color-text);\n",
       "  box-shadow: 2pt 2pt 4pt #999;\n",
       "  /* unfitted */\n",
       "  background: var(--sklearn-color-unfitted-level-0);\n",
       "  border: .5pt solid var(--sklearn-color-unfitted-level-3);\n",
       "}\n",
       "\n",
       ".sk-estimator-doc-link.fitted span {\n",
       "  /* fitted */\n",
       "  background: var(--sklearn-color-fitted-level-0);\n",
       "  border: var(--sklearn-color-fitted-level-3);\n",
       "}\n",
       "\n",
       ".sk-estimator-doc-link:hover span {\n",
       "  display: block;\n",
       "}\n",
       "\n",
       "/* \"?\"-specific style due to the `<a>` HTML tag */\n",
       "\n",
       "#sk-container-id-7 a.estimator_doc_link {\n",
       "  float: right;\n",
       "  font-size: 1rem;\n",
       "  line-height: 1em;\n",
       "  font-family: monospace;\n",
       "  background-color: var(--sklearn-color-background);\n",
       "  border-radius: 1rem;\n",
       "  height: 1rem;\n",
       "  width: 1rem;\n",
       "  text-decoration: none;\n",
       "  /* unfitted */\n",
       "  color: var(--sklearn-color-unfitted-level-1);\n",
       "  border: var(--sklearn-color-unfitted-level-1) 1pt solid;\n",
       "}\n",
       "\n",
       "#sk-container-id-7 a.estimator_doc_link.fitted {\n",
       "  /* fitted */\n",
       "  border: var(--sklearn-color-fitted-level-1) 1pt solid;\n",
       "  color: var(--sklearn-color-fitted-level-1);\n",
       "}\n",
       "\n",
       "/* On hover */\n",
       "#sk-container-id-7 a.estimator_doc_link:hover {\n",
       "  /* unfitted */\n",
       "  background-color: var(--sklearn-color-unfitted-level-3);\n",
       "  color: var(--sklearn-color-background);\n",
       "  text-decoration: none;\n",
       "}\n",
       "\n",
       "#sk-container-id-7 a.estimator_doc_link.fitted:hover {\n",
       "  /* fitted */\n",
       "  background-color: var(--sklearn-color-fitted-level-3);\n",
       "}\n",
       "</style><div id=\"sk-container-id-7\" class=\"sk-top-container\"><div class=\"sk-text-repr-fallback\"><pre>XGBRFRegressor(base_score=0.5, booster=&#x27;gbtree&#x27;, callbacks=None,\n",
       "               colsample_bylevel=1, colsample_bytree=1, device=None,\n",
       "               early_stopping_rounds=None, enable_categorical=False,\n",
       "               eval_metric=None, feature_types=None, gamma=0, gpu_id=-1,\n",
       "               grow_policy=None, importance_type=&#x27;gain&#x27;,\n",
       "               interaction_constraints=&#x27;&#x27;, max_bin=None, max_cat_threshold=None,\n",
       "               max_cat_to_onehot=None, max_delta_step=0, max_depth=6,\n",
       "               max_leaves=None, min_child_weight=1, missing=nan,\n",
       "               monotone_constraints=&#x27;()&#x27;, multi_strategy=None, n_estimators=100,\n",
       "               n_jobs=4, num_parallel_tree=100, objective=&#x27;reg:squarederror&#x27;,\n",
       "               random_state=0, ...)</pre><b>In a Jupyter environment, please rerun this cell to show the HTML representation or trust the notebook. <br />On GitHub, the HTML representation is unable to render, please try loading this page with nbviewer.org.</b></div><div class=\"sk-container\" hidden><div class=\"sk-item\"><div class=\"sk-estimator fitted sk-toggleable\"><input class=\"sk-toggleable__control sk-hidden--visually\" id=\"sk-estimator-id-7\" type=\"checkbox\" checked><label for=\"sk-estimator-id-7\" class=\"sk-toggleable__label fitted sk-toggleable__label-arrow fitted\">&nbsp;XGBRFRegressor<span class=\"sk-estimator-doc-link fitted\">i<span>Fitted</span></span></label><div class=\"sk-toggleable__content fitted\"><pre>XGBRFRegressor(base_score=0.5, booster=&#x27;gbtree&#x27;, callbacks=None,\n",
       "               colsample_bylevel=1, colsample_bytree=1, device=None,\n",
       "               early_stopping_rounds=None, enable_categorical=False,\n",
       "               eval_metric=None, feature_types=None, gamma=0, gpu_id=-1,\n",
       "               grow_policy=None, importance_type=&#x27;gain&#x27;,\n",
       "               interaction_constraints=&#x27;&#x27;, max_bin=None, max_cat_threshold=None,\n",
       "               max_cat_to_onehot=None, max_delta_step=0, max_depth=6,\n",
       "               max_leaves=None, min_child_weight=1, missing=nan,\n",
       "               monotone_constraints=&#x27;()&#x27;, multi_strategy=None, n_estimators=100,\n",
       "               n_jobs=4, num_parallel_tree=100, objective=&#x27;reg:squarederror&#x27;,\n",
       "               random_state=0, ...)</pre></div> </div></div></div></div>"
      ],
      "text/plain": [
       "XGBRFRegressor(base_score=0.5, booster='gbtree', callbacks=None,\n",
       "               colsample_bylevel=1, colsample_bytree=1, device=None,\n",
       "               early_stopping_rounds=None, enable_categorical=False,\n",
       "               eval_metric=None, feature_types=None, gamma=0, gpu_id=-1,\n",
       "               grow_policy=None, importance_type='gain',\n",
       "               interaction_constraints='', max_bin=None, max_cat_threshold=None,\n",
       "               max_cat_to_onehot=None, max_delta_step=0, max_depth=6,\n",
       "               max_leaves=None, min_child_weight=1, missing=nan,\n",
       "               monotone_constraints='()', multi_strategy=None, n_estimators=100,\n",
       "               n_jobs=4, num_parallel_tree=100, objective='reg:squarederror',\n",
       "               random_state=0, ...)"
      ]
     },
     "execution_count": 359,
     "metadata": {},
     "output_type": "execute_result"
    }
   ],
   "source": [
    "from xgboost import XGBRFRegressor\n",
    "xg_Final= XGBRFRegressor(base_score=0.5,booster='gbtree',colsample_bylevel=1,colsample_bytree=1,gamma=0,gpu_id=-1,importance_type='gain',interaction_constraints='',max_delta_step=0,max_depth=6,min_child_weight=1,missing=np.nan,monotone_constraints='()',n_estimators=100,n_jobs=4,num_parallel_tree=100,objective='reg:squarederror',random_state=0,reg_alpha=0,scale_pos_weight=1,tree_method='exact',validate_parameters=1,verbosity=None)\n",
    "xg_Final.fit(Final_data,y_data)\n"
   ]
  },
  {
   "cell_type": "code",
   "execution_count": 360,
   "metadata": {},
   "outputs": [
    {
     "data": {
      "text/html": [
       "<style>#sk-container-id-8 {\n",
       "  /* Definition of color scheme common for light and dark mode */\n",
       "  --sklearn-color-text: black;\n",
       "  --sklearn-color-line: gray;\n",
       "  /* Definition of color scheme for unfitted estimators */\n",
       "  --sklearn-color-unfitted-level-0: #fff5e6;\n",
       "  --sklearn-color-unfitted-level-1: #f6e4d2;\n",
       "  --sklearn-color-unfitted-level-2: #ffe0b3;\n",
       "  --sklearn-color-unfitted-level-3: chocolate;\n",
       "  /* Definition of color scheme for fitted estimators */\n",
       "  --sklearn-color-fitted-level-0: #f0f8ff;\n",
       "  --sklearn-color-fitted-level-1: #d4ebff;\n",
       "  --sklearn-color-fitted-level-2: #b3dbfd;\n",
       "  --sklearn-color-fitted-level-3: cornflowerblue;\n",
       "\n",
       "  /* Specific color for light theme */\n",
       "  --sklearn-color-text-on-default-background: var(--sg-text-color, var(--theme-code-foreground, var(--jp-content-font-color1, black)));\n",
       "  --sklearn-color-background: var(--sg-background-color, var(--theme-background, var(--jp-layout-color0, white)));\n",
       "  --sklearn-color-border-box: var(--sg-text-color, var(--theme-code-foreground, var(--jp-content-font-color1, black)));\n",
       "  --sklearn-color-icon: #696969;\n",
       "\n",
       "  @media (prefers-color-scheme: dark) {\n",
       "    /* Redefinition of color scheme for dark theme */\n",
       "    --sklearn-color-text-on-default-background: var(--sg-text-color, var(--theme-code-foreground, var(--jp-content-font-color1, white)));\n",
       "    --sklearn-color-background: var(--sg-background-color, var(--theme-background, var(--jp-layout-color0, #111)));\n",
       "    --sklearn-color-border-box: var(--sg-text-color, var(--theme-code-foreground, var(--jp-content-font-color1, white)));\n",
       "    --sklearn-color-icon: #878787;\n",
       "  }\n",
       "}\n",
       "\n",
       "#sk-container-id-8 {\n",
       "  color: var(--sklearn-color-text);\n",
       "}\n",
       "\n",
       "#sk-container-id-8 pre {\n",
       "  padding: 0;\n",
       "}\n",
       "\n",
       "#sk-container-id-8 input.sk-hidden--visually {\n",
       "  border: 0;\n",
       "  clip: rect(1px 1px 1px 1px);\n",
       "  clip: rect(1px, 1px, 1px, 1px);\n",
       "  height: 1px;\n",
       "  margin: -1px;\n",
       "  overflow: hidden;\n",
       "  padding: 0;\n",
       "  position: absolute;\n",
       "  width: 1px;\n",
       "}\n",
       "\n",
       "#sk-container-id-8 div.sk-dashed-wrapped {\n",
       "  border: 1px dashed var(--sklearn-color-line);\n",
       "  margin: 0 0.4em 0.5em 0.4em;\n",
       "  box-sizing: border-box;\n",
       "  padding-bottom: 0.4em;\n",
       "  background-color: var(--sklearn-color-background);\n",
       "}\n",
       "\n",
       "#sk-container-id-8 div.sk-container {\n",
       "  /* jupyter's `normalize.less` sets `[hidden] { display: none; }`\n",
       "     but bootstrap.min.css set `[hidden] { display: none !important; }`\n",
       "     so we also need the `!important` here to be able to override the\n",
       "     default hidden behavior on the sphinx rendered scikit-learn.org.\n",
       "     See: https://github.com/scikit-learn/scikit-learn/issues/21755 */\n",
       "  display: inline-block !important;\n",
       "  position: relative;\n",
       "}\n",
       "\n",
       "#sk-container-id-8 div.sk-text-repr-fallback {\n",
       "  display: none;\n",
       "}\n",
       "\n",
       "div.sk-parallel-item,\n",
       "div.sk-serial,\n",
       "div.sk-item {\n",
       "  /* draw centered vertical line to link estimators */\n",
       "  background-image: linear-gradient(var(--sklearn-color-text-on-default-background), var(--sklearn-color-text-on-default-background));\n",
       "  background-size: 2px 100%;\n",
       "  background-repeat: no-repeat;\n",
       "  background-position: center center;\n",
       "}\n",
       "\n",
       "/* Parallel-specific style estimator block */\n",
       "\n",
       "#sk-container-id-8 div.sk-parallel-item::after {\n",
       "  content: \"\";\n",
       "  width: 100%;\n",
       "  border-bottom: 2px solid var(--sklearn-color-text-on-default-background);\n",
       "  flex-grow: 1;\n",
       "}\n",
       "\n",
       "#sk-container-id-8 div.sk-parallel {\n",
       "  display: flex;\n",
       "  align-items: stretch;\n",
       "  justify-content: center;\n",
       "  background-color: var(--sklearn-color-background);\n",
       "  position: relative;\n",
       "}\n",
       "\n",
       "#sk-container-id-8 div.sk-parallel-item {\n",
       "  display: flex;\n",
       "  flex-direction: column;\n",
       "}\n",
       "\n",
       "#sk-container-id-8 div.sk-parallel-item:first-child::after {\n",
       "  align-self: flex-end;\n",
       "  width: 50%;\n",
       "}\n",
       "\n",
       "#sk-container-id-8 div.sk-parallel-item:last-child::after {\n",
       "  align-self: flex-start;\n",
       "  width: 50%;\n",
       "}\n",
       "\n",
       "#sk-container-id-8 div.sk-parallel-item:only-child::after {\n",
       "  width: 0;\n",
       "}\n",
       "\n",
       "/* Serial-specific style estimator block */\n",
       "\n",
       "#sk-container-id-8 div.sk-serial {\n",
       "  display: flex;\n",
       "  flex-direction: column;\n",
       "  align-items: center;\n",
       "  background-color: var(--sklearn-color-background);\n",
       "  padding-right: 1em;\n",
       "  padding-left: 1em;\n",
       "}\n",
       "\n",
       "\n",
       "/* Toggleable style: style used for estimator/Pipeline/ColumnTransformer box that is\n",
       "clickable and can be expanded/collapsed.\n",
       "- Pipeline and ColumnTransformer use this feature and define the default style\n",
       "- Estimators will overwrite some part of the style using the `sk-estimator` class\n",
       "*/\n",
       "\n",
       "/* Pipeline and ColumnTransformer style (default) */\n",
       "\n",
       "#sk-container-id-8 div.sk-toggleable {\n",
       "  /* Default theme specific background. It is overwritten whether we have a\n",
       "  specific estimator or a Pipeline/ColumnTransformer */\n",
       "  background-color: var(--sklearn-color-background);\n",
       "}\n",
       "\n",
       "/* Toggleable label */\n",
       "#sk-container-id-8 label.sk-toggleable__label {\n",
       "  cursor: pointer;\n",
       "  display: block;\n",
       "  width: 100%;\n",
       "  margin-bottom: 0;\n",
       "  padding: 0.5em;\n",
       "  box-sizing: border-box;\n",
       "  text-align: center;\n",
       "}\n",
       "\n",
       "#sk-container-id-8 label.sk-toggleable__label-arrow:before {\n",
       "  /* Arrow on the left of the label */\n",
       "  content: \"▸\";\n",
       "  float: left;\n",
       "  margin-right: 0.25em;\n",
       "  color: var(--sklearn-color-icon);\n",
       "}\n",
       "\n",
       "#sk-container-id-8 label.sk-toggleable__label-arrow:hover:before {\n",
       "  color: var(--sklearn-color-text);\n",
       "}\n",
       "\n",
       "/* Toggleable content - dropdown */\n",
       "\n",
       "#sk-container-id-8 div.sk-toggleable__content {\n",
       "  max-height: 0;\n",
       "  max-width: 0;\n",
       "  overflow: hidden;\n",
       "  text-align: left;\n",
       "  /* unfitted */\n",
       "  background-color: var(--sklearn-color-unfitted-level-0);\n",
       "}\n",
       "\n",
       "#sk-container-id-8 div.sk-toggleable__content.fitted {\n",
       "  /* fitted */\n",
       "  background-color: var(--sklearn-color-fitted-level-0);\n",
       "}\n",
       "\n",
       "#sk-container-id-8 div.sk-toggleable__content pre {\n",
       "  margin: 0.2em;\n",
       "  border-radius: 0.25em;\n",
       "  color: var(--sklearn-color-text);\n",
       "  /* unfitted */\n",
       "  background-color: var(--sklearn-color-unfitted-level-0);\n",
       "}\n",
       "\n",
       "#sk-container-id-8 div.sk-toggleable__content.fitted pre {\n",
       "  /* unfitted */\n",
       "  background-color: var(--sklearn-color-fitted-level-0);\n",
       "}\n",
       "\n",
       "#sk-container-id-8 input.sk-toggleable__control:checked~div.sk-toggleable__content {\n",
       "  /* Expand drop-down */\n",
       "  max-height: 200px;\n",
       "  max-width: 100%;\n",
       "  overflow: auto;\n",
       "}\n",
       "\n",
       "#sk-container-id-8 input.sk-toggleable__control:checked~label.sk-toggleable__label-arrow:before {\n",
       "  content: \"▾\";\n",
       "}\n",
       "\n",
       "/* Pipeline/ColumnTransformer-specific style */\n",
       "\n",
       "#sk-container-id-8 div.sk-label input.sk-toggleable__control:checked~label.sk-toggleable__label {\n",
       "  color: var(--sklearn-color-text);\n",
       "  background-color: var(--sklearn-color-unfitted-level-2);\n",
       "}\n",
       "\n",
       "#sk-container-id-8 div.sk-label.fitted input.sk-toggleable__control:checked~label.sk-toggleable__label {\n",
       "  background-color: var(--sklearn-color-fitted-level-2);\n",
       "}\n",
       "\n",
       "/* Estimator-specific style */\n",
       "\n",
       "/* Colorize estimator box */\n",
       "#sk-container-id-8 div.sk-estimator input.sk-toggleable__control:checked~label.sk-toggleable__label {\n",
       "  /* unfitted */\n",
       "  background-color: var(--sklearn-color-unfitted-level-2);\n",
       "}\n",
       "\n",
       "#sk-container-id-8 div.sk-estimator.fitted input.sk-toggleable__control:checked~label.sk-toggleable__label {\n",
       "  /* fitted */\n",
       "  background-color: var(--sklearn-color-fitted-level-2);\n",
       "}\n",
       "\n",
       "#sk-container-id-8 div.sk-label label.sk-toggleable__label,\n",
       "#sk-container-id-8 div.sk-label label {\n",
       "  /* The background is the default theme color */\n",
       "  color: var(--sklearn-color-text-on-default-background);\n",
       "}\n",
       "\n",
       "/* On hover, darken the color of the background */\n",
       "#sk-container-id-8 div.sk-label:hover label.sk-toggleable__label {\n",
       "  color: var(--sklearn-color-text);\n",
       "  background-color: var(--sklearn-color-unfitted-level-2);\n",
       "}\n",
       "\n",
       "/* Label box, darken color on hover, fitted */\n",
       "#sk-container-id-8 div.sk-label.fitted:hover label.sk-toggleable__label.fitted {\n",
       "  color: var(--sklearn-color-text);\n",
       "  background-color: var(--sklearn-color-fitted-level-2);\n",
       "}\n",
       "\n",
       "/* Estimator label */\n",
       "\n",
       "#sk-container-id-8 div.sk-label label {\n",
       "  font-family: monospace;\n",
       "  font-weight: bold;\n",
       "  display: inline-block;\n",
       "  line-height: 1.2em;\n",
       "}\n",
       "\n",
       "#sk-container-id-8 div.sk-label-container {\n",
       "  text-align: center;\n",
       "}\n",
       "\n",
       "/* Estimator-specific */\n",
       "#sk-container-id-8 div.sk-estimator {\n",
       "  font-family: monospace;\n",
       "  border: 1px dotted var(--sklearn-color-border-box);\n",
       "  border-radius: 0.25em;\n",
       "  box-sizing: border-box;\n",
       "  margin-bottom: 0.5em;\n",
       "  /* unfitted */\n",
       "  background-color: var(--sklearn-color-unfitted-level-0);\n",
       "}\n",
       "\n",
       "#sk-container-id-8 div.sk-estimator.fitted {\n",
       "  /* fitted */\n",
       "  background-color: var(--sklearn-color-fitted-level-0);\n",
       "}\n",
       "\n",
       "/* on hover */\n",
       "#sk-container-id-8 div.sk-estimator:hover {\n",
       "  /* unfitted */\n",
       "  background-color: var(--sklearn-color-unfitted-level-2);\n",
       "}\n",
       "\n",
       "#sk-container-id-8 div.sk-estimator.fitted:hover {\n",
       "  /* fitted */\n",
       "  background-color: var(--sklearn-color-fitted-level-2);\n",
       "}\n",
       "\n",
       "/* Specification for estimator info (e.g. \"i\" and \"?\") */\n",
       "\n",
       "/* Common style for \"i\" and \"?\" */\n",
       "\n",
       ".sk-estimator-doc-link,\n",
       "a:link.sk-estimator-doc-link,\n",
       "a:visited.sk-estimator-doc-link {\n",
       "  float: right;\n",
       "  font-size: smaller;\n",
       "  line-height: 1em;\n",
       "  font-family: monospace;\n",
       "  background-color: var(--sklearn-color-background);\n",
       "  border-radius: 1em;\n",
       "  height: 1em;\n",
       "  width: 1em;\n",
       "  text-decoration: none !important;\n",
       "  margin-left: 1ex;\n",
       "  /* unfitted */\n",
       "  border: var(--sklearn-color-unfitted-level-1) 1pt solid;\n",
       "  color: var(--sklearn-color-unfitted-level-1);\n",
       "}\n",
       "\n",
       ".sk-estimator-doc-link.fitted,\n",
       "a:link.sk-estimator-doc-link.fitted,\n",
       "a:visited.sk-estimator-doc-link.fitted {\n",
       "  /* fitted */\n",
       "  border: var(--sklearn-color-fitted-level-1) 1pt solid;\n",
       "  color: var(--sklearn-color-fitted-level-1);\n",
       "}\n",
       "\n",
       "/* On hover */\n",
       "div.sk-estimator:hover .sk-estimator-doc-link:hover,\n",
       ".sk-estimator-doc-link:hover,\n",
       "div.sk-label-container:hover .sk-estimator-doc-link:hover,\n",
       ".sk-estimator-doc-link:hover {\n",
       "  /* unfitted */\n",
       "  background-color: var(--sklearn-color-unfitted-level-3);\n",
       "  color: var(--sklearn-color-background);\n",
       "  text-decoration: none;\n",
       "}\n",
       "\n",
       "div.sk-estimator.fitted:hover .sk-estimator-doc-link.fitted:hover,\n",
       ".sk-estimator-doc-link.fitted:hover,\n",
       "div.sk-label-container:hover .sk-estimator-doc-link.fitted:hover,\n",
       ".sk-estimator-doc-link.fitted:hover {\n",
       "  /* fitted */\n",
       "  background-color: var(--sklearn-color-fitted-level-3);\n",
       "  color: var(--sklearn-color-background);\n",
       "  text-decoration: none;\n",
       "}\n",
       "\n",
       "/* Span, style for the box shown on hovering the info icon */\n",
       ".sk-estimator-doc-link span {\n",
       "  display: none;\n",
       "  z-index: 9999;\n",
       "  position: relative;\n",
       "  font-weight: normal;\n",
       "  right: .2ex;\n",
       "  padding: .5ex;\n",
       "  margin: .5ex;\n",
       "  width: min-content;\n",
       "  min-width: 20ex;\n",
       "  max-width: 50ex;\n",
       "  color: var(--sklearn-color-text);\n",
       "  box-shadow: 2pt 2pt 4pt #999;\n",
       "  /* unfitted */\n",
       "  background: var(--sklearn-color-unfitted-level-0);\n",
       "  border: .5pt solid var(--sklearn-color-unfitted-level-3);\n",
       "}\n",
       "\n",
       ".sk-estimator-doc-link.fitted span {\n",
       "  /* fitted */\n",
       "  background: var(--sklearn-color-fitted-level-0);\n",
       "  border: var(--sklearn-color-fitted-level-3);\n",
       "}\n",
       "\n",
       ".sk-estimator-doc-link:hover span {\n",
       "  display: block;\n",
       "}\n",
       "\n",
       "/* \"?\"-specific style due to the `<a>` HTML tag */\n",
       "\n",
       "#sk-container-id-8 a.estimator_doc_link {\n",
       "  float: right;\n",
       "  font-size: 1rem;\n",
       "  line-height: 1em;\n",
       "  font-family: monospace;\n",
       "  background-color: var(--sklearn-color-background);\n",
       "  border-radius: 1rem;\n",
       "  height: 1rem;\n",
       "  width: 1rem;\n",
       "  text-decoration: none;\n",
       "  /* unfitted */\n",
       "  color: var(--sklearn-color-unfitted-level-1);\n",
       "  border: var(--sklearn-color-unfitted-level-1) 1pt solid;\n",
       "}\n",
       "\n",
       "#sk-container-id-8 a.estimator_doc_link.fitted {\n",
       "  /* fitted */\n",
       "  border: var(--sklearn-color-fitted-level-1) 1pt solid;\n",
       "  color: var(--sklearn-color-fitted-level-1);\n",
       "}\n",
       "\n",
       "/* On hover */\n",
       "#sk-container-id-8 a.estimator_doc_link:hover {\n",
       "  /* unfitted */\n",
       "  background-color: var(--sklearn-color-unfitted-level-3);\n",
       "  color: var(--sklearn-color-background);\n",
       "  text-decoration: none;\n",
       "}\n",
       "\n",
       "#sk-container-id-8 a.estimator_doc_link.fitted:hover {\n",
       "  /* fitted */\n",
       "  background-color: var(--sklearn-color-fitted-level-3);\n",
       "}\n",
       "</style><div id=\"sk-container-id-8\" class=\"sk-top-container\"><div class=\"sk-text-repr-fallback\"><pre>XGBRFRegressor(base_score=0.5, booster=&#x27;gbtree&#x27;, callbacks=None,\n",
       "               colsample_bylevel=1, colsample_bytree=1, device=None,\n",
       "               early_stopping_rounds=None, enable_categorical=False,\n",
       "               eval_metric=None, feature_types=None, gamma=0, gpu_id=-1,\n",
       "               grow_policy=None, importance_type=&#x27;gain&#x27;,\n",
       "               interaction_constraints=&#x27;&#x27;, max_bin=None, max_cat_threshold=None,\n",
       "               max_cat_to_onehot=None, max_delta_step=0, max_depth=6,\n",
       "               max_leaves=None, min_child_weight=1, missing=nan,\n",
       "               monotone_constraints=&#x27;()&#x27;, multi_strategy=None, n_estimators=100,\n",
       "               n_jobs=4, num_parallel_tree=100, objective=&#x27;reg:squarederror&#x27;,\n",
       "               random_state=0, ...)</pre><b>In a Jupyter environment, please rerun this cell to show the HTML representation or trust the notebook. <br />On GitHub, the HTML representation is unable to render, please try loading this page with nbviewer.org.</b></div><div class=\"sk-container\" hidden><div class=\"sk-item\"><div class=\"sk-estimator fitted sk-toggleable\"><input class=\"sk-toggleable__control sk-hidden--visually\" id=\"sk-estimator-id-8\" type=\"checkbox\" checked><label for=\"sk-estimator-id-8\" class=\"sk-toggleable__label fitted sk-toggleable__label-arrow fitted\">&nbsp;XGBRFRegressor<span class=\"sk-estimator-doc-link fitted\">i<span>Fitted</span></span></label><div class=\"sk-toggleable__content fitted\"><pre>XGBRFRegressor(base_score=0.5, booster=&#x27;gbtree&#x27;, callbacks=None,\n",
       "               colsample_bylevel=1, colsample_bytree=1, device=None,\n",
       "               early_stopping_rounds=None, enable_categorical=False,\n",
       "               eval_metric=None, feature_types=None, gamma=0, gpu_id=-1,\n",
       "               grow_policy=None, importance_type=&#x27;gain&#x27;,\n",
       "               interaction_constraints=&#x27;&#x27;, max_bin=None, max_cat_threshold=None,\n",
       "               max_cat_to_onehot=None, max_delta_step=0, max_depth=6,\n",
       "               max_leaves=None, min_child_weight=1, missing=nan,\n",
       "               monotone_constraints=&#x27;()&#x27;, multi_strategy=None, n_estimators=100,\n",
       "               n_jobs=4, num_parallel_tree=100, objective=&#x27;reg:squarederror&#x27;,\n",
       "               random_state=0, ...)</pre></div> </div></div></div></div>"
      ],
      "text/plain": [
       "XGBRFRegressor(base_score=0.5, booster='gbtree', callbacks=None,\n",
       "               colsample_bylevel=1, colsample_bytree=1, device=None,\n",
       "               early_stopping_rounds=None, enable_categorical=False,\n",
       "               eval_metric=None, feature_types=None, gamma=0, gpu_id=-1,\n",
       "               grow_policy=None, importance_type='gain',\n",
       "               interaction_constraints='', max_bin=None, max_cat_threshold=None,\n",
       "               max_cat_to_onehot=None, max_delta_step=0, max_depth=6,\n",
       "               max_leaves=None, min_child_weight=1, missing=nan,\n",
       "               monotone_constraints='()', multi_strategy=None, n_estimators=100,\n",
       "               n_jobs=4, num_parallel_tree=100, objective='reg:squarederror',\n",
       "               random_state=0, ...)"
      ]
     },
     "execution_count": 360,
     "metadata": {},
     "output_type": "execute_result"
    }
   ],
   "source": [
    "from sklearn.model_selection import train_test_split\n",
    "from sklearn.metrics import mean_absolute_error\n",
    "\n",
    "x_data_train,x_data_test,y_data_train,y_data_test=train_test_split(Final_data,y_data,test_size=0.20,random_state=42)\n",
    "xg_Final.fit(x_data_train,y_data_train)"
   ]
  },
  {
   "cell_type": "code",
   "execution_count": 361,
   "metadata": {},
   "outputs": [],
   "source": [
    "y_pred = xg_Final.predict(x_data_test)"
   ]
  },
  {
   "cell_type": "code",
   "execution_count": 362,
   "metadata": {},
   "outputs": [
    {
     "data": {
      "text/plain": [
       "714.4168458622603"
      ]
     },
     "execution_count": 362,
     "metadata": {},
     "output_type": "execute_result"
    }
   ],
   "source": [
    "mean_absolute_error(y_data_test,y_pred)"
   ]
  },
  {
   "cell_type": "code",
   "execution_count": 363,
   "metadata": {},
   "outputs": [
    {
     "name": "stdout",
     "output_type": "stream",
     "text": [
      "2059.0977\n",
      "2349.1763\n"
     ]
    }
   ],
   "source": [
    "pred = xg_Final.predict(np.array([[141.6180,9.0,1.0,1.0,24]]))[0]\n",
    "print(pred)\n",
    "new_pred=xg_Final.predict(np.array([[149.0418,3.0,1.0,2.0,15]]))[0]\n",
    "print(new_pred)"
   ]
  },
  {
   "cell_type": "code",
   "execution_count": 364,
   "metadata": {},
   "outputs": [
    {
     "data": {
      "text/plain": [
       "1021.167965996744"
      ]
     },
     "execution_count": 364,
     "metadata": {},
     "output_type": "execute_result"
    }
   ],
   "source": [
    "from sklearn.metrics import mean_absolute_error,mean_squared_error,r2_score,mean_absolute_percentage_error\n",
    "MSE = mean_squared_error(y_data_test,y_pred)\n",
    "RMSE = np.sqrt(MSE)\n",
    "RMSE"
   ]
  },
  {
   "cell_type": "code",
   "execution_count": 365,
   "metadata": {},
   "outputs": [
    {
     "name": "stdout",
     "output_type": "stream",
     "text": [
      "Mean Absolute Percentage Error:0.56%\n"
     ]
    }
   ],
   "source": [
    "MAPE = mean_absolute_percentage_error(y_data_test,y_pred)\n",
    "print(f'Mean Absolute Percentage Error:{MAPE:.2f}%')"
   ]
  },
  {
   "cell_type": "code",
   "execution_count": 366,
   "metadata": {},
   "outputs": [
    {
     "name": "stdout",
     "output_type": "stream",
     "text": [
      "Sales value is between 1344.67765625 and 2773.51765625\n"
     ]
    }
   ],
   "source": [
    "print(f\"Sales value is between {pred-714.42} and {pred+714.42}\")"
   ]
  },
  {
   "cell_type": "markdown",
   "metadata": {},
   "source": [
    "TEST DATASET"
   ]
  },
  {
   "cell_type": "code",
   "execution_count": 367,
   "metadata": {},
   "outputs": [
    {
     "data": {
      "text/html": [
       "<div>\n",
       "<style scoped>\n",
       "    .dataframe tbody tr th:only-of-type {\n",
       "        vertical-align: middle;\n",
       "    }\n",
       "\n",
       "    .dataframe tbody tr th {\n",
       "        vertical-align: top;\n",
       "    }\n",
       "\n",
       "    .dataframe thead th {\n",
       "        text-align: right;\n",
       "    }\n",
       "</style>\n",
       "<table border=\"1\" class=\"dataframe\">\n",
       "  <thead>\n",
       "    <tr style=\"text-align: right;\">\n",
       "      <th></th>\n",
       "      <th>Item_Identifier</th>\n",
       "      <th>Item_Weight</th>\n",
       "      <th>Item_Fat_Content</th>\n",
       "      <th>Item_Visibility</th>\n",
       "      <th>Item_Type</th>\n",
       "      <th>Item_MRP</th>\n",
       "      <th>Outlet_Identifier</th>\n",
       "      <th>Outlet_Establishment_Year</th>\n",
       "      <th>Outlet_Size</th>\n",
       "      <th>Outlet_Location_Type</th>\n",
       "      <th>Outlet_Type</th>\n",
       "    </tr>\n",
       "  </thead>\n",
       "  <tbody>\n",
       "    <tr>\n",
       "      <th>0</th>\n",
       "      <td>FDW58</td>\n",
       "      <td>20.750</td>\n",
       "      <td>Low Fat</td>\n",
       "      <td>0.007565</td>\n",
       "      <td>Snack Foods</td>\n",
       "      <td>107.8622</td>\n",
       "      <td>OUT049</td>\n",
       "      <td>1999</td>\n",
       "      <td>Medium</td>\n",
       "      <td>Tier 1</td>\n",
       "      <td>Supermarket Type1</td>\n",
       "    </tr>\n",
       "    <tr>\n",
       "      <th>1</th>\n",
       "      <td>FDW14</td>\n",
       "      <td>8.300</td>\n",
       "      <td>reg</td>\n",
       "      <td>0.038428</td>\n",
       "      <td>Dairy</td>\n",
       "      <td>87.3198</td>\n",
       "      <td>OUT017</td>\n",
       "      <td>2007</td>\n",
       "      <td>NaN</td>\n",
       "      <td>Tier 2</td>\n",
       "      <td>Supermarket Type1</td>\n",
       "    </tr>\n",
       "    <tr>\n",
       "      <th>2</th>\n",
       "      <td>NCN55</td>\n",
       "      <td>14.600</td>\n",
       "      <td>Low Fat</td>\n",
       "      <td>0.099575</td>\n",
       "      <td>Others</td>\n",
       "      <td>241.7538</td>\n",
       "      <td>OUT010</td>\n",
       "      <td>1998</td>\n",
       "      <td>NaN</td>\n",
       "      <td>Tier 3</td>\n",
       "      <td>Grocery Store</td>\n",
       "    </tr>\n",
       "    <tr>\n",
       "      <th>3</th>\n",
       "      <td>FDQ58</td>\n",
       "      <td>7.315</td>\n",
       "      <td>Low Fat</td>\n",
       "      <td>0.015388</td>\n",
       "      <td>Snack Foods</td>\n",
       "      <td>155.0340</td>\n",
       "      <td>OUT017</td>\n",
       "      <td>2007</td>\n",
       "      <td>NaN</td>\n",
       "      <td>Tier 2</td>\n",
       "      <td>Supermarket Type1</td>\n",
       "    </tr>\n",
       "    <tr>\n",
       "      <th>4</th>\n",
       "      <td>FDY38</td>\n",
       "      <td>NaN</td>\n",
       "      <td>Regular</td>\n",
       "      <td>0.118599</td>\n",
       "      <td>Dairy</td>\n",
       "      <td>234.2300</td>\n",
       "      <td>OUT027</td>\n",
       "      <td>1985</td>\n",
       "      <td>Medium</td>\n",
       "      <td>Tier 3</td>\n",
       "      <td>Supermarket Type3</td>\n",
       "    </tr>\n",
       "  </tbody>\n",
       "</table>\n",
       "</div>"
      ],
      "text/plain": [
       "  Item_Identifier  Item_Weight Item_Fat_Content  Item_Visibility    Item_Type  \\\n",
       "0           FDW58       20.750          Low Fat         0.007565  Snack Foods   \n",
       "1           FDW14        8.300              reg         0.038428        Dairy   \n",
       "2           NCN55       14.600          Low Fat         0.099575       Others   \n",
       "3           FDQ58        7.315          Low Fat         0.015388  Snack Foods   \n",
       "4           FDY38          NaN          Regular         0.118599        Dairy   \n",
       "\n",
       "   Item_MRP Outlet_Identifier  Outlet_Establishment_Year Outlet_Size  \\\n",
       "0  107.8622            OUT049                       1999      Medium   \n",
       "1   87.3198            OUT017                       2007         NaN   \n",
       "2  241.7538            OUT010                       1998         NaN   \n",
       "3  155.0340            OUT017                       2007         NaN   \n",
       "4  234.2300            OUT027                       1985      Medium   \n",
       "\n",
       "  Outlet_Location_Type        Outlet_Type  \n",
       "0               Tier 1  Supermarket Type1  \n",
       "1               Tier 2  Supermarket Type1  \n",
       "2               Tier 3      Grocery Store  \n",
       "3               Tier 2  Supermarket Type1  \n",
       "4               Tier 3  Supermarket Type3  "
      ]
     },
     "execution_count": 367,
     "metadata": {},
     "output_type": "execute_result"
    }
   ],
   "source": [
    "test_dataset =pd.read_csv(r\"C:\\Users\\DELL\\Downloads\\9961_14084_bundle_archive\\Test.csv\")\n",
    "test_dataset.head()"
   ]
  },
  {
   "cell_type": "code",
   "execution_count": 368,
   "metadata": {},
   "outputs": [
    {
     "data": {
      "text/plain": [
       "(5681, 11)"
      ]
     },
     "execution_count": 368,
     "metadata": {},
     "output_type": "execute_result"
    }
   ],
   "source": [
    "test_dataset.shape"
   ]
  },
  {
   "cell_type": "code",
   "execution_count": 369,
   "metadata": {},
   "outputs": [
    {
     "data": {
      "text/plain": [
       "Index(['Item_Identifier', 'Item_Weight', 'Item_Fat_Content', 'Item_Visibility',\n",
       "       'Item_Type', 'Item_MRP', 'Outlet_Identifier',\n",
       "       'Outlet_Establishment_Year', 'Outlet_Size', 'Outlet_Location_Type',\n",
       "       'Outlet_Type'],\n",
       "      dtype='object')"
      ]
     },
     "execution_count": 369,
     "metadata": {},
     "output_type": "execute_result"
    }
   ],
   "source": [
    "test_dataset.columns"
   ]
  },
  {
   "cell_type": "code",
   "execution_count": 370,
   "metadata": {},
   "outputs": [
    {
     "data": {
      "text/html": [
       "<div>\n",
       "<style scoped>\n",
       "    .dataframe tbody tr th:only-of-type {\n",
       "        vertical-align: middle;\n",
       "    }\n",
       "\n",
       "    .dataframe tbody tr th {\n",
       "        vertical-align: top;\n",
       "    }\n",
       "\n",
       "    .dataframe thead th {\n",
       "        text-align: right;\n",
       "    }\n",
       "</style>\n",
       "<table border=\"1\" class=\"dataframe\">\n",
       "  <thead>\n",
       "    <tr style=\"text-align: right;\">\n",
       "      <th></th>\n",
       "      <th>Item_Weight</th>\n",
       "      <th>Item_Visibility</th>\n",
       "      <th>Item_MRP</th>\n",
       "      <th>Outlet_Establishment_Year</th>\n",
       "    </tr>\n",
       "  </thead>\n",
       "  <tbody>\n",
       "    <tr>\n",
       "      <th>count</th>\n",
       "      <td>4705.000000</td>\n",
       "      <td>5681.000000</td>\n",
       "      <td>5681.000000</td>\n",
       "      <td>5681.000000</td>\n",
       "    </tr>\n",
       "    <tr>\n",
       "      <th>mean</th>\n",
       "      <td>12.695633</td>\n",
       "      <td>0.065684</td>\n",
       "      <td>141.023273</td>\n",
       "      <td>1997.828903</td>\n",
       "    </tr>\n",
       "    <tr>\n",
       "      <th>std</th>\n",
       "      <td>4.664849</td>\n",
       "      <td>0.051252</td>\n",
       "      <td>61.809091</td>\n",
       "      <td>8.372256</td>\n",
       "    </tr>\n",
       "    <tr>\n",
       "      <th>min</th>\n",
       "      <td>4.555000</td>\n",
       "      <td>0.000000</td>\n",
       "      <td>31.990000</td>\n",
       "      <td>1985.000000</td>\n",
       "    </tr>\n",
       "    <tr>\n",
       "      <th>25%</th>\n",
       "      <td>8.645000</td>\n",
       "      <td>0.027047</td>\n",
       "      <td>94.412000</td>\n",
       "      <td>1987.000000</td>\n",
       "    </tr>\n",
       "    <tr>\n",
       "      <th>50%</th>\n",
       "      <td>12.500000</td>\n",
       "      <td>0.054154</td>\n",
       "      <td>141.415400</td>\n",
       "      <td>1999.000000</td>\n",
       "    </tr>\n",
       "    <tr>\n",
       "      <th>75%</th>\n",
       "      <td>16.700000</td>\n",
       "      <td>0.093463</td>\n",
       "      <td>186.026600</td>\n",
       "      <td>2004.000000</td>\n",
       "    </tr>\n",
       "    <tr>\n",
       "      <th>max</th>\n",
       "      <td>21.350000</td>\n",
       "      <td>0.323637</td>\n",
       "      <td>266.588400</td>\n",
       "      <td>2009.000000</td>\n",
       "    </tr>\n",
       "  </tbody>\n",
       "</table>\n",
       "</div>"
      ],
      "text/plain": [
       "       Item_Weight  Item_Visibility     Item_MRP  Outlet_Establishment_Year\n",
       "count  4705.000000      5681.000000  5681.000000                5681.000000\n",
       "mean     12.695633         0.065684   141.023273                1997.828903\n",
       "std       4.664849         0.051252    61.809091                   8.372256\n",
       "min       4.555000         0.000000    31.990000                1985.000000\n",
       "25%       8.645000         0.027047    94.412000                1987.000000\n",
       "50%      12.500000         0.054154   141.415400                1999.000000\n",
       "75%      16.700000         0.093463   186.026600                2004.000000\n",
       "max      21.350000         0.323637   266.588400                2009.000000"
      ]
     },
     "execution_count": 370,
     "metadata": {},
     "output_type": "execute_result"
    }
   ],
   "source": [
    "test_dataset.describe()"
   ]
  },
  {
   "cell_type": "code",
   "execution_count": 371,
   "metadata": {},
   "outputs": [
    {
     "data": {
      "text/plain": [
       "Item_Identifier                 0\n",
       "Item_Weight                   976\n",
       "Item_Fat_Content                0\n",
       "Item_Visibility                 0\n",
       "Item_Type                       0\n",
       "Item_MRP                        0\n",
       "Outlet_Identifier               0\n",
       "Outlet_Establishment_Year       0\n",
       "Outlet_Size                  1606\n",
       "Outlet_Location_Type            0\n",
       "Outlet_Type                     0\n",
       "dtype: int64"
      ]
     },
     "execution_count": 371,
     "metadata": {},
     "output_type": "execute_result"
    }
   ],
   "source": [
    "test_dataset.isnull().sum()"
   ]
  },
  {
   "cell_type": "code",
   "execution_count": 372,
   "metadata": {},
   "outputs": [
    {
     "data": {
      "text/plain": [
       "False"
      ]
     },
     "execution_count": 372,
     "metadata": {},
     "output_type": "execute_result"
    }
   ],
   "source": [
    "test_dataset.duplicated().any()"
   ]
  },
  {
   "cell_type": "code",
   "execution_count": 373,
   "metadata": {},
   "outputs": [
    {
     "data": {
      "image/png": "[encoded data removed]",
      "text/plain": [
       "<Figure size 640x480 with 1 Axes>"
      ]
     },
     "metadata": {},
     "output_type": "display_data"
    }
   ],
   "source": [
    "mean_wgt=test_dataset[\"Item_Weight\"].mean()\n",
    "median_wgt=test_dataset[\"Item_Weight\"].median()\n",
    "test_dataset[\"Item_Weight_mean\"]=test_dataset[\"Item_Weight\"].fillna(mean_wgt)\n",
    "test_dataset[\"Item_Weight_median\"]=test_dataset[\"Item_Weight\"].fillna(median_wgt)\n",
    "test_dataset[\"Item_Weight_interpolation_imputation\"]=test_dataset[\"Item_Weight\"].interpolate(\"linear\")\n",
    "test_dataset[\"Item_Weight\"].plot(kind=\"kde\",color=\"red\",label=\"Original\")\n",
    "test_dataset[\"Item_Weight_mean\"].plot(kind=\"kde\",color=\"yellow\",label=\"Mean\")\n",
    "test_dataset[\"Item_Weight_median\"].plot(kind=\"kde\",color=\"blue\",label=\"Median\")\n",
    "test_dataset[\"Item_Weight_interpolation_imputation\"].plot(kind=\"kde\",label=\"Interpolated\")\n",
    "plt.legend()\n",
    "plt.show()"
   ]
  },
  {
   "cell_type": "code",
   "execution_count": 374,
   "metadata": {},
   "outputs": [
    {
     "data": {
      "text/plain": [
       "21.760812343231528"
      ]
     },
     "execution_count": 374,
     "metadata": {},
     "output_type": "execute_result"
    }
   ],
   "source": [
    "test_dataset['Item_Weight'].var()"
   ]
  },
  {
   "cell_type": "code",
   "execution_count": 375,
   "metadata": {},
   "outputs": [
    {
     "data": {
      "text/plain": [
       "18.021630503972027"
      ]
     },
     "execution_count": 375,
     "metadata": {},
     "output_type": "execute_result"
    }
   ],
   "source": [
    "test_dataset['Item_Weight_mean'].var()"
   ]
  },
  {
   "cell_type": "code",
   "execution_count": 376,
   "metadata": {},
   "outputs": [
    {
     "data": {
      "text/plain": [
       "18.027077062656037"
      ]
     },
     "execution_count": 376,
     "metadata": {},
     "output_type": "execute_result"
    }
   ],
   "source": [
    "test_dataset['Item_Weight_median'].var()"
   ]
  },
  {
   "cell_type": "code",
   "execution_count": 377,
   "metadata": {},
   "outputs": [
    {
     "data": {
      "text/plain": [
       "<Axes: >"
      ]
     },
     "execution_count": 377,
     "metadata": {},
     "output_type": "execute_result"
    },
    {
     "data": {
      "image/png": "[encoded data removed]",
      "text/plain": [
       "<Figure size 640x480 with 1 Axes>"
      ]
     },
     "metadata": {},
     "output_type": "display_data"
    }
   ],
   "source": [
    "test_dataset[['Item_Weight','Item_Weight_mean','Item_Weight_median']].boxplot()"
   ]
  },
  {
   "cell_type": "code",
   "execution_count": 378,
   "metadata": {},
   "outputs": [
    {
     "data": {
      "text/plain": [
       "<Axes: >"
      ]
     },
     "execution_count": 378,
     "metadata": {},
     "output_type": "execute_result"
    },
    {
     "data": {
      "image/png": "[encoded data removed]",
      "text/plain": [
       "<Figure size 640x480 with 1 Axes>"
      ]
     },
     "metadata": {},
     "output_type": "display_data"
    }
   ],
   "source": [
    "test_dataset[['Item_Weight','Item_Weight_interpolation_imputation']].boxplot()"
   ]
  },
  {
   "cell_type": "code",
   "execution_count": 379,
   "metadata": {},
   "outputs": [
    {
     "name": "stdout",
     "output_type": "stream",
     "text": [
      "21.760812343231528\n",
      "19.990913374786317\n"
     ]
    }
   ],
   "source": [
    "print(test_dataset['Item_Weight'].var())\n",
    "print(test_dataset['Item_Weight_interpolation_imputation'].var())"
   ]
  },
  {
   "cell_type": "code",
   "execution_count": 380,
   "metadata": {},
   "outputs": [],
   "source": [
    "data=test_dataset.drop(['Item_Weight','Item_Weight_mean','Item_Weight_median'],axis=1)"
   ]
  },
  {
   "cell_type": "code",
   "execution_count": 381,
   "metadata": {},
   "outputs": [
    {
     "data": {
      "text/plain": [
       "0       Medium\n",
       "1          NaN\n",
       "2          NaN\n",
       "3          NaN\n",
       "4       Medium\n",
       "         ...  \n",
       "5676     Small\n",
       "5677    Medium\n",
       "5678       NaN\n",
       "5679       NaN\n",
       "5680       NaN\n",
       "Name: Outlet_Size, Length: 5681, dtype: object"
      ]
     },
     "execution_count": 381,
     "metadata": {},
     "output_type": "execute_result"
    }
   ],
   "source": [
    "data[\"Outlet_Size\"]"
   ]
  },
  {
   "cell_type": "code",
   "execution_count": 382,
   "metadata": {},
   "outputs": [
    {
     "data": {
      "text/plain": [
       "Outlet_Size\n",
       "Medium    1862\n",
       "Small     1592\n",
       "High       621\n",
       "Name: count, dtype: int64"
      ]
     },
     "execution_count": 382,
     "metadata": {},
     "output_type": "execute_result"
    }
   ],
   "source": [
    "data['Outlet_Size'].value_counts()"
   ]
  },
  {
   "cell_type": "code",
   "execution_count": 383,
   "metadata": {},
   "outputs": [
    {
     "data": {
      "text/html": [
       "<div>\n",
       "<style scoped>\n",
       "    .dataframe tbody tr th:only-of-type {\n",
       "        vertical-align: middle;\n",
       "    }\n",
       "\n",
       "    .dataframe tbody tr th {\n",
       "        vertical-align: top;\n",
       "    }\n",
       "\n",
       "    .dataframe thead th {\n",
       "        text-align: right;\n",
       "    }\n",
       "</style>\n",
       "<table border=\"1\" class=\"dataframe\">\n",
       "  <thead>\n",
       "    <tr style=\"text-align: right;\">\n",
       "      <th>Outlet_Type</th>\n",
       "      <th>Grocery Store</th>\n",
       "      <th>Supermarket Type1</th>\n",
       "      <th>Supermarket Type2</th>\n",
       "      <th>Supermarket Type3</th>\n",
       "    </tr>\n",
       "  </thead>\n",
       "  <tbody>\n",
       "    <tr>\n",
       "      <th>Outlet_Size</th>\n",
       "      <td>Small</td>\n",
       "      <td>Small</td>\n",
       "      <td>Medium</td>\n",
       "      <td>Medium</td>\n",
       "    </tr>\n",
       "  </tbody>\n",
       "</table>\n",
       "</div>"
      ],
      "text/plain": [
       "Outlet_Type Grocery Store Supermarket Type1 Supermarket Type2  \\\n",
       "Outlet_Size         Small             Small            Medium   \n",
       "\n",
       "Outlet_Type Supermarket Type3  \n",
       "Outlet_Size            Medium  "
      ]
     },
     "execution_count": 383,
     "metadata": {},
     "output_type": "execute_result"
    }
   ],
   "source": [
    "pivot_table = data.pivot_table(values='Outlet_Size',columns='Outlet_Type',aggfunc=(lambda x:x.mode()[0]))\n",
    "pivot_table"
   ]
  },
  {
   "cell_type": "code",
   "execution_count": 384,
   "metadata": {},
   "outputs": [
    {
     "data": {
      "text/plain": [
       "0       False\n",
       "1        True\n",
       "2        True\n",
       "3        True\n",
       "4       False\n",
       "        ...  \n",
       "5676    False\n",
       "5677    False\n",
       "5678     True\n",
       "5679     True\n",
       "5680     True\n",
       "Name: Outlet_Size, Length: 5681, dtype: bool"
      ]
     },
     "execution_count": 384,
     "metadata": {},
     "output_type": "execute_result"
    }
   ],
   "source": [
    "missing_values = data['Outlet_Size'].isnull()\n",
    "missing_values"
   ]
  },
  {
   "cell_type": "code",
   "execution_count": 385,
   "metadata": {},
   "outputs": [
    {
     "data": {
      "text/plain": [
       "Item_Identifier                         0\n",
       "Item_Fat_Content                        0\n",
       "Item_Visibility                         0\n",
       "Item_Type                               0\n",
       "Item_MRP                                0\n",
       "Outlet_Identifier                       0\n",
       "Outlet_Establishment_Year               0\n",
       "Outlet_Size                             0\n",
       "Outlet_Location_Type                    0\n",
       "Outlet_Type                             0\n",
       "Item_Weight_interpolation_imputation    0\n",
       "dtype: int64"
      ]
     },
     "execution_count": 385,
     "metadata": {},
     "output_type": "execute_result"
    }
   ],
   "source": [
    "data.loc[missing_values,'Outlet_Size'] = data.loc[missing_values,'Outlet_Type'].apply(lambda x :pivot_table[x])\n",
    "data.isnull().sum()"
   ]
  },
  {
   "cell_type": "code",
   "execution_count": 386,
   "metadata": {},
   "outputs": [
    {
     "data": {
      "text/plain": [
       "<Axes: xlabel='Outlet_Size'>"
      ]
     },
     "execution_count": 386,
     "metadata": {},
     "output_type": "execute_result"
    },
    {
     "data": {
      "image/png": "[encoded data removed]",
      "text/plain": [
       "<Figure size 640x480 with 1 Axes>"
      ]
     },
     "metadata": {},
     "output_type": "display_data"
    }
   ],
   "source": [
    "Outletsize=pd.DataFrame(data['Outlet_Size'].value_counts())\n",
    "Outletsize.plot(kind=\"bar\")"
   ]
  },
  {
   "cell_type": "code",
   "execution_count": 387,
   "metadata": {},
   "outputs": [
    {
     "data": {
      "text/plain": [
       "Index(['Item_Identifier', 'Item_Fat_Content', 'Item_Visibility', 'Item_Type',\n",
       "       'Item_MRP', 'Outlet_Identifier', 'Outlet_Establishment_Year',\n",
       "       'Outlet_Size', 'Outlet_Location_Type', 'Outlet_Type',\n",
       "       'Item_Weight_interpolation_imputation'],\n",
       "      dtype='object')"
      ]
     },
     "execution_count": 387,
     "metadata": {},
     "output_type": "execute_result"
    }
   ],
   "source": [
    "data.columns"
   ]
  },
  {
   "cell_type": "code",
   "execution_count": 388,
   "metadata": {},
   "outputs": [
    {
     "data": {
      "text/plain": [
       "Item_Fat_Content\n",
       "Low Fat    3396\n",
       "Regular    1935\n",
       "LF          206\n",
       "reg          78\n",
       "low fat      66\n",
       "Name: count, dtype: int64"
      ]
     },
     "execution_count": 388,
     "metadata": {},
     "output_type": "execute_result"
    }
   ],
   "source": [
    "ItemFat=pd.DataFrame(data['Item_Fat_Content'].value_counts())\n",
    "data['Item_Fat_Content'].value_counts()"
   ]
  },
  {
   "cell_type": "code",
   "execution_count": 389,
   "metadata": {},
   "outputs": [
    {
     "data": {
      "text/plain": [
       "<Axes: xlabel='Item_Fat_Content'>"
      ]
     },
     "execution_count": 389,
     "metadata": {},
     "output_type": "execute_result"
    },
    {
     "data": {
      "image/png": "[encoded data removed]",
      "text/plain": [
       "<Figure size 640x480 with 1 Axes>"
      ]
     },
     "metadata": {},
     "output_type": "display_data"
    }
   ],
   "source": [
    "ItemFat.plot(kind='bar')"
   ]
  },
  {
   "cell_type": "code",
   "execution_count": 390,
   "metadata": {},
   "outputs": [],
   "source": [
    "data.replace({'Item_Fat_Content':{'low fat':'Low Fat','LF':'Low Fat','reg':'Regular'}},inplace=True)"
   ]
  },
  {
   "cell_type": "code",
   "execution_count": 391,
   "metadata": {},
   "outputs": [
    {
     "data": {
      "text/plain": [
       "Item_Fat_Content\n",
       "Low Fat    3668\n",
       "Regular    2013\n",
       "Name: count, dtype: int64"
      ]
     },
     "execution_count": 391,
     "metadata": {},
     "output_type": "execute_result"
    }
   ],
   "source": [
    "data['Item_Fat_Content'].value_counts()"
   ]
  },
  {
   "cell_type": "code",
   "execution_count": 392,
   "metadata": {},
   "outputs": [
    {
     "data": {
      "text/plain": [
       "<Axes: xlabel='Item_Fat_Content'>"
      ]
     },
     "execution_count": 392,
     "metadata": {},
     "output_type": "execute_result"
    },
    {
     "data": {
      "image/png": "[encoded data removed]",
      "text/plain": [
       "<Figure size 640x480 with 1 Axes>"
      ]
     },
     "metadata": {},
     "output_type": "display_data"
    }
   ],
   "source": [
    "ItemFat=pd.DataFrame(data['Item_Fat_Content'].value_counts())\n",
    "ItemFat.plot(kind='bar')"
   ]
  },
  {
   "cell_type": "code",
   "execution_count": 393,
   "metadata": {},
   "outputs": [
    {
     "data": {
      "text/plain": [
       "Index(['Item_Identifier', 'Item_Fat_Content', 'Item_Visibility', 'Item_Type',\n",
       "       'Item_MRP', 'Outlet_Identifier', 'Outlet_Establishment_Year',\n",
       "       'Outlet_Size', 'Outlet_Location_Type', 'Outlet_Type',\n",
       "       'Item_Weight_interpolation_imputation'],\n",
       "      dtype='object')"
      ]
     },
     "execution_count": 393,
     "metadata": {},
     "output_type": "execute_result"
    }
   ],
   "source": [
    "data.columns"
   ]
  },
  {
   "cell_type": "code",
   "execution_count": 394,
   "metadata": {},
   "outputs": [
    {
     "data": {
      "text/plain": [
       "Index(['Item_Identifier', 'Item_Fat_Content', 'Item_Visibility', 'Item_Type',\n",
       "       'Item_MRP', 'Outlet_Identifier', 'Outlet_Establishment_Year',\n",
       "       'Outlet_Size', 'Outlet_Location_Type', 'Outlet_Type',\n",
       "       'Item_Weight_interpolation_imputation'],\n",
       "      dtype='object')"
      ]
     },
     "execution_count": 394,
     "metadata": {},
     "output_type": "execute_result"
    }
   ],
   "source": [
    "data.columns"
   ]
  },
  {
   "cell_type": "code",
   "execution_count": 395,
   "metadata": {},
   "outputs": [
    {
     "data": {
      "text/plain": [
       "Item_Visibility\n",
       "0.000000    353\n",
       "0.060879      2\n",
       "0.097213      2\n",
       "0.058461      2\n",
       "0.058132      2\n",
       "           ... \n",
       "0.082382      1\n",
       "0.026175      1\n",
       "0.155144      1\n",
       "0.069557      1\n",
       "0.104720      1\n",
       "Name: count, Length: 5277, dtype: int64"
      ]
     },
     "execution_count": 395,
     "metadata": {},
     "output_type": "execute_result"
    }
   ],
   "source": [
    "data['Item_Visibility'].value_counts()"
   ]
  },
  {
   "cell_type": "code",
   "execution_count": 396,
   "metadata": {},
   "outputs": [],
   "source": [
    "data['Item_Visibility_interpolate']=data['Item_Visibility'].replace(0,np.nan).interpolate(method='linear')"
   ]
  },
  {
   "cell_type": "code",
   "execution_count": 397,
   "metadata": {},
   "outputs": [
    {
     "data": {
      "text/plain": [
       "Item_Visibility_interpolate\n",
       "0.093531    2\n",
       "0.072816    2\n",
       "0.202948    2\n",
       "0.107493    2\n",
       "0.112131    2\n",
       "           ..\n",
       "0.089452    1\n",
       "0.133171    1\n",
       "0.103428    1\n",
       "0.073685    1\n",
       "0.104720    1\n",
       "Name: count, Length: 5629, dtype: int64"
      ]
     },
     "execution_count": 397,
     "metadata": {},
     "output_type": "execute_result"
    }
   ],
   "source": [
    "data['Item_Visibility_interpolate'].value_counts()"
   ]
  },
  {
   "cell_type": "code",
   "execution_count": 398,
   "metadata": {},
   "outputs": [
    {
     "data": {
      "image/png": "[encoded data removed]",
      "text/plain": [
       "<Figure size 640x480 with 1 Axes>"
      ]
     },
     "metadata": {},
     "output_type": "display_data"
    }
   ],
   "source": [
    "data['Item_Visibility'].plot(kind=\"kde\",label=\"Original\")\n",
    "data['Item_Visibility_interpolate'].plot(kind=\"kde\",color='red',label=\"Interpolate\")\n",
    "plt.legend()\n",
    "plt.show()"
   ]
  },
  {
   "cell_type": "code",
   "execution_count": 399,
   "metadata": {},
   "outputs": [],
   "source": [
    "data = data.drop('Item_Visibility',axis=1)"
   ]
  },
  {
   "cell_type": "code",
   "execution_count": 400,
   "metadata": {},
   "outputs": [
    {
     "data": {
      "text/html": [
       "<div>\n",
       "<style scoped>\n",
       "    .dataframe tbody tr th:only-of-type {\n",
       "        vertical-align: middle;\n",
       "    }\n",
       "\n",
       "    .dataframe tbody tr th {\n",
       "        vertical-align: top;\n",
       "    }\n",
       "\n",
       "    .dataframe thead th {\n",
       "        text-align: right;\n",
       "    }\n",
       "</style>\n",
       "<table border=\"1\" class=\"dataframe\">\n",
       "  <thead>\n",
       "    <tr style=\"text-align: right;\">\n",
       "      <th></th>\n",
       "      <th>Item_Identifier</th>\n",
       "      <th>Item_Fat_Content</th>\n",
       "      <th>Item_Type</th>\n",
       "      <th>Item_MRP</th>\n",
       "      <th>Outlet_Identifier</th>\n",
       "      <th>Outlet_Establishment_Year</th>\n",
       "      <th>Outlet_Size</th>\n",
       "      <th>Outlet_Location_Type</th>\n",
       "      <th>Outlet_Type</th>\n",
       "      <th>Item_Weight_interpolation_imputation</th>\n",
       "      <th>Item_Visibility_interpolate</th>\n",
       "    </tr>\n",
       "  </thead>\n",
       "  <tbody>\n",
       "    <tr>\n",
       "      <th>0</th>\n",
       "      <td>FDW58</td>\n",
       "      <td>Low Fat</td>\n",
       "      <td>Snack Foods</td>\n",
       "      <td>107.8622</td>\n",
       "      <td>OUT049</td>\n",
       "      <td>1999</td>\n",
       "      <td>Medium</td>\n",
       "      <td>Tier 1</td>\n",
       "      <td>Supermarket Type1</td>\n",
       "      <td>20.7500</td>\n",
       "      <td>0.007565</td>\n",
       "    </tr>\n",
       "    <tr>\n",
       "      <th>1</th>\n",
       "      <td>FDW14</td>\n",
       "      <td>Regular</td>\n",
       "      <td>Dairy</td>\n",
       "      <td>87.3198</td>\n",
       "      <td>OUT017</td>\n",
       "      <td>2007</td>\n",
       "      <td>Small</td>\n",
       "      <td>Tier 2</td>\n",
       "      <td>Supermarket Type1</td>\n",
       "      <td>8.3000</td>\n",
       "      <td>0.038428</td>\n",
       "    </tr>\n",
       "    <tr>\n",
       "      <th>2</th>\n",
       "      <td>NCN55</td>\n",
       "      <td>Low Fat</td>\n",
       "      <td>Others</td>\n",
       "      <td>241.7538</td>\n",
       "      <td>OUT010</td>\n",
       "      <td>1998</td>\n",
       "      <td>Small</td>\n",
       "      <td>Tier 3</td>\n",
       "      <td>Grocery Store</td>\n",
       "      <td>14.6000</td>\n",
       "      <td>0.099575</td>\n",
       "    </tr>\n",
       "    <tr>\n",
       "      <th>3</th>\n",
       "      <td>FDQ58</td>\n",
       "      <td>Low Fat</td>\n",
       "      <td>Snack Foods</td>\n",
       "      <td>155.0340</td>\n",
       "      <td>OUT017</td>\n",
       "      <td>2007</td>\n",
       "      <td>Small</td>\n",
       "      <td>Tier 2</td>\n",
       "      <td>Supermarket Type1</td>\n",
       "      <td>7.3150</td>\n",
       "      <td>0.015388</td>\n",
       "    </tr>\n",
       "    <tr>\n",
       "      <th>4</th>\n",
       "      <td>FDY38</td>\n",
       "      <td>Regular</td>\n",
       "      <td>Dairy</td>\n",
       "      <td>234.2300</td>\n",
       "      <td>OUT027</td>\n",
       "      <td>1985</td>\n",
       "      <td>Medium</td>\n",
       "      <td>Tier 3</td>\n",
       "      <td>Supermarket Type3</td>\n",
       "      <td>8.5575</td>\n",
       "      <td>0.118599</td>\n",
       "    </tr>\n",
       "  </tbody>\n",
       "</table>\n",
       "</div>"
      ],
      "text/plain": [
       "  Item_Identifier Item_Fat_Content    Item_Type  Item_MRP Outlet_Identifier  \\\n",
       "0           FDW58          Low Fat  Snack Foods  107.8622            OUT049   \n",
       "1           FDW14          Regular        Dairy   87.3198            OUT017   \n",
       "2           NCN55          Low Fat       Others  241.7538            OUT010   \n",
       "3           FDQ58          Low Fat  Snack Foods  155.0340            OUT017   \n",
       "4           FDY38          Regular        Dairy  234.2300            OUT027   \n",
       "\n",
       "   Outlet_Establishment_Year Outlet_Size Outlet_Location_Type  \\\n",
       "0                       1999      Medium               Tier 1   \n",
       "1                       2007       Small               Tier 2   \n",
       "2                       1998       Small               Tier 3   \n",
       "3                       2007       Small               Tier 2   \n",
       "4                       1985      Medium               Tier 3   \n",
       "\n",
       "         Outlet_Type  Item_Weight_interpolation_imputation  \\\n",
       "0  Supermarket Type1                               20.7500   \n",
       "1  Supermarket Type1                                8.3000   \n",
       "2      Grocery Store                               14.6000   \n",
       "3  Supermarket Type1                                7.3150   \n",
       "4  Supermarket Type3                                8.5575   \n",
       "\n",
       "   Item_Visibility_interpolate  \n",
       "0                     0.007565  \n",
       "1                     0.038428  \n",
       "2                     0.099575  \n",
       "3                     0.015388  \n",
       "4                     0.118599  "
      ]
     },
     "execution_count": 400,
     "metadata": {},
     "output_type": "execute_result"
    }
   ],
   "source": [
    "data.head()"
   ]
  },
  {
   "cell_type": "code",
   "execution_count": 401,
   "metadata": {},
   "outputs": [
    {
     "data": {
      "text/plain": [
       "Index(['Item_Identifier', 'Item_Fat_Content', 'Item_Type', 'Item_MRP',\n",
       "       'Outlet_Identifier', 'Outlet_Establishment_Year', 'Outlet_Size',\n",
       "       'Outlet_Location_Type', 'Outlet_Type',\n",
       "       'Item_Weight_interpolation_imputation', 'Item_Visibility_interpolate'],\n",
       "      dtype='object')"
      ]
     },
     "execution_count": 401,
     "metadata": {},
     "output_type": "execute_result"
    }
   ],
   "source": [
    "data.columns"
   ]
  },
  {
   "cell_type": "code",
   "execution_count": 402,
   "metadata": {},
   "outputs": [
    {
     "data": {
      "text/plain": [
       "Item_Type\n",
       "Snack Foods              789\n",
       "Fruits and Vegetables    781\n",
       "Household                638\n",
       "Frozen Foods             570\n",
       "Dairy                    454\n",
       "Baking Goods             438\n",
       "Canned                   435\n",
       "Health and Hygiene       338\n",
       "Meat                     311\n",
       "Soft Drinks              281\n",
       "Breads                   165\n",
       "Hard Drinks              148\n",
       "Starchy Foods            121\n",
       "Others                   111\n",
       "Breakfast                 76\n",
       "Seafood                   25\n",
       "Name: count, dtype: int64"
      ]
     },
     "execution_count": 402,
     "metadata": {},
     "output_type": "execute_result"
    }
   ],
   "source": [
    "ItemType=pd.DataFrame(data['Item_Type'].value_counts())\n",
    "data['Item_Type'].value_counts()"
   ]
  },
  {
   "cell_type": "code",
   "execution_count": 403,
   "metadata": {},
   "outputs": [
    {
     "data": {
      "text/plain": [
       "<Axes: xlabel='Item_Type'>"
      ]
     },
     "execution_count": 403,
     "metadata": {},
     "output_type": "execute_result"
    },
    {
     "data": {
      "image/png": "[encoded data removed]",
      "text/plain": [
       "<Figure size 640x480 with 1 Axes>"
      ]
     },
     "metadata": {},
     "output_type": "display_data"
    }
   ],
   "source": [
    "ItemType.plot(kind='bar')"
   ]
  },
  {
   "cell_type": "code",
   "execution_count": 404,
   "metadata": {},
   "outputs": [
    {
     "data": {
      "text/plain": [
       "Index(['Item_Identifier', 'Item_Fat_Content', 'Item_Type', 'Item_MRP',\n",
       "       'Outlet_Identifier', 'Outlet_Establishment_Year', 'Outlet_Size',\n",
       "       'Outlet_Location_Type', 'Outlet_Type',\n",
       "       'Item_Weight_interpolation_imputation', 'Item_Visibility_interpolate'],\n",
       "      dtype='object')"
      ]
     },
     "execution_count": 404,
     "metadata": {},
     "output_type": "execute_result"
    }
   ],
   "source": [
    "data.columns"
   ]
  },
  {
   "cell_type": "code",
   "execution_count": 405,
   "metadata": {},
   "outputs": [
    {
     "data": {
      "text/plain": [
       "Item_Identifier\n",
       "DRF48    8\n",
       "FDZ50    8\n",
       "FDQ60    8\n",
       "FDN52    8\n",
       "FDW10    8\n",
       "        ..\n",
       "FDW49    1\n",
       "FDG38    1\n",
       "FDD38    1\n",
       "FDA15    1\n",
       "FDF04    1\n",
       "Name: count, Length: 1543, dtype: int64"
      ]
     },
     "execution_count": 405,
     "metadata": {},
     "output_type": "execute_result"
    }
   ],
   "source": [
    "data['Item_Identifier'].value_counts()"
   ]
  },
  {
   "cell_type": "code",
   "execution_count": 406,
   "metadata": {},
   "outputs": [],
   "source": [
    "data['Item_Identifier_Grouped'] =data['Item_Identifier'].apply(lambda x : x[:2])"
   ]
  },
  {
   "cell_type": "code",
   "execution_count": 407,
   "metadata": {},
   "outputs": [
    {
     "data": {
      "text/plain": [
       "Item_Identifier_Grouped\n",
       "FD    4076\n",
       "NC    1087\n",
       "DR     518\n",
       "Name: count, dtype: int64"
      ]
     },
     "execution_count": 407,
     "metadata": {},
     "output_type": "execute_result"
    }
   ],
   "source": [
    "data['Item_Identifier_Grouped'].value_counts()"
   ]
  },
  {
   "cell_type": "code",
   "execution_count": 408,
   "metadata": {},
   "outputs": [
    {
     "data": {
      "text/plain": [
       "<Axes: xlabel='Item_Identifier_Grouped'>"
      ]
     },
     "execution_count": 408,
     "metadata": {},
     "output_type": "execute_result"
    },
    {
     "data": {
      "image/png": "[encoded data removed]",
      "text/plain": [
       "<Figure size 640x480 with 1 Axes>"
      ]
     },
     "metadata": {},
     "output_type": "display_data"
    }
   ],
   "source": [
    "ItemIdentifier=pd.DataFrame(data['Item_Identifier_Grouped'].value_counts())\n",
    "ItemIdentifier.plot(kind='bar')"
   ]
  },
  {
   "cell_type": "code",
   "execution_count": 409,
   "metadata": {},
   "outputs": [],
   "source": [
    "data = data.drop(['Item_Identifier'],axis=1)"
   ]
  },
  {
   "cell_type": "code",
   "execution_count": 410,
   "metadata": {},
   "outputs": [
    {
     "data": {
      "text/plain": [
       "Index(['Item_Fat_Content', 'Item_Type', 'Item_MRP', 'Outlet_Identifier',\n",
       "       'Outlet_Establishment_Year', 'Outlet_Size', 'Outlet_Location_Type',\n",
       "       'Outlet_Type', 'Item_Weight_interpolation_imputation',\n",
       "       'Item_Visibility_interpolate', 'Item_Identifier_Grouped'],\n",
       "      dtype='object')"
      ]
     },
     "execution_count": 410,
     "metadata": {},
     "output_type": "execute_result"
    }
   ],
   "source": [
    "data.columns"
   ]
  },
  {
   "cell_type": "code",
   "execution_count": 411,
   "metadata": {},
   "outputs": [
    {
     "data": {
      "text/plain": [
       "0       1999\n",
       "1       2007\n",
       "2       1998\n",
       "3       2007\n",
       "4       1985\n",
       "        ... \n",
       "5676    1997\n",
       "5677    2009\n",
       "5678    2002\n",
       "5679    2007\n",
       "5680    2002\n",
       "Name: Outlet_Establishment_Year, Length: 5681, dtype: int64"
      ]
     },
     "execution_count": 411,
     "metadata": {},
     "output_type": "execute_result"
    }
   ],
   "source": [
    "data['Outlet_Establishment_Year']"
   ]
  },
  {
   "cell_type": "code",
   "execution_count": 412,
   "metadata": {},
   "outputs": [
    {
     "data": {
      "text/html": [
       "<div>\n",
       "<style scoped>\n",
       "    .dataframe tbody tr th:only-of-type {\n",
       "        vertical-align: middle;\n",
       "    }\n",
       "\n",
       "    .dataframe tbody tr th {\n",
       "        vertical-align: top;\n",
       "    }\n",
       "\n",
       "    .dataframe thead th {\n",
       "        text-align: right;\n",
       "    }\n",
       "</style>\n",
       "<table border=\"1\" class=\"dataframe\">\n",
       "  <thead>\n",
       "    <tr style=\"text-align: right;\">\n",
       "      <th></th>\n",
       "      <th>Item_Fat_Content</th>\n",
       "      <th>Item_Type</th>\n",
       "      <th>Item_MRP</th>\n",
       "      <th>Outlet_Identifier</th>\n",
       "      <th>Outlet_Establishment_Year</th>\n",
       "      <th>Outlet_Size</th>\n",
       "      <th>Outlet_Location_Type</th>\n",
       "      <th>Outlet_Type</th>\n",
       "      <th>Item_Weight_interpolation_imputation</th>\n",
       "      <th>Item_Visibility_interpolate</th>\n",
       "      <th>Item_Identifier_Grouped</th>\n",
       "      <th>Outlet_age</th>\n",
       "    </tr>\n",
       "  </thead>\n",
       "  <tbody>\n",
       "    <tr>\n",
       "      <th>0</th>\n",
       "      <td>Low Fat</td>\n",
       "      <td>Snack Foods</td>\n",
       "      <td>107.8622</td>\n",
       "      <td>OUT049</td>\n",
       "      <td>1999</td>\n",
       "      <td>Medium</td>\n",
       "      <td>Tier 1</td>\n",
       "      <td>Supermarket Type1</td>\n",
       "      <td>20.7500</td>\n",
       "      <td>0.007565</td>\n",
       "      <td>FD</td>\n",
       "      <td>25</td>\n",
       "    </tr>\n",
       "    <tr>\n",
       "      <th>1</th>\n",
       "      <td>Regular</td>\n",
       "      <td>Dairy</td>\n",
       "      <td>87.3198</td>\n",
       "      <td>OUT017</td>\n",
       "      <td>2007</td>\n",
       "      <td>Small</td>\n",
       "      <td>Tier 2</td>\n",
       "      <td>Supermarket Type1</td>\n",
       "      <td>8.3000</td>\n",
       "      <td>0.038428</td>\n",
       "      <td>FD</td>\n",
       "      <td>17</td>\n",
       "    </tr>\n",
       "    <tr>\n",
       "      <th>2</th>\n",
       "      <td>Low Fat</td>\n",
       "      <td>Others</td>\n",
       "      <td>241.7538</td>\n",
       "      <td>OUT010</td>\n",
       "      <td>1998</td>\n",
       "      <td>Small</td>\n",
       "      <td>Tier 3</td>\n",
       "      <td>Grocery Store</td>\n",
       "      <td>14.6000</td>\n",
       "      <td>0.099575</td>\n",
       "      <td>NC</td>\n",
       "      <td>26</td>\n",
       "    </tr>\n",
       "    <tr>\n",
       "      <th>3</th>\n",
       "      <td>Low Fat</td>\n",
       "      <td>Snack Foods</td>\n",
       "      <td>155.0340</td>\n",
       "      <td>OUT017</td>\n",
       "      <td>2007</td>\n",
       "      <td>Small</td>\n",
       "      <td>Tier 2</td>\n",
       "      <td>Supermarket Type1</td>\n",
       "      <td>7.3150</td>\n",
       "      <td>0.015388</td>\n",
       "      <td>FD</td>\n",
       "      <td>17</td>\n",
       "    </tr>\n",
       "    <tr>\n",
       "      <th>4</th>\n",
       "      <td>Regular</td>\n",
       "      <td>Dairy</td>\n",
       "      <td>234.2300</td>\n",
       "      <td>OUT027</td>\n",
       "      <td>1985</td>\n",
       "      <td>Medium</td>\n",
       "      <td>Tier 3</td>\n",
       "      <td>Supermarket Type3</td>\n",
       "      <td>8.5575</td>\n",
       "      <td>0.118599</td>\n",
       "      <td>FD</td>\n",
       "      <td>39</td>\n",
       "    </tr>\n",
       "  </tbody>\n",
       "</table>\n",
       "</div>"
      ],
      "text/plain": [
       "  Item_Fat_Content    Item_Type  Item_MRP Outlet_Identifier  \\\n",
       "0          Low Fat  Snack Foods  107.8622            OUT049   \n",
       "1          Regular        Dairy   87.3198            OUT017   \n",
       "2          Low Fat       Others  241.7538            OUT010   \n",
       "3          Low Fat  Snack Foods  155.0340            OUT017   \n",
       "4          Regular        Dairy  234.2300            OUT027   \n",
       "\n",
       "   Outlet_Establishment_Year Outlet_Size Outlet_Location_Type  \\\n",
       "0                       1999      Medium               Tier 1   \n",
       "1                       2007       Small               Tier 2   \n",
       "2                       1998       Small               Tier 3   \n",
       "3                       2007       Small               Tier 2   \n",
       "4                       1985      Medium               Tier 3   \n",
       "\n",
       "         Outlet_Type  Item_Weight_interpolation_imputation  \\\n",
       "0  Supermarket Type1                               20.7500   \n",
       "1  Supermarket Type1                                8.3000   \n",
       "2      Grocery Store                               14.6000   \n",
       "3  Supermarket Type1                                7.3150   \n",
       "4  Supermarket Type3                                8.5575   \n",
       "\n",
       "   Item_Visibility_interpolate Item_Identifier_Grouped  Outlet_age  \n",
       "0                     0.007565                      FD          25  \n",
       "1                     0.038428                      FD          17  \n",
       "2                     0.099575                      NC          26  \n",
       "3                     0.015388                      FD          17  \n",
       "4                     0.118599                      FD          39  "
      ]
     },
     "execution_count": 412,
     "metadata": {},
     "output_type": "execute_result"
    }
   ],
   "source": [
    "import datetime as dt\n",
    "current_year = dt.datetime.today().year\n",
    "data['Outlet_age']= current_year - data['Outlet_Establishment_Year']\n",
    "data.head()"
   ]
  },
  {
   "cell_type": "code",
   "execution_count": 413,
   "metadata": {},
   "outputs": [
    {
     "data": {
      "text/plain": [
       "<Axes: ylabel='Frequency'>"
      ]
     },
     "execution_count": 413,
     "metadata": {},
     "output_type": "execute_result"
    },
    {
     "data": {
      "image/png": "[encoded data removed]",
      "text/plain": [
       "<Figure size 640x480 with 1 Axes>"
      ]
     },
     "metadata": {},
     "output_type": "display_data"
    }
   ],
   "source": [
    "Outletage=pd.DataFrame(data['Outlet_age'])\n",
    "Outletage.plot(kind='hist')"
   ]
  },
  {
   "cell_type": "code",
   "execution_count": 414,
   "metadata": {},
   "outputs": [
    {
     "data": {
      "text/html": [
       "<div>\n",
       "<style scoped>\n",
       "    .dataframe tbody tr th:only-of-type {\n",
       "        vertical-align: middle;\n",
       "    }\n",
       "\n",
       "    .dataframe tbody tr th {\n",
       "        vertical-align: top;\n",
       "    }\n",
       "\n",
       "    .dataframe thead th {\n",
       "        text-align: right;\n",
       "    }\n",
       "</style>\n",
       "<table border=\"1\" class=\"dataframe\">\n",
       "  <thead>\n",
       "    <tr style=\"text-align: right;\">\n",
       "      <th></th>\n",
       "      <th>Item_Fat_Content</th>\n",
       "      <th>Item_Type</th>\n",
       "      <th>Item_MRP</th>\n",
       "      <th>Outlet_Identifier</th>\n",
       "      <th>Outlet_Size</th>\n",
       "      <th>Outlet_Location_Type</th>\n",
       "      <th>Outlet_Type</th>\n",
       "      <th>Item_Weight_interpolation_imputation</th>\n",
       "      <th>Item_Visibility_interpolate</th>\n",
       "      <th>Item_Identifier_Grouped</th>\n",
       "      <th>Outlet_age</th>\n",
       "    </tr>\n",
       "  </thead>\n",
       "  <tbody>\n",
       "    <tr>\n",
       "      <th>0</th>\n",
       "      <td>Low Fat</td>\n",
       "      <td>Snack Foods</td>\n",
       "      <td>107.8622</td>\n",
       "      <td>OUT049</td>\n",
       "      <td>Medium</td>\n",
       "      <td>Tier 1</td>\n",
       "      <td>Supermarket Type1</td>\n",
       "      <td>20.7500</td>\n",
       "      <td>0.007565</td>\n",
       "      <td>FD</td>\n",
       "      <td>25</td>\n",
       "    </tr>\n",
       "    <tr>\n",
       "      <th>1</th>\n",
       "      <td>Regular</td>\n",
       "      <td>Dairy</td>\n",
       "      <td>87.3198</td>\n",
       "      <td>OUT017</td>\n",
       "      <td>Small</td>\n",
       "      <td>Tier 2</td>\n",
       "      <td>Supermarket Type1</td>\n",
       "      <td>8.3000</td>\n",
       "      <td>0.038428</td>\n",
       "      <td>FD</td>\n",
       "      <td>17</td>\n",
       "    </tr>\n",
       "    <tr>\n",
       "      <th>2</th>\n",
       "      <td>Low Fat</td>\n",
       "      <td>Others</td>\n",
       "      <td>241.7538</td>\n",
       "      <td>OUT010</td>\n",
       "      <td>Small</td>\n",
       "      <td>Tier 3</td>\n",
       "      <td>Grocery Store</td>\n",
       "      <td>14.6000</td>\n",
       "      <td>0.099575</td>\n",
       "      <td>NC</td>\n",
       "      <td>26</td>\n",
       "    </tr>\n",
       "    <tr>\n",
       "      <th>3</th>\n",
       "      <td>Low Fat</td>\n",
       "      <td>Snack Foods</td>\n",
       "      <td>155.0340</td>\n",
       "      <td>OUT017</td>\n",
       "      <td>Small</td>\n",
       "      <td>Tier 2</td>\n",
       "      <td>Supermarket Type1</td>\n",
       "      <td>7.3150</td>\n",
       "      <td>0.015388</td>\n",
       "      <td>FD</td>\n",
       "      <td>17</td>\n",
       "    </tr>\n",
       "    <tr>\n",
       "      <th>4</th>\n",
       "      <td>Regular</td>\n",
       "      <td>Dairy</td>\n",
       "      <td>234.2300</td>\n",
       "      <td>OUT027</td>\n",
       "      <td>Medium</td>\n",
       "      <td>Tier 3</td>\n",
       "      <td>Supermarket Type3</td>\n",
       "      <td>8.5575</td>\n",
       "      <td>0.118599</td>\n",
       "      <td>FD</td>\n",
       "      <td>39</td>\n",
       "    </tr>\n",
       "  </tbody>\n",
       "</table>\n",
       "</div>"
      ],
      "text/plain": [
       "  Item_Fat_Content    Item_Type  Item_MRP Outlet_Identifier Outlet_Size  \\\n",
       "0          Low Fat  Snack Foods  107.8622            OUT049      Medium   \n",
       "1          Regular        Dairy   87.3198            OUT017       Small   \n",
       "2          Low Fat       Others  241.7538            OUT010       Small   \n",
       "3          Low Fat  Snack Foods  155.0340            OUT017       Small   \n",
       "4          Regular        Dairy  234.2300            OUT027      Medium   \n",
       "\n",
       "  Outlet_Location_Type        Outlet_Type  \\\n",
       "0               Tier 1  Supermarket Type1   \n",
       "1               Tier 2  Supermarket Type1   \n",
       "2               Tier 3      Grocery Store   \n",
       "3               Tier 2  Supermarket Type1   \n",
       "4               Tier 3  Supermarket Type3   \n",
       "\n",
       "   Item_Weight_interpolation_imputation  Item_Visibility_interpolate  \\\n",
       "0                               20.7500                     0.007565   \n",
       "1                                8.3000                     0.038428   \n",
       "2                               14.6000                     0.099575   \n",
       "3                                7.3150                     0.015388   \n",
       "4                                8.5575                     0.118599   \n",
       "\n",
       "  Item_Identifier_Grouped  Outlet_age  \n",
       "0                      FD          25  \n",
       "1                      FD          17  \n",
       "2                      NC          26  \n",
       "3                      FD          17  \n",
       "4                      FD          39  "
      ]
     },
     "execution_count": 414,
     "metadata": {},
     "output_type": "execute_result"
    }
   ],
   "source": [
    "data = data.drop(['Outlet_Establishment_Year'],axis=1)\n",
    "data.head()"
   ]
  },
  {
   "cell_type": "code",
   "execution_count": 415,
   "metadata": {},
   "outputs": [
    {
     "name": "stdout",
     "output_type": "stream",
     "text": [
      "[array(['Low Fat', 'Regular'], dtype=object)]\n",
      "[array(['Baking Goods', 'Breads', 'Breakfast', 'Canned', 'Dairy',\n",
      "       'Frozen Foods', 'Fruits and Vegetables', 'Hard Drinks',\n",
      "       'Health and Hygiene', 'Household', 'Meat', 'Others', 'Seafood',\n",
      "       'Snack Foods', 'Soft Drinks', 'Starchy Foods'], dtype=object)]\n",
      "[array(['OUT010', 'OUT013', 'OUT017', 'OUT018', 'OUT019', 'OUT027',\n",
      "       'OUT035', 'OUT045', 'OUT046', 'OUT049'], dtype=object)]\n",
      "[array(['High', 'Medium', 'Small'], dtype=object)]\n",
      "[array(['Tier 1', 'Tier 2', 'Tier 3'], dtype=object)]\n",
      "[array(['Grocery Store', 'Supermarket Type1', 'Supermarket Type2',\n",
      "       'Supermarket Type3'], dtype=object)]\n",
      "[array(['DR', 'FD', 'NC'], dtype=object)]\n"
     ]
    }
   ],
   "source": [
    "from sklearn.preprocessing import OrdinalEncoder\n",
    "\n",
    "encoded_data = data.copy()\n",
    "\n",
    "cat_cols = data.select_dtypes(include=['object']).columns\n",
    "\n",
    "for col in cat_cols:\n",
    "    oe = OrdinalEncoder()\n",
    "    encoded_data[col]=oe.fit_transform(encoded_data[[col]])\n",
    "    print(oe.categories_)"
   ]
  },
  {
   "cell_type": "code",
   "execution_count": 416,
   "metadata": {},
   "outputs": [
    {
     "data": {
      "text/html": [
       "<div>\n",
       "<style scoped>\n",
       "    .dataframe tbody tr th:only-of-type {\n",
       "        vertical-align: middle;\n",
       "    }\n",
       "\n",
       "    .dataframe tbody tr th {\n",
       "        vertical-align: top;\n",
       "    }\n",
       "\n",
       "    .dataframe thead th {\n",
       "        text-align: right;\n",
       "    }\n",
       "</style>\n",
       "<table border=\"1\" class=\"dataframe\">\n",
       "  <thead>\n",
       "    <tr style=\"text-align: right;\">\n",
       "      <th></th>\n",
       "      <th>Item_MRP</th>\n",
       "      <th>Outlet_Identifier</th>\n",
       "      <th>Outlet_Size</th>\n",
       "      <th>Outlet_Type</th>\n",
       "      <th>Outlet_age</th>\n",
       "    </tr>\n",
       "  </thead>\n",
       "  <tbody>\n",
       "    <tr>\n",
       "      <th>0</th>\n",
       "      <td>107.8622</td>\n",
       "      <td>9.0</td>\n",
       "      <td>1.0</td>\n",
       "      <td>1.0</td>\n",
       "      <td>25</td>\n",
       "    </tr>\n",
       "    <tr>\n",
       "      <th>1</th>\n",
       "      <td>87.3198</td>\n",
       "      <td>2.0</td>\n",
       "      <td>2.0</td>\n",
       "      <td>1.0</td>\n",
       "      <td>17</td>\n",
       "    </tr>\n",
       "    <tr>\n",
       "      <th>2</th>\n",
       "      <td>241.7538</td>\n",
       "      <td>0.0</td>\n",
       "      <td>2.0</td>\n",
       "      <td>0.0</td>\n",
       "      <td>26</td>\n",
       "    </tr>\n",
       "    <tr>\n",
       "      <th>3</th>\n",
       "      <td>155.0340</td>\n",
       "      <td>2.0</td>\n",
       "      <td>2.0</td>\n",
       "      <td>1.0</td>\n",
       "      <td>17</td>\n",
       "    </tr>\n",
       "    <tr>\n",
       "      <th>4</th>\n",
       "      <td>234.2300</td>\n",
       "      <td>5.0</td>\n",
       "      <td>1.0</td>\n",
       "      <td>3.0</td>\n",
       "      <td>39</td>\n",
       "    </tr>\n",
       "  </tbody>\n",
       "</table>\n",
       "</div>"
      ],
      "text/plain": [
       "   Item_MRP  Outlet_Identifier  Outlet_Size  Outlet_Type  Outlet_age\n",
       "0  107.8622                9.0          1.0          1.0          25\n",
       "1   87.3198                2.0          2.0          1.0          17\n",
       "2  241.7538                0.0          2.0          0.0          26\n",
       "3  155.0340                2.0          2.0          1.0          17\n",
       "4  234.2300                5.0          1.0          3.0          39"
      ]
     },
     "execution_count": 416,
     "metadata": {},
     "output_type": "execute_result"
    }
   ],
   "source": [
    "test_Final=encoded_data.drop(columns=['Item_Visibility_interpolate','Item_Weight_interpolation_imputation',\n",
    "'Item_Type','Outlet_Location_Type','Item_Identifier_Grouped','Item_Fat_Content'],axis=1)\n",
    "test_Final.head()"
   ]
  },
  {
   "cell_type": "code",
   "execution_count": 417,
   "metadata": {},
   "outputs": [
    {
     "data": {
      "text/plain": [
       "[[107.8622, 9.0, 1.0, 1.0, 25.0],\n",
       " [87.3198, 2.0, 2.0, 1.0, 17.0],\n",
       " [241.7538, 0.0, 2.0, 0.0, 26.0],\n",
       " [155.034, 2.0, 2.0, 1.0, 17.0],\n",
       " [234.23, 5.0, 1.0, 3.0, 39.0],\n",
       " [117.1492, 8.0, 2.0, 1.0, 27.0],\n",
       " [50.1034, 3.0, 1.0, 2.0, 15.0],\n",
       " [81.0592, 5.0, 1.0, 3.0, 39.0],\n",
       " [95.7436, 7.0, 2.0, 1.0, 22.0],\n",
       " [186.8924, 2.0, 2.0, 1.0, 17.0],\n",
       " [118.3466, 2.0, 2.0, 1.0, 17.0],\n",
       " [85.3908, 7.0, 2.0, 1.0, 22.0],\n",
       " [240.4196, 4.0, 2.0, 0.0, 39.0],\n",
       " [122.3098, 9.0, 1.0, 1.0, 25.0],\n",
       " [52.0298, 1.0, 0.0, 1.0, 37.0],\n",
       " [151.6366, 9.0, 1.0, 1.0, 25.0],\n",
       " [198.7768, 7.0, 2.0, 1.0, 22.0],\n",
       " [192.2188, 3.0, 1.0, 2.0, 15.0],\n",
       " [109.6912, 5.0, 1.0, 3.0, 39.0],\n",
       " [193.7136, 0.0, 2.0, 0.0, 26.0],\n",
       " [175.008, 1.0, 0.0, 1.0, 37.0],\n",
       " [239.9196, 6.0, 2.0, 1.0, 20.0],\n",
       " [47.7402, 8.0, 2.0, 1.0, 27.0],\n",
       " [142.347, 4.0, 2.0, 0.0, 39.0],\n",
       " [180.7318, 6.0, 2.0, 1.0, 20.0],\n",
       " [209.4928, 0.0, 2.0, 0.0, 26.0],\n",
       " [47.6034, 6.0, 2.0, 1.0, 20.0],\n",
       " [161.3894, 8.0, 2.0, 1.0, 27.0],\n",
       " [244.6802, 8.0, 2.0, 1.0, 27.0],\n",
       " [116.5492, 6.0, 2.0, 1.0, 20.0],\n",
       " [32.09, 4.0, 2.0, 0.0, 39.0],\n",
       " [194.9452, 3.0, 1.0, 2.0, 15.0],\n",
       " [42.4112, 3.0, 1.0, 2.0, 15.0],\n",
       " [217.7508, 5.0, 1.0, 3.0, 39.0],\n",
       " [164.2552, 2.0, 2.0, 1.0, 17.0],\n",
       " [205.098, 5.0, 1.0, 3.0, 39.0],\n",
       " [80.3644, 5.0, 1.0, 3.0, 39.0],\n",
       " [114.0176, 0.0, 2.0, 0.0, 26.0],\n",
       " [192.1504, 2.0, 2.0, 1.0, 17.0],\n",
       " [103.3964, 5.0, 1.0, 3.0, 39.0],\n",
       " [143.3786, 3.0, 1.0, 2.0, 15.0],\n",
       " [116.6466, 0.0, 2.0, 0.0, 26.0],\n",
       " [173.9422, 2.0, 2.0, 1.0, 17.0],\n",
       " [144.847, 3.0, 1.0, 2.0, 15.0],\n",
       " [217.2166, 0.0, 2.0, 0.0, 26.0],\n",
       " [112.1886, 1.0, 0.0, 1.0, 37.0],\n",
       " [55.8298, 0.0, 2.0, 0.0, 26.0],\n",
       " [183.2608, 6.0, 2.0, 1.0, 20.0],\n",
       " [248.146, 6.0, 2.0, 1.0, 20.0],\n",
       " [124.9046, 8.0, 2.0, 1.0, 27.0],\n",
       " [57.0614, 8.0, 2.0, 1.0, 27.0],\n",
       " [106.6938, 1.0, 0.0, 1.0, 37.0],\n",
       " [181.0318, 2.0, 2.0, 1.0, 17.0],\n",
       " [122.3388, 2.0, 2.0, 1.0, 17.0],\n",
       " [188.7188, 5.0, 1.0, 3.0, 39.0],\n",
       " [188.8188, 9.0, 1.0, 1.0, 25.0],\n",
       " [179.666, 1.0, 0.0, 1.0, 37.0],\n",
       " [38.3822, 1.0, 0.0, 1.0, 37.0],\n",
       " [263.2568, 4.0, 2.0, 0.0, 39.0],\n",
       " [90.1514, 7.0, 2.0, 1.0, 22.0],\n",
       " [144.8444, 6.0, 2.0, 1.0, 20.0],\n",
       " [214.9876, 2.0, 2.0, 1.0, 17.0],\n",
       " [141.347, 5.0, 1.0, 3.0, 39.0],\n",
       " [96.8094, 2.0, 2.0, 1.0, 17.0],\n",
       " [152.6998, 7.0, 2.0, 1.0, 22.0],\n",
       " [90.3804, 5.0, 1.0, 3.0, 39.0],\n",
       " [165.8158, 2.0, 2.0, 1.0, 17.0],\n",
       " [262.5594, 8.0, 2.0, 1.0, 27.0],\n",
       " [181.2634, 1.0, 0.0, 1.0, 37.0],\n",
       " [221.6456, 7.0, 2.0, 1.0, 22.0],\n",
       " [180.0976, 9.0, 1.0, 1.0, 25.0],\n",
       " [108.1938, 5.0, 1.0, 3.0, 39.0],\n",
       " [122.3756, 3.0, 1.0, 2.0, 15.0],\n",
       " [245.2486, 9.0, 1.0, 1.0, 25.0],\n",
       " [256.2646, 7.0, 2.0, 1.0, 22.0],\n",
       " [173.7054, 7.0, 2.0, 1.0, 22.0],\n",
       " [124.8704, 4.0, 2.0, 0.0, 39.0],\n",
       " [148.6392, 8.0, 2.0, 1.0, 27.0],\n",
       " [252.4382, 4.0, 2.0, 0.0, 39.0],\n",
       " [145.176, 1.0, 0.0, 1.0, 37.0],\n",
       " [152.6998, 6.0, 2.0, 1.0, 20.0],\n",
       " [100.6358, 3.0, 1.0, 2.0, 15.0],\n",
       " [97.3726, 8.0, 2.0, 1.0, 27.0],\n",
       " [188.6898, 1.0, 0.0, 1.0, 37.0],\n",
       " [177.6344, 2.0, 2.0, 1.0, 17.0],\n",
       " [108.9596, 6.0, 2.0, 1.0, 20.0],\n",
       " [230.5668, 8.0, 2.0, 1.0, 27.0],\n",
       " [225.5062, 8.0, 2.0, 1.0, 27.0],\n",
       " [46.2376, 7.0, 2.0, 1.0, 22.0],\n",
       " [242.2538, 0.0, 2.0, 0.0, 26.0],\n",
       " [165.7816, 7.0, 2.0, 1.0, 22.0],\n",
       " [223.1404, 5.0, 1.0, 3.0, 39.0],\n",
       " [107.7912, 5.0, 1.0, 3.0, 39.0],\n",
       " [99.47, 3.0, 1.0, 2.0, 15.0],\n",
       " [122.1414, 1.0, 0.0, 1.0, 37.0],\n",
       " [48.135, 8.0, 2.0, 1.0, 27.0],\n",
       " [140.4154, 2.0, 2.0, 1.0, 17.0],\n",
       " [145.6102, 3.0, 1.0, 2.0, 15.0],\n",
       " [185.724, 7.0, 2.0, 1.0, 22.0],\n",
       " [81.1618, 1.0, 0.0, 1.0, 37.0],\n",
       " [151.1366, 3.0, 1.0, 2.0, 15.0],\n",
       " [97.2068, 2.0, 2.0, 1.0, 17.0],\n",
       " [169.279, 2.0, 2.0, 1.0, 17.0],\n",
       " [122.1098, 8.0, 2.0, 1.0, 27.0],\n",
       " [191.553, 4.0, 2.0, 0.0, 39.0],\n",
       " [250.6066, 5.0, 1.0, 3.0, 39.0],\n",
       " [248.6092, 4.0, 2.0, 0.0, 39.0],\n",
       " [53.064, 9.0, 1.0, 1.0, 25.0],\n",
       " [48.8692, 5.0, 1.0, 3.0, 39.0],\n",
       " [249.775, 3.0, 1.0, 2.0, 15.0],\n",
       " [159.0262, 0.0, 2.0, 0.0, 26.0],\n",
       " [190.653, 8.0, 2.0, 1.0, 27.0],\n",
       " [76.6986, 0.0, 2.0, 0.0, 26.0],\n",
       " [232.0668, 5.0, 1.0, 3.0, 39.0],\n",
       " [95.3752, 6.0, 2.0, 1.0, 20.0],\n",
       " [107.0938, 5.0, 1.0, 3.0, 39.0],\n",
       " [55.9588, 8.0, 2.0, 1.0, 27.0],\n",
       " [92.5462, 1.0, 0.0, 1.0, 37.0],\n",
       " [96.3726, 6.0, 2.0, 1.0, 20.0],\n",
       " [116.9466, 7.0, 2.0, 1.0, 22.0],\n",
       " [178.766, 5.0, 1.0, 3.0, 39.0],\n",
       " [33.0558, 2.0, 2.0, 1.0, 17.0],\n",
       " [84.625, 6.0, 2.0, 1.0, 20.0],\n",
       " [87.3514, 9.0, 1.0, 1.0, 25.0],\n",
       " [220.2114, 3.0, 1.0, 2.0, 15.0],\n",
       " [186.424, 5.0, 1.0, 3.0, 39.0],\n",
       " [120.6756, 7.0, 2.0, 1.0, 22.0],\n",
       " [38.8164, 3.0, 1.0, 2.0, 15.0],\n",
       " [110.1254, 3.0, 1.0, 2.0, 15.0],\n",
       " [108.2254, 1.0, 0.0, 1.0, 37.0],\n",
       " [177.837, 3.0, 1.0, 2.0, 15.0],\n",
       " [116.4492, 1.0, 0.0, 1.0, 37.0],\n",
       " [109.3912, 6.0, 2.0, 1.0, 20.0],\n",
       " [93.9462, 0.0, 2.0, 0.0, 26.0],\n",
       " [81.3276, 9.0, 1.0, 1.0, 25.0],\n",
       " [151.2708, 4.0, 2.0, 0.0, 39.0],\n",
       " [39.5822, 3.0, 1.0, 2.0, 15.0],\n",
       " [76.5328, 9.0, 1.0, 1.0, 25.0],\n",
       " [94.7094, 4.0, 2.0, 0.0, 39.0],\n",
       " [151.805, 1.0, 0.0, 1.0, 37.0],\n",
       " [188.3898, 0.0, 2.0, 0.0, 26.0],\n",
       " [36.5874, 8.0, 2.0, 1.0, 27.0],\n",
       " [97.3752, 9.0, 1.0, 1.0, 25.0],\n",
       " [128.5968, 6.0, 2.0, 1.0, 20.0],\n",
       " [89.5514, 6.0, 2.0, 1.0, 20.0],\n",
       " [126.9336, 7.0, 2.0, 1.0, 22.0],\n",
       " [152.6024, 6.0, 2.0, 1.0, 20.0],\n",
       " [189.7846, 5.0, 1.0, 3.0, 39.0],\n",
       " [106.0964, 2.0, 2.0, 1.0, 17.0],\n",
       " [53.7614, 5.0, 1.0, 3.0, 39.0],\n",
       " [118.9466, 9.0, 1.0, 1.0, 25.0],\n",
       " [246.2144, 7.0, 2.0, 1.0, 22.0],\n",
       " [180.466, 0.0, 2.0, 0.0, 26.0],\n",
       " [259.3278, 6.0, 2.0, 1.0, 20.0],\n",
       " [158.4604, 3.0, 1.0, 2.0, 15.0],\n",
       " [129.4994, 1.0, 0.0, 1.0, 37.0],\n",
       " [49.1008, 3.0, 1.0, 2.0, 15.0],\n",
       " [65.2826, 9.0, 1.0, 1.0, 25.0],\n",
       " [82.525, 7.0, 2.0, 1.0, 22.0],\n",
       " [58.293, 9.0, 1.0, 1.0, 25.0],\n",
       " [158.0288, 2.0, 2.0, 1.0, 17.0],\n",
       " [182.5608, 6.0, 2.0, 1.0, 20.0],\n",
       " [231.101, 1.0, 0.0, 1.0, 37.0],\n",
       " [183.0292, 8.0, 2.0, 1.0, 27.0],\n",
       " [75.4038, 9.0, 1.0, 1.0, 25.0],\n",
       " [110.5544, 0.0, 2.0, 0.0, 26.0],\n",
       " [87.5514, 5.0, 1.0, 3.0, 39.0],\n",
       " [174.3738, 9.0, 1.0, 1.0, 25.0],\n",
       " [150.4708, 7.0, 2.0, 1.0, 22.0],\n",
       " [186.924, 0.0, 2.0, 0.0, 26.0],\n",
       " [188.5898, 7.0, 2.0, 1.0, 22.0],\n",
       " [161.492, 2.0, 2.0, 1.0, 17.0],\n",
       " [106.5306, 0.0, 2.0, 0.0, 26.0],\n",
       " [39.4138, 0.0, 2.0, 0.0, 26.0],\n",
       " [151.305, 2.0, 2.0, 1.0, 17.0],\n",
       " [228.801, 3.0, 1.0, 2.0, 15.0],\n",
       " [127.6362, 5.0, 1.0, 3.0, 39.0],\n",
       " [180.6292, 5.0, 1.0, 3.0, 39.0],\n",
       " [36.4874, 5.0, 1.0, 3.0, 39.0],\n",
       " [236.4564, 5.0, 1.0, 3.0, 39.0],\n",
       " [102.7332, 6.0, 2.0, 1.0, 20.0],\n",
       " [198.5768, 3.0, 1.0, 2.0, 15.0],\n",
       " [243.9144, 6.0, 2.0, 1.0, 20.0],\n",
       " [55.4956, 2.0, 2.0, 1.0, 17.0],\n",
       " [108.228, 0.0, 2.0, 0.0, 26.0],\n",
       " [110.9544, 9.0, 1.0, 1.0, 25.0],\n",
       " [199.1426, 6.0, 2.0, 1.0, 20.0],\n",
       " [239.4538, 1.0, 0.0, 1.0, 37.0],\n",
       " [225.2088, 9.0, 1.0, 1.0, 25.0],\n",
       " [169.5106, 6.0, 2.0, 1.0, 20.0],\n",
       " [101.399, 8.0, 2.0, 1.0, 27.0],\n",
       " [236.2248, 3.0, 1.0, 2.0, 15.0],\n",
       " [151.205, 8.0, 2.0, 1.0, 27.0],\n",
       " [227.8352, 4.0, 2.0, 0.0, 39.0],\n",
       " [51.2008, 6.0, 2.0, 1.0, 20.0],\n",
       " [154.5972, 5.0, 1.0, 3.0, 39.0],\n",
       " [219.0456, 4.0, 2.0, 0.0, 39.0],\n",
       " [191.882, 2.0, 2.0, 1.0, 17.0],\n",
       " [169.3474, 8.0, 2.0, 1.0, 27.0],\n",
       " [53.9298, 4.0, 2.0, 0.0, 39.0],\n",
       " [118.3782, 5.0, 1.0, 3.0, 39.0],\n",
       " [140.6154, 7.0, 2.0, 1.0, 22.0],\n",
       " [189.1556, 2.0, 2.0, 1.0, 17.0],\n",
       " [155.7972, 7.0, 2.0, 1.0, 22.0],\n",
       " [123.0414, 3.0, 1.0, 2.0, 15.0],\n",
       " [118.1808, 8.0, 2.0, 1.0, 27.0],\n",
       " [245.0144, 9.0, 1.0, 1.0, 25.0],\n",
       " [82.825, 2.0, 2.0, 1.0, 17.0],\n",
       " [195.611, 6.0, 2.0, 1.0, 20.0],\n",
       " [117.0124, 8.0, 2.0, 1.0, 27.0],\n",
       " [112.2202, 5.0, 1.0, 3.0, 39.0],\n",
       " [38.8848, 4.0, 2.0, 0.0, 39.0],\n",
       " [205.798, 3.0, 1.0, 2.0, 15.0],\n",
       " [92.612, 2.0, 2.0, 1.0, 17.0],\n",
       " [240.9222, 1.0, 0.0, 1.0, 37.0],\n",
       " [130.0284, 2.0, 2.0, 1.0, 17.0],\n",
       " [102.2674, 4.0, 2.0, 0.0, 39.0],\n",
       " [244.9144, 5.0, 1.0, 3.0, 39.0],\n",
       " [154.2972, 8.0, 2.0, 1.0, 27.0],\n",
       " [238.9248, 8.0, 2.0, 1.0, 27.0],\n",
       " [145.6128, 4.0, 2.0, 0.0, 39.0],\n",
       " [141.1812, 1.0, 0.0, 1.0, 37.0],\n",
       " [169.2132, 8.0, 2.0, 1.0, 27.0],\n",
       " [178.3686, 6.0, 2.0, 1.0, 20.0],\n",
       " [116.2176, 7.0, 2.0, 1.0, 22.0],\n",
       " [87.4172, 6.0, 2.0, 1.0, 20.0],\n",
       " [226.4036, 3.0, 1.0, 2.0, 15.0],\n",
       " [160.392, 8.0, 2.0, 1.0, 27.0],\n",
       " [259.8962, 4.0, 2.0, 0.0, 39.0],\n",
       " [96.9384, 2.0, 2.0, 1.0, 17.0],\n",
       " [255.2356, 1.0, 0.0, 1.0, 37.0],\n",
       " [168.5158, 0.0, 2.0, 0.0, 26.0],\n",
       " [95.2778, 6.0, 2.0, 1.0, 20.0],\n",
       " [100.8358, 7.0, 2.0, 1.0, 22.0],\n",
       " [73.6038, 8.0, 2.0, 1.0, 27.0],\n",
       " [109.157, 9.0, 1.0, 1.0, 25.0],\n",
       " [127.8994, 2.0, 2.0, 1.0, 17.0],\n",
       " [117.215, 8.0, 2.0, 1.0, 27.0],\n",
       " [244.2486, 4.0, 2.0, 0.0, 39.0],\n",
       " [173.0738, 2.0, 2.0, 1.0, 17.0],\n",
       " [37.8506, 0.0, 2.0, 0.0, 26.0],\n",
       " [211.156, 2.0, 2.0, 1.0, 17.0],\n",
       " [142.2838, 0.0, 2.0, 0.0, 26.0],\n",
       " [104.0622, 2.0, 2.0, 1.0, 17.0],\n",
       " [101.0358, 0.0, 2.0, 0.0, 26.0],\n",
       " [118.0466, 2.0, 2.0, 1.0, 17.0],\n",
       " [47.0718, 1.0, 0.0, 1.0, 37.0],\n",
       " [38.1848, 9.0, 1.0, 1.0, 25.0],\n",
       " [63.6194, 0.0, 2.0, 0.0, 26.0],\n",
       " [264.691, 2.0, 2.0, 1.0, 17.0],\n",
       " [239.4564, 7.0, 2.0, 1.0, 22.0],\n",
       " [175.037, 0.0, 2.0, 0.0, 26.0],\n",
       " [83.1276, 4.0, 2.0, 0.0, 39.0],\n",
       " [104.4622, 2.0, 2.0, 1.0, 17.0],\n",
       " [227.2694, 2.0, 2.0, 1.0, 17.0],\n",
       " [94.4094, 6.0, 2.0, 1.0, 20.0],\n",
       " [244.7486, 6.0, 2.0, 1.0, 20.0],\n",
       " [152.2708, 5.0, 1.0, 3.0, 39.0],\n",
       " [74.567, 8.0, 2.0, 1.0, 27.0],\n",
       " [44.0402, 1.0, 0.0, 1.0, 37.0],\n",
       " [181.7634, 2.0, 2.0, 1.0, 17.0],\n",
       " [141.4496, 9.0, 1.0, 1.0, 25.0],\n",
       " [158.5262, 3.0, 1.0, 2.0, 15.0],\n",
       " [157.5288, 5.0, 1.0, 3.0, 39.0],\n",
       " [186.4924, 9.0, 1.0, 1.0, 25.0],\n",
       " [169.5474, 8.0, 2.0, 1.0, 27.0],\n",
       " [177.6686, 3.0, 1.0, 2.0, 15.0],\n",
       " [182.8976, 2.0, 2.0, 1.0, 17.0],\n",
       " [112.1544, 9.0, 1.0, 1.0, 25.0],\n",
       " [153.7972, 5.0, 1.0, 3.0, 39.0],\n",
       " [213.256, 2.0, 2.0, 1.0, 17.0],\n",
       " [115.6518, 7.0, 2.0, 1.0, 22.0],\n",
       " [144.4102, 5.0, 1.0, 3.0, 39.0],\n",
       " [148.3392, 1.0, 0.0, 1.0, 37.0],\n",
       " [45.906, 6.0, 2.0, 1.0, 20.0],\n",
       " [79.0328, 6.0, 2.0, 1.0, 20.0],\n",
       " [178.237, 9.0, 1.0, 1.0, 25.0],\n",
       " [65.7168, 7.0, 2.0, 1.0, 22.0],\n",
       " [115.1834, 8.0, 2.0, 1.0, 27.0],\n",
       " [132.8284, 3.0, 1.0, 2.0, 15.0],\n",
       " [94.812, 5.0, 1.0, 3.0, 39.0],\n",
       " [186.6924, 3.0, 1.0, 2.0, 15.0],\n",
       " [153.4024, 2.0, 2.0, 1.0, 17.0],\n",
       " [151.3024, 9.0, 1.0, 1.0, 25.0],\n",
       " [245.5144, 5.0, 1.0, 3.0, 39.0],\n",
       " [250.175, 9.0, 1.0, 1.0, 25.0],\n",
       " [131.131, 4.0, 2.0, 0.0, 39.0],\n",
       " [90.4146, 9.0, 1.0, 1.0, 25.0],\n",
       " [56.4614, 1.0, 0.0, 1.0, 37.0],\n",
       " [54.864, 8.0, 2.0, 1.0, 27.0],\n",
       " [42.2428, 1.0, 0.0, 1.0, 37.0],\n",
       " [118.444, 1.0, 0.0, 1.0, 37.0],\n",
       " [105.228, 8.0, 2.0, 1.0, 27.0],\n",
       " [84.025, 5.0, 1.0, 3.0, 39.0],\n",
       " [149.2366, 5.0, 1.0, 3.0, 39.0],\n",
       " [194.511, 1.0, 0.0, 1.0, 37.0],\n",
       " [132.1284, 7.0, 2.0, 1.0, 22.0],\n",
       " [165.121, 7.0, 2.0, 1.0, 22.0],\n",
       " [144.4102, 0.0, 2.0, 0.0, 26.0],\n",
       " [41.1138, 3.0, 1.0, 2.0, 15.0],\n",
       " [244.746, 0.0, 2.0, 0.0, 26.0],\n",
       " [181.1634, 2.0, 2.0, 1.0, 17.0],\n",
       " [235.3616, 8.0, 2.0, 1.0, 27.0],\n",
       " [105.028, 6.0, 2.0, 1.0, 20.0],\n",
       " [91.683, 6.0, 2.0, 1.0, 20.0],\n",
       " [156.0946, 6.0, 2.0, 1.0, 20.0],\n",
       " [165.7842, 5.0, 1.0, 3.0, 39.0],\n",
       " [99.17, 8.0, 2.0, 1.0, 27.0],\n",
       " [179.1318, 1.0, 0.0, 1.0, 37.0],\n",
       " [157.4262, 5.0, 1.0, 3.0, 39.0],\n",
       " [85.8856, 1.0, 0.0, 1.0, 37.0],\n",
       " [221.4456, 1.0, 0.0, 1.0, 37.0],\n",
       " [128.6336, 3.0, 1.0, 2.0, 15.0],\n",
       " [125.8704, 2.0, 2.0, 1.0, 17.0],\n",
       " [104.2964, 2.0, 2.0, 1.0, 17.0],\n",
       " [82.9908, 3.0, 1.0, 2.0, 15.0],\n",
       " [236.8932, 2.0, 2.0, 1.0, 17.0],\n",
       " [185.1898, 8.0, 2.0, 1.0, 27.0],\n",
       " [231.201, 7.0, 2.0, 1.0, 22.0],\n",
       " [123.973, 3.0, 1.0, 2.0, 15.0],\n",
       " [100.4016, 9.0, 1.0, 1.0, 25.0],\n",
       " [119.8414, 3.0, 1.0, 2.0, 15.0],\n",
       " [176.6054, 1.0, 0.0, 1.0, 37.0],\n",
       " [198.2768, 7.0, 2.0, 1.0, 22.0],\n",
       " [196.8084, 6.0, 2.0, 1.0, 20.0],\n",
       " [124.4388, 5.0, 1.0, 3.0, 39.0],\n",
       " [83.2276, 0.0, 2.0, 0.0, 26.0],\n",
       " [127.502, 7.0, 2.0, 1.0, 22.0],\n",
       " [54.1298, 6.0, 2.0, 1.0, 20.0],\n",
       " [43.7744, 3.0, 1.0, 2.0, 15.0],\n",
       " [179.5976, 4.0, 2.0, 0.0, 39.0],\n",
       " [217.9482, 2.0, 2.0, 1.0, 17.0],\n",
       " [264.3226, 2.0, 2.0, 1.0, 17.0],\n",
       " [52.4298, 4.0, 2.0, 0.0, 39.0],\n",
       " [107.1938, 2.0, 2.0, 1.0, 17.0],\n",
       " [116.6492, 2.0, 2.0, 1.0, 17.0],\n",
       " [62.0194, 2.0, 2.0, 1.0, 17.0],\n",
       " [104.7306, 7.0, 2.0, 1.0, 22.0],\n",
       " [129.2336, 5.0, 1.0, 3.0, 39.0],\n",
       " [197.1426, 2.0, 2.0, 1.0, 17.0],\n",
       " [189.153, 3.0, 1.0, 2.0, 15.0],\n",
       " [36.0848, 2.0, 2.0, 1.0, 17.0],\n",
       " [169.0474, 9.0, 1.0, 1.0, 25.0],\n",
       " [233.1958, 8.0, 2.0, 1.0, 27.0],\n",
       " [107.2596, 9.0, 1.0, 1.0, 25.0],\n",
       " [107.728, 5.0, 1.0, 3.0, 39.0],\n",
       " [145.6102, 2.0, 2.0, 1.0, 17.0],\n",
       " [223.8746, 5.0, 1.0, 3.0, 39.0],\n",
       " [146.4786, 8.0, 2.0, 1.0, 27.0],\n",
       " [96.5068, 9.0, 1.0, 1.0, 25.0],\n",
       " [190.5872, 7.0, 2.0, 1.0, 22.0],\n",
       " [49.3008, 1.0, 0.0, 1.0, 37.0],\n",
       " [105.1622, 4.0, 2.0, 0.0, 39.0],\n",
       " [37.2848, 6.0, 2.0, 1.0, 20.0],\n",
       " [212.3218, 1.0, 0.0, 1.0, 37.0],\n",
       " [192.682, 3.0, 1.0, 2.0, 15.0],\n",
       " [235.4958, 7.0, 2.0, 1.0, 22.0],\n",
       " [54.9298, 2.0, 2.0, 1.0, 17.0],\n",
       " [175.4738, 9.0, 1.0, 1.0, 25.0],\n",
       " [173.4054, 1.0, 0.0, 1.0, 37.0],\n",
       " [224.6088, 0.0, 2.0, 0.0, 26.0],\n",
       " [139.9838, 6.0, 2.0, 1.0, 20.0],\n",
       " [86.6198, 6.0, 2.0, 1.0, 20.0],\n",
       " [47.3718, 7.0, 2.0, 1.0, 22.0],\n",
       " [41.9112, 3.0, 1.0, 2.0, 15.0],\n",
       " [121.7098, 3.0, 1.0, 2.0, 15.0],\n",
       " [113.3518, 3.0, 1.0, 2.0, 15.0],\n",
       " [104.6306, 6.0, 2.0, 1.0, 20.0],\n",
       " [163.221, 1.0, 0.0, 1.0, 37.0],\n",
       " [158.8946, 8.0, 2.0, 1.0, 27.0],\n",
       " [241.2512, 2.0, 2.0, 1.0, 17.0],\n",
       " [150.7366, 4.0, 2.0, 0.0, 39.0],\n",
       " [126.7336, 4.0, 2.0, 0.0, 39.0],\n",
       " [153.5682, 5.0, 1.0, 3.0, 39.0],\n",
       " [257.5304, 2.0, 2.0, 1.0, 17.0],\n",
       " [98.7042, 8.0, 2.0, 1.0, 27.0],\n",
       " [264.091, 2.0, 2.0, 1.0, 17.0],\n",
       " [229.101, 0.0, 2.0, 0.0, 26.0],\n",
       " [151.1708, 2.0, 2.0, 1.0, 17.0],\n",
       " [212.0902, 7.0, 2.0, 1.0, 22.0],\n",
       " [99.0358, 9.0, 1.0, 1.0, 25.0],\n",
       " [181.0976, 6.0, 2.0, 1.0, 20.0],\n",
       " [85.5198, 2.0, 2.0, 1.0, 17.0],\n",
       " [42.7086, 4.0, 2.0, 0.0, 39.0],\n",
       " [111.7544, 7.0, 2.0, 1.0, 22.0],\n",
       " [92.712, 4.0, 2.0, 0.0, 39.0],\n",
       " [184.9608, 0.0, 2.0, 0.0, 26.0],\n",
       " [173.7712, 8.0, 2.0, 1.0, 27.0],\n",
       " [122.873, 9.0, 1.0, 1.0, 25.0],\n",
       " [93.312, 7.0, 2.0, 1.0, 22.0],\n",
       " [183.7608, 8.0, 2.0, 1.0, 27.0],\n",
       " [251.4724, 1.0, 0.0, 1.0, 37.0],\n",
       " [126.1678, 7.0, 2.0, 1.0, 22.0],\n",
       " [175.337, 4.0, 2.0, 0.0, 39.0],\n",
       " [127.902, 2.0, 2.0, 1.0, 17.0],\n",
       " [151.0682, 8.0, 2.0, 1.0, 27.0],\n",
       " [87.7198, 9.0, 1.0, 1.0, 25.0],\n",
       " [111.0544, 7.0, 2.0, 1.0, 22.0],\n",
       " [110.8228, 5.0, 1.0, 3.0, 39.0],\n",
       " [117.1492, 3.0, 1.0, 2.0, 15.0],\n",
       " [121.844, 8.0, 2.0, 1.0, 27.0],\n",
       " [49.4666, 6.0, 2.0, 1.0, 20.0],\n",
       " [100.5358, 5.0, 1.0, 3.0, 39.0],\n",
       " [97.7752, 4.0, 2.0, 0.0, 39.0],\n",
       " [164.7842, 8.0, 2.0, 1.0, 27.0],\n",
       " [187.8872, 6.0, 2.0, 1.0, 20.0],\n",
       " [53.0956, 9.0, 1.0, 1.0, 25.0],\n",
       " [187.1214, 7.0, 2.0, 1.0, 22.0],\n",
       " [90.9804, 7.0, 2.0, 1.0, 22.0],\n",
       " [140.8496, 0.0, 2.0, 0.0, 26.0],\n",
       " [195.111, 9.0, 1.0, 1.0, 25.0],\n",
       " [178.2686, 3.0, 1.0, 2.0, 15.0],\n",
       " [56.2956, 7.0, 2.0, 1.0, 22.0],\n",
       " [187.5214, 3.0, 1.0, 2.0, 15.0],\n",
       " [112.2228, 8.0, 2.0, 1.0, 27.0],\n",
       " [101.1042, 4.0, 2.0, 0.0, 39.0],\n",
       " [213.2902, 9.0, 1.0, 1.0, 25.0],\n",
       " [45.0428, 6.0, 2.0, 1.0, 20.0],\n",
       " [224.0404, 4.0, 2.0, 0.0, 39.0],\n",
       " [184.2266, 5.0, 1.0, 3.0, 39.0],\n",
       " [102.7332, 8.0, 2.0, 1.0, 27.0],\n",
       " [43.2796, 5.0, 1.0, 3.0, 39.0],\n",
       " [65.051, 8.0, 2.0, 1.0, 27.0],\n",
       " [119.1098, 6.0, 2.0, 1.0, 20.0],\n",
       " [140.1838, 1.0, 0.0, 1.0, 37.0],\n",
       " [251.204, 3.0, 1.0, 2.0, 15.0],\n",
       " [243.5512, 6.0, 2.0, 1.0, 20.0],\n",
       " [77.0012, 9.0, 1.0, 1.0, 25.0],\n",
       " [247.0144, 7.0, 2.0, 1.0, 22.0],\n",
       " [64.0168, 1.0, 0.0, 1.0, 37.0],\n",
       " [93.5436, 3.0, 1.0, 2.0, 15.0],\n",
       " [164.85, 8.0, 2.0, 1.0, 27.0],\n",
       " [178.3002, 0.0, 2.0, 0.0, 26.0],\n",
       " [118.415, 1.0, 0.0, 1.0, 37.0],\n",
       " [184.4608, 3.0, 1.0, 2.0, 15.0],\n",
       " [219.1798, 5.0, 1.0, 3.0, 39.0],\n",
       " [75.7038, 0.0, 2.0, 0.0, 26.0],\n",
       " [92.512, 1.0, 0.0, 1.0, 37.0],\n",
       " [205.698, 7.0, 2.0, 1.0, 22.0],\n",
       " [166.4184, 3.0, 1.0, 2.0, 15.0],\n",
       " [118.8098, 7.0, 2.0, 1.0, 22.0],\n",
       " [176.137, 9.0, 1.0, 1.0, 25.0],\n",
       " [44.6112, 9.0, 1.0, 1.0, 25.0],\n",
       " [108.7912, 3.0, 1.0, 2.0, 15.0],\n",
       " [182.2292, 3.0, 1.0, 2.0, 15.0],\n",
       " [112.4518, 1.0, 0.0, 1.0, 37.0],\n",
       " [169.4106, 6.0, 2.0, 1.0, 20.0],\n",
       " [242.2828, 8.0, 2.0, 1.0, 27.0],\n",
       " [186.6924, 5.0, 1.0, 3.0, 39.0],\n",
       " [144.6444, 3.0, 1.0, 2.0, 15.0],\n",
       " [145.1418, 0.0, 2.0, 0.0, 26.0],\n",
       " [106.5306, 0.0, 2.0, 0.0, 26.0],\n",
       " [183.4266, 8.0, 2.0, 1.0, 27.0],\n",
       " [125.7046, 2.0, 2.0, 1.0, 17.0],\n",
       " [175.7028, 7.0, 2.0, 1.0, 22.0],\n",
       " [99.3358, 6.0, 2.0, 1.0, 20.0],\n",
       " [59.7904, 5.0, 1.0, 3.0, 39.0],\n",
       " [87.454, 6.0, 2.0, 1.0, 20.0],\n",
       " [222.3772, 9.0, 1.0, 1.0, 25.0],\n",
       " [99.6384, 9.0, 1.0, 1.0, 25.0],\n",
       " [151.134, 1.0, 0.0, 1.0, 37.0],\n",
       " [115.9492, 2.0, 2.0, 1.0, 17.0],\n",
       " [61.3194, 9.0, 1.0, 1.0, 25.0],\n",
       " [150.1366, 3.0, 1.0, 2.0, 15.0],\n",
       " [181.166, 5.0, 1.0, 3.0, 39.0],\n",
       " [176.4686, 4.0, 2.0, 0.0, 39.0],\n",
       " [91.183, 2.0, 2.0, 1.0, 17.0],\n",
       " [37.948, 2.0, 2.0, 1.0, 17.0],\n",
       " [253.2356, 1.0, 0.0, 1.0, 37.0],\n",
       " [102.2648, 2.0, 2.0, 1.0, 17.0],\n",
       " [250.6724, 9.0, 1.0, 1.0, 25.0],\n",
       " [109.5912, 3.0, 1.0, 2.0, 15.0],\n",
       " [160.6552, 1.0, 0.0, 1.0, 37.0],\n",
       " [38.6506, 0.0, 2.0, 0.0, 26.0],\n",
       " [35.6558, 4.0, 2.0, 0.0, 39.0],\n",
       " [53.864, 7.0, 2.0, 1.0, 22.0],\n",
       " [196.0768, 8.0, 2.0, 1.0, 27.0],\n",
       " [196.8426, 9.0, 1.0, 1.0, 25.0],\n",
       " [80.496, 4.0, 2.0, 0.0, 39.0],\n",
       " [256.4988, 0.0, 2.0, 0.0, 26.0],\n",
       " [223.5404, 7.0, 2.0, 1.0, 22.0],\n",
       " [92.6146, 3.0, 1.0, 2.0, 15.0],\n",
       " [94.6752, 5.0, 1.0, 3.0, 39.0],\n",
       " [241.8854, 9.0, 1.0, 1.0, 25.0],\n",
       " [229.8668, 2.0, 2.0, 1.0, 17.0],\n",
       " [113.2834, 2.0, 2.0, 1.0, 17.0],\n",
       " [222.6114, 9.0, 1.0, 1.0, 25.0],\n",
       " [174.3712, 7.0, 2.0, 1.0, 22.0],\n",
       " [252.4066, 7.0, 2.0, 1.0, 22.0],\n",
       " [81.925, 8.0, 2.0, 1.0, 27.0],\n",
       " [159.0604, 3.0, 1.0, 2.0, 15.0],\n",
       " [256.3356, 8.0, 2.0, 1.0, 27.0],\n",
       " [178.8344, 7.0, 2.0, 1.0, 22.0],\n",
       " [85.3908, 1.0, 0.0, 1.0, 37.0],\n",
       " [166.7816, 0.0, 2.0, 0.0, 26.0],\n",
       " [124.8046, 5.0, 1.0, 3.0, 39.0],\n",
       " [118.8466, 6.0, 2.0, 1.0, 20.0],\n",
       " [164.2842, 5.0, 1.0, 3.0, 39.0],\n",
       " [183.3292, 9.0, 1.0, 1.0, 25.0],\n",
       " [153.0682, 1.0, 0.0, 1.0, 37.0],\n",
       " [142.9154, 8.0, 2.0, 1.0, 27.0],\n",
       " [187.8872, 0.0, 2.0, 0.0, 26.0],\n",
       " [86.6514, 1.0, 0.0, 1.0, 37.0],\n",
       " [230.201, 7.0, 2.0, 1.0, 22.0],\n",
       " [42.0454, 6.0, 2.0, 1.0, 20.0],\n",
       " [210.6612, 3.0, 1.0, 2.0, 15.0],\n",
       " [110.5254, 0.0, 2.0, 0.0, 26.0],\n",
       " [113.7544, 8.0, 2.0, 1.0, 27.0],\n",
       " [115.2518, 5.0, 1.0, 3.0, 39.0],\n",
       " [216.9508, 7.0, 2.0, 1.0, 22.0],\n",
       " [222.9772, 3.0, 1.0, 2.0, 15.0],\n",
       " [250.275, 2.0, 2.0, 1.0, 17.0],\n",
       " [58.7904, 4.0, 2.0, 0.0, 39.0],\n",
       " [109.5596, 2.0, 2.0, 1.0, 17.0],\n",
       " [175.037, 9.0, 1.0, 1.0, 25.0],\n",
       " [157.5288, 7.0, 2.0, 1.0, 22.0],\n",
       " [100.4384, 4.0, 2.0, 0.0, 39.0],\n",
       " [241.1512, 6.0, 2.0, 1.0, 20.0],\n",
       " [154.8972, 7.0, 2.0, 1.0, 22.0],\n",
       " [221.1798, 4.0, 2.0, 0.0, 39.0],\n",
       " [113.2518, 7.0, 2.0, 1.0, 22.0],\n",
       " [48.635, 3.0, 1.0, 2.0, 15.0],\n",
       " [41.2822, 8.0, 2.0, 1.0, 27.0],\n",
       " [124.773, 9.0, 1.0, 1.0, 25.0],\n",
       " [214.7218, 5.0, 1.0, 3.0, 39.0],\n",
       " [236.2248, 5.0, 1.0, 3.0, 39.0],\n",
       " [167.7842, 6.0, 2.0, 1.0, 20.0],\n",
       " [57.0614, 5.0, 1.0, 3.0, 39.0],\n",
       " [187.7556, 4.0, 2.0, 0.0, 39.0],\n",
       " [179.6976, 6.0, 2.0, 1.0, 20.0],\n",
       " [81.9618, 7.0, 2.0, 1.0, 22.0],\n",
       " [183.495, 2.0, 2.0, 1.0, 17.0],\n",
       " [97.0094, 6.0, 2.0, 1.0, 20.0],\n",
       " [114.2518, 2.0, 2.0, 1.0, 17.0],\n",
       " [230.2668, 4.0, 2.0, 0.0, 39.0],\n",
       " [195.0768, 2.0, 2.0, 1.0, 17.0],\n",
       " [114.8492, 7.0, 2.0, 1.0, 22.0],\n",
       " [210.2244, 9.0, 1.0, 1.0, 25.0],\n",
       " [129.831, 2.0, 2.0, 1.0, 17.0],\n",
       " [226.9062, 2.0, 2.0, 1.0, 17.0],\n",
       " [157.1604, 9.0, 1.0, 1.0, 25.0],\n",
       " [170.879, 4.0, 2.0, 0.0, 39.0],\n",
       " [87.883, 9.0, 1.0, 1.0, 25.0],\n",
       " [79.1986, 4.0, 2.0, 0.0, 39.0],\n",
       " [258.8278, 9.0, 1.0, 1.0, 25.0],\n",
       " [245.3802, 5.0, 1.0, 3.0, 39.0],\n",
       " [161.1578, 3.0, 1.0, 2.0, 15.0],\n",
       " [195.411, 0.0, 2.0, 0.0, 26.0],\n",
       " [251.1724, 8.0, 2.0, 1.0, 27.0],\n",
       " [261.691, 9.0, 1.0, 1.0, 25.0],\n",
       " [60.7194, 2.0, 2.0, 1.0, 17.0],\n",
       " [107.1912, 1.0, 0.0, 1.0, 37.0],\n",
       " [163.4894, 4.0, 2.0, 0.0, 39.0],\n",
       " [146.9444, 5.0, 1.0, 3.0, 39.0],\n",
       " [163.9526, 3.0, 1.0, 2.0, 15.0],\n",
       " [99.5016, 3.0, 1.0, 2.0, 15.0],\n",
       " [130.1652, 5.0, 1.0, 3.0, 39.0],\n",
       " [148.3392, 4.0, 2.0, 0.0, 39.0],\n",
       " [167.6842, 9.0, 1.0, 1.0, 25.0],\n",
       " [198.6426, 9.0, 1.0, 1.0, 25.0],\n",
       " [157.892, 7.0, 2.0, 1.0, 22.0],\n",
       " [58.9246, 9.0, 1.0, 1.0, 25.0],\n",
       " [232.3642, 3.0, 1.0, 2.0, 15.0],\n",
       " [193.8452, 1.0, 0.0, 1.0, 37.0],\n",
       " [187.0872, 9.0, 1.0, 1.0, 25.0],\n",
       " [232.7984, 1.0, 0.0, 1.0, 37.0],\n",
       " [161.5552, 5.0, 1.0, 3.0, 39.0],\n",
       " [149.4366, 7.0, 2.0, 1.0, 22.0],\n",
       " [106.4596, 9.0, 1.0, 1.0, 25.0],\n",
       " [188.353, 1.0, 0.0, 1.0, 37.0],\n",
       " [84.2592, 7.0, 2.0, 1.0, 22.0],\n",
       " [167.4816, 1.0, 0.0, 1.0, 37.0],\n",
       " [104.3306, 3.0, 1.0, 2.0, 15.0],\n",
       " [110.3544, 3.0, 1.0, 2.0, 15.0],\n",
       " [101.6674, 5.0, 1.0, 3.0, 39.0],\n",
       " [86.3856, 0.0, 2.0, 0.0, 26.0],\n",
       " [106.528, 0.0, 2.0, 0.0, 26.0],\n",
       " [54.1298, 7.0, 2.0, 1.0, 22.0],\n",
       " [237.559, 0.0, 2.0, 0.0, 26.0],\n",
       " [141.7154, 6.0, 2.0, 1.0, 20.0],\n",
       " [180.866, 2.0, 2.0, 1.0, 17.0],\n",
       " [143.5444, 4.0, 2.0, 0.0, 39.0],\n",
       " [154.8656, 5.0, 1.0, 3.0, 39.0],\n",
       " [107.0938, 5.0, 1.0, 3.0, 39.0],\n",
       " [95.1436, 2.0, 2.0, 1.0, 17.0],\n",
       " [198.2768, 7.0, 2.0, 1.0, 22.0],\n",
       " [241.5538, 7.0, 2.0, 1.0, 22.0],\n",
       " [40.0454, 8.0, 2.0, 1.0, 27.0],\n",
       " [198.8084, 8.0, 2.0, 1.0, 27.0],\n",
       " [158.463, 2.0, 2.0, 1.0, 17.0],\n",
       " [258.5646, 1.0, 0.0, 1.0, 37.0],\n",
       " [85.7566, 7.0, 2.0, 1.0, 22.0],\n",
       " [160.5236, 7.0, 2.0, 1.0, 22.0],\n",
       " [127.202, 5.0, 1.0, 3.0, 39.0],\n",
       " [181.7634, 7.0, 2.0, 1.0, 22.0],\n",
       " [43.3112, 1.0, 0.0, 1.0, 37.0],\n",
       " [122.7414, 2.0, 2.0, 1.0, 17.0],\n",
       " [123.2046, 1.0, 0.0, 1.0, 37.0],\n",
       " [117.3492, 5.0, 1.0, 3.0, 39.0],\n",
       " [156.563, 3.0, 1.0, 2.0, 15.0],\n",
       " [122.4072, 5.0, 1.0, 3.0, 39.0],\n",
       " [117.4808, 5.0, 1.0, 3.0, 39.0],\n",
       " [164.3868, 3.0, 1.0, 2.0, 15.0],\n",
       " [113.1202, 9.0, 1.0, 1.0, 25.0],\n",
       " [129.931, 2.0, 2.0, 1.0, 17.0],\n",
       " [218.0508, 5.0, 1.0, 3.0, 39.0],\n",
       " [125.6388, 1.0, 0.0, 1.0, 37.0],\n",
       " [90.9804, 6.0, 2.0, 1.0, 20.0],\n",
       " [47.0376, 8.0, 2.0, 1.0, 27.0],\n",
       " [162.821, 0.0, 2.0, 0.0, 26.0],\n",
       " [158.163, 0.0, 2.0, 0.0, 26.0],\n",
       " [116.1492, 8.0, 2.0, 1.0, 27.0],\n",
       " [220.4772, 3.0, 1.0, 2.0, 15.0],\n",
       " [241.1196, 3.0, 1.0, 2.0, 15.0],\n",
       " [150.7366, 1.0, 0.0, 1.0, 37.0],\n",
       " [145.2418, 0.0, 2.0, 0.0, 26.0],\n",
       " [94.541, 9.0, 1.0, 1.0, 25.0],\n",
       " [53.0956, 9.0, 1.0, 1.0, 25.0],\n",
       " [32.8216, 5.0, 1.0, 3.0, 39.0],\n",
       " [109.4886, 4.0, 2.0, 0.0, 39.0],\n",
       " [180.8976, 0.0, 2.0, 0.0, 26.0],\n",
       " [86.5514, 0.0, 2.0, 0.0, 26.0],\n",
       " [119.6124, 7.0, 2.0, 1.0, 22.0],\n",
       " [162.5236, 1.0, 0.0, 1.0, 37.0],\n",
       " [175.7738, 9.0, 1.0, 1.0, 25.0],\n",
       " [142.9786, 1.0, 0.0, 1.0, 37.0],\n",
       " [39.7822, 3.0, 1.0, 2.0, 15.0],\n",
       " [195.9136, 7.0, 2.0, 1.0, 22.0],\n",
       " [93.412, 9.0, 1.0, 1.0, 25.0],\n",
       " [58.0562, 6.0, 2.0, 1.0, 20.0],\n",
       " [140.3838, 2.0, 2.0, 1.0, 17.0],\n",
       " [110.5254, 8.0, 2.0, 1.0, 27.0],\n",
       " [87.8514, 2.0, 2.0, 1.0, 17.0],\n",
       " [74.2354, 9.0, 1.0, 1.0, 25.0],\n",
       " [84.1224, 3.0, 1.0, 2.0, 15.0],\n",
       " [91.2804, 0.0, 2.0, 0.0, 26.0],\n",
       " [143.2444, 1.0, 0.0, 1.0, 37.0],\n",
       " [248.246, 4.0, 2.0, 0.0, 39.0],\n",
       " [88.183, 7.0, 2.0, 1.0, 22.0],\n",
       " [212.5218, 3.0, 1.0, 2.0, 15.0],\n",
       " [57.1614, 3.0, 1.0, 2.0, 15.0],\n",
       " [151.9024, 1.0, 0.0, 1.0, 37.0],\n",
       " [184.7924, 5.0, 1.0, 3.0, 39.0],\n",
       " [183.4266, 6.0, 2.0, 1.0, 20.0],\n",
       " [105.199, 7.0, 2.0, 1.0, 22.0],\n",
       " [148.6076, 7.0, 2.0, 1.0, 22.0],\n",
       " [131.331, 7.0, 2.0, 1.0, 22.0],\n",
       " [163.1526, 9.0, 1.0, 1.0, 25.0],\n",
       " [65.1826, 8.0, 2.0, 1.0, 27.0],\n",
       " [183.3634, 4.0, 2.0, 0.0, 39.0],\n",
       " [73.7696, 5.0, 1.0, 3.0, 39.0],\n",
       " [258.1304, 6.0, 2.0, 1.0, 20.0],\n",
       " [120.244, 3.0, 1.0, 2.0, 15.0],\n",
       " [173.5054, 6.0, 2.0, 1.0, 20.0],\n",
       " [172.8764, 9.0, 1.0, 1.0, 25.0],\n",
       " [241.9196, 8.0, 2.0, 1.0, 27.0],\n",
       " [45.906, 1.0, 0.0, 1.0, 37.0],\n",
       " [110.3228, 4.0, 2.0, 0.0, 39.0],\n",
       " [178.437, 5.0, 1.0, 3.0, 39.0],\n",
       " [172.8106, 5.0, 1.0, 3.0, 39.0],\n",
       " [176.837, 9.0, 1.0, 1.0, 25.0],\n",
       " [182.4318, 2.0, 2.0, 1.0, 17.0],\n",
       " [236.4564, 1.0, 0.0, 1.0, 37.0],\n",
       " [231.2642, 8.0, 2.0, 1.0, 27.0],\n",
       " [42.2454, 1.0, 0.0, 1.0, 37.0],\n",
       " [102.9332, 2.0, 2.0, 1.0, 17.0],\n",
       " [166.3842, 6.0, 2.0, 1.0, 20.0],\n",
       " [106.4622, 8.0, 2.0, 1.0, 27.0],\n",
       " [165.2526, 8.0, 2.0, 1.0, 27.0],\n",
       " [130.9652, 5.0, 1.0, 3.0, 39.0],\n",
       " [38.248, 2.0, 2.0, 1.0, 17.0],\n",
       " [246.0144, 3.0, 1.0, 2.0, 15.0],\n",
       " [240.088, 1.0, 0.0, 1.0, 37.0],\n",
       " [129.4652, 3.0, 1.0, 2.0, 15.0],\n",
       " [33.0558, 0.0, 2.0, 0.0, 26.0],\n",
       " [107.6596, 7.0, 2.0, 1.0, 22.0],\n",
       " [112.6176, 1.0, 0.0, 1.0, 37.0],\n",
       " [36.2874, 3.0, 1.0, 2.0, 15.0],\n",
       " [116.0808, 9.0, 1.0, 1.0, 25.0],\n",
       " [174.4738, 1.0, 0.0, 1.0, 37.0],\n",
       " [109.1254, 9.0, 1.0, 1.0, 25.0],\n",
       " [263.2594, 5.0, 1.0, 3.0, 39.0],\n",
       " [123.5414, 6.0, 2.0, 1.0, 20.0],\n",
       " [228.401, 4.0, 2.0, 0.0, 39.0],\n",
       " [167.1132, 3.0, 1.0, 2.0, 15.0],\n",
       " [193.1794, 7.0, 2.0, 1.0, 22.0],\n",
       " [123.073, 8.0, 2.0, 1.0, 27.0],\n",
       " [182.6292, 1.0, 0.0, 1.0, 37.0],\n",
       " [211.7586, 7.0, 2.0, 1.0, 22.0],\n",
       " [36.6874, 0.0, 2.0, 0.0, 26.0],\n",
       " [259.9594, 5.0, 1.0, 3.0, 39.0],\n",
       " [80.0276, 6.0, 2.0, 1.0, 20.0],\n",
       " [122.773, 7.0, 2.0, 1.0, 22.0],\n",
       " [141.5154, 9.0, 1.0, 1.0, 25.0],\n",
       " [149.8708, 4.0, 2.0, 0.0, 39.0],\n",
       " [104.0332, 8.0, 2.0, 1.0, 27.0],\n",
       " [249.0434, 7.0, 2.0, 1.0, 22.0],\n",
       " [40.1454, 7.0, 2.0, 1.0, 22.0],\n",
       " [176.8054, 6.0, 2.0, 1.0, 20.0],\n",
       " [156.4656, 7.0, 2.0, 1.0, 22.0],\n",
       " [221.0456, 8.0, 2.0, 1.0, 27.0],\n",
       " [116.215, 6.0, 2.0, 1.0, 20.0],\n",
       " [106.0938, 9.0, 1.0, 1.0, 25.0],\n",
       " [225.4062, 4.0, 2.0, 0.0, 39.0],\n",
       " [63.1536, 5.0, 1.0, 3.0, 39.0],\n",
       " [197.8426, 8.0, 2.0, 1.0, 27.0],\n",
       " [36.0874, 6.0, 2.0, 1.0, 20.0],\n",
       " [222.1456, 2.0, 2.0, 1.0, 17.0],\n",
       " [130.4284, 5.0, 1.0, 3.0, 39.0],\n",
       " [193.282, 2.0, 2.0, 1.0, 17.0],\n",
       " [236.7248, 3.0, 1.0, 2.0, 15.0],\n",
       " [167.1184, 2.0, 2.0, 1.0, 17.0],\n",
       " [212.6244, 6.0, 2.0, 1.0, 20.0],\n",
       " [46.706, 6.0, 2.0, 1.0, 20.0],\n",
       " [106.728, 7.0, 2.0, 1.0, 22.0],\n",
       " [145.076, 2.0, 2.0, 1.0, 17.0],\n",
       " [160.9894, 1.0, 0.0, 1.0, 37.0],\n",
       " [117.9466, 0.0, 2.0, 0.0, 26.0],\n",
       " [176.637, 2.0, 2.0, 1.0, 17.0],\n",
       " [42.9112, 7.0, 2.0, 1.0, 22.0],\n",
       " [94.4094, 9.0, 1.0, 1.0, 25.0],\n",
       " [258.7278, 0.0, 2.0, 0.0, 26.0],\n",
       " [103.499, 4.0, 2.0, 0.0, 39.0],\n",
       " [157.0314, 6.0, 2.0, 1.0, 20.0],\n",
       " [237.8906, 3.0, 1.0, 2.0, 15.0],\n",
       " [176.637, 1.0, 0.0, 1.0, 37.0],\n",
       " [72.638, 7.0, 2.0, 1.0, 22.0],\n",
       " [101.7016, 1.0, 0.0, 1.0, 37.0],\n",
       " [195.2478, 5.0, 1.0, 3.0, 39.0],\n",
       " [173.6422, 1.0, 0.0, 1.0, 37.0],\n",
       " [102.8332, 7.0, 2.0, 1.0, 22.0],\n",
       " [103.6306, 9.0, 1.0, 1.0, 25.0],\n",
       " [185.2266, 9.0, 1.0, 1.0, 25.0],\n",
       " [153.534, 0.0, 2.0, 0.0, 26.0],\n",
       " [87.4514, 5.0, 1.0, 3.0, 39.0],\n",
       " [120.1782, 9.0, 1.0, 1.0, 25.0],\n",
       " [205.4638, 3.0, 1.0, 2.0, 15.0],\n",
       " [45.9718, 9.0, 1.0, 1.0, 25.0],\n",
       " [222.7456, 2.0, 2.0, 1.0, 17.0],\n",
       " [105.1622, 9.0, 1.0, 1.0, 25.0],\n",
       " [121.1782, 7.0, 2.0, 1.0, 22.0],\n",
       " [117.2124, 6.0, 2.0, 1.0, 20.0],\n",
       " [182.5976, 7.0, 2.0, 1.0, 22.0],\n",
       " [154.963, 8.0, 2.0, 1.0, 27.0],\n",
       " [227.0694, 2.0, 2.0, 1.0, 17.0],\n",
       " [128.4336, 2.0, 2.0, 1.0, 17.0],\n",
       " [251.8724, 6.0, 2.0, 1.0, 20.0],\n",
       " [126.2362, 5.0, 1.0, 3.0, 39.0],\n",
       " [256.2356, 6.0, 2.0, 1.0, 20.0],\n",
       " [55.0956, 2.0, 2.0, 1.0, 17.0],\n",
       " [239.6196, 5.0, 1.0, 3.0, 39.0],\n",
       " [195.3478, 3.0, 1.0, 2.0, 15.0],\n",
       " [163.2552, 8.0, 2.0, 1.0, 27.0],\n",
       " [52.7982, 6.0, 2.0, 1.0, 20.0],\n",
       " [121.9414, 9.0, 1.0, 1.0, 25.0],\n",
       " [178.5344, 9.0, 1.0, 1.0, 25.0],\n",
       " [123.073, 1.0, 0.0, 1.0, 37.0],\n",
       " [126.4704, 9.0, 1.0, 1.0, 25.0],\n",
       " [143.4812, 1.0, 0.0, 1.0, 37.0],\n",
       " [76.4354, 3.0, 1.0, 2.0, 15.0],\n",
       " [226.5062, 7.0, 2.0, 1.0, 22.0],\n",
       " [124.973, 1.0, 0.0, 1.0, 37.0],\n",
       " [179.5686, 2.0, 2.0, 1.0, 17.0],\n",
       " [88.983, 9.0, 1.0, 1.0, 25.0],\n",
       " [191.382, 3.0, 1.0, 2.0, 15.0],\n",
       " [126.4994, 6.0, 2.0, 1.0, 20.0],\n",
       " [180.9318, 5.0, 1.0, 3.0, 39.0],\n",
       " [141.447, 7.0, 2.0, 1.0, 22.0],\n",
       " [102.4332, 9.0, 1.0, 1.0, 25.0],\n",
       " [168.9474, 3.0, 1.0, 2.0, 15.0],\n",
       " [80.9592, 9.0, 1.0, 1.0, 25.0],\n",
       " [223.0088, 3.0, 1.0, 2.0, 15.0],\n",
       " [177.237, 8.0, 2.0, 1.0, 27.0],\n",
       " [38.3164, 0.0, 2.0, 0.0, 26.0],\n",
       " [162.5868, 4.0, 2.0, 0.0, 39.0],\n",
       " [174.737, 2.0, 2.0, 1.0, 17.0],\n",
       " [199.2426, 3.0, 1.0, 2.0, 15.0],\n",
       " [176.9054, 2.0, 2.0, 1.0, 17.0],\n",
       " [154.1682, 8.0, 2.0, 1.0, 27.0],\n",
       " [161.721, 5.0, 1.0, 3.0, 39.0],\n",
       " [52.0982, 5.0, 1.0, 3.0, 39.0],\n",
       " [118.5808, 1.0, 0.0, 1.0, 37.0],\n",
       " [75.8012, 6.0, 2.0, 1.0, 20.0],\n",
       " [39.1822, 7.0, 2.0, 1.0, 22.0],\n",
       " [175.337, 3.0, 1.0, 2.0, 15.0],\n",
       " [234.7958, 0.0, 2.0, 0.0, 26.0],\n",
       " [93.4436, 8.0, 2.0, 1.0, 27.0],\n",
       " [212.3902, 3.0, 1.0, 2.0, 15.0],\n",
       " [37.6822, 6.0, 2.0, 1.0, 20.0],\n",
       " [115.3834, 7.0, 2.0, 1.0, 22.0],\n",
       " [177.837, 2.0, 2.0, 1.0, 17.0],\n",
       " [246.7144, 3.0, 1.0, 2.0, 15.0],\n",
       " [48.1718, 3.0, 1.0, 2.0, 15.0],\n",
       " [249.4776, 2.0, 2.0, 1.0, 17.0],\n",
       " [116.5808, 9.0, 1.0, 1.0, 25.0],\n",
       " [91.9778, 3.0, 1.0, 2.0, 15.0],\n",
       " [223.2088, 2.0, 2.0, 1.0, 17.0],\n",
       " [49.0008, 1.0, 0.0, 1.0, 37.0],\n",
       " [181.4318, 3.0, 1.0, 2.0, 15.0],\n",
       " [212.7902, 0.0, 2.0, 0.0, 26.0],\n",
       " [99.0384, 7.0, 2.0, 1.0, 22.0],\n",
       " [186.5924, 2.0, 2.0, 1.0, 17.0],\n",
       " [169.0816, 3.0, 1.0, 2.0, 15.0],\n",
       " [93.2436, 4.0, 2.0, 0.0, 39.0],\n",
       " [94.541, 7.0, 2.0, 1.0, 22.0],\n",
       " [178.9686, 2.0, 2.0, 1.0, 17.0],\n",
       " [158.892, 9.0, 1.0, 1.0, 25.0],\n",
       " [186.8898, 8.0, 2.0, 1.0, 27.0],\n",
       " [172.7106, 9.0, 1.0, 1.0, 25.0],\n",
       " [147.0734, 8.0, 2.0, 1.0, 27.0],\n",
       " [121.673, 8.0, 2.0, 1.0, 27.0],\n",
       " [179.166, 9.0, 1.0, 1.0, 25.0],\n",
       " [99.7042, 9.0, 1.0, 1.0, 25.0],\n",
       " [89.8856, 9.0, 1.0, 1.0, 25.0],\n",
       " [149.5076, 8.0, 2.0, 1.0, 27.0],\n",
       " [178.6344, 9.0, 1.0, 1.0, 25.0],\n",
       " [162.4526, 2.0, 2.0, 1.0, 17.0],\n",
       " [230.1352, 2.0, 2.0, 1.0, 17.0],\n",
       " [165.7526, 7.0, 2.0, 1.0, 22.0],\n",
       " [181.0318, 1.0, 0.0, 1.0, 37.0],\n",
       " [40.848, 0.0, 2.0, 0.0, 26.0],\n",
       " [262.091, 6.0, 2.0, 1.0, 20.0],\n",
       " [112.0518, 0.0, 2.0, 0.0, 26.0],\n",
       " [117.6124, 3.0, 1.0, 2.0, 15.0],\n",
       " [246.2802, 4.0, 2.0, 0.0, 39.0],\n",
       " [85.1882, 6.0, 2.0, 1.0, 20.0],\n",
       " [160.6552, 6.0, 2.0, 1.0, 20.0],\n",
       " [189.6214, 6.0, 2.0, 1.0, 20.0],\n",
       " [40.9822, 8.0, 2.0, 1.0, 27.0],\n",
       " [55.1272, 3.0, 1.0, 2.0, 15.0],\n",
       " [86.4566, 1.0, 0.0, 1.0, 37.0],\n",
       " [56.3614, 0.0, 2.0, 0.0, 26.0],\n",
       " [236.0932, 7.0, 2.0, 1.0, 22.0],\n",
       " [115.3176, 8.0, 2.0, 1.0, 27.0],\n",
       " [129.6626, 1.0, 0.0, 1.0, 37.0],\n",
       " [101.999, 5.0, 1.0, 3.0, 39.0],\n",
       " [183.8292, 7.0, 2.0, 1.0, 22.0],\n",
       " [175.6712, 7.0, 2.0, 1.0, 22.0],\n",
       " [156.463, 9.0, 1.0, 1.0, 25.0],\n",
       " [52.3324, 3.0, 1.0, 2.0, 15.0],\n",
       " [170.979, 5.0, 1.0, 3.0, 39.0],\n",
       " [161.1894, 4.0, 2.0, 0.0, 39.0],\n",
       " [32.39, 3.0, 1.0, 2.0, 15.0],\n",
       " [52.7298, 8.0, 2.0, 1.0, 27.0],\n",
       " [168.45, 1.0, 0.0, 1.0, 37.0],\n",
       " [226.6694, 0.0, 2.0, 0.0, 26.0],\n",
       " [131.7284, 3.0, 1.0, 2.0, 15.0],\n",
       " [50.2008, 7.0, 2.0, 1.0, 22.0],\n",
       " [122.573, 3.0, 1.0, 2.0, 15.0],\n",
       " [184.0924, 3.0, 1.0, 2.0, 15.0],\n",
       " [123.1756, 5.0, 1.0, 3.0, 39.0],\n",
       " [251.0092, 6.0, 2.0, 1.0, 20.0],\n",
       " [253.3698, 5.0, 1.0, 3.0, 39.0],\n",
       " [175.4028, 9.0, 1.0, 1.0, 25.0],\n",
       " [40.0138, 2.0, 2.0, 1.0, 17.0],\n",
       " [264.3226, 3.0, 1.0, 2.0, 15.0],\n",
       " [102.7648, 6.0, 2.0, 1.0, 20.0],\n",
       " [169.1132, 2.0, 2.0, 1.0, 17.0],\n",
       " [172.2422, 4.0, 2.0, 0.0, 39.0],\n",
       " [218.1482, 2.0, 2.0, 1.0, 17.0],\n",
       " [113.4518, 9.0, 1.0, 1.0, 25.0],\n",
       " [222.5088, 5.0, 1.0, 3.0, 39.0],\n",
       " [120.4124, 7.0, 2.0, 1.0, 22.0],\n",
       " [81.9908, 6.0, 2.0, 1.0, 20.0],\n",
       " [106.528, 1.0, 0.0, 1.0, 37.0],\n",
       " [195.8768, 0.0, 2.0, 0.0, 26.0],\n",
       " [244.3144, 5.0, 1.0, 3.0, 39.0],\n",
       " [177.637, 7.0, 2.0, 1.0, 22.0],\n",
       " [131.431, 6.0, 2.0, 1.0, 20.0],\n",
       " [250.6092, 1.0, 0.0, 1.0, 37.0],\n",
       " [141.2154, 9.0, 1.0, 1.0, 25.0],\n",
       " [155.4314, 4.0, 2.0, 0.0, 39.0],\n",
       " [61.651, 2.0, 2.0, 1.0, 17.0],\n",
       " [169.1448, 9.0, 1.0, 1.0, 25.0],\n",
       " [143.8786, 6.0, 2.0, 1.0, 20.0],\n",
       " [44.477, 0.0, 2.0, 0.0, 26.0],\n",
       " [91.283, 3.0, 1.0, 2.0, 15.0],\n",
       " [82.7566, 9.0, 1.0, 1.0, 25.0],\n",
       " [44.8428, 9.0, 1.0, 1.0, 25.0],\n",
       " [49.7034, 2.0, 2.0, 1.0, 17.0],\n",
       " [94.712, 6.0, 2.0, 1.0, 20.0],\n",
       " [186.4924, 5.0, 1.0, 3.0, 39.0],\n",
       " [116.9834, 5.0, 1.0, 3.0, 39.0],\n",
       " [103.8622, 3.0, 1.0, 2.0, 15.0],\n",
       " [173.1054, 5.0, 1.0, 3.0, 39.0],\n",
       " [185.7924, 3.0, 1.0, 2.0, 15.0],\n",
       " [109.1938, 5.0, 1.0, 3.0, 39.0],\n",
       " [237.4564, 4.0, 2.0, 0.0, 39.0],\n",
       " [144.2812, 4.0, 2.0, 0.0, 39.0],\n",
       " [162.9894, 9.0, 1.0, 1.0, 25.0],\n",
       " [63.0826, 7.0, 2.0, 1.0, 22.0],\n",
       " [90.2514, 7.0, 2.0, 1.0, 22.0],\n",
       " [90.283, 1.0, 0.0, 1.0, 37.0],\n",
       " [189.5872, 1.0, 0.0, 1.0, 37.0],\n",
       " [90.5804, 7.0, 2.0, 1.0, 22.0],\n",
       " [224.7404, 2.0, 2.0, 1.0, 17.0],\n",
       " [154.134, 5.0, 1.0, 3.0, 39.0],\n",
       " [110.7544, 8.0, 2.0, 1.0, 27.0],\n",
       " [78.996, 9.0, 1.0, 1.0, 25.0],\n",
       " [109.0912, 3.0, 1.0, 2.0, 15.0],\n",
       " [40.348, 3.0, 1.0, 2.0, 15.0],\n",
       " [112.0544, 6.0, 2.0, 1.0, 20.0],\n",
       " [152.4366, 7.0, 2.0, 1.0, 22.0],\n",
       " [120.8098, 4.0, 2.0, 0.0, 39.0],\n",
       " [188.2556, 2.0, 2.0, 1.0, 17.0],\n",
       " [104.499, 5.0, 1.0, 3.0, 39.0],\n",
       " [125.2046, 1.0, 0.0, 1.0, 37.0],\n",
       " [92.4804, 1.0, 0.0, 1.0, 37.0],\n",
       " [177.0686, 9.0, 1.0, 1.0, 25.0],\n",
       " [34.8216, 2.0, 2.0, 1.0, 17.0],\n",
       " [170.3764, 6.0, 2.0, 1.0, 20.0],\n",
       " [47.3034, 0.0, 2.0, 0.0, 26.0],\n",
       " [166.5474, 8.0, 2.0, 1.0, 27.0],\n",
       " [114.0492, 8.0, 2.0, 1.0, 27.0],\n",
       " [151.8708, 8.0, 2.0, 1.0, 27.0],\n",
       " [181.3318, 2.0, 2.0, 1.0, 17.0],\n",
       " [239.4222, 0.0, 2.0, 0.0, 26.0],\n",
       " [113.3202, 9.0, 1.0, 1.0, 25.0],\n",
       " [263.491, 5.0, 1.0, 3.0, 39.0],\n",
       " [96.5436, 9.0, 1.0, 1.0, 25.0],\n",
       " [99.67, 5.0, 1.0, 3.0, 39.0],\n",
       " [100.6042, 1.0, 0.0, 1.0, 37.0],\n",
       " [162.5526, 1.0, 0.0, 1.0, 37.0],\n",
       " [150.7708, 3.0, 1.0, 2.0, 15.0],\n",
       " [45.5744, 8.0, 2.0, 1.0, 27.0],\n",
       " [108.0912, 8.0, 2.0, 1.0, 27.0],\n",
       " [81.2276, 5.0, 1.0, 3.0, 39.0],\n",
       " [228.9668, 1.0, 0.0, 1.0, 37.0],\n",
       " [129.8626, 9.0, 1.0, 1.0, 25.0],\n",
       " [112.8518, 3.0, 1.0, 2.0, 15.0],\n",
       " [49.1692, 0.0, 2.0, 0.0, 26.0],\n",
       " [263.2568, 5.0, 1.0, 3.0, 39.0],\n",
       " [150.2392, 5.0, 1.0, 3.0, 39.0],\n",
       " [148.2418, 8.0, 2.0, 1.0, 27.0],\n",
       " [178.7028, 5.0, 1.0, 3.0, 39.0],\n",
       " [112.1202, 9.0, 1.0, 1.0, 25.0],\n",
       " [127.7678, 0.0, 2.0, 0.0, 26.0],\n",
       " [151.134, 1.0, 0.0, 1.0, 37.0],\n",
       " [121.273, 0.0, 2.0, 0.0, 26.0],\n",
       " [245.7144, 6.0, 2.0, 1.0, 20.0],\n",
       " [195.7794, 5.0, 1.0, 3.0, 39.0],\n",
       " [116.6492, 8.0, 2.0, 1.0, 27.0],\n",
       " [91.912, 5.0, 1.0, 3.0, 39.0],\n",
       " [147.876, 0.0, 2.0, 0.0, 26.0],\n",
       " [83.4908, 2.0, 2.0, 1.0, 17.0],\n",
       " [101.6332, 0.0, 2.0, 0.0, 26.0],\n",
       " [50.7982, 1.0, 0.0, 1.0, 37.0],\n",
       " [46.706, 7.0, 2.0, 1.0, 22.0],\n",
       " [155.6288, 6.0, 2.0, 1.0, 20.0],\n",
       " [45.106, 5.0, 1.0, 3.0, 39.0],\n",
       " [149.3708, 5.0, 1.0, 3.0, 39.0],\n",
       " [163.621, 5.0, 1.0, 3.0, 39.0],\n",
       " [86.2566, 2.0, 2.0, 1.0, 17.0],\n",
       " [75.2038, 5.0, 1.0, 3.0, 39.0],\n",
       " [62.5536, 6.0, 2.0, 1.0, 20.0],\n",
       " [85.9198, 1.0, 0.0, 1.0, 37.0],\n",
       " [105.5938, 3.0, 1.0, 2.0, 15.0],\n",
       " [154.2656, 8.0, 2.0, 1.0, 27.0],\n",
       " [53.7982, 8.0, 2.0, 1.0, 27.0],\n",
       " [154.463, 6.0, 2.0, 1.0, 20.0],\n",
       " [124.502, 6.0, 2.0, 1.0, 20.0],\n",
       " [159.1578, 5.0, 1.0, 3.0, 39.0],\n",
       " [196.411, 7.0, 2.0, 1.0, 22.0],\n",
       " [261.191, 0.0, 2.0, 0.0, 26.0],\n",
       " [143.147, 3.0, 1.0, 2.0, 15.0],\n",
       " [117.4124, 9.0, 1.0, 1.0, 25.0],\n",
       " [125.5046, 9.0, 1.0, 1.0, 25.0],\n",
       " [214.3218, 9.0, 1.0, 1.0, 25.0],\n",
       " [162.4526, 1.0, 0.0, 1.0, 37.0],\n",
       " [93.2436, 4.0, 2.0, 0.0, 39.0],\n",
       " [193.0136, 5.0, 1.0, 3.0, 39.0],\n",
       " [130.4626, 1.0, 0.0, 1.0, 37.0],\n",
       " [196.311, 5.0, 1.0, 3.0, 39.0],\n",
       " [161.392, 2.0, 2.0, 1.0, 17.0],\n",
       " [37.4822, 2.0, 2.0, 1.0, 17.0],\n",
       " [179.6686, 1.0, 0.0, 1.0, 37.0],\n",
       " [42.1454, 5.0, 1.0, 3.0, 39.0],\n",
       " [124.273, 8.0, 2.0, 1.0, 27.0],\n",
       " [171.7422, 6.0, 2.0, 1.0, 20.0],\n",
       " [109.9228, 1.0, 0.0, 1.0, 37.0],\n",
       " [161.3894, 7.0, 2.0, 1.0, 22.0],\n",
       " [80.7592, 9.0, 1.0, 1.0, 25.0],\n",
       " [170.3474, 7.0, 2.0, 1.0, 22.0],\n",
       " [254.6672, 2.0, 2.0, 1.0, 17.0],\n",
       " [191.782, 7.0, 2.0, 1.0, 22.0],\n",
       " [87.5172, 2.0, 2.0, 1.0, 17.0],\n",
       " [190.2504, 2.0, 2.0, 1.0, 17.0],\n",
       " [55.9298, 6.0, 2.0, 1.0, 20.0],\n",
       " [78.7328, 9.0, 1.0, 1.0, 25.0],\n",
       " [139.6838, 5.0, 1.0, 3.0, 39.0],\n",
       " [99.9016, 2.0, 2.0, 1.0, 17.0],\n",
       " [105.7648, 1.0, 0.0, 1.0, 37.0],\n",
       " [156.963, 6.0, 2.0, 1.0, 20.0],\n",
       " [234.2642, 6.0, 2.0, 1.0, 20.0],\n",
       " [227.372, 5.0, 1.0, 3.0, 39.0],\n",
       " [227.0062, 8.0, 2.0, 1.0, 27.0],\n",
       " [146.3786, 2.0, 2.0, 1.0, 17.0],\n",
       " [109.3912, 9.0, 1.0, 1.0, 25.0],\n",
       " [141.4154, 6.0, 2.0, 1.0, 20.0],\n",
       " [88.783, 7.0, 2.0, 1.0, 22.0],\n",
       " ...]"
      ]
     },
     "execution_count": 417,
     "metadata": {},
     "output_type": "execute_result"
    }
   ],
   "source": [
    "test_Final=test_Final.values.tolist()\n",
    "test_Final"
   ]
  },
  {
   "cell_type": "code",
   "execution_count": 418,
   "metadata": {},
   "outputs": [
    {
     "data": {
      "text/html": [
       "<div>\n",
       "<style scoped>\n",
       "    .dataframe tbody tr th:only-of-type {\n",
       "        vertical-align: middle;\n",
       "    }\n",
       "\n",
       "    .dataframe tbody tr th {\n",
       "        vertical-align: top;\n",
       "    }\n",
       "\n",
       "    .dataframe thead th {\n",
       "        text-align: right;\n",
       "    }\n",
       "</style>\n",
       "<table border=\"1\" class=\"dataframe\">\n",
       "  <thead>\n",
       "    <tr style=\"text-align: right;\">\n",
       "      <th></th>\n",
       "      <th>0</th>\n",
       "    </tr>\n",
       "  </thead>\n",
       "  <tbody>\n",
       "    <tr>\n",
       "      <th>0</th>\n",
       "      <td>1616.179077</td>\n",
       "    </tr>\n",
       "    <tr>\n",
       "      <th>1</th>\n",
       "      <td>1448.785034</td>\n",
       "    </tr>\n",
       "    <tr>\n",
       "      <th>2</th>\n",
       "      <td>588.002075</td>\n",
       "    </tr>\n",
       "    <tr>\n",
       "      <th>3</th>\n",
       "      <td>2536.292969</td>\n",
       "    </tr>\n",
       "    <tr>\n",
       "      <th>4</th>\n",
       "      <td>6212.969238</td>\n",
       "    </tr>\n",
       "    <tr>\n",
       "      <th>...</th>\n",
       "      <td>...</td>\n",
       "    </tr>\n",
       "    <tr>\n",
       "      <th>5676</th>\n",
       "      <td>2059.097656</td>\n",
       "    </tr>\n",
       "    <tr>\n",
       "      <th>5677</th>\n",
       "      <td>2542.495605</td>\n",
       "    </tr>\n",
       "    <tr>\n",
       "      <th>5678</th>\n",
       "      <td>2013.083862</td>\n",
       "    </tr>\n",
       "    <tr>\n",
       "      <th>5679</th>\n",
       "      <td>3655.640381</td>\n",
       "    </tr>\n",
       "    <tr>\n",
       "      <th>5680</th>\n",
       "      <td>1298.196655</td>\n",
       "    </tr>\n",
       "  </tbody>\n",
       "</table>\n",
       "<p>5681 rows × 1 columns</p>\n",
       "</div>"
      ],
      "text/plain": [
       "                0\n",
       "0     1616.179077\n",
       "1     1448.785034\n",
       "2      588.002075\n",
       "3     2536.292969\n",
       "4     6212.969238\n",
       "...           ...\n",
       "5676  2059.097656\n",
       "5677  2542.495605\n",
       "5678  2013.083862\n",
       "5679  3655.640381\n",
       "5680  1298.196655\n",
       "\n",
       "[5681 rows x 1 columns]"
      ]
     },
     "execution_count": 418,
     "metadata": {},
     "output_type": "execute_result"
    }
   ],
   "source": [
    "final=pd.DataFrame(xg_Final.predict(test_Final))\n",
    "final"
   ]
  },
  {
   "cell_type": "code",
   "execution_count": 419,
   "metadata": {},
   "outputs": [
    {
     "data": {
      "text/plain": [
       "array([1616.1791], dtype=float32)"
      ]
     },
     "execution_count": 419,
     "metadata": {},
     "output_type": "execute_result"
    }
   ],
   "source": [
    "final.loc[0].values"
   ]
  },
  {
   "cell_type": "code",
   "execution_count": 420,
   "metadata": {},
   "outputs": [
    {
     "name": "stdout",
     "output_type": "stream",
     "text": [
      "Sales Value for 1st test data is between [901.7591] and [2330.599]\n"
     ]
    }
   ],
   "source": [
    "print(f\"Sales Value for 1st test data is between {(final.loc[0].values)-714.42} and {(final.loc[0].values)+714.42}\")"
   ]
  }
 ],
 "metadata": {
  "kernelspec": {
   "display_name": "Python 3",
   "language": "python",
   "name": "python3"
  },
  "language_info": {
   "codemirror_mode": {
    "name": "ipython",
    "version": 3
   },
   "file_extension": ".py",
   "mimetype": "text/x-python",
   "name": "python",
   "nbconvert_exporter": "python",
   "pygments_lexer": "ipython3",
   "version": "3.11.8"
  }
 },
 "nbformat": 4,
 "nbformat_minor": 2
}
