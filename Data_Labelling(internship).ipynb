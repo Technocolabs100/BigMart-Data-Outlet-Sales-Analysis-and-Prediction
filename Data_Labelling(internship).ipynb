{
  "cells": [
    {
      "cell_type": "code",
      "execution_count": 1,
      "id": "ba230546",
      "metadata": {
        "id": "ba230546"
      },
      "outputs": [],
      "source": [
        "# Import necessary libraries\n",
        "import pandas as pd\n",
        "import numpy as np\n",
        "import matplotlib.pyplot as plt\n",
        "import seaborn as sns"
      ]
    },
    {
      "cell_type": "code",
      "execution_count": 2,
      "id": "d24b7419",
      "metadata": {
        "id": "d24b7419"
      },
      "outputs": [],
      "source": [
        "# Load the train and test datasets with corrected file paths\n",
        "train_data = pd.read_csv(\"\"C:\\Users\\raju3\\Downloads\\9961_14084_bundle_archive\\Train.csv\"\")\n",
        "test_data = pd.read_csv(\"\"C:\\Users\\raju3\\Downloads\\9961_14084_bundle_archive\\Test.csv\"\")"
      ]
    },
    {
      "cell_type": "code",
      "execution_count": 3,
      "id": "847a5590",
      "metadata": {
        "colab": {
          "base_uri": "https://localhost:8080/"
        },
        "id": "847a5590",
        "outputId": "1602ed3f-7221-423a-f168-c7d7ceb39da0"
      },
      "outputs": [
        {
          "name": "stdout",
          "output_type": "stream",
          "text": [
            "\n",
            "Missing Values in Train Dataset:\n",
            "Item_Identifier                 0\n",
            "Item_Weight                  1463\n",
            "Item_Fat_Content                0\n",
            "Item_Visibility                 0\n",
            "Item_Type                       0\n",
            "Item_MRP                        0\n",
            "Outlet_Identifier               0\n",
            "Outlet_Establishment_Year       0\n",
            "Outlet_Size                  2410\n",
            "Outlet_Location_Type            0\n",
            "Outlet_Type                     0\n",
            "Item_Outlet_Sales               0\n",
            "dtype: int64\n",
            "\n",
            "Missing Values in Test Dataset:\n",
            "Item_Identifier                 0\n",
            "Item_Weight                   976\n",
            "Item_Fat_Content                0\n",
            "Item_Visibility                 0\n",
            "Item_Type                       0\n",
            "Item_MRP                        0\n",
            "Outlet_Identifier               0\n",
            "Outlet_Establishment_Year       0\n",
            "Outlet_Size                  1606\n",
            "Outlet_Location_Type            0\n",
            "Outlet_Type                     0\n",
            "dtype: int64\n"
          ]
        }
      ],
      "source": [
        "# Check for missing values in the train dataset\n",
        "print(\"\\nMissing Values in Train Dataset:\")\n",
        "print(train_data.isnull().sum())\n",
        "# Check for missing values in the test dataset\n",
        "print(\"\\nMissing Values in Test Dataset:\")\n",
        "print(test_data.isnull().sum())"
      ]
    },
    {
      "cell_type": "code",
      "execution_count": 4,
      "id": "3d170bdf",
      "metadata": {
        "colab": {
          "base_uri": "https://localhost:8080/"
        },
        "id": "3d170bdf",
        "outputId": "caf2726c-00bc-4e89-b90d-4ee5e8ccddfe"
      },
      "outputs": [
        {
          "name": "stdout",
          "output_type": "stream",
          "text": [
            "Column Names:\n",
            "Index(['Item_Identifier', 'Item_Weight', 'Item_Fat_Content', 'Item_Visibility',\n",
            "       'Item_Type', 'Item_MRP', 'Outlet_Identifier',\n",
            "       'Outlet_Establishment_Year', 'Outlet_Size', 'Outlet_Location_Type',\n",
            "       'Outlet_Type', 'Item_Outlet_Sales'],\n",
            "      dtype='object')\n",
            "\n",
            "First few rows of the Train Dataset:\n",
            "  Item_Identifier  Item_Weight Item_Fat_Content  Item_Visibility  \\\n",
            "0           FDA15         9.30          Low Fat         0.016047   \n",
            "1           DRC01         5.92          Regular         0.019278   \n",
            "2           FDN15        17.50          Low Fat         0.016760   \n",
            "3           FDX07        19.20          Regular         0.000000   \n",
            "4           NCD19         8.93          Low Fat         0.000000   \n",
            "\n",
            "               Item_Type  Item_MRP Outlet_Identifier  \\\n",
            "0                  Dairy  249.8092            OUT049   \n",
            "1            Soft Drinks   48.2692            OUT018   \n",
            "2                   Meat  141.6180            OUT049   \n",
            "3  Fruits and Vegetables  182.0950            OUT010   \n",
            "4              Household   53.8614            OUT013   \n",
            "\n",
            "   Outlet_Establishment_Year Outlet_Size Outlet_Location_Type  \\\n",
            "0                       1999      Medium               Tier 1   \n",
            "1                       2009      Medium               Tier 3   \n",
            "2                       1999      Medium               Tier 1   \n",
            "3                       1998         NaN               Tier 3   \n",
            "4                       1987        High               Tier 3   \n",
            "\n",
            "         Outlet_Type  Item_Outlet_Sales  \n",
            "0  Supermarket Type1          3735.1380  \n",
            "1  Supermarket Type2           443.4228  \n",
            "2  Supermarket Type1          2097.2700  \n",
            "3      Grocery Store           732.3800  \n",
            "4  Supermarket Type1           994.7052  \n"
          ]
        }
      ],
      "source": [
        "# Print column names\n",
        "print(\"Column Names:\")\n",
        "print(train_data.columns)\n",
        "\n",
        "# Print the first few rows of the train dataset\n",
        "print(\"\\nFirst few rows of the Train Dataset:\")\n",
        "print(train_data.head())"
      ]
    },
    {
      "cell_type": "code",
      "execution_count": 6,
      "id": "25848b3d",
      "metadata": {
        "colab": {
          "base_uri": "https://localhost:8080/"
        },
        "id": "25848b3d",
        "outputId": "f7eae279-48a5-4a62-9668-3f834748ac83"
      },
      "outputs": [
        {
          "name": "stdout",
          "output_type": "stream",
          "text": [
            "Columns with missing values:\n",
            "Item_Identifier                 0\n",
            "Item_Weight                  1463\n",
            "Item_Fat_Content                0\n",
            "Item_Visibility                 0\n",
            "Item_Type                       0\n",
            "Item_MRP                        0\n",
            "Outlet_Identifier               0\n",
            "Outlet_Establishment_Year       0\n",
            "Outlet_Size                  2410\n",
            "Outlet_Location_Type            0\n",
            "Outlet_Type                     0\n",
            "Item_Outlet_Sales               0\n",
            "dtype: int64\n"
          ]
        }
      ],
      "source": [
        "# Identify columns with missing values\n",
        "missing_values = train_data.isnull().sum()\n",
        "print(\"Columns with missing values:\")\n",
        "print(missing_values)"
      ]
    },
    {
      "cell_type": "code",
      "execution_count": 7,
      "id": "9431ac5b",
      "metadata": {
        "id": "9431ac5b"
      },
      "outputs": [],
      "source": [
        "# Decide on a strategy for handling missing values\n",
        "# Example: Fill missing values in 'Item_Weight' with mean\n",
        "train_data['Item_Weight'].fillna(train_data['Item_Weight'].mean(), inplace=True)\n",
        "# Example: Drop rows with missing values in 'Outlet_Size'\n",
        "train_data.dropna(subset=['Outlet_Size'], inplace=True)"
      ]
    },
    {
      "cell_type": "code",
      "execution_count": 8,
      "id": "50cee258",
      "metadata": {
        "id": "50cee258"
      },
      "outputs": [],
      "source": [
        "# Identify and remove duplicate rows\n",
        "train_data.drop_duplicates(inplace=True)\n"
      ]
    },
    {
      "cell_type": "code",
      "execution_count": 9,
      "id": "16f68be2",
      "metadata": {
        "colab": {
          "base_uri": "https://localhost:8080/",
          "height": 564
        },
        "id": "16f68be2",
        "outputId": "ce1dbad2-5121-4233-dcb7-146d3e6f5044"
      },
      "outputs": [
        {
          "data": {
            "image/png": "[encoded data removed]",
            "text/plain": [
              "<Figure size 1000x600 with 1 Axes>"
            ]
          },
          "metadata": {},
          "output_type": "display_data"
        }
      ],
      "source": [
        "# Visualize distributions of numerical variables\n",
        "plt.figure(figsize=(10, 6))\n",
        "sns.boxplot(x='Item_Outlet_Sales', data=train_data)\n",
        "plt.title('Boxplot of Item Outlet Sales')\n",
        "plt.xlabel('Item Outlet Sales')\n",
        "plt.show()"
      ]
    },
    {
      "cell_type": "code",
      "execution_count": 10,
      "id": "5c1eccc9",
      "metadata": {
        "id": "5c1eccc9"
      },
      "outputs": [],
      "source": [
        "# Decide on a strategy for handling outliers\n",
        "# Example: Cap extreme values of 'Item_Outlet_Sales' to 95th percentile\n",
        "q95 = train_data['Item_Outlet_Sales'].quantile(0.95)\n",
        "train_data['Item_Outlet_Sales'] = np.where(train_data['Item_Outlet_Sales'] > q95, q95, train_data['Item_Outlet_Sales'])"
      ]
    },
    {
      "cell_type": "code",
      "execution_count": 11,
      "id": "4787081f",
      "metadata": {
        "id": "4787081f"
      },
      "outputs": [],
      "source": [
        "# Ensure consistency in data formats\n",
        "# Example: Convert 'Outlet_Establishment_Year' to datetime\n",
        "train_data['Outlet_Establishment_Year'] = pd.to_datetime(train_data['Outlet_Establishment_Year'], format='%Y')"
      ]
    },
    {
      "cell_type": "code",
      "execution_count": 12,
      "id": "2b538ab3",
      "metadata": {
        "id": "2b538ab3"
      },
      "outputs": [],
      "source": [
        "# Identify and resolve inconsistencies in categorical variables\n",
        "# Example: Standardize labels in 'Item_Fat_Content'\n",
        "train_data['Item_Fat_Content'] = train_data['Item_Fat_Content'].replace({'LF': 'Low Fat', 'reg': 'Regular', 'low fat': 'Low Fat'})"
      ]
    },
    {
      "cell_type": "code",
      "execution_count": 13,
      "id": "55db3630",
      "metadata": {
        "id": "55db3630"
      },
      "outputs": [],
      "source": [
        "# Example: One-Hot Encoding using pandas.get_dummies()\n",
        "encoded_data = pd.get_dummies(train_data, columns=['Outlet_Type'])"
      ]
    },
    {
      "cell_type": "code",
      "execution_count": 14,
      "id": "b9c0df22",
      "metadata": {
        "colab": {
          "base_uri": "https://localhost:8080/"
        },
        "id": "b9c0df22",
        "outputId": "951cc773-362d-45db-e578-e715b89a8a6e"
      },
      "outputs": [
        {
          "name": "stdout",
          "output_type": "stream",
          "text": [
            "Categorical Columns: ['Outlet_Type']\n"
          ]
        }
      ],
      "source": [
        "categorical_columns = ['Outlet_Type']\n",
        "print(\"Categorical Columns:\", categorical_columns)"
      ]
    },
    {
      "cell_type": "code",
      "execution_count": 15,
      "id": "91653087",
      "metadata": {
        "colab": {
          "base_uri": "https://localhost:8080/"
        },
        "id": "91653087",
        "outputId": "8eb1189f-d38d-4ac5-815b-2e4e8ead3933"
      },
      "outputs": [
        {
          "name": "stdout",
          "output_type": "stream",
          "text": [
            "Encoded Data:\n",
            "  Item_Identifier  Item_Weight Item_Fat_Content  Item_Visibility  \\\n",
            "0           FDA15        9.300          Low Fat         0.016047   \n",
            "1           DRC01        5.920          Regular         0.019278   \n",
            "2           FDN15       17.500          Low Fat         0.016760   \n",
            "4           NCD19        8.930          Low Fat         0.000000   \n",
            "5           FDP36       10.395          Regular         0.000000   \n",
            "\n",
            "      Item_Type  Item_MRP Outlet_Identifier Outlet_Establishment_Year  \\\n",
            "0         Dairy  249.8092            OUT049                1999-01-01   \n",
            "1   Soft Drinks   48.2692            OUT018                2009-01-01   \n",
            "2          Meat  141.6180            OUT049                1999-01-01   \n",
            "4     Household   53.8614            OUT013                1987-01-01   \n",
            "5  Baking Goods   51.4008            OUT018                2009-01-01   \n",
            "\n",
            "  Outlet_Size Outlet_Location_Type  Item_Outlet_Sales  \\\n",
            "0      Medium               Tier 1          3735.1380   \n",
            "1      Medium               Tier 3           443.4228   \n",
            "2      Medium               Tier 1          2097.2700   \n",
            "4        High               Tier 3           994.7052   \n",
            "5      Medium               Tier 3           556.6088   \n",
            "\n",
            "   Outlet_Type_Grocery Store  Outlet_Type_Supermarket Type1  \\\n",
            "0                          0                              1   \n",
            "1                          0                              0   \n",
            "2                          0                              1   \n",
            "4                          0                              1   \n",
            "5                          0                              0   \n",
            "\n",
            "   Outlet_Type_Supermarket Type2  Outlet_Type_Supermarket Type3  \n",
            "0                              0                              0  \n",
            "1                              1                              0  \n",
            "2                              0                              0  \n",
            "4                              0                              0  \n",
            "5                              1                              0  \n"
          ]
        }
      ],
      "source": [
        "# One-Hot Encoding using pandas.get_dummies()\n",
        "encoded_data = pd.get_dummies(train_data, columns=categorical_columns)\n",
        "print(\"Encoded Data:\")\n",
        "print(encoded_data.head())\n"
      ]
    },
    {
      "cell_type": "code",
      "execution_count": 16,
      "id": "7c0ddc22",
      "metadata": {
        "id": "7c0ddc22"
      },
      "outputs": [],
      "source": [
        "target_variable = 'Item_Outlet_Sales'"
      ]
    },
    {
      "cell_type": "code",
      "execution_count": 19,
      "id": "841e7605",
      "metadata": {
        "colab": {
          "base_uri": "https://localhost:8080/"
        },
        "id": "841e7605",
        "outputId": "a4093dc1-1d9c-4932-d977-843da4a3a5a9"
      },
      "outputs": [
        {
          "name": "stdout",
          "output_type": "stream",
          "text": [
            "Unique values before label encoding: [0 1]\n",
            "Unique values after label encoding: [0 1]\n"
          ]
        }
      ],
      "source": [
        "# Importing the necessary libraries\n",
        "import pandas as pd\n",
        "from sklearn import preprocessing\n",
        "print(\"Unique values before label encoding:\", train_data['Item_Fat_Content'].unique())\n",
        "# Initialize label encoder\n",
        "label_encoder = preprocessing.LabelEncoder()\n",
        "# Encode labels in the 'Item_Fat_Content' column\n",
        "train_data['Item_Fat_Content'] = label_encoder.fit_transform(train_data['Item_Fat_Content'])\n",
        "# Display unique values in the 'Item_Fat_Content' column after encoding\n",
        "print(\"Unique values after label encoding:\", train_data['Item_Fat_Content'].unique())"
      ]
    },
    {
      "cell_type": "code",
      "execution_count": 23,
      "id": "b7c6e34a",
      "metadata": {
        "id": "b7c6e34a"
      },
      "outputs": [],
      "source": [
        "# Define bin edges\n",
        "bin_edges = [0, 2000, 4000, 6000, 8000, 10000, float('inf')]\n",
        "# Define bin labels\n",
        "bin_labels = ['0-2000', '2001-4000', '4001-6000', '6001-8000', '8001-10000', '10001+']\n",
        "# Apply binning\n",
        "train_data['Sales_Category'] = pd.cut(train_data['Item_Outlet_Sales'], bins=bin_edges, labels=bin_labels)"
      ]
    },
    {
      "cell_type": "code",
      "execution_count": 22,
      "id": "eec8c42a",
      "metadata": {
        "id": "eec8c42a"
      },
      "outputs": [],
      "source": [
        "# Apply log transformation\n",
        "train_data['Log_Item_Outlet_Sales'] = np.log1p(train_data['Item_Outlet_Sales'])\n"
      ]
    },
    {
      "cell_type": "code",
      "execution_count": null,
      "id": "4e7ae62e",
      "metadata": {
        "id": "4e7ae62e"
      },
      "outputs": [],
      "source": []
    }
  ],
  "metadata": {
    "colab": {
      "provenance": []
    },
    "kernelspec": {
      "display_name": "Python 3 (ipykernel)",
      "language": "python",
      "name": "python3"
    },
    "language_info": {
      "codemirror_mode": {
        "name": "ipython",
        "version": 3
      },
      "file_extension": ".py",
      "mimetype": "text/x-python",
      "name": "python",
      "nbconvert_exporter": "python",
      "pygments_lexer": "ipython3",
      "version": "3.10.9"
    }
  },
  "nbformat": 4,
  "nbformat_minor": 5
}
